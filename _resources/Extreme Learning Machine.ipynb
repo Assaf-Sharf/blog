{
 "cells": [
  {
   "cell_type": "markdown",
   "metadata": {},
   "source": [
    "# Extreme Learning Machine\n",
    "\n",
    "Sample implementation of ELM that will classify MNIST dataset. Please visit [blog post]() for more theoretical background."
   ]
  },
  {
   "cell_type": "code",
   "execution_count": 1,
   "metadata": {},
   "outputs": [],
   "source": [
    "import numpy as np"
   ]
  },
  {
   "cell_type": "markdown",
   "metadata": {},
   "source": [
    "I am adding a `strict` parameter due to, probably mine, misunderstanding of the [paper](http://axon.cs.byu.edu/~martinez/classes/678/Presentations/Yao.pdf) on which I've based this notebook.\n",
    "\n",
    "In equation _4_ we can clearly see that each row has the same set of random weights and biases. This, unfortunately, leads to very poor performance."
   ]
  },
  {
   "cell_type": "code",
   "execution_count": 2,
   "metadata": {},
   "outputs": [],
   "source": [
    "def generate_hidden_values(X_input, hidden_nodes, strict=False):\n",
    "    _, single_input_length = X_input.shape\n",
    "    random_hidden_bias = np.random.normal(size=(1, hidden_nodes))\n",
    "    if strict:\n",
    "        random_hidden_node_values = np.tile(np.random.normal(size=(1, hidden_nodes)), (single_input_length, 1))\n",
    "    else:\n",
    "        random_hidden_node_values = np.random.normal(size=(single_input_length, hidden_nodes))\n",
    "    return (random_hidden_node_values, random_hidden_bias)"
   ]
  },
  {
   "cell_type": "code",
   "execution_count": 3,
   "metadata": {},
   "outputs": [],
   "source": [
    "def calculate_hidden_layer(X_input, hidden_node_values, hidden_bias, activation_func):\n",
    "    X_length, _ = X_input.shape\n",
    "    return activation_func(np.dot(X_input, hidden_node_values) + np.tile(hidden_bias, (X_length, 1)))"
   ]
  },
  {
   "cell_type": "code",
   "execution_count": 4,
   "metadata": {},
   "outputs": [],
   "source": [
    "def solve_with_least_squares(hidden_layer, y_labels):\n",
    "    return np.dot(np.linalg.pinv(hidden_layer), y_labels)"
   ]
  },
  {
   "cell_type": "code",
   "execution_count": 5,
   "metadata": {},
   "outputs": [],
   "source": [
    "# Overkill, but as lazy as possible way to get mnist data.\n",
    "import tensorflow as tf\n",
    "mnist = tf.keras.datasets.mnist\n",
    "\n",
    "(x_train, y_train),(x_test, y_test) = mnist.load_data()"
   ]
  },
  {
   "cell_type": "code",
   "execution_count": 6,
   "metadata": {},
   "outputs": [],
   "source": [
    "def flatten_image(images):\n",
    "    n, x, y = images.shape\n",
    "    return images.reshape((n, x * y))\n",
    "\n",
    "def one_hot_encode(labels, classes=10):\n",
    "    y_encoded = np.zeros([labels.shape[0], classes])\n",
    "    for i in range(labels.shape[0]):\n",
    "        y_encoded[i][labels[i]] = 1\n",
    "    return y_encoded\n",
    "\n",
    "def sigmoid(x):\n",
    "    return 1. / (1. + np.exp(-x))"
   ]
  },
  {
   "cell_type": "code",
   "execution_count": 7,
   "metadata": {},
   "outputs": [
    {
     "name": "stdout",
     "output_type": "stream",
     "text": [
      "[[0. 0. 0. ... 0. 0. 0.]\n",
      " [1. 0. 0. ... 0. 0. 0.]\n",
      " [0. 0. 0. ... 0. 0. 0.]\n",
      " ...\n",
      " [0. 0. 0. ... 0. 0. 0.]\n",
      " [0. 0. 0. ... 0. 0. 0.]\n",
      " [0. 0. 0. ... 0. 1. 0.]]\n"
     ]
    }
   ],
   "source": [
    "flatten_image(x_train).shape\n",
    "print(one_hot_encode(y_train))"
   ]
  },
  {
   "cell_type": "code",
   "execution_count": 17,
   "metadata": {},
   "outputs": [],
   "source": [
    "# Training\n",
    "import time\n",
    "def train(hidden_nodes):\n",
    "    start = time.perf_counter()\n",
    "    flat_x_train = flatten_image(x_train)\n",
    "    encoded_y_train = one_hot_encode(y_train)\n",
    "    random_hidden_node_values, random_hidden_bias = generate_hidden_values(flat_x_train, hidden_nodes, False)\n",
    "    hidden_layer_training = calculate_hidden_layer(flat_x_train, random_hidden_node_values, random_hidden_bias, sigmoid)\n",
    "    beta_layer = solve_with_least_squares(hidden_layer_training, encoded_y_train)\n",
    "    end = time.perf_counter()\n",
    "    return random_hidden_node_values, random_hidden_bias, beta_layer, end - start"
   ]
  },
  {
   "cell_type": "code",
   "execution_count": 18,
   "metadata": {},
   "outputs": [],
   "source": [
    "# Testing\n",
    "def test(random_hidden_node_values, random_hidden_bias, beta_layer):\n",
    "    flat_x_test = flatten_image(x_test)\n",
    "    encoded_y_test = one_hot_encode(y_test)\n",
    "    hidden_layer_test = calculate_hidden_layer(flat_x_test, random_hidden_node_values, random_hidden_bias, sigmoid)\n",
    "    predictions = np.dot(hidden_layer_test, beta_layer)\n",
    "\n",
    "    correct = 0\n",
    "    total = y_test.shape[0]\n",
    "    for i in range(total):\n",
    "        predicted = np.argmax(predictions[i])\n",
    "        test = np.argmax(encoded_y_test[i])\n",
    "        correct = correct + (1 if predicted == test else 0)\n",
    "        accuracy = correct/total\n",
    "    return accuracy\n",
    "    "
   ]
  },
  {
   "cell_type": "code",
   "execution_count": 38,
   "metadata": {},
   "outputs": [
    {
     "data": {
      "text/plain": [
       "[(1, 0.1244, 0.23633954899923992),\n",
       " (2, 0.1616, 0.2342293609999615),\n",
       " (5, 0.2733, 0.24992246500005422),\n",
       " (10, 0.3435, 0.26424924899947655),\n",
       " (20, 0.4407, 0.303723226999864),\n",
       " (25, 0.5486, 0.3341872290002357),\n",
       " (50, 0.6473, 0.46245579200058273),\n",
       " (100, 0.7639, 0.7946228649998375),\n",
       " (150, 0.8143, 1.1609560950000741),\n",
       " (200, 0.837, 1.5828469230000337),\n",
       " (250, 0.8545, 1.9802944539997043),\n",
       " (350, 0.8705, 4.698232652000115),\n",
       " (500, 0.8881, 4.662012087999756),\n",
       " (1000, 0.92, 12.094407403999867),\n",
       " (1500, 0.9327, 21.474655124000492),\n",
       " (2000, 0.9385, 27.761893640999915),\n",
       " (2500, 0.9438, 40.68164735299979),\n",
       " (3000, 0.9489, 58.47160399000131),\n",
       " (4000, 0.9561, 103.10882506099915),\n",
       " (5000, 0.9582, 173.00890614000127)]"
      ]
     },
     "execution_count": 38,
     "metadata": {},
     "output_type": "execute_result"
    }
   ],
   "source": [
    "results = []\n",
    "np.random.seed(28)\n",
    "# Just for warm up\n",
    "random_hidden_node_values, random_hidden_bias, beta_layer, training_time = train(100)\n",
    "for hdn_nds in [1, 2, 5, 10, 20, 25, 50, 100, 150, 200, 250, 350, 500, 1000, 1500, 2000, 2500, 3000, 4000, 5000]:\n",
    "    random_hidden_node_values, random_hidden_bias, beta_layer, training_time = train(hdn_nds)\n",
    "    acc = test(random_hidden_node_values, random_hidden_bias, beta_layer)\n",
    "    results.append((hdn_nds, acc, training_time))\n",
    "results"
   ]
  },
  {
   "cell_type": "code",
   "execution_count": 39,
   "metadata": {},
   "outputs": [
    {
     "data": {
      "image/png": "[encoded data removed]",
      "text/plain": [
       "<Figure size 432x288 with 2 Axes>"
      ]
     },
     "metadata": {
      "needs_background": "light"
     },
     "output_type": "display_data"
    }
   ],
   "source": [
    "%matplotlib inline\n",
    "import matplotlib.pyplot as plt\n",
    "\n",
    "fig, ax1 = plt.subplots()\n",
    "t = [node for (node, acc, time) in results]\n",
    "s1 = [acc for (node, acc, time) in results]\n",
    "ax1.plot(t, s1, 'b-')\n",
    "ax1.set_xlabel('Number of hidden nodes')\n",
    "# Make the y-axis label, ticks and tick labels match the line color.\n",
    "ax1.set_ylabel('Accuracy', color='b')\n",
    "ax1.tick_params('y', colors='b')\n",
    "\n",
    "ax2 = ax1.twinx()\n",
    "s2 = [time for (node, acc, time) in results]\n",
    "ax2.plot(t, s2, 'r-')\n",
    "ax2.set_ylabel('Time', color='r')\n",
    "ax2.tick_params('y', colors='r')\n",
    "\n",
    "fig.tight_layout()\n",
    "plt.show()"
   ]
  },
  {
   "cell_type": "code",
   "execution_count": null,
   "metadata": {},
   "outputs": [],
   "source": []
  }
 ],
 "metadata": {
  "kernelspec": {
   "display_name": "Pythonb (blog)",
   "language": "python",
   "name": "proper_blog"
  },
  "language_info": {
   "codemirror_mode": {
    "name": "ipython",
    "version": 3
   },
   "file_extension": ".py",
   "mimetype": "text/x-python",
   "name": "python",
   "nbconvert_exporter": "python",
   "pygments_lexer": "ipython3",
   "version": "3.6.8"
  }
 },
 "nbformat": 4,
 "nbformat_minor": 2
}
