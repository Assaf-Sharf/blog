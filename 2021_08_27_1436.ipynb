{
  "nbformat": 4,
  "nbformat_minor": 0,
  "metadata": {
    "colab": {
      "name": "2021-08-27-#1436",
      "provenance": [],
      "authorship_tag": "ABX9TyM93b7blbiXFQOnw8im0uwO",
      "include_colab_link": true
    },
    "kernelspec": {
      "name": "python3",
      "display_name": "Python 3"
    },
    "language_info": {
      "name": "python"
    }
  },
  "cells": [
    {
      "cell_type": "markdown",
      "metadata": {
        "id": "view-in-github",
        "colab_type": "text"
      },
      "source": [
        "<a href=\"https://colab.research.google.com/github/alswjd0605/alswjd0605.github.io/blob/master/2021_08_27_1436.ipynb\" target=\"_parent\"><img src=\"https://colab.research.google.com/assets/colab-badge.svg\" alt=\"Open In Colab\"/></a>"
      ]
    },
    {
      "cell_type": "markdown",
      "metadata": {
        "id": "GG3dARrZH2ZK"
      },
      "source": [
        "영화감독 숀"
      ]
    },
    {
      "cell_type": "code",
      "metadata": {
        "id": "J_eoJ3xDHIYB"
      },
      "source": [
        "N=int(input())\n",
        "cnt=0\n",
        "i=666\n",
        "while True: #1~10000까지 탐색\n",
        "  if '666' in str(i): #i에 666이 들어있으면\n",
        "    cnt+=1 #cnt+\n",
        "  if cnt==N: #cnt와 N이 같으면 \n",
        "    print(i) #출력\n",
        "    break #종료\n",
        "  i+=1"
      ],
      "execution_count": null,
      "outputs": []
    }
  ]
}