{
  "nbformat": 4,
  "nbformat_minor": 0,
  "metadata": {
    "colab": {
      "provenance": [],
      "authorship_tag": "ABX9TyPfX80J7TvXLYH+flrsTK5U"
    },
    "kernelspec": {
      "name": "python3",
      "display_name": "Python 3"
    },
    "language_info": {
      "name": "python"
    },
    "accelerator": "TPU"
  },
  "cells": [
    {
      "cell_type": "code",
      "execution_count": null,
      "metadata": {
        "colab": {
          "base_uri": "https://localhost:8080/"
        },
        "id": "BsNof8iuWLEi",
        "outputId": "86641348-56af-49a7-a6fb-12ac4b997ba8"
      },
      "outputs": [
        {
          "output_type": "stream",
          "name": "stdout",
          "text": [
            "grpc://10.126.189.90:8470\n"
          ]
        }
      ],
      "source": [
        "import tensorflow as tf\n",
        "tpu = tf.distribute.cluster_resolver.TPUClusterResolver.connect()\n",
        "print(tpu.master())"
      ]
    },
    {
      "cell_type": "markdown",
      "source": [
        "** Test Version**"
      ],
      "metadata": {
        "id": "QbBUHGlsKeaB"
      }
    },
    {
      "cell_type": "code",
      "source": [
        "from google.colab import drive"
      ],
      "metadata": {
        "id": "YopND8XhKoSD"
      },
      "execution_count": null,
      "outputs": []
    },
    {
      "cell_type": "code",
      "source": [
        "from tensorflow.python.ops.gen_array_ops import inplace_update\n",
        "from tensorflow import keras\n",
        "from tensorflow.keras import layers\n",
        "strategy = tf.distribute.TPUStrategy(tpu)\n",
        "print(f'duplicate model : {strategy.num_replicas_in_sync}')\n",
        "\n",
        "def build_model(input_size):\n",
        "  inputs = keras.Input((input_size,input_size,3))\n",
        "  x=keras.applications.resnet.preprocess_input(inputs)\n",
        "  x=keras.applications.resnet.ResNet50(\n",
        "      weights=None,include_top=False,pooling='max'\n",
        "  )(x)\n",
        "  outputs = layers.Dense(10,activation='softmax')(x)\n",
        "  model = keras.Model(inputs,outputs)\n",
        "  model.compile(optimizer='rmsprop',loss='sparse_categorical_crossentropy',\n",
        "                metrics=['accuracy'])\n",
        "  return model\n",
        "\n",
        "with strategy.scope():\n",
        "  model = build_model(input_size=32)"
      ],
      "metadata": {
        "colab": {
          "base_uri": "https://localhost:8080/"
        },
        "id": "MeB6uJG2Y6Q3",
        "outputId": "c37a88a8-2219-4ca1-a039-dbbb52b25e12"
      },
      "execution_count": null,
      "outputs": [
        {
          "output_type": "stream",
          "name": "stdout",
          "text": [
            "duplicate model : 8\n"
          ]
        }
      ]
    },
    {
      "cell_type": "code",
      "source": [
        "(x_train,y_train),(x_test,y_test) = keras.datasets.cifar10.load_data()\n",
        "model.fit(x_train,y_train,batch_size=1024)"
      ],
      "metadata": {
        "colab": {
          "base_uri": "https://localhost:8080/"
        },
        "id": "J4bNaQODaFPv",
        "outputId": "9b2e26ad-6fd9-4382-fd87-1a18b5635fea"
      },
      "execution_count": null,
      "outputs": [
        {
          "output_type": "stream",
          "name": "stdout",
          "text": [
            "Downloading data from https://www.cs.toronto.edu/~kriz/cifar-10-python.tar.gz\n",
            "170500096/170498071 [==============================] - 4s 0us/step\n",
            "170508288/170498071 [==============================] - 4s 0us/step\n",
            "49/49 [==============================] - 76s 540ms/step - loss: 2.6510 - accuracy: 0.2744\n"
          ]
        },
        {
          "output_type": "execute_result",
          "data": {
            "text/plain": [
              "<keras.callbacks.History at 0x7f1de9dcfad0>"
            ]
          },
          "metadata": {},
          "execution_count": 4
        }
      ]
    },
    {
      "cell_type": "code",
      "source": [
        "!pip install nbconvert\n",
        "jupyter nbconvert --to markdown Untitled10.ipynb"
      ],
      "metadata": {
        "id": "ipIszBxYaim_",
        "colab": {
          "base_uri": "https://localhost:8080/",
          "height": 142
        },
        "outputId": "2fa2f5d3-2790-42cc-91a2-5a09d1536cf2"
      },
      "execution_count": null,
      "outputs": [
        {
          "output_type": "error",
          "ename": "SyntaxError",
          "evalue": "ignored",
          "traceback": [
            "\u001b[0;36m  File \u001b[0;32m\"<ipython-input-4-1c7159027fb5>\"\u001b[0;36m, line \u001b[0;32m2\u001b[0m\n\u001b[0;31m    jupyter nbconvert --to markdown Untitled10.ipynb\u001b[0m\n\u001b[0m                    ^\u001b[0m\n\u001b[0;31mSyntaxError\u001b[0m\u001b[0;31m:\u001b[0m invalid syntax\n"
          ]
        }
      ]
    },
    {
      "cell_type": "code",
      "source": [],
      "metadata": {
        "id": "yBcUQXe7K-G7"
      },
      "execution_count": null,
      "outputs": []
    }
  ]
}