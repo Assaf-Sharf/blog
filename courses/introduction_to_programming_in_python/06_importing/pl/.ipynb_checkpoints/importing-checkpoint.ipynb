{
 "cells": [
  {
   "cell_type": "markdown",
   "id": "0b8ac8ac",
   "metadata": {},
   "source": [
    "### Sekcje:\n",
    "\n",
    "1. [Importowanie](#importowanie)\n",
    "2. [Moduł \"math\"](#moduł-math)\n",
    "3. [Moduł \"random\"](#moduł-random)\n",
    "4. [Zewnętrzne biblioteki and moduły](#zewnętrzne-biblioteki-i-moduły)"
   ]
  },
  {
   "cell_type": "markdown",
   "id": "585cb451",
   "metadata": {},
   "source": [
    "# 1. Importowanie <a id='importowanie'></a>"
   ]
  },
  {
   "cell_type": "markdown",
   "id": "f661fc52",
   "metadata": {},
   "source": [
    "Pisanie programów często polega na dzieleniu naszego kodu na mniejsze kawałki i \"pakowaniu\" tych kawałków kodu w funkcje. Następnie możemy łączyć funkcje razem, aby napisać bardziej złożone programy. Ten rodzaj modularności ma wiele zalet, a jedną z nich jest to, że jeśli stworzymy przydatną funkcję, możemy ją łatwo wykorzystać w innych miejscach (również w innych projektach). \n",
    "\n",
    "Z tego powodu Python posiada wbudowane moduły, które zawierają wiele różnych przydatnych funkcji. Jeśli zaimportujemy moduł do naszego programu, możemy uzyskać dostęp do funkcji zawartych w tym module. W Pythonie możemy zaimportować moduł za pomocą zarezerwowanego słowa kluczowego `import`, po którym należy napisać nazwę modułu."
   ]
  },
  {
   "cell_type": "markdown",
   "id": "2ebc8feb",
   "metadata": {},
   "source": [
    "# 2. Moduł \"math\" <a id='moduł-math'></a>"
   ]
  },
  {
   "cell_type": "markdown",
   "id": "ea8697cc",
   "metadata": {},
   "source": [
    "Wbudowany moduł \"math\" zawiera wiele przydatnych funkcji do wykonywania działań matematycznych (jak sama nazwa wskazuje). Możemy zaimportować moduł \"math\" w następujący sposób:"
   ]
  },
  {
   "cell_type": "code",
   "execution_count": 9,
   "id": "41bf18f3",
   "metadata": {},
   "outputs": [],
   "source": [
    "import math"
   ]
  },
  {
   "cell_type": "markdown",
   "id": "d788c5a7",
   "metadata": {},
   "source": [
    "Teraz Python utworzył zmienną o nazwie `math`, do której przypisał wbudowany moduł o nazwie \"math\". Możemy również sprawić, by Python przypisał moduł \"math\" do zmiennej o innej nazwie, jak np:"
   ]
  },
  {
   "cell_type": "code",
   "execution_count": 10,
   "id": "0b1368e4",
   "metadata": {},
   "outputs": [],
   "source": [
    "import math as m"
   ]
  },
  {
   "cell_type": "markdown",
   "id": "5da38a39",
   "metadata": {},
   "source": [
    "Teraz Python przypisał wbudowany moduł o nazwie \"math\" do zmiennej `m`. Możemy użyć zarezerwowanego słowa kluczowego `as`, aby powiedzieć Pythonowi, do której zmiennej moduł powinien zostać przypisany. Jeśli nie podamy zmiennej, Python domyślnie przypisze moduł do zmiennej o tej samej nazwie co moduł.\n",
    "\n",
    "**Uwaga**: ponieważ uruchomiliśmy następujące linie kodu:\n",
    "\n",
    "1. `import math`.\n",
    "2. `import math as m`\n",
    "\n",
    "Obecnie obie zmienne (`math` i `m`) wskazują na wbudowany moduł \"math\"."
   ]
  },
  {
   "cell_type": "code",
   "execution_count": 8,
   "id": "b6beca54",
   "metadata": {
    "scrolled": true
   },
   "outputs": [
    {
     "name": "stdout",
     "output_type": "stream",
     "text": [
      "<class 'module'>\n",
      "<class 'module'>\n"
     ]
    }
   ],
   "source": [
    "print(type(math))\n",
    "print(type(m))"
   ]
  },
  {
   "cell_type": "code",
   "execution_count": 15,
   "id": "c2337a7d",
   "metadata": {},
   "outputs": [
    {
     "data": {
      "text/plain": [
       "True"
      ]
     },
     "execution_count": 15,
     "metadata": {},
     "output_type": "execute_result"
    }
   ],
   "source": [
    "math == m"
   ]
  },
  {
   "cell_type": "markdown",
   "id": "ac648ba7",
   "metadata": {},
   "source": [
    "Do funkcji wewnątrz modułu \"math\" mamy dostęp w taki sam sposób jak do metod należących do obiektu, takich jak np. `list` lub `dict`. Mianowicie, używamy kropki (`.`), po której piszemy nazwę funkcji, z której chcemy skorzystać:"
   ]
  },
  {
   "cell_type": "code",
   "execution_count": 17,
   "id": "6f19291c",
   "metadata": {},
   "outputs": [
    {
     "data": {
      "text/plain": [
       "1"
      ]
     },
     "execution_count": 17,
     "metadata": {},
     "output_type": "execute_result"
    }
   ],
   "source": [
    "math.floor(1.74)"
   ]
  },
  {
   "cell_type": "markdown",
   "id": "26d05c86",
   "metadata": {},
   "source": [
    "Jak widać powyżej, użyliśmy funkcji `floor()`, która zaokrągla liczbę **w dół** do najbliższej liczby całkowitej. Moduł \"math\" posiada również funkcję `ceil()` (skrót od ceiling), która zaokrągla liczbę **w górę** do najbliższej liczby całkowitej:"
   ]
  },
  {
   "cell_type": "code",
   "execution_count": 18,
   "id": "e2b78ae9",
   "metadata": {},
   "outputs": [
    {
     "data": {
      "text/plain": [
       "3"
      ]
     },
     "execution_count": 18,
     "metadata": {},
     "output_type": "execute_result"
    }
   ],
   "source": [
    "math.ceil(2.0001)"
   ]
  },
  {
   "cell_type": "markdown",
   "id": "2874facb",
   "metadata": {},
   "source": [
    "Moduł \"math\" zawiera również funkcje sinus, cosinus i tangens:"
   ]
  },
  {
   "cell_type": "code",
   "execution_count": 25,
   "id": "b507b177",
   "metadata": {},
   "outputs": [
    {
     "name": "stdout",
     "output_type": "stream",
     "text": [
      "0.5403023058681398\n",
      "0.8414709848078965\n",
      "1.5574077246549023\n"
     ]
    }
   ],
   "source": [
    "x = 1\n",
    "\n",
    "print(math.cos(x))\n",
    "print(math.sin(x))\n",
    "print(math.tan(x))"
   ]
  },
  {
   "cell_type": "markdown",
   "id": "46dafba1",
   "metadata": {},
   "source": [
    "Istnieje wiele innych funkcji zawartych w module \"math\" - pełną listę można znaleźć [tutaj](https://docs.python.org/3/library/math.html). Jednak nie jest ważne, aby znać wszystkie funkcje w module \"math\" lub jakimkolwiek innym module dla tej sprawy. Ważne jest jedynie, aby wiedzieć, że w Pythonie istnieje coś takiego jak moduły, które zawierają zbiór funkcji, które są ze sobą w jakiś sposób powiązane.\n",
    "\n",
    "Oznacza to, że kiedy próbujemy rozwiązać problem używając Pythona, wiemy, że może istnieć moduł, który ma pewne funkcje, które mogą być przydatne w naszym konkretnym przypadku. Możemy wtedy poszukać odpowiedniego modułu i funkcji w [oficjalnej dokumentacji Pythona](https://docs.python.org/3/py-modindex.html) lub poprzez wyszukiwarkę. Jest bardzo prawdopodobne, że istnieje wiele przydatnych wpisów na forum i blogach, które omawiają problem, który próbujesz rozwiązać. Istnieje prawdopodobieństwo, że pytanie, które masz, zostało już zadane - i odpowiedziane - przez kogoś w internecie. Na przykład strona [stack overflow](https://stackoverflow.com/questions/tagged/python) zawiera wiele takich pytań i odpowiedzi."
   ]
  },
  {
   "cell_type": "markdown",
   "id": "ff300f06",
   "metadata": {},
   "source": [
    "Oprócz funkcji, moduł \"math\" zawiera również kilka przydatnych stałych takich jak `pi` i `e`."
   ]
  },
  {
   "cell_type": "code",
   "execution_count": 23,
   "id": "c716b4e9",
   "metadata": {},
   "outputs": [
    {
     "data": {
      "text/plain": [
       "3.141592653589793"
      ]
     },
     "execution_count": 23,
     "metadata": {},
     "output_type": "execute_result"
    }
   ],
   "source": [
    "math.pi"
   ]
  },
  {
   "cell_type": "code",
   "execution_count": 24,
   "id": "04cf7e00",
   "metadata": {},
   "outputs": [
    {
     "data": {
      "text/plain": [
       "2.718281828459045"
      ]
     },
     "execution_count": 24,
     "metadata": {},
     "output_type": "execute_result"
    }
   ],
   "source": [
    "math.e"
   ]
  },
  {
   "cell_type": "markdown",
   "id": "f8511415",
   "metadata": {},
   "source": [
    "# 3. Moduł \"random\" <a id='moduł-random'></a>"
   ]
  },
  {
   "cell_type": "markdown",
   "id": "5aa6062c",
   "metadata": {},
   "source": [
    "Jak sama nazwa wskazuje, wbudowany moduł \"random\" zawiera funkcje związane z losowością. Moduł \"random\" możemy zaimportować w następujący sposób:"
   ]
  },
  {
   "cell_type": "code",
   "execution_count": 1,
   "id": "d92d2d4a",
   "metadata": {},
   "outputs": [],
   "source": [
    "import random"
   ]
  },
  {
   "cell_type": "markdown",
   "id": "5619d0ee",
   "metadata": {},
   "source": [
    "Funkcja `randint()` pozwala nam na generowanie losowych liczb całkowitych w określonym zakresie:"
   ]
  },
  {
   "cell_type": "code",
   "execution_count": 2,
   "id": "cb251eaf",
   "metadata": {},
   "outputs": [
    {
     "name": "stdout",
     "output_type": "stream",
     "text": [
      "1\n",
      "8\n",
      "5\n",
      "4\n",
      "10\n"
     ]
    }
   ],
   "source": [
    "for i in range(5):\n",
    "    print(random.randint(1, 10))"
   ]
  },
  {
   "cell_type": "markdown",
   "id": "973ca2cb",
   "metadata": {},
   "source": [
    "Warto zauważyć, że zarówno lewy jak i prawy argument są zawarte w zakresie. Dlatego wywołanie funkcji `randint(1, 10)` mogłoby zwrócić albo `1` albo `10`."
   ]
  },
  {
   "cell_type": "markdown",
   "id": "a06baf93",
   "metadata": {},
   "source": [
    "Funkcja `uniform()` pozwala nam generować losowe liczby zmiennoprzecinkowe w określonym zakresie:"
   ]
  },
  {
   "cell_type": "code",
   "execution_count": 3,
   "id": "1df9200f",
   "metadata": {},
   "outputs": [
    {
     "name": "stdout",
     "output_type": "stream",
     "text": [
      "2.0712294495351924\n",
      "2.373993241515003\n",
      "2.4947395865397293\n",
      "2.1589156456807093\n",
      "2.52501718629191\n"
     ]
    }
   ],
   "source": [
    "for i in range(5):\n",
    "    print(random.uniform(2, 3))"
   ]
  },
  {
   "cell_type": "markdown",
   "id": "2fad0562",
   "metadata": {},
   "source": [
    "Funkcja `choice()` pozwala nam losowo wybrać element z sekwencji:"
   ]
  },
  {
   "cell_type": "code",
   "execution_count": 4,
   "id": "ea63edab",
   "metadata": {},
   "outputs": [
    {
     "name": "stdout",
     "output_type": "stream",
     "text": [
      "cat\n",
      "dog\n",
      "dog\n",
      "cat\n",
      "cat\n"
     ]
    }
   ],
   "source": [
    "x = [\"cat\", \"dog\", \"llama\"]\n",
    "\n",
    "for i in range(5):\n",
    "    print(random.choice(x))"
   ]
  },
  {
   "cell_type": "markdown",
   "id": "bca56341",
   "metadata": {},
   "source": [
    "Te trzy przedstawione tu funkcje są jednymi z najczęściej używanych funkcji z modułu \"random\". Istnieją jednak inne funkcje, które mogą być przydatne w zależności od tego, co chce się osiągnąć. Moduł \"random\" ma [stronę z dokumentacją](https://docs.python.org/3/library/random.html), która szczegółowo opisuje wszystkie inne funkcje zawarte w module \"random\"."
   ]
  },
  {
   "cell_type": "markdown",
   "id": "e588555d",
   "metadata": {},
   "source": [
    "# 4. Zewnętrzne biblioteki i moduły <a id='zewnętrzne-biblioteki-i-moduły'></a>"
   ]
  },
  {
   "cell_type": "markdown",
   "id": "f28ca567",
   "metadata": {},
   "source": [
    "Oprócz modułów wbudowanych istnieje wiele tzw. modułów \"zewnętrznych\", które trzeba najpierw pobrać, zanim będzie można je zaimportować w naszym kodzie. Te zewnętrzne moduły są tworzone przez programistów Pythona z całego świata. Ponadto, wiele modułów jest często grupowanych w \"pakiety\" lub \"biblioteki\". Pakiet może zawierać wiele modułów, natomiast biblioteka może zawierać wiele pakietów. Jednak terminy \"pakiet\" i \"biblioteka\" są często używane zamiennie.\n",
    "\n",
    "Instalowanie i używanie zewnętrznych pakietów jest poza zakresem tego kursu. Poniżej znajduje się jednak lista kilku popularnych bibliotek Pythona wraz z opisami, do czego są przeznaczone:\n",
    "\n",
    "1. NumPy - Biblioteka obliczeniowa do pracy z wektorami, macierzami i tensorami.\n",
    "2. Pandas - Biblioteka zbudowana na podstawie NumPy do pracy z tablicami.\n",
    "3. PyGame - Biblioteka do tworzenia gier 2D w Pythonie.\n",
    "4. Django - Biblioteka do tworzenia stron internetowych w Pythonie.\n",
    "5. Requests - Biblioteka ułatwiająca wykonywanie zapytań HTTP w Pythonie.\n",
    "6. Scikit-learn - Biblioteka do uczenia maszynowego.\n",
    "7. Pytorch - Kolejna biblioteka do uczenia maszynowego z naciskiem na sztuczne sieci neuronowe.\n",
    "8. Matplotlib - Biblioteka do robienia wizualizacji danych.\n",
    "9. Kivy - Biblioteka do tworzenia aplikacji cross-platformowych.\n",
    "10. Pillow - Biblioteka do pracy z obrazami."
   ]
  }
 ],
 "metadata": {
  "kernelspec": {
   "display_name": "Python 3 (ipykernel)",
   "language": "python",
   "name": "python3"
  },
  "language_info": {
   "codemirror_mode": {
    "name": "ipython",
    "version": 3
   },
   "file_extension": ".py",
   "mimetype": "text/x-python",
   "name": "python",
   "nbconvert_exporter": "python",
   "pygments_lexer": "ipython3",
   "version": "3.9.13"
  }
 },
 "nbformat": 4,
 "nbformat_minor": 5
}
