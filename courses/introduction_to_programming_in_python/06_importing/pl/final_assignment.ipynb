{
 "cells": [
  {
   "cell_type": "markdown",
   "id": "9851b213",
   "metadata": {},
   "source": [
    "## Zadanie końcowe (10 points)\n",
    "\n",
    "W tym ćwiczeniu napiszesz wszystkie niezbędne fragmenty kodu do stworzenia gry Yahtzee w Pythonie. Dokładniej, zdefiniujesz następujące trzy funkcje:\n",
    "\n",
    "1. `roll_dice()` - funkcja ta będzie symulować rzucanie kostki, mając możliwość rzucenia do 5 kostek.\n",
    "2. `convert_user_input_to_dice_indices()` - funkcja ta będzie konwertować dane z formatu przyjaznego dla użytkownika na format przyjazny dla programisty.\n",
    "3. `calculate_score()` - funkcja ta obliczy wynik, biorąc pod uwagę stan końcowy wszystkich kostek.\n",
    "\n",
    "Po zdefiniowaniu wszystkich trzech funkcji możesz uruchomić ostatnią komórkę kodu w tym zeszycie (która została dla Ciebie przygotowana), aby uruchomić i zagrać w grę Yahtzee. Program napisany w ostatniej komórce kodu zależy jednak od poprawnego działania wspomnianych trzech funkcji - nie będzie działał, dopóki nie zdefiniujesz tych funkcji poprawnie."
   ]
  },
  {
   "cell_type": "markdown",
   "id": "132082fb",
   "metadata": {},
   "source": [
    "## Yahtzee Rules <a id='yahtzee-rules'></a>\n",
    "\n",
    "Celem gry Yahtzee jest uzyskanie określonych kombinacji liczb poprzez rzucanie 5 kostek. Każda runda w Yahtzee składa się z 3 tur. W pierwszej turze gracz rzuca wszystkimi 5 kostkami. W drugiej i trzeciej turze gracz ma możliwość wyboru, którymi kostkami chce ponownie rzucić, a którymi nie. Jeśli podczas pierwszej lub drugiej tury gracz jest zadowolony z wyniku na wszystkich kościach, może zdecydować się na pominięcie pozostałych tur. \n",
    "\n",
    "Sensem gry jest uzyskanie najwyższego wyniku na koniec każdej rundy (po maksymalnie trzech turach). Istnieje 13 rodzajów kombinacji kostek, za które przyznawane są punkty. Jednak dla uproszczenia użyjemy tylko 6 rodzajów kombinacji, jednocześnie modyfikując nieco system punktacji. Te 6 rodzajów kombinacji przedstawia się następująco:\n",
    "\n",
    "| |Nazwa | Opis | Wynik | Przykład |\n",
    "|-| :---------------| :--------------------------------------|:------|:--------------------------\n",
    "|1| Trzy kości | Trzy kości są takie same | 3 * x | 4, 6, 4, 4, 2 (wynik: 12)\n",
    "|2| Cztery kości | Cztery kości są takie same | 4 * x | 2, 2, 2, 5, 2 (wynik: 8) |\n",
    "|3| Full house | Trzy z jedną liczbą i dwie z inną | 25 |3, 3, 3, 5, 5 |5\n",
    "|4| Mały strit | Cztery kostki (liczby rosnące o 1) | 30 |2, 3, 4, 5, 3 |\n",
    "|5| Duży strit | Pięć kostek (liczby rosnące o 1) | 40 |1, 2, 3, 4, 5 |\n",
    "| 6| Yahtzee | Wszystkie pięć kostek jest takich samych | 50 |2, 2, 2, 2, 2 |\n",
    "\n",
    "O całości oryginalnych zasad gry Yahtzee można przeczytać na tej [stronie wikipedii](https://pl.wikipedia.org/wiki/Ko%C5%9Bci_(gra))."
   ]
  },
  {
   "cell_type": "markdown",
   "id": "20b2f09c",
   "metadata": {},
   "source": [
    "### 1. Funkcja `roll_dice()` (2 punkty)\n",
    "\n",
    "Funkcja `roll_dice` ma dwa parametry: `current_dice_rolls` i `dice_to_roll`. \n",
    "\n",
    "1. Funkcja oczekuje, że `current_dice_rolls` będzie listą zawierającą 5 liczb. Liczby w `current_dice_rolls` są liczbami całkowitymi (pomiędzy 1 a 6) reprezentującymi wyniki 5 rzutów kostką.\n",
    "\n",
    "\n",
    "2. Funkcja oczekuje, że `dice_to_roll` będzie listą zawierającą indeksy kostek, które powinny zostać rzucone w tej turze. Jeśli ta lista jest równa `[0, 1, 2, 3, 4]`, to znaczy, żę wszystkie 5 kostek ma być rzucone, co zawsze ma miejsce w pierwszej turze w Yahtzee.\n",
    "\n",
    "Funkcja powinna wykorzystywać wbudowany moduł **random** do symulacji rzucania kośćmi. Funkcja powinna zwracać listę 5 liczb całkowitych reprezentujących wynik rzutów kostką. Poniżej znajdują się niektóre z wartości, jakie może zwrócić ta funkcja:\n",
    "\n",
    "1. `roll_dice([1, 1, 1, 1, 1], [0, 1, 2, 3, 4])` -> `[3, 5, 6, 3, 2]`\n",
    "2. `roll_dice([3, 5, 6, 3, 1], [1, 2, 4])` -> `[3, 3, 4, 3, 5]`\n",
    "3. `roll_dice([5, 5, 5, 2, 5], [3])` -> `[5, 5, 5, 4, 5]`\n",
    "4. `roll_dice([4, 4, 6, 4, 6], [])` -> `[4, 4, 6, 4, 6]`"
   ]
  },
  {
   "cell_type": "code",
   "execution_count": null,
   "id": "e2089544",
   "metadata": {},
   "outputs": [],
   "source": [
    "import random\n",
    "\n",
    "def roll_dice(current_dice_rolls, dice_to_roll):\n",
    "            \n",
    "    return"
   ]
  },
  {
   "cell_type": "code",
   "execution_count": null,
   "id": "ff878549",
   "metadata": {},
   "outputs": [],
   "source": [
    "roll_dice([4, 4, 6, 4, 6], [1, 2, 4])"
   ]
  },
  {
   "cell_type": "markdown",
   "id": "6e20d807",
   "metadata": {},
   "source": [
    "### 2. Funkcja `convert_user_input_to_dice_indices()` (3 punkty)\n",
    "\n",
    "Funkcja `convert_user_input_to_dice_indices()` posiada jeden parametr `user_input`. Funkcja oczekuje, że `user_input` będzie typu `str`. Funkcja wyodrębnia indeksy kostek z stringa `user_input` i zwraca je w postaci listy.\n",
    "\n",
    "1. Użytkownik oznacza, którą kostką chce rzucić w tej turze, pisząc literę \"D\", a następnie numer kostki, którą chce rzucić. Na przykład, jeśli chce rzucić pierwszą kostką, powinien napisać `\"D1\"`. Jeśli chce rzucić piątą kostką, powinien napisać `\"D5\"`.\n",
    "\n",
    "\n",
    "2. Jeśli użytkownik chce rzucić kilka kostek w jednej turze, powinien oddzielić swoje wybory spacją. Na przykład, użytkownik powinien napisać `\"D1 D2 D5\"` jeśli chce rzucić kośćmi 1, 2 i 5.\n",
    "\n",
    "\n",
    "3. Alternatywnie, użytkownik może zdecydować się na pominięcie tury i nie rzucić żadnymi kośćmi. W tym przypadku użytkownik przekaże pusty string `\"\"`.\n",
    "\n",
    "Poniżej znajdują się niektóre z wartości, które ta funkcja powinna zwrócić:\n",
    "\n",
    "1. `convert_user_input_to_dice_indices(\"D1\")` -> `[0]`\n",
    "2. `convert_user_input_to_dice_indices(\"D1 D2 D5\")` -> `[0, 1, 4]`\n",
    "3. `convert_user_input_to_dice_indices(\"D4 D1\")` -> `[3, 0]`\n",
    "4. `convert_user_input_to_dice_indices(\"\")` -> `[]`\n",
    "\n",
    "**Podpowiedź:** można podejść do tworzenia tej funkcji na wiele różnych sposobów. Jednakże, może być przydatne wiedzieć, że stringi mogą być również indeksowane tak jak listy. Na przykład `some_string[0]` zwróci pierwszy znak stringu przypisanego do zmiennej `some_string`. Podobnie, stringi mają wbudowane metody, takie jak metoda `split()`, która dzieli string na listę na podstawie znaku. Dlatego instrukcja `\"how are you\".split(\" \")` zwraca `['how', 'are', 'you']`.\n"
   ]
  },
  {
   "cell_type": "code",
   "execution_count": 29,
   "id": "8152d040",
   "metadata": {},
   "outputs": [
    {
     "data": {
      "text/plain": [
       "['how', 'are', 'you']"
      ]
     },
     "execution_count": 29,
     "metadata": {},
     "output_type": "execute_result"
    }
   ],
   "source": [
    "x = \"how are you\"\n",
    "x.split(\" \")"
   ]
  },
  {
   "cell_type": "code",
   "execution_count": null,
   "id": "538eb7b3",
   "metadata": {},
   "outputs": [],
   "source": [
    "def convert_user_input_to_dice_indices(user_input):\n",
    "\n",
    "    return "
   ]
  },
  {
   "cell_type": "code",
   "execution_count": null,
   "id": "6219d235",
   "metadata": {},
   "outputs": [],
   "source": [
    "convert_user_input_to_dice_indices(\"D4 D1\")"
   ]
  },
  {
   "cell_type": "code",
   "execution_count": null,
   "id": "62bbd25a",
   "metadata": {},
   "outputs": [],
   "source": [
    "convert_user_input_to_dice_indices(\"\")"
   ]
  },
  {
   "cell_type": "markdown",
   "id": "75eb5e87",
   "metadata": {},
   "source": [
    "### 3. Funkcja `calculate_score()` (5 punktów)\n",
    "\n",
    "Funkcja `calculate_score()` ma jeden parametr `current_dice_rolls`. Funkcja oczekuje, że `current_dice_rolls` będzie listą zawierającą 5 liczb całkowitych (pomiędzy 1 a 6) reprezentujących wyniki 5 kości.\n",
    "\n",
    "Funkcja powinna obliczyć wynik na podstawie `current_dice_rolls`, zgodnie z zasadami określonymi [wcześniej w tym notebooku](#yahtzee-rules). Poniżej znajdują się niektóre z wartości, jakie powinna zwrócić ta funkcja:\n",
    "\n",
    "1. `calculate_score([2, 3, 2, 2, 5])` -> `6`\n",
    "2. `calculate_score([3, 3, 3, 6, 3])` -> `12`\n",
    "3. `calculate_score([3, 3, 3, 2, 2])` -> `25`\n",
    "4. `calculate_score([1, 2, 3, 4, 1])` -> `30`\n",
    "5. `calculate_score([2, 3, 4, 5, 6])` -> `40`\n",
    "6. `calculate_score([3, 3, 3, 3, 3])` -> `50`\n",
    "\n",
    "**Podpowiedź:** można podejść do tworzenia tej funkcji na wiele różnych sposobów. Pomocne może być jednak wykorzystanie metody `sort()`, która sortuje listę od najmniejszej do największej wartości. Może się to przydać przy próbie obliczenia wyniku w przypadku \"małego strita\" lub \"dużego strita\". Metoda `sort()` może być użyta bez żadnych argumentów:"
   ]
  },
  {
   "cell_type": "code",
   "execution_count": null,
   "id": "97faa56e",
   "metadata": {},
   "outputs": [],
   "source": [
    "x = [3, 6, 1]\n",
    "x.sort()\n",
    "x"
   ]
  },
  {
   "cell_type": "code",
   "execution_count": null,
   "id": "35ef5461",
   "metadata": {},
   "outputs": [],
   "source": [
    "def calculate_score(current_dice_rolls):\n",
    "    \n",
    "    return"
   ]
  },
  {
   "cell_type": "markdown",
   "id": "f42bd806",
   "metadata": {},
   "source": [
    "Możesz użyć poniższych komórek, aby sprawdzić czy funkcja jest poprawnie zdefiniowana:"
   ]
  },
  {
   "cell_type": "code",
   "execution_count": null,
   "id": "0352ea2a",
   "metadata": {},
   "outputs": [],
   "source": [
    "print(calculate_score([2, 3, 2, 2, 5]) == 6)\n",
    "print(calculate_score([3, 3, 3, 6, 3]) == 12)\n",
    "print(calculate_score([3, 3, 3, 2, 2]) == 25)\n",
    "print(calculate_score([1, 2, 3, 4, 1]) == 30)\n",
    "print(calculate_score([2, 3, 4, 5, 6]) == 40)\n",
    "print(calculate_score([3, 3, 3, 3, 3]) == 50)"
   ]
  },
  {
   "cell_type": "code",
   "execution_count": null,
   "id": "cd3956d2",
   "metadata": {},
   "outputs": [],
   "source": [
    "print(calculate_score([2, 3, 2, 2, 5]))\n",
    "print(calculate_score([3, 3, 3, 6, 3]))\n",
    "print(calculate_score([3, 3, 3, 2, 2]))\n",
    "print(calculate_score([1, 2, 3, 4, 1]))\n",
    "print(calculate_score([2, 3, 4, 5, 6]))\n",
    "print(calculate_score([3, 3, 3, 3, 3]))"
   ]
  },
  {
   "cell_type": "markdown",
   "id": "0c24f301",
   "metadata": {},
   "source": [
    "## Yahtzee w Pythonie\n",
    "\n",
    "Komórka kodu poniżej zawiera program, który jest implementacją zmodyfikowanej wersji gry Yahtzee, który opiera się na poprzednich trzech funkcjach (które powinny być zdefiniowanie poprawnie). Możesz uruchomić poniższą komórkę kodu, aby zagrać w grę Yahtzee.\n",
    "\n",
    "Zachęcamy do próby zrozumienia poniższego programu - składa się on w całości z elementów, które były przerobione na tym kursie, z wyjątkiem trzech (prostych) rzeczy:\n",
    "\n",
    "1. Komentarze - poniższy kod zawiera komentarze, które opisują to, co dzieje się w programie. Komentarz zaczyna się od znaku `#`, a po nim następuje zwykły tekst. Python ignoruje wszystko co jest napisane po `#`, więc nie będzie to miało wpływu na nasz program.\n",
    "\n",
    "\n",
    "2. Funkcja `input()`, która wstrzymuje wykonywanie programu i czeka, aż użytkownik wpisze jakiś tekst i naciśnie enter. Dzięki temu użytkownik może wprowadzić do programu jakieś informacje. W ten sposób możemy uzyskać wybór użytkownika dotyczący tego, którą kostką należy rzucić.\n",
    "\n",
    "\n",
    "3. Stringi definiowane na wielu liniach - kiedy chcesz stworzyć naprawdę długi string, zdefiniowanie go na przestrzenie kilku linijek może pomóc w czytelności. Użycie `\\` pozwala nam kontynuować kod Pythona w następnej linijce, podczas gdy Python traktuje ten kod jako część tej samej linijki.\n",
    "\n",
    "Zachęcamy do eksperymentowania z poniższym kodem - zmień kilka rzeczy i nie przejmuj się jeżeli zepsujesz program. Jeśli czujesz się szczególnie odważnnie, możesz spróbować ulepszyć program, dodając do niego funkcjonalność. Na przykład, możesz:\n",
    "\n",
    "1. dodać opcję grania przeciwko innemu użytkownikowi (na zmianę) \n",
    "2. dodać śledzenie wyników na przestrzeni kilku rund\n",
    "3. dodać system zapobiegania błędom, jeśli użytkownik wprowadzi nieprawidłowy string (napisanie niewłaściwej rzeczy obecnie spowoduje, że program zostanie przerwany)\n",
    "4. możesz zaimplementować wszystkie oryginalne zasady Yahtzee\n",
    "\n",
    "Dotarcie do tego miejsca w kursie oznacza, że masz wszystkie niezbędne narzędzia do stworzenia takiego programu! Oczywiście, wciąż jesteś na początku drogi programowania, więc nie przejmuj się jeżeli coś Ci się wydaje trudne - to normalne. Warto stale zadawać pytania i szukać odpowiedzi we właściwych miejscach (istnieje wiele dobrych zasobów w internecie) - w ten sposób na pewno bedziesz szybko robić postępy."
   ]
  },
  {
   "cell_type": "code",
   "execution_count": null,
   "id": "99647c0c",
   "metadata": {},
   "outputs": [],
   "source": [
    "print(\"The game of Yahtzee begins!\")\n",
    "\n",
    "user_choice_info = 'When prompted to choose which dice to roll, please write the' \\\n",
    "' letter \"D\" followed by the number of the dice you want to roll.' \\\n",
    "' If you want to roll multiple dice, separate your choices with white space.' \\\n",
    "' For example, write \"D1 D2 D5\" if you want to roll dice 1, 2 and 5' \\\n",
    "' Alternatively, press enter without writing anything to skip the turn.'\n",
    "\n",
    "print(\"\")\n",
    "print(user_choice_info)    \n",
    "\n",
    "\n",
    "run_game = True\n",
    "while run_game:\n",
    "    \n",
    "    # Podczas pierwszej tury użytkownik musi rzucić wszystkimi pięcioma kośćmi\n",
    "    current_dice_rolls = roll_dice([], [0, 1, 2, 3, 4])\n",
    "    print(\"\")\n",
    "    print(\"Your current dice rolls: \" + str(current_dice_rolls))\n",
    "    \n",
    "    # Gdy kości zostały rzucone choć raz, użytkownik będzie mógł wybrać, którymi\n",
    "    # kośćmi chce rzucić na dwoch następnych turach.\n",
    "    for i in range(2):\n",
    "        \n",
    "        # Tutaj zdobędziemy decyzję od użytkownika\n",
    "        user_choice = input('Please choose which dice you want to roll again: ')\n",
    "        dice_to_roll = convert_user_input_to_dice_indices(user_choice)\n",
    "        current_dice_rolls = roll_dice(current_dice_rolls, dice_to_roll)\n",
    "        print(\"Your current dice rolls: \" + str(current_dice_rolls))\n",
    "    \n",
    "    # Jeżeli wszystki 3 tury zostały wykonane, należy obliczyć ostateczny wynik\n",
    "    current_score = calculate_score(current_dice_rolls)\n",
    "    print(\"Your score for this round is: \" + str(current_score))\n",
    "    \n",
    "    # Gdy runda się skończyła, pytamy użytkownika czy chce zagrać ponownie\n",
    "    continue_game = input(\"Do you want to play again? (yes/no)\")\n",
    "    while continue_game not in [\"yes\", \"no\"]:\n",
    "        print('Invalid option. Please write \"yes\" or \"no\"')\n",
    "        continue_game = input(\"Do you want to play again? (yes/no)\")\n",
    "    \n",
    "    # Jeżeli użytkownik nie chce już grać, zmienna run_game będzie równa `False`\n",
    "    # co sprawi, że na przed następną iteracją pętli, Python wyjdzie z pętli i zakończy program\n",
    "    if continue_game == \"no\":\n",
    "        run_game = False\n",
    "    "
   ]
  }
 ],
 "metadata": {
  "kernelspec": {
   "display_name": "Python 3 (ipykernel)",
   "language": "python",
   "name": "python3"
  },
  "language_info": {
   "codemirror_mode": {
    "name": "ipython",
    "version": 3
   },
   "file_extension": ".py",
   "mimetype": "text/x-python",
   "name": "python",
   "nbconvert_exporter": "python",
   "pygments_lexer": "ipython3",
   "version": "3.9.13"
  }
 },
 "nbformat": 4,
 "nbformat_minor": 5
}
