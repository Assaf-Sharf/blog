{
 "cells": [
  {
   "cell_type": "markdown",
   "id": "0b8ac8ac",
   "metadata": {},
   "source": [
    "### Sections:\n",
    "\n",
    "1. [Importing](#importing)\n",
    "2. [The \"math\" module](#the-math-module)\n",
    "3. [The \"random\" module](#the-random-module)\n",
    "4. [External libraries and modules](#other-modules)"
   ]
  },
  {
   "cell_type": "markdown",
   "id": "585cb451",
   "metadata": {},
   "source": [
    "# 1. Importing <a id='importing'></a>"
   ]
  },
  {
   "cell_type": "markdown",
   "id": "f661fc52",
   "metadata": {},
   "source": [
    "Writing programs often involves dividing our code into smaller pieces and \"packaging\" those pieces of code into functions. We can then combine functions together to write more complex programs. This kind of modularity has many advantages, one of which is that if we create a useful function, we can easily reuse it in other places (including other projects). \n",
    "\n",
    "For this reason, Python comes with built-in modules that contain many different useful functions. If we import a module into our program, we can access the functions contained within that module. In Python, we can import a module with the reserved keyword `import` followed by the module name."
   ]
  },
  {
   "cell_type": "markdown",
   "id": "2ebc8feb",
   "metadata": {},
   "source": [
    "# 2. The \"math\" module <a id='the-math-module'></a>"
   ]
  },
  {
   "cell_type": "markdown",
   "id": "ea8697cc",
   "metadata": {},
   "source": [
    "The built-in \"math\" module comes with many useful functions for doing math (as the name suggest). We can import the \"math\" module in the following way:"
   ]
  },
  {
   "cell_type": "code",
   "execution_count": 9,
   "id": "41bf18f3",
   "metadata": {},
   "outputs": [],
   "source": [
    "import math"
   ]
  },
  {
   "cell_type": "markdown",
   "id": "d788c5a7",
   "metadata": {},
   "source": [
    "Now Python has created a variable with the name `math`, to which it has assigned the built-in module called \"math\". We can also make Python assign the \"math\" module to a variable with a different name, like so:"
   ]
  },
  {
   "cell_type": "code",
   "execution_count": 10,
   "id": "0b1368e4",
   "metadata": {},
   "outputs": [],
   "source": [
    "import math as m"
   ]
  },
  {
   "cell_type": "markdown",
   "id": "5da38a39",
   "metadata": {},
   "source": [
    "Now Python has assigned the built-in module called \"math\" to the variable `m`. We can use the reserved keyword `as` to tell Python to which variable the module should be assigned. If we do not provide a custom variable, by default Python will assign the module to a variable with the same name as the module.\n",
    "\n",
    "**Note**: since we have ran the following lines of code:\n",
    "\n",
    "1. `import math`\n",
    "2. `import math as m`\n",
    "\n",
    "Currently both variables (`math` and `m`) point to the built-in \"math\" module."
   ]
  },
  {
   "cell_type": "code",
   "execution_count": 8,
   "id": "b6beca54",
   "metadata": {
    "scrolled": true
   },
   "outputs": [
    {
     "name": "stdout",
     "output_type": "stream",
     "text": [
      "<class 'module'>\n",
      "<class 'module'>\n"
     ]
    }
   ],
   "source": [
    "print(type(math))\n",
    "print(type(m))"
   ]
  },
  {
   "cell_type": "code",
   "execution_count": 15,
   "id": "c2337a7d",
   "metadata": {},
   "outputs": [
    {
     "data": {
      "text/plain": [
       "True"
      ]
     },
     "execution_count": 15,
     "metadata": {},
     "output_type": "execute_result"
    }
   ],
   "source": [
    "math == m"
   ]
  },
  {
   "cell_type": "markdown",
   "id": "ac648ba7",
   "metadata": {},
   "source": [
    "We can access the functions inside of the \"math\" module in the same way as we would access methods that belong to an object, such as a `list` or `dictionary`. Namely, we use a period (`.`) followed by the name of the function we want to use:"
   ]
  },
  {
   "cell_type": "code",
   "execution_count": 17,
   "id": "6f19291c",
   "metadata": {},
   "outputs": [
    {
     "data": {
      "text/plain": [
       "1"
      ]
     },
     "execution_count": 17,
     "metadata": {},
     "output_type": "execute_result"
    }
   ],
   "source": [
    "math.floor(1.74)"
   ]
  },
  {
   "cell_type": "markdown",
   "id": "26d05c86",
   "metadata": {},
   "source": [
    "As you can see above, we have used the `floor()` function, which rounds a number **down** to the nearest integer. The \"math\" module also has a `ceil()` function (abbreviation for ceiling), which rounds a number **up** to the nearest integer:"
   ]
  },
  {
   "cell_type": "code",
   "execution_count": 18,
   "id": "e2b78ae9",
   "metadata": {},
   "outputs": [
    {
     "data": {
      "text/plain": [
       "3"
      ]
     },
     "execution_count": 18,
     "metadata": {},
     "output_type": "execute_result"
    }
   ],
   "source": [
    "math.ceil(2.0001)"
   ]
  },
  {
   "cell_type": "markdown",
   "id": "2874facb",
   "metadata": {},
   "source": [
    "The \"math\" module also contains the sine, cosine and tangent functions:"
   ]
  },
  {
   "cell_type": "code",
   "execution_count": 25,
   "id": "b507b177",
   "metadata": {},
   "outputs": [
    {
     "name": "stdout",
     "output_type": "stream",
     "text": [
      "0.5403023058681398\n",
      "0.8414709848078965\n",
      "1.5574077246549023\n"
     ]
    }
   ],
   "source": [
    "x = 1\n",
    "\n",
    "print(math.cos(x))\n",
    "print(math.sin(x))\n",
    "print(math.tan(x))"
   ]
  },
  {
   "cell_type": "markdown",
   "id": "46dafba1",
   "metadata": {},
   "source": [
    "There are many other functions contained within the \"math\" module - a complete list can be found [here](https://docs.python.org/3/library/math.html). However, it is not important to know all of the functions in the \"math\" module or any other module for that matter. It is only import to know that there is such a thing as modules in Python, which contain a collection of functions that are related in some way.\n",
    "\n",
    "This means that when we are trying to solve a problem with Python code, we know that there might be module that has some functions, which could be useful in our particular case. We can then search for the right module and functions in the [official python documentation](https://docs.python.org/3/py-modindex.html) or via a search engine. It is very likely that there are many useful forum posts and blog posts that discuss the problem you are trying to solve. Chances are that the question you have has already been asked - and answered - by someone on the internet. For example, the website [stack overflow](https://stackoverflow.com/questions/tagged/python) contains many such questions and answers."
   ]
  },
  {
   "cell_type": "markdown",
   "id": "ff300f06",
   "metadata": {},
   "source": [
    "Aside from functions, the \"math\" module also contains some useful constants, such as `pi` and `e`."
   ]
  },
  {
   "cell_type": "code",
   "execution_count": 23,
   "id": "c716b4e9",
   "metadata": {},
   "outputs": [
    {
     "data": {
      "text/plain": [
       "3.141592653589793"
      ]
     },
     "execution_count": 23,
     "metadata": {},
     "output_type": "execute_result"
    }
   ],
   "source": [
    "math.pi"
   ]
  },
  {
   "cell_type": "code",
   "execution_count": 24,
   "id": "04cf7e00",
   "metadata": {},
   "outputs": [
    {
     "data": {
      "text/plain": [
       "2.718281828459045"
      ]
     },
     "execution_count": 24,
     "metadata": {},
     "output_type": "execute_result"
    }
   ],
   "source": [
    "math.e"
   ]
  },
  {
   "cell_type": "markdown",
   "id": "f8511415",
   "metadata": {},
   "source": [
    "# 3. The \"random\" module <a id='the-random-module'></a>"
   ]
  },
  {
   "cell_type": "markdown",
   "id": "5aa6062c",
   "metadata": {},
   "source": [
    "As the name suggests, the built-in \"random\" module contains functions related to randomness. We can import the \"random\" module in the following way:"
   ]
  },
  {
   "cell_type": "code",
   "execution_count": 26,
   "id": "d92d2d4a",
   "metadata": {},
   "outputs": [],
   "source": [
    "import random"
   ]
  },
  {
   "cell_type": "markdown",
   "id": "5619d0ee",
   "metadata": {},
   "source": [
    "The `randint()` function allows us to generate random integers within a specified range:"
   ]
  },
  {
   "cell_type": "code",
   "execution_count": 40,
   "id": "cb251eaf",
   "metadata": {},
   "outputs": [
    {
     "name": "stdout",
     "output_type": "stream",
     "text": [
      "8\n",
      "1\n",
      "10\n",
      "10\n",
      "6\n"
     ]
    }
   ],
   "source": [
    "for i in range(5):\n",
    "    print(random.randint(1, 10))"
   ]
  },
  {
   "cell_type": "markdown",
   "id": "973ca2cb",
   "metadata": {},
   "source": [
    "It is worth noting that both the left and right argument are included in the range. Therefore, the `randint(1, 10)` function call could return either a `1` or a `10`"
   ]
  },
  {
   "cell_type": "markdown",
   "id": "a06baf93",
   "metadata": {},
   "source": [
    "The `uniform()` function allows us to generate random floating-point numbers within a specified range:"
   ]
  },
  {
   "cell_type": "code",
   "execution_count": 41,
   "id": "1df9200f",
   "metadata": {},
   "outputs": [
    {
     "name": "stdout",
     "output_type": "stream",
     "text": [
      "2.6343281724099388\n",
      "2.5887582997240943\n",
      "2.9948175287994774\n",
      "2.51991728145328\n",
      "2.8102314838720144\n"
     ]
    }
   ],
   "source": [
    "for i in range(5):\n",
    "    print(random.uniform(2, 3))"
   ]
  },
  {
   "cell_type": "markdown",
   "id": "2fad0562",
   "metadata": {},
   "source": [
    "The `choice()` function allows us to randomly select an item from a sequence:"
   ]
  },
  {
   "cell_type": "code",
   "execution_count": 42,
   "id": "ea63edab",
   "metadata": {},
   "outputs": [
    {
     "name": "stdout",
     "output_type": "stream",
     "text": [
      "dog\n",
      "dog\n",
      "dog\n",
      "llama\n",
      "cat\n"
     ]
    }
   ],
   "source": [
    "x = [\"cat\", \"dog\", \"llama\"]\n",
    "\n",
    "for i in range(5):\n",
    "    print(random.choice(x))"
   ]
  },
  {
   "cell_type": "markdown",
   "id": "bca56341",
   "metadata": {},
   "source": [
    "The three functions presented here are some of the most common functions from the \"random\" module. However, there are other functions that could be useful depending on what one wants to achieve. The \"random\" module [documentation page](https://docs.python.org/3/library/random.html) details all the other functions contained within the \"random\" module."
   ]
  },
  {
   "cell_type": "markdown",
   "id": "e588555d",
   "metadata": {},
   "source": [
    "# 4. External modules and libraries <a id='external-modules-and-libraries'></a>"
   ]
  },
  {
   "cell_type": "markdown",
   "id": "f28ca567",
   "metadata": {},
   "source": [
    "Aside from built-in modules, there are many so-called \"external\" modules, which have to be downloaded first before they can be imported in our code. These external modules are created by Python programmers from all over the world. Furthermore, many modules are often grouped together into \"packages\" or \"libraries\". A package can contain multiple modules, while a library can contain multiple packages. However, the terms \"package\" and \"library\" are often used interchangeably.\n",
    "\n",
    "Installing and using external packages is beyond the scope of this course. However, below is a list of some popular Python libraries, along with descriptions of what they are intended for:\n",
    "\n",
    "1. NumPy - A computing library for working with vectors, matrices and tensors.\n",
    "2. Pandas - A library built on top of NumPy for working with tables.\n",
    "3. PyGame - A library for making 2D games in Python.\n",
    "4. Django - A library for making websites in Python.\n",
    "5. Requests - A library that makes HTTP requests with Python easy.\n",
    "6. Scikit-learn - A library for doing machine learning.\n",
    "7. Pytorch - Another library for doing machine learning with a focus on artificial neural networks.\n",
    "8. Matplotlib - A library for making visualizations of data.\n",
    "9. Kivy - A library for developing cross-platform apps.\n",
    "10. Pillow - A library for working with images."
   ]
  }
 ],
 "metadata": {
  "kernelspec": {
   "display_name": "Python 3 (ipykernel)",
   "language": "python",
   "name": "python3"
  },
  "language_info": {
   "codemirror_mode": {
    "name": "ipython",
    "version": 3
   },
   "file_extension": ".py",
   "mimetype": "text/x-python",
   "name": "python",
   "nbconvert_exporter": "python",
   "pygments_lexer": "ipython3",
   "version": "3.9.13"
  }
 },
 "nbformat": 4,
 "nbformat_minor": 5
}
