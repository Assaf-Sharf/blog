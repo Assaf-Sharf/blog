{
 "cells": [
  {
   "cell_type": "markdown",
   "id": "9851b213",
   "metadata": {},
   "source": [
    "## Final Assignment (10 points)\n",
    "\n",
    "In this exercise, you will write all the necessary pieces of code to create the game of Yahtzee in Python. More specifically, you will define the following three functions:\n",
    "\n",
    "1. `roll_dice()` - this function will simulate rolling the dice, given the possibility to roll up to 5 dice.\n",
    "2. `convert_user_input_to_dice_indices()` - this function will convert data from a user-friendly format to a programming-friendly format.\n",
    "3. `calculate_score()` - this function will calculate the score, given the final state of all of the dice.\n",
    "\n",
    "Once you define all three functions, you can run the last code cell in this notebook (which was prepared for you) to launch and play the game of Yahtzee. However, the program written in the last code cell depends on the aforementioned three functions working correctly - it will not work until you have defined those functions correctly."
   ]
  },
  {
   "cell_type": "markdown",
   "id": "132082fb",
   "metadata": {},
   "source": [
    "## Yahtzee Rules <a id='yahtzee-rules'></a>\n",
    "\n",
    "The goal of Yahtzee is to get certain combinations of numbers by rolling 5 dice. Each round in Yahtzee consists of 3 turns. On the first turn, the player rolls all 5 dice. On the second and third turns, the player has the option to choose which dice they want to roll again, and which dice they want to leave. If during the first or second turn the player is happy with the result on all of the dice, they may choose to skip the remaining turns. \n",
    "\n",
    "The point of the game is to get the highest score at the end of each round (after a maximum of three rolls). There are 13 types of combinations of dice for which points are rewarded. However, for simplicity, we will only use 6 types of combinations, while also modifying the scoring system slightly. The 6 types of combinations are as follows:\n",
    "\n",
    "| | Name            | Description                            | Score | Example                  |\n",
    "|-| :---------------| :--------------------------------------|:------|:--------------------------\n",
    "|1| Three of a kind | Three dice are the same                | 3 * x |4, 6, 4, 4, 2 (score: 12) |\n",
    "|2| Four of a kind  | Four dice are the same                 | 4 * x |2, 2, 2, 5, 2 (score: 8)  |\n",
    "|3| Full house      | Three of one number and two of another | 25    |3, 3, 3, 5, 5             |\n",
    "|4| Small straight  | Four sequential dice                   | 30    |2, 3, 4, 5, 3             |\n",
    "|5| Large straight  | Five sequential dice                   | 40    |1, 2, 3, 4, 5             |\n",
    "|6| Yahtzee         | All five dice are the same             | 50    |2, 2, 2, 2, 2             |\n",
    "\n",
    "You can read about the entirety of the original rules of Yahtzee on this [wikipedia page](https://en.wikipedia.org/wiki/Yahtzee)."
   ]
  },
  {
   "cell_type": "markdown",
   "id": "20b2f09c",
   "metadata": {},
   "source": [
    "### 1. The `roll_dice()` function (2 points)\n",
    "\n",
    "The `roll_dice` function has two parameters: `current_dice_rolls` and `dice_to_roll`. \n",
    "\n",
    "1. The function expects `current_dice_rolls` to be a list containing 5 numbers. The numbers in `current_dice_rolls` are integers (between 1 and 6) representing the results of the 5 dice rolls.\n",
    "\n",
    "\n",
    "2. The function expects `dice_to_roll` to be a list containing the indices of the dice that should be rolled on this turn. If this list is equal to `[0, 1, 2, 3, 4]`, this is the equivalent of rolling all 5 dice, which is always the case on the first turn in Yahtzee.\n",
    "\n",
    "This function should use the built-in **random** module to simulate dice rolls. The function should return a list of 5 integers representing the result of the dice rolls. Below are some of the values this function can return:\n",
    "\n",
    "1. `roll_dice([1, 1, 1, 1, 1], [0, 1, 2, 3, 4])` -> `[3, 5, 6, 3, 2]`\n",
    "2. `roll_dice([3, 5, 6, 3, 1], [1, 2, 4])` -> `[3, 3, 4, 3, 5]`\n",
    "3. `roll_dice([5, 5, 5, 2, 5], [3])` -> `[5, 5, 5, 4, 5]`\n",
    "4. `roll_dice([4, 4, 6, 4, 6], [])` -> `[4, 4, 6, 4, 6]`"
   ]
  },
  {
   "cell_type": "code",
   "execution_count": null,
   "id": "e2089544",
   "metadata": {},
   "outputs": [],
   "source": [
    "import random\n",
    "\n",
    "def roll_dice(current_dice_rolls, dice_to_roll):\n",
    "            \n",
    "    return"
   ]
  },
  {
   "cell_type": "code",
   "execution_count": null,
   "id": "ff878549",
   "metadata": {},
   "outputs": [],
   "source": [
    "roll_dice([4, 4, 6, 4, 6], [1, 2, 4])"
   ]
  },
  {
   "cell_type": "markdown",
   "id": "6e20d807",
   "metadata": {},
   "source": [
    "### 2. The `convert_user_input_to_dice_indices()` function (3 points)\n",
    "\n",
    "The `convert_user_input_to_dice_indices()` function has one parameter `user_input`. The function expects `user_input` to be of type `str`. The function extracts the dice indices from the string `user_input` and returns them in a list.\n",
    "\n",
    "1. The user will signify which dice they want to roll on this turn by writing the letter \"D\" followed by the number of the dice they want to roll. For example, if they want to roll the first dice, they should write `\"D1\"`. If they want want to roll the fifth dice, they should write `\"D5\"`.\n",
    "\n",
    "\n",
    "2. If the user wants to roll multiple dice on a single turn, they should separate their choices with white space. For example, the user should write `\"D1 D2 D5\"` if they want to roll dice 1, 2 and 5.\n",
    "\n",
    "\n",
    "3. Alternatively, the user can choose to skip the turn and not roll any dice. In this case, the user will submit an empty string `\"\"`.\n",
    "\n",
    "Below are some of the values this function should return:\n",
    "\n",
    "1. `convert_user_input_to_dice_indices(\"D1\")` -> `[0]`\n",
    "2. `convert_user_input_to_dice_indices(\"D1 D2 D5\")` -> `[0, 1, 4]`\n",
    "3. `convert_user_input_to_dice_indices(\"D4 D1\")` -> `[3, 0]`\n",
    "4. `convert_user_input_to_dice_indices(\"\")` -> `[]`\n",
    "\n",
    "**Hint:** there are many ways you can approach creating this function. However, it may be useful to know that strings can also be indexed just like lists. For example `some_string[0]` will return the first character of the string assigned to the variable `some_string`. Similarly, strings have built-in methods, such as the `split()` method, which splits a string into a list based on a character. Therefore the statement `\"how are you\".split(\" \")` returns `['how', 'are', 'you']`.\n"
   ]
  },
  {
   "cell_type": "code",
   "execution_count": 29,
   "id": "8152d040",
   "metadata": {},
   "outputs": [
    {
     "data": {
      "text/plain": [
       "['how', 'are', 'you']"
      ]
     },
     "execution_count": 29,
     "metadata": {},
     "output_type": "execute_result"
    }
   ],
   "source": [
    "x = \"how are you\"\n",
    "x.split(\" \")"
   ]
  },
  {
   "cell_type": "code",
   "execution_count": null,
   "id": "538eb7b3",
   "metadata": {},
   "outputs": [],
   "source": [
    "def convert_user_input_to_dice_indices(user_input):\n",
    "\n",
    "    return "
   ]
  },
  {
   "cell_type": "code",
   "execution_count": null,
   "id": "6219d235",
   "metadata": {},
   "outputs": [],
   "source": [
    "convert_user_input_to_dice_indices(\"D4 D1\")"
   ]
  },
  {
   "cell_type": "code",
   "execution_count": null,
   "id": "62bbd25a",
   "metadata": {},
   "outputs": [],
   "source": [
    "convert_user_input_to_dice_indices(\"\")"
   ]
  },
  {
   "cell_type": "markdown",
   "id": "75eb5e87",
   "metadata": {},
   "source": [
    "### 3. The `calculate_score()` function (5 points)\n",
    "\n",
    "The `calculate_score()` function has one parameter `current_dice_rolls`. The function expects `current_dice_rolls` to be a list containing 5 integers (between 1 and 6) representing the results of the 5 dice rolls.\n",
    "\n",
    "This function should calculate the score based on `current_dice_rolls`, according to the rules specified [earlier in this notebook](#yahtzee-rules). Below are some of the values this function should return:\n",
    "\n",
    "1. `calculate_score([2, 3, 2, 2, 5])` -> `6`\n",
    "2. `calculate_score([3, 3, 3, 6, 3])` -> `12`\n",
    "3. `calculate_score([3, 3, 3, 2, 2])` -> `25`\n",
    "4. `calculate_score([1, 2, 3, 4, 1])` -> `30`\n",
    "5. `calculate_score([2, 3, 4, 5, 6])` -> `40`\n",
    "6. `calculate_score([3, 3, 3, 3, 3])` -> `50`\n",
    "\n",
    "**Hint:** there are many ways you can approach creating this function. However, it may be helpful to use the `sort()` method that lists have. This may come in handy when trying to calculate the score in the case of a \"small straight\" or a \"large straight\". The `sort()` method can be used without any arguments:"
   ]
  },
  {
   "cell_type": "code",
   "execution_count": null,
   "id": "97faa56e",
   "metadata": {},
   "outputs": [],
   "source": [
    "x = [3, 6, 1]\n",
    "x.sort()\n",
    "x"
   ]
  },
  {
   "cell_type": "code",
   "execution_count": null,
   "id": "35ef5461",
   "metadata": {},
   "outputs": [],
   "source": [
    "def calculate_score(current_dice_rolls):\n",
    "    \n",
    "    return"
   ]
  },
  {
   "cell_type": "markdown",
   "id": "f42bd806",
   "metadata": {},
   "source": [
    "You can use the two cells below to test your function:"
   ]
  },
  {
   "cell_type": "code",
   "execution_count": null,
   "id": "0352ea2a",
   "metadata": {},
   "outputs": [],
   "source": [
    "print(calculate_score([2, 3, 2, 2, 5]) == 6)\n",
    "print(calculate_score([3, 3, 3, 6, 3]) == 12)\n",
    "print(calculate_score([3, 3, 3, 2, 2]) == 25)\n",
    "print(calculate_score([1, 2, 3, 4, 1]) == 30)\n",
    "print(calculate_score([2, 3, 4, 5, 6]) == 40)\n",
    "print(calculate_score([3, 3, 3, 3, 3]) == 50)"
   ]
  },
  {
   "cell_type": "code",
   "execution_count": null,
   "id": "cd3956d2",
   "metadata": {},
   "outputs": [],
   "source": [
    "print(calculate_score([2, 3, 2, 2, 5]))\n",
    "print(calculate_score([3, 3, 3, 6, 3]))\n",
    "print(calculate_score([3, 3, 3, 2, 2]))\n",
    "print(calculate_score([1, 2, 3, 4, 1]))\n",
    "print(calculate_score([2, 3, 4, 5, 6]))\n",
    "print(calculate_score([3, 3, 3, 3, 3]))"
   ]
  },
  {
   "cell_type": "markdown",
   "id": "0c24f301",
   "metadata": {},
   "source": [
    "## Yahtzee in Python\n",
    "\n",
    "The code cell below contains the program for the modified version of Yahtzee, which relies on the previous three functions you have defined. You can run the code cell below to play the game of Yahtzee.\n",
    "\n",
    "We encourage you to try to understand the program below - it is composed entirely of elements which you have already seen in this course, with the exception of three things:\n",
    "\n",
    "1. Comments - the code below contains comments which describe what is happening in the program. A comment begins with a `#` and is followed by plain English. Python ignores everything written after a `#`, so it won't affect our program.\n",
    "\n",
    "\n",
    "2. The `input()` function, which halts the execution of a program and waits for the user to type in some text and press enter. This allows the user to input some information into the program. This is how we can get the user's choice regarding which dice to roll.\n",
    "\n",
    "\n",
    "3. Strings defined on multiple lines - when you want to create a really long string, defining it over multiple lines can help with readability, as opposed to having one really long line. Using the `\\` allows us to continue Python code onto the next line, while Python treats this code as part of the same line.\n",
    "\n",
    "Feel free to play around with the code below - change some things around and don't worry about breaking the program. If you feel particularly adventurous, you can try to improve the program by adding functionality. For example, you could:\n",
    "\n",
    "1. add the option to play against another user (taking turns) \n",
    "2. add score tracking across multiple rounds\n",
    "3. add an error prevention system if the user inputs an invalid string (writing the wrong thing will break the program currently)\n",
    "4. you could implement the entirety of the original rules of Yahtzee\n",
    "\n",
    "If you have made it this far in the course, you have all the necessary tools to create such a program! Of course you are still at the beginning of your programming journey, so don't worry if you are having a hard time with some things - it is absolutely normal. It is a good idea to ask questions and look for answers in the right places (there are many good resources online) - this way you will surely improve quickly."
   ]
  },
  {
   "cell_type": "code",
   "execution_count": null,
   "id": "99647c0c",
   "metadata": {},
   "outputs": [],
   "source": [
    "print(\"The game of Yahtzee begins!\")\n",
    "\n",
    "user_choice_info = 'When prompted to choose which dice to roll, please write the' \\\n",
    "' letter \"D\" followed by the number of the dice you want to roll.' \\\n",
    "' If you want to roll multiple dice, separate your choices with white space.' \\\n",
    "' For example, write \"D1 D2 D5\" if you want to roll dice 1, 2 and 5' \\\n",
    "' Alternatively, press enter without writing anything to skip the turn.'\n",
    "\n",
    "print(\"\")\n",
    "print(user_choice_info)    \n",
    "\n",
    "\n",
    "run_game = True\n",
    "while run_game:\n",
    "    \n",
    "    # During the first roll of the round, the user has no choice but to roll all 5 dice\n",
    "    current_dice_rolls = roll_dice([], [0, 1, 2, 3, 4])\n",
    "    print(\"\")\n",
    "    print(\"Your current dice rolls: \" + str(current_dice_rolls))\n",
    "    \n",
    "    # Once the dice were rolled the first time, the user will have the option to select dice\n",
    "    # and roll them again two more times.\n",
    "    for i in range(2):\n",
    "        \n",
    "        # Here we get the user's choice regarding which dice to roll\n",
    "        user_choice = input('Please choose which dice you want to roll again: ')\n",
    "        dice_to_roll = convert_user_input_to_dice_indices(user_choice)\n",
    "        current_dice_rolls = roll_dice(current_dice_rolls, dice_to_roll)\n",
    "        print(\"Your current dice rolls: \" + str(current_dice_rolls))\n",
    "    \n",
    "    # Once all three dice rolls were completed, we print the score\n",
    "    current_score = calculate_score(current_dice_rolls)\n",
    "    print(\"Your score for this round is: \" + str(current_score))\n",
    "    \n",
    "    # After the round is finished, we ask the user if they want to play again\n",
    "    continue_game = input(\"Do you want to play again? (yes/no)\")\n",
    "    while continue_game not in [\"yes\", \"no\"]:\n",
    "        print('Invalid option. Please write \"yes\" or \"no\"')\n",
    "        continue_game = input(\"Do you want to play again? (yes/no)\")\n",
    "    \n",
    "    # If user chose no, we set run_game to False which will exit the loop and finish running the game\n",
    "    if continue_game == \"no\":\n",
    "        run_game = False\n",
    "    "
   ]
  }
 ],
 "metadata": {
  "kernelspec": {
   "display_name": "Python 3 (ipykernel)",
   "language": "python",
   "name": "python3"
  },
  "language_info": {
   "codemirror_mode": {
    "name": "ipython",
    "version": 3
   },
   "file_extension": ".py",
   "mimetype": "text/x-python",
   "name": "python",
   "nbconvert_exporter": "python",
   "pygments_lexer": "ipython3",
   "version": "3.9.13"
  }
 },
 "nbformat": 4,
 "nbformat_minor": 5
}
