{
 "cells": [
  {
   "cell_type": "markdown",
   "id": "af3fd955",
   "metadata": {},
   "source": [
    "### Exercise 1 (0.5 points)\n",
    "\n",
    "Define a function called `avg` which expects a `list` of numbers as an argument and returns the average. The output should be rounded to two decimal places.\n",
    "\n",
    "Below are some of the values this function should return:\n",
    "\n",
    "1. `avg([1, 2, 3])` -> `2.0`\n",
    "2. `avg([-4.3, 2.31, 18.74])` -> `5.58` "
   ]
  },
  {
   "cell_type": "code",
   "execution_count": 11,
   "id": "f7b94dee",
   "metadata": {},
   "outputs": [],
   "source": [
    "def avg(numbers):\n",
    "    \n",
    "    return "
   ]
  },
  {
   "cell_type": "code",
   "execution_count": 12,
   "id": "2134b173",
   "metadata": {},
   "outputs": [],
   "source": [
    "avg([-4.3, 2.31, 18.74])"
   ]
  }
 ],
 "metadata": {
  "kernelspec": {
   "display_name": "Python 3 (ipykernel)",
   "language": "python",
   "name": "python3"
  },
  "language_info": {
   "codemirror_mode": {
    "name": "ipython",
    "version": 3
   },
   "file_extension": ".py",
   "mimetype": "text/x-python",
   "name": "python",
   "nbconvert_exporter": "python",
   "pygments_lexer": "ipython3",
   "version": "3.8.10"
  }
 },
 "nbformat": 4,
 "nbformat_minor": 5
}
