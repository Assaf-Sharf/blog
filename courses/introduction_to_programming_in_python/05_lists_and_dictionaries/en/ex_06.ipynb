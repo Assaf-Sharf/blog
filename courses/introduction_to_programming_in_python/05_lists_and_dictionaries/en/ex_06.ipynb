{
 "cells": [
  {
   "cell_type": "markdown",
   "id": "68dee1f0",
   "metadata": {},
   "source": [
    "### Exercise 6 (2.5 points)\n",
    "\n",
    "Define a function called `dict_merge` which has two parameters `dict_01` and `dict_02` - both of which are expected to be of type `dict`. The function creates a new dictionary which contains keys and values from both `dict_01` and `dict_02`. If there is a key that is present in both dictionaries, the value in the new dictionary will be a `list` containing both of those values.\n",
    "\n",
    "Below are some values this function should return:\n",
    "1. `dict_merge({\"a\" : 1}, {\"b\": 2})` -> `{\"a\": 1, \"b\": 2}`\n",
    "2. `dict_merge({\"a\": 1, \"b\": 2}, {\"b\": 3, \"c\": 4})` -> `{\"a\": 1, \"b\": [2, 3], \"c\": 4}`\n",
    "\n",
    "**Important:** the `dict_merge` function should not modify the original dictionaries. Therefore, you should create a new dictionary and return it. Additionally, when creating a list of values due to a key occurring in both of the original dictionaries, take note of the order of the items in the list. The value in the `dict_01` should be first, while the value in `dict_02` should be second."
   ]
  },
  {
   "cell_type": "code",
   "execution_count": 2,
   "id": "a1485a8e",
   "metadata": {},
   "outputs": [],
   "source": [
    "def dict_merge(dict_01, dict_02):\n",
    "    new_dict = {}\n",
    "    \n",
    "    return"
   ]
  },
  {
   "cell_type": "code",
   "execution_count": 3,
   "id": "0431ebcc",
   "metadata": {},
   "outputs": [],
   "source": [
    "dict_01 = {\"a\": 1, \"b\": 2}\n",
    "dict_02 = {\"b\": 3, \"c\": 4}\n",
    "\n",
    "new_dict = dict_merge(dict_01, dict_02)\n",
    "\n",
    "new_dict"
   ]
  },
  {
   "cell_type": "markdown",
   "id": "3cce5b9b",
   "metadata": {},
   "source": [
    "You can use the code cell below to verify that the original dictionaries have not been modified (the code below should print `'True'` twice):"
   ]
  },
  {
   "cell_type": "code",
   "execution_count": null,
   "id": "fe6b619b",
   "metadata": {},
   "outputs": [],
   "source": [
    "print(dict_01 != new_dict)\n",
    "print(dict_02 != new_dict)"
   ]
  }
 ],
 "metadata": {
  "kernelspec": {
   "display_name": "Python 3 (ipykernel)",
   "language": "python",
   "name": "python3"
  },
  "language_info": {
   "codemirror_mode": {
    "name": "ipython",
    "version": 3
   },
   "file_extension": ".py",
   "mimetype": "text/x-python",
   "name": "python",
   "nbconvert_exporter": "python",
   "pygments_lexer": "ipython3",
   "version": "3.9.13"
  }
 },
 "nbformat": 4,
 "nbformat_minor": 5
}
