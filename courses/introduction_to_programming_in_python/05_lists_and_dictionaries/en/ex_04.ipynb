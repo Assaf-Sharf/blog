{
 "cells": [
  {
   "cell_type": "markdown",
   "id": "75618daa",
   "metadata": {},
   "source": [
    "### Exercise 4 (2.5 points)\n",
    "\n",
    "Define a function called `contains_sublist` which has two parameters `list_to_search` and `sublist`. The function checks whether `list_to_search` contains the sublist `sublist`. If yes, the function returns `True`, otherwise it returns `False`.\n",
    "\n",
    "Below are some of the values this function should return:\n",
    "\n",
    "1. `contains_sublist([1, 2, 3, 4], [2, 3])` -> `True`\n",
    "2. `contains_sublist([1, 2, 3, 4], [3, 2])` -> `False`\n",
    "3. `contains_sublist([1, 2, 3, 4], [0, 1])` -> `False`\n",
    "4. `contains_sublist([1, 2, 3, 4], [4])` -> `True`\n",
    "5. `contains_sublist([\"cat\", \"dog\", \"goose\"], [\"cat\", \"dog\"])` -> `True`\n",
    "6. `contains_sublist([\"cat\", \"dog\", \"goose\"], [\"dog\"])` -> `True`"
   ]
  },
  {
   "cell_type": "code",
   "execution_count": null,
   "id": "f1f69628",
   "metadata": {},
   "outputs": [],
   "source": [
    "def contains_sublist(list_to_search, sublist):\n",
    "    \n",
    "    return"
   ]
  },
  {
   "cell_type": "code",
   "execution_count": null,
   "id": "3dbc41ca",
   "metadata": {},
   "outputs": [],
   "source": [
    "contains_sublist([1, 2, 3, 4], [2, 3])"
   ]
  }
 ],
 "metadata": {
  "kernelspec": {
   "display_name": "Python 3 (ipykernel)",
   "language": "python",
   "name": "python3"
  },
  "language_info": {
   "codemirror_mode": {
    "name": "ipython",
    "version": 3
   },
   "file_extension": ".py",
   "mimetype": "text/x-python",
   "name": "python",
   "nbconvert_exporter": "python",
   "pygments_lexer": "ipython3",
   "version": "3.8.10"
  }
 },
 "nbformat": 4,
 "nbformat_minor": 5
}
