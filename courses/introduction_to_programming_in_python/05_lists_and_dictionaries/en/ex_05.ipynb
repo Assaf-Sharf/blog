{
 "cells": [
  {
   "cell_type": "markdown",
   "id": "b942efe2",
   "metadata": {},
   "source": [
    "### Exercise 5 (2 points)\n",
    "\n",
    "Define a function called `character_count` which expects one argument of type `str` and returns a dictionary whose keys are characters in the string, while the corresponding values are the number of times the character appears in the string.\n",
    "\n",
    "Below are some of the values this function should return:\n",
    "1. `character_count(\"abbccc\")` -> `{\"a\": 1, \"b\": 2, \"c\": 3}`\n",
    "2. `character_count(\"sense\")` -> `{\"s\": 2, \"e\": 2, \"n\": 1}`\n",
    "    \n",
    "    "
   ]
  },
  {
   "cell_type": "code",
   "execution_count": 1,
   "id": "d7481165",
   "metadata": {},
   "outputs": [],
   "source": [
    "def character_count(string):\n",
    "    \n",
    "    return"
   ]
  },
  {
   "cell_type": "code",
   "execution_count": null,
   "id": "8ace82a8",
   "metadata": {},
   "outputs": [],
   "source": [
    "character_count(\"sense\")"
   ]
  }
 ],
 "metadata": {
  "kernelspec": {
   "display_name": "Python 3 (ipykernel)",
   "language": "python",
   "name": "python3"
  },
  "language_info": {
   "codemirror_mode": {
    "name": "ipython",
    "version": 3
   },
   "file_extension": ".py",
   "mimetype": "text/x-python",
   "name": "python",
   "nbconvert_exporter": "python",
   "pygments_lexer": "ipython3",
   "version": "3.8.10"
  }
 },
 "nbformat": 4,
 "nbformat_minor": 5
}
