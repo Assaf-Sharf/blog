{
 "cells": [
  {
   "cell_type": "markdown",
   "id": "1306ab06",
   "metadata": {},
   "source": [
    "### Exercise 2 (1 point)\n",
    "\n",
    "Define a function called `longest_string_id` which expects a `list` of strings as an argument and returns the index of the longest string in the `list`. If there are two longest strings of equal length, the id of the first string should be returned.\n",
    "\n",
    "Below are some of the values that this function should return:\n",
    "1. `longest_string_id(['a', 'ab', 'abc'])` -> `2`\n",
    "2. `longest_string_id(['cat', 'orangutan', 'dog'])` -> `1`\n",
    "3. `longest_string_id(['a', 'longest', 'bb', 'longest'])` -> `1`"
   ]
  },
  {
   "cell_type": "code",
   "execution_count": 2,
   "id": "2d481550",
   "metadata": {},
   "outputs": [],
   "source": [
    "def longest_string_id(strings):\n",
    "    \n",
    "    return"
   ]
  },
  {
   "cell_type": "code",
   "execution_count": 3,
   "id": "0093c6ae",
   "metadata": {},
   "outputs": [],
   "source": [
    "longest_string_id(['a', 'longest', 'bb', 'longest'])"
   ]
  }
 ],
 "metadata": {
  "kernelspec": {
   "display_name": "Python 3 (ipykernel)",
   "language": "python",
   "name": "python3"
  },
  "language_info": {
   "codemirror_mode": {
    "name": "ipython",
    "version": 3
   },
   "file_extension": ".py",
   "mimetype": "text/x-python",
   "name": "python",
   "nbconvert_exporter": "python",
   "pygments_lexer": "ipython3",
   "version": "3.8.10"
  }
 },
 "nbformat": 4,
 "nbformat_minor": 5
}
