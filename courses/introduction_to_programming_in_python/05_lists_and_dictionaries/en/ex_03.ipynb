{
 "cells": [
  {
   "cell_type": "markdown",
   "id": "77794494",
   "metadata": {},
   "source": [
    "### Exercise 3 (1.5 points)\n",
    "\n",
    "Define a function called `remove_duplicates` which expects one `list` as an argument and returns a new list, which is a copy of the original list with all the duplicate items removed. When removing items, the first occurrence of an item should be kept, while all subsequent duplicates of that item are removed.\n",
    "\n",
    "**Important:** this function should **not** modify the original `list` it receives as an argument. Therefore, you must create a new list and return that list.\n",
    "\n",
    "Below are some of the values this function should return:\n",
    "1. remove_duplicates([1, 1, 1, 2, 1, 3, 2]) -> [1, 2, 3]\n",
    "2. remove_duplicates([\"cat\", \"dog\", \"dog\", \"cat\"]) -> [\"cat\", \"dog\"]"
   ]
  },
  {
   "cell_type": "code",
   "execution_count": null,
   "id": "10cb424b",
   "metadata": {},
   "outputs": [],
   "source": [
    "def remove_duplicates(original_list):\n",
    "    new_list = []\n",
    "    \n",
    "    return"
   ]
  },
  {
   "cell_type": "code",
   "execution_count": null,
   "id": "b123db75",
   "metadata": {},
   "outputs": [],
   "source": [
    "original_list = [\"cat\", \"dog\", \"dog\", \"cat\"]\n",
    "new_list = remove_duplicates(original_list)\n",
    "new_list"
   ]
  },
  {
   "cell_type": "markdown",
   "id": "9cc955fa",
   "metadata": {},
   "source": [
    "You can use the cell below to verify that the original list has not been modified (the code below should return `True`):"
   ]
  },
  {
   "cell_type": "code",
   "execution_count": null,
   "id": "9a033567",
   "metadata": {},
   "outputs": [],
   "source": [
    "original_list != new_list"
   ]
  }
 ],
 "metadata": {
  "kernelspec": {
   "display_name": "Python 3 (ipykernel)",
   "language": "python",
   "name": "python3"
  },
  "language_info": {
   "codemirror_mode": {
    "name": "ipython",
    "version": 3
   },
   "file_extension": ".py",
   "mimetype": "text/x-python",
   "name": "python",
   "nbconvert_exporter": "python",
   "pygments_lexer": "ipython3",
   "version": "3.8.10"
  }
 },
 "nbformat": 4,
 "nbformat_minor": 5
}
