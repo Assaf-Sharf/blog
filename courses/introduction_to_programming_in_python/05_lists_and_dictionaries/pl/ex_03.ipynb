{
 "cells": [
  {
   "cell_type": "markdown",
   "id": "77794494",
   "metadata": {},
   "source": [
    "### Zadanie 3 (1.5 punktów)\n",
    "\n",
    "Zdefiniuj funkcję `remove_duplicates`, która jako argument oczekuje jednej listy i zwraca nową listę, która jest kopią oryginalnej listy z usuniętymi wszystkimi zduplikowanymi elementami. Podczas usuwania elementów, pierwsze wystąpienie elementu powinno być zachowane, natomiast wszystkie kolejne duplikaty tego elementu są usuwane.\n",
    "\n",
    "**Ważne:** funkcja ta nie powinna modyfikować oryginalnej `listy`, którą otrzymuje jako argument. Dlatego należy stworzyć nową listę i zwrócić tę listę.\n",
    "\n",
    "Poniżej znajdują się przykładowe wartości, które powinny być zwrócone przez tę funkcję:\n",
    "1. `remove_duplicates([1, 1, 1, 2, 1, 3, 2])` -> `[1, 2, 3]`\n",
    "2. `remove_duplicates([\"cat\", \"dog\", \"dog\", \"cat\"])` -> `[\"cat\", \"dog\"]`"
   ]
  },
  {
   "cell_type": "code",
   "execution_count": null,
   "id": "10cb424b",
   "metadata": {},
   "outputs": [],
   "source": [
    "def remove_duplicates(original_list):\n",
    "    new_list = []\n",
    "    \n",
    "    return"
   ]
  },
  {
   "cell_type": "code",
   "execution_count": null,
   "id": "b123db75",
   "metadata": {},
   "outputs": [],
   "source": [
    "original_list = [\"cat\", \"dog\", \"dog\", \"cat\"]\n",
    "new_list = remove_duplicates(original_list)\n",
    "new_list"
   ]
  },
  {
   "cell_type": "markdown",
   "id": "9cc955fa",
   "metadata": {},
   "source": [
    "Możesz użyć poniższej komórki aby sprawdzić czy oryginalna lista nie została zmieniona (poniższy kod powinien zwrócić wartość `True`):"
   ]
  },
  {
   "cell_type": "code",
   "execution_count": null,
   "id": "9a033567",
   "metadata": {},
   "outputs": [],
   "source": [
    "original_list != new_list"
   ]
  }
 ],
 "metadata": {
  "kernelspec": {
   "display_name": "Python 3 (ipykernel)",
   "language": "python",
   "name": "python3"
  },
  "language_info": {
   "codemirror_mode": {
    "name": "ipython",
    "version": 3
   },
   "file_extension": ".py",
   "mimetype": "text/x-python",
   "name": "python",
   "nbconvert_exporter": "python",
   "pygments_lexer": "ipython3",
   "version": "3.9.13"
  }
 },
 "nbformat": 4,
 "nbformat_minor": 5
}
