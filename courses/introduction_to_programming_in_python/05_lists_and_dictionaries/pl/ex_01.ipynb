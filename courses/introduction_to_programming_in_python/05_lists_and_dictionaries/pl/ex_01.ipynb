{
 "cells": [
  {
   "cell_type": "markdown",
   "id": "af3fd955",
   "metadata": {},
   "source": [
    "### Zadanie 1 (0.5 punktów)\n",
    "\n",
    "Zdefiniuj funkcję `avg`, która jako argument oczekuje `listę` liczb i zwraca średnią. Wartość zwrócona powinna być zaokrąglona do dwóch miejsc po przecinku.\n",
    "\n",
    "Poniżej znajdują się przykładowe wartości, które powinny być zwrócone przez tę funkcję:\n",
    "\n",
    "1. `avg([1, 2, 3])` -> `2.0`.\n",
    "2. `avg([-4.3, 2.31, 18.74])` -> `5.58`. "
   ]
  },
  {
   "cell_type": "code",
   "execution_count": 11,
   "id": "f7b94dee",
   "metadata": {},
   "outputs": [],
   "source": [
    "def avg(numbers):\n",
    "    \n",
    "    return "
   ]
  },
  {
   "cell_type": "code",
   "execution_count": 12,
   "id": "2134b173",
   "metadata": {},
   "outputs": [],
   "source": [
    "avg([-4.3, 2.31, 18.74])"
   ]
  }
 ],
 "metadata": {
  "kernelspec": {
   "display_name": "Python 3 (ipykernel)",
   "language": "python",
   "name": "python3"
  },
  "language_info": {
   "codemirror_mode": {
    "name": "ipython",
    "version": 3
   },
   "file_extension": ".py",
   "mimetype": "text/x-python",
   "name": "python",
   "nbconvert_exporter": "python",
   "pygments_lexer": "ipython3",
   "version": "3.9.13"
  }
 },
 "nbformat": 4,
 "nbformat_minor": 5
}
