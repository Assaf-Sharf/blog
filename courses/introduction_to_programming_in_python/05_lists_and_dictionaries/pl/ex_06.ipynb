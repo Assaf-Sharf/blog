{
 "cells": [
  {
   "cell_type": "markdown",
   "id": "68dee1f0",
   "metadata": {},
   "source": [
    "### Zadanie 6 (2.5 punktów)\n",
    "\n",
    "Zdefiniuj funkcję `dict_merge`, która ma dwa parametry `dict_01` i `dict_02` - oba mają być typu `dict`. Funkcja tworzy nowy słownik, który zawiera klucze i wartości zarówno z `dict_01` jak i `dict_02`. Jeśli jakiś klucz jest obecny w obu słownikach, to wartością w nowym słowniku będzie lista zawierająca obie te wartości.\n",
    "\n",
    "Poniżej znajdują się przykładowe wartości, które powinny być zwrócone przez tę funkcję:\n",
    "1. `dict_merge({\"a\" : 1}, {\"b\": 2})` -> `{\"a\": 1, \"b\": 2}`\n",
    "2. `dict_merge({\"a\": 1, \"b\": 2}, {\"b\": 3, \"c\": 4})` -> `{\"a\": 1, \"b\": [2, 3], \"c\": 4}`\n",
    "\n",
    "**Ważne:** funkcja `dict_merge` nie powinna modyfikować oryginalnych słowników. Dlatego należy stworzyć nowy słownik i zwrócić go. Dodatkowo, tworząc listę wartości ze względu na klucz występujący w obu oryginalnych słownikach, należy zwrócić uwagę na kolejność pozycji na liście. Wartość w `dict_01` powinna być pierwsza, natomiast wartość w `dict_02` powinna być druga."
   ]
  },
  {
   "cell_type": "code",
   "execution_count": 2,
   "id": "a1485a8e",
   "metadata": {},
   "outputs": [],
   "source": [
    "def dict_merge(dict_01, dict_02):\n",
    "    new_dict = {}\n",
    "    \n",
    "    return"
   ]
  },
  {
   "cell_type": "code",
   "execution_count": 3,
   "id": "0431ebcc",
   "metadata": {},
   "outputs": [],
   "source": [
    "dict_01 = {\"a\": 1, \"b\": 2}\n",
    "dict_02 = {\"b\": 3, \"c\": 4}\n",
    "\n",
    "new_dict = dict_merge(dict_01, dict_02)\n",
    "\n",
    "new_dict"
   ]
  },
  {
   "cell_type": "markdown",
   "id": "3cce5b9b",
   "metadata": {},
   "source": [
    "Możesz użyć komórki z kodem, poniżej, aby sprawdzić, czy oryginalne słowniki nie zostały zmodyfikowane (poniższy kod powinien wydrukować `'True'` dwa razy):"
   ]
  },
  {
   "cell_type": "code",
   "execution_count": null,
   "id": "fe6b619b",
   "metadata": {},
   "outputs": [],
   "source": [
    "print(dict_01 != new_dict)\n",
    "print(dict_02 != new_dict)"
   ]
  }
 ],
 "metadata": {
  "kernelspec": {
   "display_name": "Python 3 (ipykernel)",
   "language": "python",
   "name": "python3"
  },
  "language_info": {
   "codemirror_mode": {
    "name": "ipython",
    "version": 3
   },
   "file_extension": ".py",
   "mimetype": "text/x-python",
   "name": "python",
   "nbconvert_exporter": "python",
   "pygments_lexer": "ipython3",
   "version": "3.9.13"
  }
 },
 "nbformat": 4,
 "nbformat_minor": 5
}
