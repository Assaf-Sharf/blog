{
 "cells": [
  {
   "cell_type": "markdown",
   "id": "b942efe2",
   "metadata": {},
   "source": [
    "### Zadanie 5 (2 punkty)\n",
    "\n",
    "Zdefiniuj funkcję `character_count`, która oczekuje jednego argumentu typu `str` i zwraca słownik, którego kluczami są poszczególne znaki w stringu, natomiast odpowiadające im wartości to liczby odpowiadąjące temu ile razy dany znak wysąpił w stringu.\n",
    "\n",
    "Poniżej znajdują się przykładowe wartości, które powinny być zwrócone przez tę funkcję:\n",
    "1. `character_count(\"abbccc\")` -> `{\"a\": 1, \"b\": 2, \"c\": 3}`\n",
    "2. `character_count(\"sense\")` -> `{\"s\": 2, \"e\": 2, \"n\": 1}`\n",
    "    \n",
    "    "
   ]
  },
  {
   "cell_type": "code",
   "execution_count": 1,
   "id": "d7481165",
   "metadata": {},
   "outputs": [],
   "source": [
    "def character_count(string):\n",
    "    \n",
    "    return"
   ]
  },
  {
   "cell_type": "code",
   "execution_count": null,
   "id": "8ace82a8",
   "metadata": {},
   "outputs": [],
   "source": [
    "character_count(\"sense\")"
   ]
  }
 ],
 "metadata": {
  "kernelspec": {
   "display_name": "Python 3 (ipykernel)",
   "language": "python",
   "name": "python3"
  },
  "language_info": {
   "codemirror_mode": {
    "name": "ipython",
    "version": 3
   },
   "file_extension": ".py",
   "mimetype": "text/x-python",
   "name": "python",
   "nbconvert_exporter": "python",
   "pygments_lexer": "ipython3",
   "version": "3.9.13"
  }
 },
 "nbformat": 4,
 "nbformat_minor": 5
}
