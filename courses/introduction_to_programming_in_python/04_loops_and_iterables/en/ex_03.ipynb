{
 "cells": [
  {
   "cell_type": "markdown",
   "id": "8bcb8989",
   "metadata": {},
   "source": [
    "### Exercise 3 (5 points)\n",
    "\n",
    "Define a function called `replace_char_in_str` which has three parameters `original_str`, `pos` and `char`. The function \"replaces\" a character in the string passed in as the argument `original_str`. More specifically, the function replaces the character at the position specified by the integer `pos` with the character `char`.\n",
    "\n",
    "Therefore, the following function calls should produce the following outputs:\n",
    "1. `replace_char_in_str(\"zog\", 0, \"d\") -> \"dog\"`\n",
    "2. `replace_char_in_str(\"cet\", 1, \"a\") -> \"cat\"`\n",
    "3. `replace_char_in_str(\"Pyfhon\", 2, \"t\") -> \"Python\"`\n",
    "\n",
    "**Note**: notice that the positions of the characters start with `0` instead of `1`. This is because in computer programming there is a convention of counting from `0` instead of `1`."
   ]
  },
  {
   "cell_type": "code",
   "execution_count": 2,
   "id": "8187a50e",
   "metadata": {},
   "outputs": [],
   "source": [
    "def replace_char_in_str(original_str, pos, char):\n",
    "    new_str = \"\"\n",
    "    \n",
    "    \n",
    "    \n",
    "    return new_str"
   ]
  },
  {
   "cell_type": "code",
   "execution_count": null,
   "id": "36917aeb",
   "metadata": {},
   "outputs": [],
   "source": [
    "replace_char_in_str(\"Pyghon\", 2, \"t\")"
   ]
  }
 ],
 "metadata": {
  "kernelspec": {
   "display_name": "Python 3 (ipykernel)",
   "language": "python",
   "name": "python3"
  },
  "language_info": {
   "codemirror_mode": {
    "name": "ipython",
    "version": 3
   },
   "file_extension": ".py",
   "mimetype": "text/x-python",
   "name": "python",
   "nbconvert_exporter": "python",
   "pygments_lexer": "ipython3",
   "version": "3.8.10"
  }
 },
 "nbformat": 4,
 "nbformat_minor": 5
}
