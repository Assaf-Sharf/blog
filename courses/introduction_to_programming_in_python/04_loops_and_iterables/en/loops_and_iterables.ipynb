{
 "cells": [
  {
   "cell_type": "markdown",
   "id": "a638d770",
   "metadata": {},
   "source": [
    "## Sections:\n",
    "\n",
    "1. [The print function](#the-print-function)\n",
    "2. [For loops](#for-loops)\n",
    "3. [Iterables and iterators](#iterables-and-iterators)\n",
    "4. [While loops](#while-loops)\n",
    "5. [Continue and break](#continue-and-break)"
   ]
  },
  {
   "cell_type": "markdown",
   "id": "eba46400",
   "metadata": {},
   "source": [
    "# 1. The print function <a id='the-print-function'></a>\n",
    "\n",
    "In this module, you will learn how to create loops in Python, which are used to repeat a block of code multiple times. In order to understand loops, it is helpful to be able to display information multiple times at different steps during the execution of our program. Until now, whenever we wanted to preview a value returned by an expression, we would simply write that expression in the last line, like so:"
   ]
  },
  {
   "cell_type": "code",
   "execution_count": 80,
   "id": "780150e5",
   "metadata": {},
   "outputs": [
    {
     "data": {
      "text/plain": [
       "5"
      ]
     },
     "execution_count": 80,
     "metadata": {},
     "output_type": "execute_result"
    }
   ],
   "source": [
    "x = 5\n",
    "x"
   ]
  },
  {
   "cell_type": "markdown",
   "id": "aa79ac37",
   "metadata": {},
   "source": [
    "As we can see above, Python outputs the value `5`, which is the value we assigned to `x` in line 1. However, what if we were to change the value of `x` multiple times, and what if we wanted to preview the value of `x` each time we changed it? One might be tempted to write the following code:"
   ]
  },
  {
   "cell_type": "code",
   "execution_count": 81,
   "id": "a5c95600",
   "metadata": {
    "scrolled": true
   },
   "outputs": [
    {
     "data": {
      "text/plain": [
       "8"
      ]
     },
     "execution_count": 81,
     "metadata": {},
     "output_type": "execute_result"
    }
   ],
   "source": [
    "x = x + 1\n",
    "x\n",
    "\n",
    "x = x + 1\n",
    "x\n",
    "\n",
    "x = x + 1\n",
    "x"
   ]
  },
  {
   "cell_type": "markdown",
   "id": "7d3cbc8a",
   "metadata": {},
   "source": [
    "As you can see, only the last value of `x` has been displayed. This is because we are running Python in a Jupyter Notebook, which was designed in such a way, so as to only output the value returned by the expression in the last line of a code cell.\n",
    "\n",
    "However, we can also get Python to display information by using the built-in function `print()`."
   ]
  },
  {
   "cell_type": "code",
   "execution_count": 82,
   "id": "7483719a",
   "metadata": {},
   "outputs": [
    {
     "name": "stdout",
     "output_type": "stream",
     "text": [
      "9\n",
      "10\n",
      "11\n"
     ]
    }
   ],
   "source": [
    "x = x + 1\n",
    "print(x)\n",
    "\n",
    "x = x + 1\n",
    "print(x)\n",
    "\n",
    "x = x + 1\n",
    "print(x)"
   ]
  },
  {
   "cell_type": "markdown",
   "id": "eda09467",
   "metadata": {},
   "source": [
    "As you can see, all three values were displayed one-by-one on new lines. The `print()` function is a special built-in function which displays the value of the argument it receives (in our case `x`). The function is called `print()` because it \"prints\" out the information for us to see. Note that we could also omit the `print()` statement in the last line of the cell because Jupyter Notebooks automatically \"print\" the last line in the code cell."
   ]
  },
  {
   "cell_type": "code",
   "execution_count": 67,
   "id": "bb3327b8",
   "metadata": {},
   "outputs": [
    {
     "name": "stdout",
     "output_type": "stream",
     "text": [
      "12\n",
      "13\n"
     ]
    },
    {
     "data": {
      "text/plain": [
       "14"
      ]
     },
     "execution_count": 67,
     "metadata": {},
     "output_type": "execute_result"
    }
   ],
   "source": [
    "x = x + 1\n",
    "print(x)\n",
    "\n",
    "x = x + 1\n",
    "print(x)\n",
    "\n",
    "x = x + 1\n",
    "x"
   ]
  },
  {
   "cell_type": "markdown",
   "id": "d864151b",
   "metadata": {},
   "source": [
    "Both using `print()` and simply writing an expression in the last line will display the value contained within `x`. The benefit of `print()` is that it works no matter where we place it in our code, provided that the code is executed and not skipped, as in the case of conditional statements:"
   ]
  },
  {
   "cell_type": "code",
   "execution_count": 83,
   "id": "5781ad40",
   "metadata": {},
   "outputs": [
    {
     "name": "stdout",
     "output_type": "stream",
     "text": [
      "x is equal to 5\n"
     ]
    }
   ],
   "source": [
    "x = 5\n",
    "\n",
    "if x == 5:\n",
    "    print(\"x is equal to 5\")\n",
    "else:\n",
    "    print(\"x is not equal to 5\")"
   ]
  },
  {
   "cell_type": "markdown",
   "id": "013741c3",
   "metadata": {},
   "source": [
    "# 2. For Loops <a id='for-loops'></a>\n",
    "\n",
    "As mentioned previously, loops allow us to repeat a block of code multiple times. There are two types of loops in Python:\n",
    "\n",
    "1. \"for\" loops\n",
    "2. \"while\" loops\n",
    "\n",
    "A \"for\" loop performs code once per each element contained within some object that is composed of multiple elements. For example, a string can be thought of as composed of individual characters. Therefore, the string `\"hello\"` can be thought of as composed of the following 5 characters: `\"h\"`, `\"e\"`, `\"l\"`, `\"l\"`, `\"o\"`. This is in fact a property of strings in Python. We can see this if we use the built-in function `len()` (abbreviation for length) to check the length of the string `\"hello\"`:"
   ]
  },
  {
   "cell_type": "code",
   "execution_count": 1,
   "id": "cb6a73e4",
   "metadata": {},
   "outputs": [
    {
     "data": {
      "text/plain": [
       "5"
      ]
     },
     "execution_count": 1,
     "metadata": {},
     "output_type": "execute_result"
    }
   ],
   "source": [
    "len(\"hello\")"
   ]
  },
  {
   "cell_type": "markdown",
   "id": "d0a34519",
   "metadata": {},
   "source": [
    "As can be seen above, the `len()` function returns `5` since there are 5 characters in the string `\"hello\"`. Not all data types are treated as being composed of smaller elements, and therefore using the `len()` function on objects of those data types will result in an error. For example, booleans (`bool`) do not have a length specified by the `len()` function:"
   ]
  },
  {
   "cell_type": "code",
   "execution_count": 63,
   "id": "79b9c1c7",
   "metadata": {
    "scrolled": false
   },
   "outputs": [
    {
     "ename": "TypeError",
     "evalue": "object of type 'bool' has no len()",
     "output_type": "error",
     "traceback": [
      "\u001b[0;31m---------------------------------------------------------------------------\u001b[0m",
      "\u001b[0;31mTypeError\u001b[0m                                 Traceback (most recent call last)",
      "Input \u001b[0;32mIn [63]\u001b[0m, in \u001b[0;36m<cell line: 1>\u001b[0;34m()\u001b[0m\n\u001b[0;32m----> 1\u001b[0m \u001b[38;5;28;43mlen\u001b[39;49m\u001b[43m(\u001b[49m\u001b[38;5;28;43;01mTrue\u001b[39;49;00m\u001b[43m)\u001b[49m\n",
      "\u001b[0;31mTypeError\u001b[0m: object of type 'bool' has no len()"
     ]
    }
   ],
   "source": [
    "len(True)"
   ]
  },
  {
   "cell_type": "markdown",
   "id": "5d5dded2",
   "metadata": {},
   "source": [
    "Similarly, passing an `int` or a `float` to the `len()` function will also result in an error:"
   ]
  },
  {
   "cell_type": "code",
   "execution_count": 87,
   "id": "5df9e744",
   "metadata": {},
   "outputs": [
    {
     "ename": "TypeError",
     "evalue": "object of type 'int' has no len()",
     "output_type": "error",
     "traceback": [
      "\u001b[0;31m---------------------------------------------------------------------------\u001b[0m",
      "\u001b[0;31mTypeError\u001b[0m                                 Traceback (most recent call last)",
      "Input \u001b[0;32mIn [87]\u001b[0m, in \u001b[0;36m<cell line: 1>\u001b[0;34m()\u001b[0m\n\u001b[0;32m----> 1\u001b[0m \u001b[38;5;28;43mlen\u001b[39;49m\u001b[43m(\u001b[49m\u001b[38;5;241;43m5\u001b[39;49m\u001b[43m)\u001b[49m\n",
      "\u001b[0;31mTypeError\u001b[0m: object of type 'int' has no len()"
     ]
    }
   ],
   "source": [
    "len(5)"
   ]
  },
  {
   "cell_type": "code",
   "execution_count": 88,
   "id": "e1ec062e",
   "metadata": {
    "scrolled": false
   },
   "outputs": [
    {
     "ename": "TypeError",
     "evalue": "object of type 'float' has no len()",
     "output_type": "error",
     "traceback": [
      "\u001b[0;31m---------------------------------------------------------------------------\u001b[0m",
      "\u001b[0;31mTypeError\u001b[0m                                 Traceback (most recent call last)",
      "Input \u001b[0;32mIn [88]\u001b[0m, in \u001b[0;36m<cell line: 1>\u001b[0;34m()\u001b[0m\n\u001b[0;32m----> 1\u001b[0m \u001b[38;5;28;43mlen\u001b[39;49m\u001b[43m(\u001b[49m\u001b[38;5;241;43m2.35\u001b[39;49m\u001b[43m)\u001b[49m\n",
      "\u001b[0;31mTypeError\u001b[0m: object of type 'float' has no len()"
     ]
    }
   ],
   "source": [
    "len(2.35)"
   ]
  },
  {
   "cell_type": "markdown",
   "id": "e6382477",
   "metadata": {},
   "source": [
    "Since strings are a data type composed of multiple elements, we can use a for loop to perform some code for each element within a string:"
   ]
  },
  {
   "cell_type": "code",
   "execution_count": 18,
   "id": "a72b69c4",
   "metadata": {
    "scrolled": true
   },
   "outputs": [
    {
     "name": "stdout",
     "output_type": "stream",
     "text": [
      "h\n",
      "e\n",
      "l\n",
      "l\n",
      "o\n"
     ]
    }
   ],
   "source": [
    "for x in \"hello\":\n",
    "    print(x)"
   ]
  },
  {
   "cell_type": "markdown",
   "id": "fec1ba36",
   "metadata": {},
   "source": [
    "In the code cell above, we define our \"for\" loop by using the reserved keywords `for` and `in`, as well as specifying a variable name `x` (this can be any valid variable name we choose) and an object `\"hello\"`, which must be of a data type that is an iterable - meaning it is composed of multiple elements, over which we can iterate.\n",
    "\n",
    "Next, we write a colon `:` and below we indent the code which we want to run for each element in the iterable object specified after the `in` keyword. In the cell above, we specified only one line of code `print(x)` which will run for each element in `\"hello\"`. This line simply prints the element, which is exactly what happened, since each character within `\"hello\"` was printed one-by-one."
   ]
  },
  {
   "cell_type": "markdown",
   "id": "6ac670e1",
   "metadata": {},
   "source": [
    "**Note**: it is also worth mentioning that once Python is done executing a \"for\" loop, the variable used to store the elements contained within an iterable (in our case `x`) takes on the value of the element in the last iteration of the loop (in our case `\"o\"`):"
   ]
  },
  {
   "cell_type": "code",
   "execution_count": 19,
   "id": "9ba5b759",
   "metadata": {},
   "outputs": [
    {
     "data": {
      "text/plain": [
       "'o'"
      ]
     },
     "execution_count": 19,
     "metadata": {},
     "output_type": "execute_result"
    }
   ],
   "source": [
    "x"
   ]
  },
  {
   "cell_type": "markdown",
   "id": "eacd7ef2",
   "metadata": {},
   "source": [
    "We can of course combine loops with functions and conditional statements. Consider the function below, which has two parameters `word` and `letter_to_count`. The function counts the number of times that the argument `letter_to_count` (which should be a `str` with a length of 1) occurs in the argument `word` (which should also be a `str`)."
   ]
  },
  {
   "cell_type": "code",
   "execution_count": 90,
   "id": "29e12a02",
   "metadata": {
    "code_folding": []
   },
   "outputs": [],
   "source": [
    "def count_letter_in_word(word, letter_to_count):\n",
    "    count = 0\n",
    "    \n",
    "    for letter in word:\n",
    "        if letter == letter_to_count:\n",
    "            count = count + 1\n",
    "\n",
    "    return count"
   ]
  },
  {
   "cell_type": "markdown",
   "id": "558e2629",
   "metadata": {},
   "source": [
    "In the above function, we first assign `0` to the variable `count`. Then we use a \"for\" loop to iterate over each character in the string assigned to the variable `word`. During each iteration, the current character is assigned to the variable `letter`. Next, we use a conditional statement to check whether the value stored in `letter` is equivalent to the value passed in as argument `letter_to_count` - if yes, we increment the value of `count` by 1. Finally, we return `count`."
   ]
  },
  {
   "cell_type": "markdown",
   "id": "a8ee98ac",
   "metadata": {},
   "source": [
    "Below are some values returned when running the function with different arguments"
   ]
  },
  {
   "cell_type": "code",
   "execution_count": 91,
   "id": "1c84bda8",
   "metadata": {},
   "outputs": [
    {
     "data": {
      "text/plain": [
       "2"
      ]
     },
     "execution_count": 91,
     "metadata": {},
     "output_type": "execute_result"
    }
   ],
   "source": [
    "count_letter_in_word(\"giraffe\", \"f\")"
   ]
  },
  {
   "cell_type": "code",
   "execution_count": 92,
   "id": "315477e1",
   "metadata": {},
   "outputs": [
    {
     "data": {
      "text/plain": [
       "1"
      ]
     },
     "execution_count": 92,
     "metadata": {},
     "output_type": "execute_result"
    }
   ],
   "source": [
    "count_letter_in_word(\"giraffe\", \"a\")"
   ]
  },
  {
   "cell_type": "code",
   "execution_count": 93,
   "id": "2f35e20d",
   "metadata": {},
   "outputs": [
    {
     "data": {
      "text/plain": [
       "0"
      ]
     },
     "execution_count": 93,
     "metadata": {},
     "output_type": "execute_result"
    }
   ],
   "source": [
    "count_letter_in_word(\"giraffe\", \"z\")"
   ]
  },
  {
   "cell_type": "markdown",
   "id": "b026e4a6",
   "metadata": {},
   "source": [
    "We can also modify the `count_letter_in_word()` function by adding multiple `print()` statements in the \"for\" loop, in order to have a better idea of what is going on in the function during its execution."
   ]
  },
  {
   "cell_type": "code",
   "execution_count": 94,
   "id": "1b1b8aed",
   "metadata": {},
   "outputs": [],
   "source": [
    "def count_letter_in_word(word, letter_to_count):\n",
    "    count = 0\n",
    "    \n",
    "    for letter in word:\n",
    "        if letter == letter_to_count:\n",
    "            count = count + 1\n",
    "        \n",
    "        print(\"*\" * 10)\n",
    "        print(\"letter: \" + letter)\n",
    "        print(\"count: \" + str(count))\n",
    "\n",
    "    return count"
   ]
  },
  {
   "cell_type": "code",
   "execution_count": 95,
   "id": "400b8eb6",
   "metadata": {
    "scrolled": true
   },
   "outputs": [
    {
     "name": "stdout",
     "output_type": "stream",
     "text": [
      "**********\n",
      "letter: h\n",
      "count: 0\n",
      "**********\n",
      "letter: e\n",
      "count: 0\n",
      "**********\n",
      "letter: l\n",
      "count: 1\n",
      "**********\n",
      "letter: l\n",
      "count: 2\n",
      "**********\n",
      "letter: o\n",
      "count: 2\n"
     ]
    },
    {
     "data": {
      "text/plain": [
       "2"
      ]
     },
     "execution_count": 95,
     "metadata": {},
     "output_type": "execute_result"
    }
   ],
   "source": [
    "count_letter_in_word(\"hello\", \"l\")"
   ]
  },
  {
   "cell_type": "markdown",
   "id": "a82c4872",
   "metadata": {},
   "source": [
    "The `print()` function is useful in this way, as it allows to inspect our programs, which allows us to better understand what's going on. In the example above, we can clearly see when the `count` variable is incremented and therefore we can confirm that the program is indeed working as we expect it to. "
   ]
  },
  {
   "cell_type": "markdown",
   "id": "78248c52",
   "metadata": {},
   "source": [
    "# 3. Iterables and iterators <a id='iterables-and-iterators'></a>"
   ]
  },
  {
   "cell_type": "markdown",
   "id": "379c353c",
   "metadata": {},
   "source": [
    "As mentioned previously, the \"for\" loop can be used with an object that is an iterable, such as a string. But what does it mean exactly for an object to be an iterable? In Python, an iterable is an object which returns an \"iterator\" when it is passed in as an argument to the built-in `iter()` function, like so:"
   ]
  },
  {
   "cell_type": "code",
   "execution_count": 1,
   "id": "cf285090",
   "metadata": {},
   "outputs": [],
   "source": [
    "iterator = iter(\"hey!\")"
   ]
  },
  {
   "cell_type": "markdown",
   "id": "5e6ea5d1",
   "metadata": {},
   "source": [
    "Now, what is an iterator? An iterator is a type of object that can be passed into the built-in function `next()`. The `next()` function simply returns the next element contained within the iterator that it received as an argument."
   ]
  },
  {
   "cell_type": "code",
   "execution_count": 2,
   "id": "41c062cc",
   "metadata": {},
   "outputs": [
    {
     "data": {
      "text/plain": [
       "'h'"
      ]
     },
     "execution_count": 2,
     "metadata": {},
     "output_type": "execute_result"
    }
   ],
   "source": [
    "next(iterator)"
   ]
  },
  {
   "cell_type": "code",
   "execution_count": 3,
   "id": "ae97a2f0",
   "metadata": {
    "scrolled": true
   },
   "outputs": [
    {
     "data": {
      "text/plain": [
       "'e'"
      ]
     },
     "execution_count": 3,
     "metadata": {},
     "output_type": "execute_result"
    }
   ],
   "source": [
    "next(iterator)"
   ]
  },
  {
   "cell_type": "code",
   "execution_count": 4,
   "id": "7fe2f363",
   "metadata": {},
   "outputs": [
    {
     "data": {
      "text/plain": [
       "'y'"
      ]
     },
     "execution_count": 4,
     "metadata": {},
     "output_type": "execute_result"
    }
   ],
   "source": [
    "next(iterator)"
   ]
  },
  {
   "cell_type": "code",
   "execution_count": 5,
   "id": "2f75c342",
   "metadata": {},
   "outputs": [
    {
     "data": {
      "text/plain": [
       "'!'"
      ]
     },
     "execution_count": 5,
     "metadata": {},
     "output_type": "execute_result"
    }
   ],
   "source": [
    "next(iterator)"
   ]
  },
  {
   "cell_type": "code",
   "execution_count": 6,
   "id": "b38901df",
   "metadata": {
    "scrolled": true
   },
   "outputs": [
    {
     "ename": "StopIteration",
     "evalue": "",
     "output_type": "error",
     "traceback": [
      "\u001b[0;31m---------------------------------------------------------------------------\u001b[0m",
      "\u001b[0;31mStopIteration\u001b[0m                             Traceback (most recent call last)",
      "Input \u001b[0;32mIn [6]\u001b[0m, in \u001b[0;36m<cell line: 1>\u001b[0;34m()\u001b[0m\n\u001b[0;32m----> 1\u001b[0m \u001b[38;5;28;43mnext\u001b[39;49m\u001b[43m(\u001b[49m\u001b[43miterator\u001b[49m\u001b[43m)\u001b[49m\n",
      "\u001b[0;31mStopIteration\u001b[0m: "
     ]
    }
   ],
   "source": [
    "next(iterator)"
   ]
  },
  {
   "cell_type": "markdown",
   "id": "e57c975d",
   "metadata": {},
   "source": [
    "If we call the `next()` function too many times, we will get an error. This is because once we have iterated through all of the elements contained within an iterator, there are no more elements to iterate through. Instead of remembering to call `iter()` and then `next()`, we can simply use \"for\" loops which enable us to use a simpler and more natural expression `for character in string`:"
   ]
  },
  {
   "cell_type": "code",
   "execution_count": 7,
   "id": "12f349be",
   "metadata": {
    "scrolled": true
   },
   "outputs": [
    {
     "name": "stdout",
     "output_type": "stream",
     "text": [
      "h\n",
      "e\n",
      "y\n",
      "!\n"
     ]
    }
   ],
   "source": [
    "for character in \"hey!\":\n",
    "    print(character)"
   ]
  },
  {
   "cell_type": "markdown",
   "id": "06b1f005",
   "metadata": {},
   "source": [
    "Aside from strings, there are other types of iterables in Python. For example, the built-in `range()` function returns an object of data type `range`, which is an iterable. In Python, the `range` object is a an object that represents a range of numbers over which we can iterate. Therefore when we call the `range()` function, we pass in two integers (`int`) as arguments to specify the range."
   ]
  },
  {
   "cell_type": "code",
   "execution_count": 71,
   "id": "e63bd0d0",
   "metadata": {},
   "outputs": [
    {
     "name": "stdout",
     "output_type": "stream",
     "text": [
      "0\n",
      "1\n",
      "2\n",
      "3\n"
     ]
    }
   ],
   "source": [
    "for i in range(0, 4):\n",
    "    print(i)"
   ]
  },
  {
   "cell_type": "markdown",
   "id": "cab156c0",
   "metadata": {},
   "source": [
    "Notice that the first argument specifies the beginning of the range in a manner that includes the number specified, whereas the value of the second argument, which indicates the end of the range, is excluded from the actual range of numbers."
   ]
  },
  {
   "cell_type": "markdown",
   "id": "2df53317",
   "metadata": {},
   "source": [
    "It is also possible to pass in only one integer into the `range()` function, in which case Python assumes that that number represents the upper end of the range, while the beginning of the range starts from 0. Therefore, the code in the cell below is equivalent to the code in the cell above:"
   ]
  },
  {
   "cell_type": "code",
   "execution_count": 13,
   "id": "09754b09",
   "metadata": {},
   "outputs": [
    {
     "name": "stdout",
     "output_type": "stream",
     "text": [
      "0\n",
      "1\n",
      "2\n",
      "3\n"
     ]
    }
   ],
   "source": [
    "for i in range(4):\n",
    "    print(i)"
   ]
  },
  {
   "cell_type": "markdown",
   "id": "b1910f0b",
   "metadata": {},
   "source": [
    "Below are some more examples of the `range()` function:"
   ]
  },
  {
   "cell_type": "code",
   "execution_count": 14,
   "id": "5658da2f",
   "metadata": {},
   "outputs": [
    {
     "name": "stdout",
     "output_type": "stream",
     "text": [
      "-3\n",
      "-2\n",
      "-1\n"
     ]
    }
   ],
   "source": [
    "for i in range(-3, 0):\n",
    "    print(i)"
   ]
  },
  {
   "cell_type": "code",
   "execution_count": 15,
   "id": "9ed9517c",
   "metadata": {},
   "outputs": [
    {
     "name": "stdout",
     "output_type": "stream",
     "text": [
      "94\n",
      "95\n",
      "96\n",
      "97\n",
      "98\n"
     ]
    }
   ],
   "source": [
    "for i in range(94, 99):\n",
    "    print(i)"
   ]
  },
  {
   "cell_type": "code",
   "execution_count": 16,
   "id": "c560482c",
   "metadata": {},
   "outputs": [
    {
     "name": "stdout",
     "output_type": "stream",
     "text": [
      "0\n",
      "1\n"
     ]
    }
   ],
   "source": [
    "for i in range(2):\n",
    "    print(i)"
   ]
  },
  {
   "cell_type": "markdown",
   "id": "c03acf03",
   "metadata": {},
   "source": [
    "# 4. While Loops <a id='while-loops'></a>\n",
    "\n",
    "\"While\" loops allow us to keep repeating a block of code as long as a logical condition is satisfied. Here is an example of a while loop:"
   ]
  },
  {
   "cell_type": "code",
   "execution_count": 5,
   "id": "2face84f",
   "metadata": {},
   "outputs": [
    {
     "name": "stdout",
     "output_type": "stream",
     "text": [
      "the loop ran 3 times\n"
     ]
    }
   ],
   "source": [
    "x = 0\n",
    "\n",
    "while x < 3:\n",
    "    x = x + 1\n",
    "\n",
    "print(\"the loop ran \" + str(x) + \" times\")"
   ]
  },
  {
   "cell_type": "markdown",
   "id": "3937d5ff",
   "metadata": {},
   "source": [
    "In the code cell above, we first assign `0` to the variable `x`. Next we define the start of a \"while\" loop with the use of the reserved keyword `while`, followed by a logical expression (`x < 3`) and a colon `:`. Next we indent the code which belongs to the \"while\" loop. The indented code will be ran repeatedly as long as the logical expression `x < 3` returns the value `True`. The logical expression will also be evaluated repeatedly, every time after the indented code has been executed.\n",
    "\n",
    "Therefore, when we run the above code and Python reaches line 3 for the first time (where the \"while\" loop definition begins), it checks the current value of `x` (which is `0`) and evaluates the logical expression `x < 3`, which returns `True`. Next, the indented block of code belonging to the \"while\" loop will be executed once. After all of the indented code is executed (in our case only one line), Python returns to the top of the \"while\" loop to evaluate the logical expression again, which is contained within the `while` statement. If the logical expression returns `True`, the whole process is repeated, whereas if the logical expression returns `False`, Python skips the code in the \"while\" loop and executes the next line of code, which in our case is a call to the `print()` function (line 6).\n",
    "\n",
    "Therefore, in the case of the code in the cell above, the loop is ran 3 times and the whole iteration process can be described in the following way:\n",
    "\n",
    "* **iteration 1:** `x < 3 = True` | `x = 0` (code in loop will run)\n",
    "* **iteration 2:** `x < 3 = True` | `x = 1` (code in loop will run)\n",
    "* **iteration 3:** `x < 3 = True` | `x = 2` (code in loop will run)\n",
    "* **iteration 4:** `x < 3 = False`| `x = 3` (code in loop will **not** run)\n",
    "\n",
    "Once Python reaches iteration 4, the logical expression returns `False` and the code in the loop will not be ran. Therefore, it can be said that the loop had 3 iterations. It is important to note that if the logical expression would return `False` on the first iteration, then the code in the \"while\" loop would not be ran at all."
   ]
  },
  {
   "cell_type": "markdown",
   "id": "a4038fa9",
   "metadata": {},
   "source": [
    "\n",
    "Below is an example of a function called `is_prime()` which checks whether the argument `x` is a prime number. \n",
    "\n",
    "**Note**: the function returns `False` for any number less than two, including negative numbers. "
   ]
  },
  {
   "cell_type": "code",
   "execution_count": 60,
   "id": "954a515e",
   "metadata": {
    "code_folding": []
   },
   "outputs": [],
   "source": [
    "def is_prime(x):\n",
    "    \n",
    "    if x <= 1:\n",
    "        prime = False\n",
    "    else:\n",
    "        prime = True\n",
    "    \n",
    "    i = 2\n",
    "    while prime and i < x:\n",
    "        if x % i == 0:\n",
    "            prime = False\n",
    "        i = i + 1\n",
    "    \n",
    "    return prime       "
   ]
  },
  {
   "cell_type": "markdown",
   "id": "4e23e232",
   "metadata": {},
   "source": [
    "In the function above, we first check whether `x` is smaller or equal to `1`. If this logical expression (`x <= 1`) returns `True`, we assign the value `False` to the variable `prime`. In this case, the code in the \"while\" loop below will not get executed, since one of the conditions of the \"while\" loop is for `prime` to be `True`. Therefore, if `x` is equal to or smaller than `1`, the function will return `False` without running the \"while\" loop.\n",
    "\n",
    "If `x` is equal to `2`, the variable `prime` will initially have the value `True` assigned to it; however, the \"while\" loop will also not get executed, because the other logical condition of the \"while\" loop `i < x` will not be satisfied, since variable `i` is assigned the value `2`. As a reminder, the `and` logical operator returns `False` if one or both of the logical expressions it combines return `False`.\n",
    "\n",
    "On the other hand, if `x` is greater than `2`, the code in the \"while\" loop will be executed one or more times, depending on the value of `x`. In this case, we first assign `True` to variable `prime`, in a way assuming that `x` is prime. Next, we use the \"while\" loop to try to disprove this assumption by searching for a number which divides `x` without a remainder. We do this by using the modulo `%` operator to see if the expression `x % i` returns `0`. If it does, we assign the value `False` to the variable `prime` which will cause the loop to exit before the next iteration. Alternatively, the loop runs until `i < x` returns `False`, at which point it will stop. If no divisor of `x` (which does not produce a remainder) is found until then, the variable `prime` will retain the `True` value assigned to it before the loop. And thus, the function returns `True`."
   ]
  },
  {
   "cell_type": "code",
   "execution_count": 61,
   "id": "46a7cceb",
   "metadata": {},
   "outputs": [
    {
     "data": {
      "text/plain": [
       "False"
      ]
     },
     "execution_count": 61,
     "metadata": {},
     "output_type": "execute_result"
    }
   ],
   "source": [
    "is_prime(-7)"
   ]
  },
  {
   "cell_type": "code",
   "execution_count": 62,
   "id": "2467caa2",
   "metadata": {
    "scrolled": true
   },
   "outputs": [
    {
     "data": {
      "text/plain": [
       "False"
      ]
     },
     "execution_count": 62,
     "metadata": {},
     "output_type": "execute_result"
    }
   ],
   "source": [
    "is_prime(1)"
   ]
  },
  {
   "cell_type": "code",
   "execution_count": 63,
   "id": "c87ba92b",
   "metadata": {},
   "outputs": [
    {
     "data": {
      "text/plain": [
       "True"
      ]
     },
     "execution_count": 63,
     "metadata": {},
     "output_type": "execute_result"
    }
   ],
   "source": [
    "is_prime(2)"
   ]
  },
  {
   "cell_type": "code",
   "execution_count": 64,
   "id": "e36241cb",
   "metadata": {},
   "outputs": [
    {
     "data": {
      "text/plain": [
       "True"
      ]
     },
     "execution_count": 64,
     "metadata": {},
     "output_type": "execute_result"
    }
   ],
   "source": [
    "is_prime(7)"
   ]
  },
  {
   "cell_type": "code",
   "execution_count": 65,
   "id": "1341d560",
   "metadata": {
    "scrolled": true
   },
   "outputs": [
    {
     "data": {
      "text/plain": [
       "True"
      ]
     },
     "execution_count": 65,
     "metadata": {},
     "output_type": "execute_result"
    }
   ],
   "source": [
    "is_prime(468421)"
   ]
  },
  {
   "cell_type": "code",
   "execution_count": 66,
   "id": "7d8c7cbe",
   "metadata": {},
   "outputs": [
    {
     "data": {
      "text/plain": [
       "False"
      ]
     },
     "execution_count": 66,
     "metadata": {},
     "output_type": "execute_result"
    }
   ],
   "source": [
    "is_prime(468422)"
   ]
  },
  {
   "cell_type": "markdown",
   "id": "fb204962",
   "metadata": {},
   "source": [
    "# 5. Continue and break <a id='continue-and-break'></a>"
   ]
  },
  {
   "cell_type": "markdown",
   "id": "2c97c5b6",
   "metadata": {},
   "source": [
    "It is possible to modify the behaviour of loops with the reserved keywords `continue` and `break`.\n",
    "\n",
    "For example, when Python sees the `continue` keyword, it will stop the execution of code in the current loop iteration and skip to the next iteration:"
   ]
  },
  {
   "cell_type": "code",
   "execution_count": 67,
   "id": "80b8a15b",
   "metadata": {},
   "outputs": [
    {
     "name": "stdout",
     "output_type": "stream",
     "text": [
      "0\n",
      "1\n",
      "3\n"
     ]
    }
   ],
   "source": [
    "for i in range(4):\n",
    "    if i == 2:\n",
    "        continue\n",
    "    print(i)"
   ]
  },
  {
   "cell_type": "markdown",
   "id": "3e64eeb3",
   "metadata": {},
   "source": [
    "On the other hand, if Python encounters the `break` keyword, it stops the execution of the code within the loop and exits the loop completely."
   ]
  },
  {
   "cell_type": "code",
   "execution_count": 68,
   "id": "2dd9bf29",
   "metadata": {
    "scrolled": true
   },
   "outputs": [
    {
     "name": "stdout",
     "output_type": "stream",
     "text": [
      "0\n",
      "1\n"
     ]
    }
   ],
   "source": [
    "for i in range(4):\n",
    "    if i == 2:\n",
    "        break\n",
    "    print(i)"
   ]
  },
  {
   "cell_type": "markdown",
   "id": "fee879dd",
   "metadata": {},
   "source": [
    "As we can see, once `i` is equal to `2`, Python exits the loop and the remaining iterations are not performed. The `continue` and `break` statements can be used in both \"for\" and \"while\" loops"
   ]
  },
  {
   "cell_type": "markdown",
   "id": "03570ea6",
   "metadata": {},
   "source": [
    "There are various situations in which the `break` and `continue` statements can be useful. For example, we could rewrite the `is_prime()` function defined earlier using a \"for\" loop and a `break` statement."
   ]
  },
  {
   "cell_type": "code",
   "execution_count": 69,
   "id": "563782d4",
   "metadata": {},
   "outputs": [],
   "source": [
    "def is_prime_2(x):\n",
    "    \n",
    "    if x <= 1:\n",
    "        prime = False\n",
    "    else:\n",
    "        prime = True\n",
    "    \n",
    "    for i in range(2, x):\n",
    "        if x % i == 0:\n",
    "            prime = False\n",
    "            break\n",
    "    \n",
    "    return prime "
   ]
  },
  {
   "cell_type": "code",
   "execution_count": 70,
   "id": "3b666082",
   "metadata": {},
   "outputs": [
    {
     "data": {
      "text/plain": [
       "True"
      ]
     },
     "execution_count": 70,
     "metadata": {},
     "output_type": "execute_result"
    }
   ],
   "source": [
    "is_prime(468421) == is_prime_2(468421)"
   ]
  }
 ],
 "metadata": {
  "kernelspec": {
   "display_name": "Python 3 (ipykernel)",
   "language": "python",
   "name": "python3"
  },
  "language_info": {
   "codemirror_mode": {
    "name": "ipython",
    "version": 3
   },
   "file_extension": ".py",
   "mimetype": "text/x-python",
   "name": "python",
   "nbconvert_exporter": "python",
   "pygments_lexer": "ipython3",
   "version": "3.8.10"
  }
 },
 "nbformat": 4,
 "nbformat_minor": 5
}
