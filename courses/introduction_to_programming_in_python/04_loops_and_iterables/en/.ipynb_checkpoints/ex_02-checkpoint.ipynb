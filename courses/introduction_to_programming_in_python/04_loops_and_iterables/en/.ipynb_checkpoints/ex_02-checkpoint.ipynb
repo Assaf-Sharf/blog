{
 "cells": [
  {
   "cell_type": "markdown",
   "id": "50c561a5",
   "metadata": {},
   "source": [
    "### Exercise 2 (2.5 points)\n",
    "\n",
    "Zdefiniuj funkcję o nazwie `sum_odd`, która ma dwa parametry `start` i `stop`. Funkcja oblicza sumę wszystkich liczb **nieparzystych** w zakresie określonym przez argumenty `start` i `stop`. Liczba całkowita przekazana jako argument `start` powinna być zawarta w przedziale, natomiast liczba całkowita `stop` powinna być z niego wykluczona.\n",
    "\n",
    "Przykładowe wartości, które powinny być zwrócone przez funkcję:\n",
    "1. `sum_odd(0, 10) -> 25`.\n",
    "2. `sum_odd(24, 68) -> 1012`.\n",
    "3. `sum_odd(4, 5) -> 0`"
   ]
  },
  {
   "cell_type": "code",
   "execution_count": 11,
   "id": "87df2c8d",
   "metadata": {},
   "outputs": [],
   "source": [
    "def sum_odd(start, stop):\n",
    "\n",
    "    return"
   ]
  },
  {
   "cell_type": "code",
   "execution_count": null,
   "id": "00e37106",
   "metadata": {},
   "outputs": [],
   "source": [
    "sum_odd(24, 68)"
   ]
  }
 ],
 "metadata": {
  "kernelspec": {
   "display_name": "Python 3 (ipykernel)",
   "language": "python",
   "name": "python3"
  },
  "language_info": {
   "codemirror_mode": {
    "name": "ipython",
    "version": 3
   },
   "file_extension": ".py",
   "mimetype": "text/x-python",
   "name": "python",
   "nbconvert_exporter": "python",
   "pygments_lexer": "ipython3",
   "version": "3.9.13"
  }
 },
 "nbformat": 4,
 "nbformat_minor": 5
}
