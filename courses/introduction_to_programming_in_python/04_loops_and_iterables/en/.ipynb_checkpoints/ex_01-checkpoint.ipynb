{
 "cells": [
  {
   "cell_type": "markdown",
   "id": "50c561a5",
   "metadata": {},
   "source": [
    "### Zadanie 1 (2.5 points)\n",
    "\n",
    "Zdefiniuj funkcję `count_zeros`, która ma jeden parametr `number`. Funkcja zwraca liczbę zer w wartości przekazanej jako argument `number`. Argument `number` może być typu `str`, `float`, lub `int`.\n",
    "\n",
    "Przykładowe wartości, które powinny być zwrócone przez funkcję:\n",
    "1. `count_zeros(105) -> 1`.\n",
    "2. `count_zeros(\"9070\") -> 2`\n",
    "3. `count_zeros(0,0012) -> 3`\n",
    "\n",
    "**Uwaga:** wartość zwrócona przez funkcję powinna być typu `int`."
   ]
  },
  {
   "cell_type": "code",
   "execution_count": 7,
   "id": "87df2c8d",
   "metadata": {},
   "outputs": [],
   "source": [
    "def count_zeros(number):\n",
    "    \n",
    "    return    "
   ]
  },
  {
   "cell_type": "code",
   "execution_count": 8,
   "id": "00e37106",
   "metadata": {},
   "outputs": [],
   "source": [
    "count_zeros(0.0012)"
   ]
  }
 ],
 "metadata": {
  "kernelspec": {
   "display_name": "Python 3 (ipykernel)",
   "language": "python",
   "name": "python3"
  },
  "language_info": {
   "codemirror_mode": {
    "name": "ipython",
    "version": 3
   },
   "file_extension": ".py",
   "mimetype": "text/x-python",
   "name": "python",
   "nbconvert_exporter": "python",
   "pygments_lexer": "ipython3",
   "version": "3.9.13"
  }
 },
 "nbformat": 4,
 "nbformat_minor": 5
}
