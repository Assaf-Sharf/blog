{
 "cells": [
  {
   "cell_type": "markdown",
   "id": "50c561a5",
   "metadata": {},
   "source": [
    "### Exercise 2 (2.5 points)\n",
    "\n",
    "Define a function called `sum_odd` which has two parameters `start` and `stop`. The function calculates the sum of all **odd** numbers in the range specified by arguments `start` and `stop`. The integer passed in as argument `start` should be included in the range, while the integer `stop` should be excluded from the range.\n",
    "\n",
    "Therefore, the following function calls should produce the following outputs:\n",
    "1. `sum_odd(0, 10) -> 25`\n",
    "2. `sum_odd(24, 68) -> 1012`\n",
    "3. `sum_odd(4, 5) -> 0`"
   ]
  },
  {
   "cell_type": "code",
   "execution_count": 11,
   "id": "87df2c8d",
   "metadata": {},
   "outputs": [],
   "source": [
    "def sum_odd(start, stop):\n",
    "\n",
    "    return"
   ]
  },
  {
   "cell_type": "code",
   "execution_count": null,
   "id": "00e37106",
   "metadata": {},
   "outputs": [],
   "source": [
    "sum_odd(24, 68)"
   ]
  }
 ],
 "metadata": {
  "kernelspec": {
   "display_name": "Python 3 (ipykernel)",
   "language": "python",
   "name": "python3"
  },
  "language_info": {
   "codemirror_mode": {
    "name": "ipython",
    "version": 3
   },
   "file_extension": ".py",
   "mimetype": "text/x-python",
   "name": "python",
   "nbconvert_exporter": "python",
   "pygments_lexer": "ipython3",
   "version": "3.8.10"
  }
 },
 "nbformat": 4,
 "nbformat_minor": 5
}
