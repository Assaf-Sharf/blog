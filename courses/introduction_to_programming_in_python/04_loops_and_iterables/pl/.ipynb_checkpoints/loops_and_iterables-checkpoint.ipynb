{
 "cells": [
  {
   "cell_type": "markdown",
   "id": "a638d770",
   "metadata": {},
   "source": [
    "## Sections:\n",
    "\n",
    "1. [Funckja print](#funckja-print)\n",
    "2. [Pętla \"for\"](#pętla-for)\n",
    "3. [Iteratory](#iteratory)\n",
    "4. [Pętla \"while](#pętla-while)\n",
    "5. [Słowa \"continue\" i \"break\"](#słowa-continue-i-break)"
   ]
  },
  {
   "cell_type": "markdown",
   "id": "eba46400",
   "metadata": {},
   "source": [
    "# 1. Funckja print <a id='funckja-print'></a>\n",
    "\n",
    "W tym module dowiesz się jak tworzyć pętle w Pythonie, które służą do wielokrotnego powtarzania instukcji. Aby zrozumieć pętle, przydatna jest możliwość wielokrotnego wyświetlania informacji w różnych momentach, podczas wykonywania naszego programu. Do tej pory, gdy chcieliśmy wyświetlić wartość zwróconą przez wyrażenie, po prostu wpisywaliśmy to wyrażenie w ostatniej linii, np. tak:"
   ]
  },
  {
   "cell_type": "code",
   "execution_count": 1,
   "id": "780150e5",
   "metadata": {},
   "outputs": [
    {
     "data": {
      "text/plain": [
       "5"
      ]
     },
     "execution_count": 1,
     "metadata": {},
     "output_type": "execute_result"
    }
   ],
   "source": [
    "x = 5\n",
    "x"
   ]
  },
  {
   "cell_type": "markdown",
   "id": "aa79ac37",
   "metadata": {},
   "source": [
    "Jak widzimy powyżej, Python wyświetla wartość `5`, czyli wartość, którą przypisaliśmy do `x` w linii 1. Co jednak, jeśli chcielibyśmy zmienić wartość `x` wielokrotnie, i co jeśli chcielibyśmy mieć podgląd wartości `x` za każdym razem gdy ją zmienimy? Można by się pokusić o napisanie następującego kodu:"
   ]
  },
  {
   "cell_type": "code",
   "execution_count": 2,
   "id": "a5c95600",
   "metadata": {
    "scrolled": true
   },
   "outputs": [
    {
     "data": {
      "text/plain": [
       "8"
      ]
     },
     "execution_count": 2,
     "metadata": {},
     "output_type": "execute_result"
    }
   ],
   "source": [
    "x = x + 1\n",
    "x\n",
    "\n",
    "x = x + 1\n",
    "x\n",
    "\n",
    "x = x + 1\n",
    "x"
   ]
  },
  {
   "cell_type": "markdown",
   "id": "7d3cbc8a",
   "metadata": {},
   "source": [
    "Jak widać, wyświetlona została tylko ostatnia wartość `x`. Dzieje się tak dlatego, że uruchamiamy Pythona w programie Jupyter Notebook, który został zaprojektowany w taki sposób, aby wyprowadzać tylko wartość zwracaną przez wyrażenie w ostatniej linii komórki kodu.\n",
    "\n",
    "Możemy jednak również sprawić, aby Python wyświetlił informacji za pomocą wbudowanej funkcji `print()`."
   ]
  },
  {
   "cell_type": "code",
   "execution_count": 82,
   "id": "7483719a",
   "metadata": {},
   "outputs": [
    {
     "name": "stdout",
     "output_type": "stream",
     "text": [
      "9\n",
      "10\n",
      "11\n"
     ]
    }
   ],
   "source": [
    "x = x + 1\n",
    "print(x)\n",
    "\n",
    "x = x + 1\n",
    "print(x)\n",
    "\n",
    "x = x + 1\n",
    "print(x)"
   ]
  },
  {
   "cell_type": "markdown",
   "id": "eda09467",
   "metadata": {},
   "source": [
    "Jak widać, wszystkie trzy wartości zostały wyświetlone jedna po drugiej na oddzielnych liniach. Funkcja `print()` jest wbudowaną funkcją, która wyświetla wartość otrzymanego przez nią argumentu (w naszym przypadku `x`). Funkcja nazywa się `print()`, ponieważ \"drukuje\" informacje dla nas do podglądu. Zauważ, że moglibyśmy również pominąć deklarację `print()` w ostatniej linijce, ponieważ Jupyter Notebooks automatycznie \"drukuje\" ostatnią linijkę w komórce kodu."
   ]
  },
  {
   "cell_type": "code",
   "execution_count": 67,
   "id": "bb3327b8",
   "metadata": {},
   "outputs": [
    {
     "name": "stdout",
     "output_type": "stream",
     "text": [
      "12\n",
      "13\n"
     ]
    },
    {
     "data": {
      "text/plain": [
       "14"
      ]
     },
     "execution_count": 67,
     "metadata": {},
     "output_type": "execute_result"
    }
   ],
   "source": [
    "x = x + 1\n",
    "print(x)\n",
    "\n",
    "x = x + 1\n",
    "print(x)\n",
    "\n",
    "x = x + 1\n",
    "x"
   ]
  },
  {
   "cell_type": "markdown",
   "id": "d864151b",
   "metadata": {},
   "source": [
    "Zarówno użycie `print()` jak i po prostu napisanie wyrażenia w ostatniej linijce wyświetli wartość zawartą w `x`. Zaletą `print()` jest to, że działa bez względu na to, gdzie wywołamy to funkcję w naszym kodzie, pod warunkiem, że kod zostanie wykonany, a nie pominięty, jak w przypadku instrukcji warunkowych:"
   ]
  },
  {
   "cell_type": "code",
   "execution_count": 83,
   "id": "5781ad40",
   "metadata": {},
   "outputs": [
    {
     "name": "stdout",
     "output_type": "stream",
     "text": [
      "x is equal to 5\n"
     ]
    }
   ],
   "source": [
    "x = 5\n",
    "\n",
    "if x == 5:\n",
    "    print(\"x is equal to 5\")\n",
    "else:\n",
    "    print(\"x is not equal to 5\")"
   ]
  },
  {
   "cell_type": "markdown",
   "id": "013741c3",
   "metadata": {},
   "source": [
    "# 2. Pętla \"for\" <a id='pętla-for'></a>\n",
    "\n",
    "Jak wspomniano wcześniej, pętle pozwalają nam na wielokrotne powtarzanie instrukcji. W Pythonie istnieją dwa rodzaje pętli:\n",
    "\n",
    "1. Pętle \"for\"\n",
    "2. Pętle \"while\"\n",
    "\n",
    "Pętla \"for\" wykonuje instrukcje tyle razy ile jest elementów zawartych w jakimś obiekcie, który składa się z wielu elementów. Na przykład, o tekst zawarty w stringu jest złożony z pojedynczych znaków. A więc, string `\"hello\"` składa się z następujących 5 znaków: `\"h\"`, `\"e\"`, `\"l\"`, `\"l\"`, `\"o\"`. Możemy się o tym przekonać, jeśli użyjemy wbudowanej funkcji `len()` (skrót od length) do sprawdzenia długości stringu `\"hello\"`:"
   ]
  },
  {
   "cell_type": "code",
   "execution_count": 1,
   "id": "cb6a73e4",
   "metadata": {},
   "outputs": [
    {
     "data": {
      "text/plain": [
       "5"
      ]
     },
     "execution_count": 1,
     "metadata": {},
     "output_type": "execute_result"
    }
   ],
   "source": [
    "len(\"hello\")"
   ]
  },
  {
   "cell_type": "markdown",
   "id": "d0a34519",
   "metadata": {},
   "source": [
    "Jak widać powyżej, funkcja `len()` zwraca `5`, ponieważ w stringu `\"hello\"` znajduje się 5 znaków. Nie wszystkie typy danych są traktowane jako złożone z mniejszych elementów, dlatego użycie funkcji `len()` na obiektach tych typów danych spowoduje błąd. Na przykład, obiekty typu `bool` nie mają długości określonej przez funkcję `len()`:"
   ]
  },
  {
   "cell_type": "code",
   "execution_count": 63,
   "id": "79b9c1c7",
   "metadata": {
    "scrolled": false
   },
   "outputs": [
    {
     "ename": "TypeError",
     "evalue": "object of type 'bool' has no len()",
     "output_type": "error",
     "traceback": [
      "\u001b[0;31m---------------------------------------------------------------------------\u001b[0m",
      "\u001b[0;31mTypeError\u001b[0m                                 Traceback (most recent call last)",
      "Input \u001b[0;32mIn [63]\u001b[0m, in \u001b[0;36m<cell line: 1>\u001b[0;34m()\u001b[0m\n\u001b[0;32m----> 1\u001b[0m \u001b[38;5;28;43mlen\u001b[39;49m\u001b[43m(\u001b[49m\u001b[38;5;28;43;01mTrue\u001b[39;49;00m\u001b[43m)\u001b[49m\n",
      "\u001b[0;31mTypeError\u001b[0m: object of type 'bool' has no len()"
     ]
    }
   ],
   "source": [
    "len(True)"
   ]
  },
  {
   "cell_type": "markdown",
   "id": "5d5dded2",
   "metadata": {},
   "source": [
    "Podobnie przekazanie obiektu typu `int` lub `float` do funkcji `len()` również spowoduje błąd:"
   ]
  },
  {
   "cell_type": "code",
   "execution_count": 87,
   "id": "5df9e744",
   "metadata": {},
   "outputs": [
    {
     "ename": "TypeError",
     "evalue": "object of type 'int' has no len()",
     "output_type": "error",
     "traceback": [
      "\u001b[0;31m---------------------------------------------------------------------------\u001b[0m",
      "\u001b[0;31mTypeError\u001b[0m                                 Traceback (most recent call last)",
      "Input \u001b[0;32mIn [87]\u001b[0m, in \u001b[0;36m<cell line: 1>\u001b[0;34m()\u001b[0m\n\u001b[0;32m----> 1\u001b[0m \u001b[38;5;28;43mlen\u001b[39;49m\u001b[43m(\u001b[49m\u001b[38;5;241;43m5\u001b[39;49m\u001b[43m)\u001b[49m\n",
      "\u001b[0;31mTypeError\u001b[0m: object of type 'int' has no len()"
     ]
    }
   ],
   "source": [
    "len(5)"
   ]
  },
  {
   "cell_type": "code",
   "execution_count": 88,
   "id": "e1ec062e",
   "metadata": {
    "scrolled": false
   },
   "outputs": [
    {
     "ename": "TypeError",
     "evalue": "object of type 'float' has no len()",
     "output_type": "error",
     "traceback": [
      "\u001b[0;31m---------------------------------------------------------------------------\u001b[0m",
      "\u001b[0;31mTypeError\u001b[0m                                 Traceback (most recent call last)",
      "Input \u001b[0;32mIn [88]\u001b[0m, in \u001b[0;36m<cell line: 1>\u001b[0;34m()\u001b[0m\n\u001b[0;32m----> 1\u001b[0m \u001b[38;5;28;43mlen\u001b[39;49m\u001b[43m(\u001b[49m\u001b[38;5;241;43m2.35\u001b[39;49m\u001b[43m)\u001b[49m\n",
      "\u001b[0;31mTypeError\u001b[0m: object of type 'float' has no len()"
     ]
    }
   ],
   "source": [
    "len(2.35)"
   ]
  },
  {
   "cell_type": "markdown",
   "id": "e6382477",
   "metadata": {},
   "source": [
    "Ponieważ w Pythonie stringi są obiektem składającym się z wielu elementów, możemy użyć pętli \"for\", aby wykonać jakiś kod dla każdego elementu wewnątrz stringa:"
   ]
  },
  {
   "cell_type": "code",
   "execution_count": 18,
   "id": "a72b69c4",
   "metadata": {
    "scrolled": true
   },
   "outputs": [
    {
     "name": "stdout",
     "output_type": "stream",
     "text": [
      "h\n",
      "e\n",
      "l\n",
      "l\n",
      "o\n"
     ]
    }
   ],
   "source": [
    "for x in \"hello\":\n",
    "    print(x)"
   ]
  },
  {
   "cell_type": "markdown",
   "id": "fec1ba36",
   "metadata": {},
   "source": [
    "W powyższej komórce kodu definiujemy naszą pętlę \"for\" poprzez użycie zarezerwowanych słów kluczowych `for` i `in`, a także określenie zmiennej o nazwie `x` (może to być dowolna, poprawna nazwa zmiennej, którą wybierzemy) oraz obiektu `\"hello\"`, który musi być obiektem składającym się z mniejszych elementów na których możemy wykonać iteracje. W tym przypadku jest to string `\"hello\"`, który składa się z 5 znaków.\n",
    "\n",
    "Następnie piszemy dwukropek `:` i poniżej wcinamy kod, który chcemy uruchomić dla każdego elementu obiektu określonego po słowie kluczowym `in`. W powyższej komórce określiliśmy tylko jedną linię kodu `print(x)`, która zostanie uruchomiona dla każdego elementu w `\"hello\"`. Ta linia po prostu drukuje element, co jest dokładnie tym, co się stało (jak widać powyżej), ponieważ każdy znak wewnątrz `\"hello\"` był drukowany jeden po drugim."
   ]
  },
  {
   "cell_type": "markdown",
   "id": "6ac670e1",
   "metadata": {},
   "source": [
    "**Uwaga**: warto też wspomnieć, że po zakończeniu wykonywania przez Pythona pętli \"for\", zmienna `x`, której użyliśmy do przechowywania elementów zawartych w \"hello\" podczas iteracji, przyjmuje wartość ostatniego elementu (w naszym przypadku `\"o\"`):"
   ]
  },
  {
   "cell_type": "code",
   "execution_count": 19,
   "id": "9ba5b759",
   "metadata": {},
   "outputs": [
    {
     "data": {
      "text/plain": [
       "'o'"
      ]
     },
     "execution_count": 19,
     "metadata": {},
     "output_type": "execute_result"
    }
   ],
   "source": [
    "x"
   ]
  },
  {
   "cell_type": "markdown",
   "id": "eacd7ef2",
   "metadata": {},
   "source": [
    "Możemy oczywiście łączyć pętle z funkcjami i instrukcjami warunkowymi. Rozważmy poniższą funkcję, która ma dwa parametry `word` i `letter_to_count`. Funkcja liczy ile razy argument `letter_to_count` (który powinien być typem `str` o długości 1) występuje w argumencie `word` (który również powinien być `str`, ale już o dowolnej długości)."
   ]
  },
  {
   "cell_type": "code",
   "execution_count": 3,
   "id": "29e12a02",
   "metadata": {
    "code_folding": []
   },
   "outputs": [],
   "source": [
    "def count_letter_in_word(word, letter_to_count):\n",
    "    count = 0\n",
    "    \n",
    "    for letter in word:\n",
    "        if letter == letter_to_count:\n",
    "            count = count + 1\n",
    "\n",
    "    return count"
   ]
  },
  {
   "cell_type": "markdown",
   "id": "558e2629",
   "metadata": {},
   "source": [
    "W powyższej funkcji najpierw przypisujemy `0` do zmiennej `count`. Następnie używamy pętli \"for\" do iteracji, czyli przechodzimy pokolei przez każdy znak w stringu przypisanym do zmiennej `word`. Na każdym etapie pętli, bieżący znak jest przypisywany do zmiennej `letter`. Następnie używamy instrukcji warunkowej do sprawdzenia czy wartość przechowywana w `letter` jest równoważna wartości przekazanej jako argument `letter_to_count` - jeśli tak, to zwiększamy wartość `count` o 1. Na koniec zwracamy `count`."
   ]
  },
  {
   "cell_type": "markdown",
   "id": "a8ee98ac",
   "metadata": {},
   "source": [
    "Poniżej znajdują się przykłady wartości zwróconych przez powyższą funkcję, gdy podamy jej różne argumentamy."
   ]
  },
  {
   "cell_type": "code",
   "execution_count": 91,
   "id": "1c84bda8",
   "metadata": {},
   "outputs": [
    {
     "data": {
      "text/plain": [
       "2"
      ]
     },
     "execution_count": 91,
     "metadata": {},
     "output_type": "execute_result"
    }
   ],
   "source": [
    "count_letter_in_word(\"giraffe\", \"f\")"
   ]
  },
  {
   "cell_type": "code",
   "execution_count": 92,
   "id": "315477e1",
   "metadata": {},
   "outputs": [
    {
     "data": {
      "text/plain": [
       "1"
      ]
     },
     "execution_count": 92,
     "metadata": {},
     "output_type": "execute_result"
    }
   ],
   "source": [
    "count_letter_in_word(\"giraffe\", \"a\")"
   ]
  },
  {
   "cell_type": "code",
   "execution_count": 93,
   "id": "2f35e20d",
   "metadata": {},
   "outputs": [
    {
     "data": {
      "text/plain": [
       "0"
      ]
     },
     "execution_count": 93,
     "metadata": {},
     "output_type": "execute_result"
    }
   ],
   "source": [
    "count_letter_in_word(\"giraffe\", \"z\")"
   ]
  },
  {
   "cell_type": "markdown",
   "id": "b026e4a6",
   "metadata": {},
   "source": [
    "Możemy również zmodyfikować funkcję `count_letter_in_word()` poprzez dodanie wielu instrukcji `print()` w pętli \"for\", aby mieć lepszy wląd na to, co się dzieje w tej funkcji podczas gdy jest ona wywoływana."
   ]
  },
  {
   "cell_type": "code",
   "execution_count": 94,
   "id": "1b1b8aed",
   "metadata": {},
   "outputs": [],
   "source": [
    "def count_letter_in_word(word, letter_to_count):\n",
    "    count = 0\n",
    "    \n",
    "    for letter in word:\n",
    "        if letter == letter_to_count:\n",
    "            count = count + 1\n",
    "        \n",
    "        print(\"*\" * 10)\n",
    "        print(\"letter: \" + letter)\n",
    "        print(\"count: \" + str(count))\n",
    "\n",
    "    return count"
   ]
  },
  {
   "cell_type": "code",
   "execution_count": 95,
   "id": "400b8eb6",
   "metadata": {
    "scrolled": true
   },
   "outputs": [
    {
     "name": "stdout",
     "output_type": "stream",
     "text": [
      "**********\n",
      "letter: h\n",
      "count: 0\n",
      "**********\n",
      "letter: e\n",
      "count: 0\n",
      "**********\n",
      "letter: l\n",
      "count: 1\n",
      "**********\n",
      "letter: l\n",
      "count: 2\n",
      "**********\n",
      "letter: o\n",
      "count: 2\n"
     ]
    },
    {
     "data": {
      "text/plain": [
       "2"
      ]
     },
     "execution_count": 95,
     "metadata": {},
     "output_type": "execute_result"
    }
   ],
   "source": [
    "count_letter_in_word(\"hello\", \"l\")"
   ]
  },
  {
   "cell_type": "markdown",
   "id": "a82c4872",
   "metadata": {},
   "source": [
    "Funkcja `print()` jest w tym przydatna, ponieważ pozwala na inspekcję naszych programów, co pozwala nam lepiej zrozumieć, co się właściwie dzieje. W powyższym przykładzie wyraźnie widać, kiedy zmienna `count` jest zwiększana o 1, dzięki czemu możemy potwierdzić, że program rzeczywiście działa tak, jak tego oczekujemy. "
   ]
  },
  {
   "cell_type": "markdown",
   "id": "78248c52",
   "metadata": {},
   "source": [
    "# 3. Iteratory <a id='iteratory'></a>"
   ]
  },
  {
   "cell_type": "markdown",
   "id": "379c353c",
   "metadata": {},
   "source": [
    "Jak wspomniano wcześniej, pętla \"for\" może być używana z obiektem, który składa się z mniejszych elementów po których możemy iterować. Ale co to dokładnie znaczy? W Pythonie, to oznacza, że gdy przekażemy taki obiekt jako argument do wbudowanej funkcji `iter()`, dostaniemy z powrotem inny obiekt, który jest tak zwanym iteratorem:"
   ]
  },
  {
   "cell_type": "code",
   "execution_count": 1,
   "id": "cf285090",
   "metadata": {},
   "outputs": [],
   "source": [
    "iterator = iter(\"hey!\")"
   ]
  },
  {
   "cell_type": "markdown",
   "id": "5e6ea5d1",
   "metadata": {},
   "source": [
    "A czym jest iterator? Iterator jest typem obiektu, który może być przekazany do wbudowanej funkcji `next()`. Funkcja `next()` po prostu zwraca następny element zawarty wewnątrz iteratora, który otrzymała jako argument."
   ]
  },
  {
   "cell_type": "code",
   "execution_count": 2,
   "id": "41c062cc",
   "metadata": {},
   "outputs": [
    {
     "data": {
      "text/plain": [
       "'h'"
      ]
     },
     "execution_count": 2,
     "metadata": {},
     "output_type": "execute_result"
    }
   ],
   "source": [
    "next(iterator)"
   ]
  },
  {
   "cell_type": "code",
   "execution_count": 3,
   "id": "ae97a2f0",
   "metadata": {
    "scrolled": true
   },
   "outputs": [
    {
     "data": {
      "text/plain": [
       "'e'"
      ]
     },
     "execution_count": 3,
     "metadata": {},
     "output_type": "execute_result"
    }
   ],
   "source": [
    "next(iterator)"
   ]
  },
  {
   "cell_type": "code",
   "execution_count": 4,
   "id": "7fe2f363",
   "metadata": {},
   "outputs": [
    {
     "data": {
      "text/plain": [
       "'y'"
      ]
     },
     "execution_count": 4,
     "metadata": {},
     "output_type": "execute_result"
    }
   ],
   "source": [
    "next(iterator)"
   ]
  },
  {
   "cell_type": "code",
   "execution_count": 5,
   "id": "2f75c342",
   "metadata": {},
   "outputs": [
    {
     "data": {
      "text/plain": [
       "'!'"
      ]
     },
     "execution_count": 5,
     "metadata": {},
     "output_type": "execute_result"
    }
   ],
   "source": [
    "next(iterator)"
   ]
  },
  {
   "cell_type": "code",
   "execution_count": 6,
   "id": "b38901df",
   "metadata": {
    "scrolled": true
   },
   "outputs": [
    {
     "ename": "StopIteration",
     "evalue": "",
     "output_type": "error",
     "traceback": [
      "\u001b[0;31m---------------------------------------------------------------------------\u001b[0m",
      "\u001b[0;31mStopIteration\u001b[0m                             Traceback (most recent call last)",
      "Input \u001b[0;32mIn [6]\u001b[0m, in \u001b[0;36m<cell line: 1>\u001b[0;34m()\u001b[0m\n\u001b[0;32m----> 1\u001b[0m \u001b[38;5;28;43mnext\u001b[39;49m\u001b[43m(\u001b[49m\u001b[43miterator\u001b[49m\u001b[43m)\u001b[49m\n",
      "\u001b[0;31mStopIteration\u001b[0m: "
     ]
    }
   ],
   "source": [
    "next(iterator)"
   ]
  },
  {
   "cell_type": "markdown",
   "id": "e57c975d",
   "metadata": {},
   "source": [
    "Jeśli wywołamy funkcję `next()` zbyt wiele razy, otrzymamy błąd. Dzieje się tak dlatego, że kiedy już przeszliśmy przez wszystkie elementy zawarte w iteratorze - nie ma więcej elementów. Trochę dużo tego do zapamiętania, więc zamiast pisać `iter()`, a następnie `next()`, możemy po prostu użyć pętli \"for\", która pozwala nam na użycie prostszego i bardziej naturalnego wyrażenia `for character in string`:"
   ]
  },
  {
   "cell_type": "code",
   "execution_count": 7,
   "id": "12f349be",
   "metadata": {
    "scrolled": true
   },
   "outputs": [
    {
     "name": "stdout",
     "output_type": "stream",
     "text": [
      "h\n",
      "e\n",
      "y\n",
      "!\n"
     ]
    }
   ],
   "source": [
    "for character in \"hey!\":\n",
    "    print(character)"
   ]
  },
  {
   "cell_type": "markdown",
   "id": "06b1f005",
   "metadata": {},
   "source": [
    "Poza stringami, w Pythonie istnieją inne typy obiektów, po których można iterować. Na przykład, wbudowana funkcja `range()` zwraca obiekt typu `range`, po którym można iterować. W Pythonie obiekt `range` jest obiektem reprezentującym zakres liczb, przez który możemy przejść. Dlatego kiedy wywołujemy funkcję `range()`, przekazujemy dwie liczby całkowite (`int`) jako argumenty określające zakres."
   ]
  },
  {
   "cell_type": "code",
   "execution_count": 71,
   "id": "e63bd0d0",
   "metadata": {},
   "outputs": [
    {
     "name": "stdout",
     "output_type": "stream",
     "text": [
      "0\n",
      "1\n",
      "2\n",
      "3\n"
     ]
    }
   ],
   "source": [
    "for i in range(0, 4):\n",
    "    print(i)"
   ]
  },
  {
   "cell_type": "markdown",
   "id": "cab156c0",
   "metadata": {},
   "source": [
    "Zauważ, że pierwszy argument określa początek zakresu w sposób, który obejmuje podaną liczbę; natomiast wartość drugiego argumentu, który wskazuje koniec zakresu, jest wyłączona z rzeczywistego zakresu liczb."
   ]
  },
  {
   "cell_type": "markdown",
   "id": "2df53317",
   "metadata": {},
   "source": [
    "Możliwe jest również przekazanie tylko jednej liczby całkowitej do funkcji `range()`, w takim przypadku Python zakłada, że liczba ta reprezentuje koniec zakresu, natomiast zakresu zaczyna się od 0. Dlatego kod w komórce poniżej jest równoważny kodowi z wcześniejszej komórki:"
   ]
  },
  {
   "cell_type": "code",
   "execution_count": 13,
   "id": "09754b09",
   "metadata": {},
   "outputs": [
    {
     "name": "stdout",
     "output_type": "stream",
     "text": [
      "0\n",
      "1\n",
      "2\n",
      "3\n"
     ]
    }
   ],
   "source": [
    "for i in range(4):\n",
    "    print(i)"
   ]
  },
  {
   "cell_type": "markdown",
   "id": "b1910f0b",
   "metadata": {},
   "source": [
    "Poniżej znajduje się więcej przykładów zawierających funkcję `range()`:"
   ]
  },
  {
   "cell_type": "code",
   "execution_count": 14,
   "id": "5658da2f",
   "metadata": {},
   "outputs": [
    {
     "name": "stdout",
     "output_type": "stream",
     "text": [
      "-3\n",
      "-2\n",
      "-1\n"
     ]
    }
   ],
   "source": [
    "for i in range(-3, 0):\n",
    "    print(i)"
   ]
  },
  {
   "cell_type": "code",
   "execution_count": 15,
   "id": "9ed9517c",
   "metadata": {},
   "outputs": [
    {
     "name": "stdout",
     "output_type": "stream",
     "text": [
      "94\n",
      "95\n",
      "96\n",
      "97\n",
      "98\n"
     ]
    }
   ],
   "source": [
    "for i in range(94, 99):\n",
    "    print(i)"
   ]
  },
  {
   "cell_type": "code",
   "execution_count": 16,
   "id": "c560482c",
   "metadata": {},
   "outputs": [
    {
     "name": "stdout",
     "output_type": "stream",
     "text": [
      "0\n",
      "1\n"
     ]
    }
   ],
   "source": [
    "for i in range(2):\n",
    "    print(i)"
   ]
  },
  {
   "cell_type": "markdown",
   "id": "c03acf03",
   "metadata": {},
   "source": [
    "# 4. Pętla \"while\" <a id='pętla-while'></a>\n",
    "\n",
    "Pętle \"while\" pozwalają nam na powtarzanie jakiegoś bloku kodu tak długo, jak długo spełniony jest warunek logiczny. Poniżej znajduje się przykład pętli \"while\":"
   ]
  },
  {
   "cell_type": "code",
   "execution_count": 5,
   "id": "2face84f",
   "metadata": {},
   "outputs": [
    {
     "name": "stdout",
     "output_type": "stream",
     "text": [
      "the loop ran 3 times\n"
     ]
    }
   ],
   "source": [
    "x = 0\n",
    "\n",
    "while x < 3:\n",
    "    x = x + 1\n",
    "\n",
    "print(\"the loop ran \" + str(x) + \" times\")"
   ]
  },
  {
   "cell_type": "markdown",
   "id": "3937d5ff",
   "metadata": {},
   "source": [
    "W powyższej komórce kodu najpierw przypisujemy `0` do zmiennej `x`. Następnie definiujemy początek pętli \"while\" za pomocą zarezerwowanego słowa kluczowego `while`, po którym następuje wyrażenie logiczne `x < 3` oraz dwukropek `:`. Następnie wcięliśmy kod, który należy do pętli \"while\". Wcięty kod będzie powtarzany tak długo, jak długo wyrażenie logiczne `x < 3` będzie zwracało wartość `True`. To wyrażenie logiczne będzie również ponownie sprawdzane po każdym wykonaniu wciętego kodu.\n",
    "\n",
    "Dlatego też, gdy uruchomimy powyższy kod i Python dotrze po raz pierwszy do linii 3 (gdzie zaczyna się definicja pętli \"while\"), sprawdza on bieżącą wartość `x` (która wynosi `0`) i ocenia wyrażenie logiczne `x < 3`, które zwraca wartość `True`. Następnie, wcięty blok kodu należący do pętli \"while\" zostanie wykonany raz. Po wykonaniu całego wciętego kodu (w naszym przypadku tylko jedna linijka kodu), Python wraca na szczyt pętli \"while\", aby ponownie ocenić wyrażenie logiczne, które jest zawarte w instrukcji `while`. Jeśli wyrażenie logiczne zwróci `True`, cały proces jest powtarzany, natomiast jeśli wyrażenie logiczne zwróci `False`, Python pomija kod w pętli \"while\" i wykonuje następną linię kodu, która w naszym przypadku jest wywołaniem funkcji `print()` (linia 6).\n",
    "\n",
    "Zatem w przypadku kodu w komórce powyżej, pętla jest uruchamiana 3 razy, a cały proces iteracji można opisać w następujący sposób:\n",
    "\n",
    "* **iteracja 1:** `x < 3 = True` | `x = 0` (kod w pętli zostanie uruchomiony)\n",
    "* **iteracja 2:** `x < 3 = True` | `x = 1` (kod w pętli zostanie uruchomiony)\n",
    "* **iteracja 3:** `x < 3 = True` | `x = 2` (kod w pętli zostanie uruchomiony)\n",
    "* **iteracja 4:** `x < 3 = False`| `x = 3` (kod w pętli **nie** zostanie uruchomiony)\n",
    "\n",
    "Gdy Python osiągnie iterację 4, wyrażenie logiczne zwróci `False` i kod w pętli nie zostanie uruchomiony. Dlatego można powiedzieć, że pętla miała 3 iteracje. Należy zauważyć, że jeśli wyrażenie logiczne zwróciłoby `False` przy pierwszej iteracji, to kod w pętli \"while\" nie zostałby w ogóle uruchomiony."
   ]
  },
  {
   "cell_type": "markdown",
   "id": "a4038fa9",
   "metadata": {},
   "source": [
    "Poniżej przykład funkcji `is_prime()`, która sprawdza czy argument `x` jest liczbą pierwszą. \n",
    "\n",
    "**Uwaga**: funkcja zwraca `False` dla każdej liczby mniejszej od dwóch, w tym i dla liczb ujemnych. "
   ]
  },
  {
   "cell_type": "code",
   "execution_count": 60,
   "id": "954a515e",
   "metadata": {
    "code_folding": []
   },
   "outputs": [],
   "source": [
    "def is_prime(x):\n",
    "    \n",
    "    if x <= 1:\n",
    "        prime = False\n",
    "    else:\n",
    "        prime = True\n",
    "    \n",
    "    i = 2\n",
    "    while prime and i < x:\n",
    "        if x % i == 0:\n",
    "            prime = False\n",
    "        i = i + 1\n",
    "    \n",
    "    return prime       "
   ]
  },
  {
   "cell_type": "markdown",
   "id": "4e23e232",
   "metadata": {},
   "source": [
    "W powyższej funkcji najpierw sprawdzamy, czy `x` jest mniejsze lub równe `1`. Jeśli to wyrażenie logiczne (`x <= 1`) zwraca `True`, to przypisujemy wartość `False` do zmiennej `prime`. W tym przypadku kod w poniższej pętli \"while\" nie zostanie wykonany, ponieważ jednym z warunków pętli \"while\" jest to, aby `prime` było `True`. Dlatego jeśli `x` jest równe lub mniejsze od `1`, funkcja zwróci `False` bez uruchamiania pętli \"while\".\n",
    "\n",
    "Jeśli `x` jest równy `2`, to zmienna `prime` będzie miała początkowo przypisaną wartość `True`, jednak pętla \"while\" również nie zostanie wykonana, ponieważ drugi warunek logiczny pętli \"while\" `i < x` nie będzie spełniony, gdyż zmiennej `i` przypisano wartość `2` (`i=2`, `x=2`, a zatem `i < x = False`). Dla przypomnienia, operator logiczny `or` zwraca `False`, jeśli jedno lub oba wyrażenia logiczne, które łączy, zwracają `False`.\n",
    "\n",
    "Z drugiej strony, jeśli `x` jest większy od `2`, kod w pętli \"while\" zostanie wykonany jeden lub więcej razy, w zależności od wartości `x`. W tym przypadku najpierw przypisujemy `True` do zmiennej `prime`, niejako zakładając, że `x` jest liczbą pierwszą. Następnie za pomocą pętli \"while\" próbujemy obalić to założenie, szukając liczby, która dzieli `x` bez reszty. Robimy to za pomocą operatora modulo `%`, aby sprawdzić czy wyrażenie `x % i` zwraca `0`. Jeśli tak, to przypisujemy wartość `False` do zmiennej `prime`, co spowoduje wyjście z pętli przed kolejną iteracją. Alternatywnie, pętla działa do momentu, gdy `i < x` zwróci `False`, w którym to momencie się zatrzyma. Jeśli do tego czasu nie zostanie znaleziona żadna liczba która dzieli `x` bez reszty, to zmienna `prime` zachowa przypisaną jej przed pętlą wartość `True`. I w tym przypadku funkcja zwraca `True`."
   ]
  },
  {
   "cell_type": "code",
   "execution_count": 61,
   "id": "46a7cceb",
   "metadata": {},
   "outputs": [
    {
     "data": {
      "text/plain": [
       "False"
      ]
     },
     "execution_count": 61,
     "metadata": {},
     "output_type": "execute_result"
    }
   ],
   "source": [
    "is_prime(-7)"
   ]
  },
  {
   "cell_type": "code",
   "execution_count": 62,
   "id": "2467caa2",
   "metadata": {
    "scrolled": true
   },
   "outputs": [
    {
     "data": {
      "text/plain": [
       "False"
      ]
     },
     "execution_count": 62,
     "metadata": {},
     "output_type": "execute_result"
    }
   ],
   "source": [
    "is_prime(1)"
   ]
  },
  {
   "cell_type": "code",
   "execution_count": 63,
   "id": "c87ba92b",
   "metadata": {},
   "outputs": [
    {
     "data": {
      "text/plain": [
       "True"
      ]
     },
     "execution_count": 63,
     "metadata": {},
     "output_type": "execute_result"
    }
   ],
   "source": [
    "is_prime(2)"
   ]
  },
  {
   "cell_type": "code",
   "execution_count": 64,
   "id": "e36241cb",
   "metadata": {},
   "outputs": [
    {
     "data": {
      "text/plain": [
       "True"
      ]
     },
     "execution_count": 64,
     "metadata": {},
     "output_type": "execute_result"
    }
   ],
   "source": [
    "is_prime(7)"
   ]
  },
  {
   "cell_type": "code",
   "execution_count": 65,
   "id": "1341d560",
   "metadata": {
    "scrolled": true
   },
   "outputs": [
    {
     "data": {
      "text/plain": [
       "True"
      ]
     },
     "execution_count": 65,
     "metadata": {},
     "output_type": "execute_result"
    }
   ],
   "source": [
    "is_prime(468421)"
   ]
  },
  {
   "cell_type": "code",
   "execution_count": 66,
   "id": "7d8c7cbe",
   "metadata": {},
   "outputs": [
    {
     "data": {
      "text/plain": [
       "False"
      ]
     },
     "execution_count": 66,
     "metadata": {},
     "output_type": "execute_result"
    }
   ],
   "source": [
    "is_prime(468422)"
   ]
  },
  {
   "cell_type": "markdown",
   "id": "fb204962",
   "metadata": {},
   "source": [
    "# 5. Słowa \"continue\" i \"break\" <a id='słowa-continue-i-break'></a>"
   ]
  },
  {
   "cell_type": "markdown",
   "id": "2c97c5b6",
   "metadata": {},
   "source": [
    "Możliwe jest modyfikowanie zachowania pętli za pomocą zarezerwowanych słów kluczowych `continue` i `break`.\n",
    "\n",
    "Na przykład, gdy Python zobaczy słowo kluczowe `continue`, zatrzyma wykonywanie kodu w bieżącej iteracji pętli i przeskoczy do następnej iteracji:"
   ]
  },
  {
   "cell_type": "code",
   "execution_count": 67,
   "id": "80b8a15b",
   "metadata": {},
   "outputs": [
    {
     "name": "stdout",
     "output_type": "stream",
     "text": [
      "0\n",
      "1\n",
      "3\n"
     ]
    }
   ],
   "source": [
    "for i in range(4):\n",
    "    if i == 2:\n",
    "        continue\n",
    "    print(i)"
   ]
  },
  {
   "cell_type": "markdown",
   "id": "3e64eeb3",
   "metadata": {},
   "source": [
    "Z drugiej strony, jeśli Python napotka słowo kluczowe `break`, zatrzymuje wykonywanie kodu wewnątrz pętli i całkowicie ją opuszcza."
   ]
  },
  {
   "cell_type": "code",
   "execution_count": 68,
   "id": "2dd9bf29",
   "metadata": {
    "scrolled": true
   },
   "outputs": [
    {
     "name": "stdout",
     "output_type": "stream",
     "text": [
      "0\n",
      "1\n"
     ]
    }
   ],
   "source": [
    "for i in range(4):\n",
    "    if i == 2:\n",
    "        break\n",
    "    print(i)"
   ]
  },
  {
   "cell_type": "markdown",
   "id": "fee879dd",
   "metadata": {},
   "source": [
    "Jak widzimy, gdy `i` jest równe `2`, Python wychodzi z pętli i pozostałe iteracje nie są wykonywane. Instrukcje `continue` i `break` mogą być używane zarówno w pętlach \"for\" jak i \"while\"."
   ]
  },
  {
   "cell_type": "markdown",
   "id": "03570ea6",
   "metadata": {},
   "source": [
    "Istnieją różne sytuacje, w których `break` i `continue` mogą być użyteczne. Na przykład, możemy przepisać zdefiniowaną wcześniej funkcję `is_prime()` używając pętli \"for\" i instrukcji `break`."
   ]
  },
  {
   "cell_type": "code",
   "execution_count": 69,
   "id": "563782d4",
   "metadata": {},
   "outputs": [],
   "source": [
    "def is_prime_2(x):\n",
    "    \n",
    "    if x <= 1:\n",
    "        prime = False\n",
    "    else:\n",
    "        prime = True\n",
    "    \n",
    "    for i in range(2, x):\n",
    "        if x % i == 0:\n",
    "            prime = False\n",
    "            break\n",
    "    \n",
    "    return prime "
   ]
  },
  {
   "cell_type": "code",
   "execution_count": 70,
   "id": "3b666082",
   "metadata": {},
   "outputs": [
    {
     "data": {
      "text/plain": [
       "True"
      ]
     },
     "execution_count": 70,
     "metadata": {},
     "output_type": "execute_result"
    }
   ],
   "source": [
    "is_prime(468421) == is_prime_2(468421)"
   ]
  }
 ],
 "metadata": {
  "kernelspec": {
   "display_name": "Python 3 (ipykernel)",
   "language": "python",
   "name": "python3"
  },
  "language_info": {
   "codemirror_mode": {
    "name": "ipython",
    "version": 3
   },
   "file_extension": ".py",
   "mimetype": "text/x-python",
   "name": "python",
   "nbconvert_exporter": "python",
   "pygments_lexer": "ipython3",
   "version": "3.9.13"
  }
 },
 "nbformat": 4,
 "nbformat_minor": 5
}
