{
 "cells": [
  {
   "cell_type": "markdown",
   "id": "8bcb8989",
   "metadata": {},
   "source": [
    "### Zadanie 3 (5 punktów)\n",
    "\n",
    "Zdefiniuj funkcję `replace_char_in_str`, która ma trzy parametry `original_str`, `pos` i `char`. Funkcja \"zastępuje\" znak w stringu przekazanym jako argument `original_str`. A dokładniej, funkcja zastępuje znak na pozycji określonej przez liczbę całkowitą `pos` znakiem `char`.\n",
    "\n",
    "Przykładowe wartości, które powinny być zwrócone przez funkcję:\n",
    "1. `replace_char_in_str(\"zog\", 0, \"d\") -> \"dog\"`.\n",
    "2. `replace_char_in_str(\"cet\", 1, \"a\") -> \"cat\"`.\n",
    "3. `replace_char_in_str(\"Pyfhon\", 2, \"t\") -> \"Python\"`.\n",
    "\n",
    "**Uwaga**: zauważ, że pozycje znaków zaczynają się od `0` zamiast od `1`. Dzieje się tak dlatego, że w programowaniu istnieje konwencja liczenia od `0` zamiast od `1`."
   ]
  },
  {
   "cell_type": "code",
   "execution_count": 2,
   "id": "8187a50e",
   "metadata": {},
   "outputs": [],
   "source": [
    "def replace_char_in_str(original_str, pos, char):\n",
    "    new_str = \"\"\n",
    "    \n",
    "    \n",
    "    \n",
    "    return new_str"
   ]
  },
  {
   "cell_type": "code",
   "execution_count": null,
   "id": "36917aeb",
   "metadata": {},
   "outputs": [],
   "source": [
    "replace_char_in_str(\"Pyghon\", 2, \"t\")"
   ]
  }
 ],
 "metadata": {
  "kernelspec": {
   "display_name": "Python 3 (ipykernel)",
   "language": "python",
   "name": "python3"
  },
  "language_info": {
   "codemirror_mode": {
    "name": "ipython",
    "version": 3
   },
   "file_extension": ".py",
   "mimetype": "text/x-python",
   "name": "python",
   "nbconvert_exporter": "python",
   "pygments_lexer": "ipython3",
   "version": "3.9.13"
  }
 },
 "nbformat": 4,
 "nbformat_minor": 5
}
