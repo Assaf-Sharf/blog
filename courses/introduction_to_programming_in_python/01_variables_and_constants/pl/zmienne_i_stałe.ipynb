{
 "cells": [
  {
   "cell_type": "markdown",
   "id": "c81fc291",
   "metadata": {},
   "source": [
    "## Sekcje:\n",
    "\n",
    "1. [Stałe](#stałe)\n",
    "2. [Zmienne](#zmienne)\n",
    "3. [Nazewnictwo zmiennych](#nazewnictwo-zmiennych)\n",
    "4. [Stringi](#stringi)\n",
    "5. [Typy danych](#typy-danych)"
   ]
  },
  {
   "cell_type": "markdown",
   "id": "d25e58c6",
   "metadata": {},
   "source": [
    "# 1. Stałe <a id='stałe'></a>\n",
    "\n",
    "W Pythonie, stałe to symbole, których znaczenia nie można zmienić. Na przykład, symbol `3` zawsze będzie oznaczał liczbę 3. Nie możemy sprawić, aby Python zinterpretował symbol `3` jako liczbę 5. Dlatego symbol `3` jest stałą, ponieważ jego znaczenie nigdy się nie zmienia. To samo dotyczy wszystkich innych liczb."
   ]
  },
  {
   "cell_type": "markdown",
   "id": "a95538a2",
   "metadata": {},
   "source": [
    "Gdy uruchomimy kod znajdujący się w komórce poniżej, to zawsze otrzymamy ten sam wynik, ponieważ kod ten składa się w całości z operacji wykonywanych na stałych."
   ]
  },
  {
   "cell_type": "code",
   "execution_count": 1,
   "id": "ce65f411",
   "metadata": {},
   "outputs": [
    {
     "data": {
      "text/plain": [
       "7"
      ]
     },
     "execution_count": 1,
     "metadata": {},
     "output_type": "execute_result"
    }
   ],
   "source": [
    "3 + 4"
   ]
  },
  {
   "cell_type": "markdown",
   "id": "07e8c5be",
   "metadata": {},
   "source": [
    "To samo tyczy się kodu znajdującego się poniżej:"
   ]
  },
  {
   "cell_type": "code",
   "execution_count": 2,
   "id": "a9475616",
   "metadata": {},
   "outputs": [
    {
     "data": {
      "text/plain": [
       "29.6"
      ]
     },
     "execution_count": 2,
     "metadata": {},
     "output_type": "execute_result"
    }
   ],
   "source": [
    "4 * (12 - 5) + 2 ** 3 / 5"
   ]
  },
  {
   "cell_type": "markdown",
   "id": "9597b33e",
   "metadata": {},
   "source": [
    "Możemy tworzyć dowolnie złożone obliczenia, łącząc liczby, nawiasy i następujące operatory arytmetyczne:\n",
    "\n",
    "* `+` dodawanie\n",
    "* `-` odejmowanie\n",
    "* `*` mnożenie\n",
    "* `/` dzielenie\n",
    "* `%` modulo (zwraca resztę z operacji dzielenia)\n",
    "* `**` potęgowanie\n",
    "\n",
    "Jeśli jednak będziemy polegać tylko na stałych, to funkcjonalność naszego programu będzie stosunkowo ograniczona. Musimy użyć zmiennych, aby mieć szerszy zakres możliwości."
   ]
  },
  {
   "cell_type": "markdown",
   "id": "875f0264",
   "metadata": {},
   "source": [
    "# 2. Zmienne <a id='zmienne'></a>"
   ]
  },
  {
   "cell_type": "markdown",
   "id": "ffffb874",
   "metadata": {},
   "source": [
    "Zmienne pozwalają nam przechowywać dane, do których możemy się później odwoławać i przetwarzać na różne sposoby w naszym programie. Zmienne zapewniają nam również sposób etykietowania danych, dzięki czemu łatwiej jest nam zrozumieć, co się dzieje w naszym programie. Można myśleć o zmiennych jako o oznaczonych pudełkach wypełnionych danymi. Ich jedynym celem jest etykietowanie i przechowywanie danych w pamięci komputera. Aby utworzyć zmienną, wystarczy nadać jej nazwę i zdefiniować co chcemy, aby przechowywała za pomocą symbolu `=`."
   ]
  },
  {
   "cell_type": "code",
   "execution_count": 3,
   "id": "556b86b7",
   "metadata": {
    "scrolled": false
   },
   "outputs": [],
   "source": [
    "x = 4"
   ]
  },
  {
   "cell_type": "markdown",
   "id": "a3177351",
   "metadata": {},
   "source": [
    "Jeśli uruchomimy poniższy kod, zobaczymy, że wartość `x` rzeczywiście wynosi `4`."
   ]
  },
  {
   "cell_type": "code",
   "execution_count": 4,
   "id": "ee844026",
   "metadata": {
    "scrolled": false
   },
   "outputs": [
    {
     "data": {
      "text/plain": [
       "4"
      ]
     },
     "execution_count": 4,
     "metadata": {},
     "output_type": "execute_result"
    }
   ],
   "source": [
    "x"
   ]
  },
  {
   "cell_type": "markdown",
   "id": "d86572a8",
   "metadata": {},
   "source": [
    "Możemy też przypisać nową wartość do `x`:"
   ]
  },
  {
   "cell_type": "code",
   "execution_count": 1,
   "id": "a17e038e",
   "metadata": {},
   "outputs": [],
   "source": [
    "x = 6"
   ]
  },
  {
   "cell_type": "markdown",
   "id": "b4d24881",
   "metadata": {},
   "source": [
    "Jeśli ponownie wyświetlimy `x`, to zobaczymy, że wartość `x` uległa zmianie."
   ]
  },
  {
   "cell_type": "code",
   "execution_count": 2,
   "id": "1d7a8a91",
   "metadata": {},
   "outputs": [
    {
     "data": {
      "text/plain": [
       "6"
      ]
     },
     "execution_count": 2,
     "metadata": {},
     "output_type": "execute_result"
    }
   ],
   "source": [
    "x"
   ]
  },
  {
   "cell_type": "markdown",
   "id": "cecbeff7",
   "metadata": {},
   "source": [
    "Poprzednia wartość `x` (4) została nadpisana przez nową wartość (6). Możemy również użyć zmiennej `x` podczas przypisywania nowej wartości do `x`:"
   ]
  },
  {
   "cell_type": "code",
   "execution_count": 3,
   "id": "847e731d",
   "metadata": {},
   "outputs": [],
   "source": [
    "x = x + 1"
   ]
  },
  {
   "cell_type": "markdown",
   "id": "ba6691bf",
   "metadata": {},
   "source": [
    "W powyższej sytuacji Python nie próbuje rozwiązać matematycznego równania `x = x + 1`, które i tak nie ma rozwiązania. Python najpierw patrzy na prawą stronę tego równania i sprawdza jaka była ostatnia wartość `x`. Ponieważ w poprzedniej komórce kodu zdefiniowaliśmy `x` jako równe `6`, Python wkleja wartość `6` do prawej strony równania, co daje `x = 6 + 1`. Obliczany jest wynik końcowy, który jest równy `7`, a następnie wartość tego wyniku końcowego jest przypisana do zmiennej, którą nazwaliśmy \"x\". Poprzednia wartość `x` zostaje nadpisana przez tę nową wartość, dlatego wartość `x` wynosi teraz `7`, zamiast `6`. Jeśli uruchomimy poniższy kod, możemy zobaczyć, że rzeczywiście tak jest."
   ]
  },
  {
   "cell_type": "code",
   "execution_count": 4,
   "id": "af6d2c66",
   "metadata": {
    "scrolled": true
   },
   "outputs": [
    {
     "data": {
      "text/plain": [
       "7"
      ]
     },
     "execution_count": 4,
     "metadata": {},
     "output_type": "execute_result"
    }
   ],
   "source": [
    "x"
   ]
  },
  {
   "cell_type": "markdown",
   "id": "e081b3bb",
   "metadata": {},
   "source": [
    "Jeśli ponownie uruchomimy kod `x = x + 1`, to ostateczną wartością przypisaną do `x` będzie `8`. Dzieje się tak dlatego, że `x` jest obecnie równy `7`. Dlatego, jeśli wkleimy `x` w prawą stronę równania, otrzymamy `x = 7 + 1`, co jest równe `8`. Spróbuj uruchomić poniższy kod, aby przekonać się, że rzeczywiście tak jest:"
   ]
  },
  {
   "cell_type": "code",
   "execution_count": 5,
   "id": "993fcd7f",
   "metadata": {},
   "outputs": [
    {
     "data": {
      "text/plain": [
       "8"
      ]
     },
     "execution_count": 5,
     "metadata": {},
     "output_type": "execute_result"
    }
   ],
   "source": [
    "x = x + 1\n",
    "x"
   ]
  },
  {
   "cell_type": "markdown",
   "id": "3191de4e",
   "metadata": {},
   "source": [
    "Zauważ, że powyższa komórka kodu zawiera dwie linie kodu. Te dwie linie kodu są wykonywane sekwencyjnie, od góry do dołu. Oznacza to, że najpierw definiowana jest wartość `x` zgodnie z wyrażeniem po prawej stronie równania w pierwszej linijce. Po zdefiniowaniu `x`, wykonywana jest druga linijka kodu, która po prostu wyświetla wartość `x`."
   ]
  },
  {
   "cell_type": "markdown",
   "id": "d3b6ae85",
   "metadata": {},
   "source": [
    "Używanie zmiennych jest wygodne, ponieważ pozwala nam odwoływać się do danych poprzez nazwę zmiennej, bez konieczności jawnego wypisywania danych w naszym kodzie. Rozważmy poniższe równanie:"
   ]
  },
  {
   "cell_type": "code",
   "execution_count": 10,
   "id": "96301148",
   "metadata": {},
   "outputs": [
    {
     "data": {
      "text/plain": [
       "16306.0"
      ]
     },
     "execution_count": 10,
     "metadata": {},
     "output_type": "execute_result"
    }
   ],
   "source": [
    "y = (x + 4**x) / 4 - (x + 2) * x\n",
    "y"
   ]
  },
  {
   "cell_type": "markdown",
   "id": "4b882061",
   "metadata": {},
   "source": [
    "Gdybyśmy chcieli zmienić wartość `x` w powyższym równaniu, polegając jedynie na stałych, musielibyśmy dokonać ręcznej zmiany w czterech różnych miejscach. Ponieważ jednak użyliśmy zmiennej, możemy po prostu ponownie zedefiniować `x`, a powyższa formuła zostanie zaktualizowana wraz z ostatecznym wynikiem, po ponownym uruchomieniu kodu.\n",
    "\n",
    "Spróbuj najpierw uruchomić kod w komórce poniżej, a następnie ponownie uruchomić kod w komórce powyżej. Powinno to spowodować zmianę wartości `y`, wyświetlonej w komórce powyżej."
   ]
  },
  {
   "cell_type": "code",
   "execution_count": 11,
   "id": "c372ef9e",
   "metadata": {},
   "outputs": [],
   "source": [
    "x = 2"
   ]
  },
  {
   "cell_type": "markdown",
   "id": "9f3b3ca1",
   "metadata": {},
   "source": [
    "Pisząc kod w Pythonie, często będziemy popełniać różnego rodzaju błędy. Jednym z potencjalnych błędów jest użycie zmiennej, która nie została jeszcze zdefiniowana:"
   ]
  },
  {
   "cell_type": "code",
   "execution_count": 12,
   "id": "d4826557",
   "metadata": {},
   "outputs": [
    {
     "ename": "NameError",
     "evalue": "name 'z' is not defined",
     "output_type": "error",
     "traceback": [
      "\u001b[0;31m---------------------------------------------------------------------------\u001b[0m",
      "\u001b[0;31mNameError\u001b[0m                                 Traceback (most recent call last)",
      "\u001b[0;32m<ipython-input-12-84e96728a76c>\u001b[0m in \u001b[0;36m<module>\u001b[0;34m\u001b[0m\n\u001b[0;32m----> 1\u001b[0;31m \u001b[0mx\u001b[0m \u001b[0;34m=\u001b[0m \u001b[0mz\u001b[0m \u001b[0;34m+\u001b[0m \u001b[0;36m1\u001b[0m\u001b[0;34m\u001b[0m\u001b[0;34m\u001b[0m\u001b[0m\n\u001b[0m",
      "\u001b[0;31mNameError\u001b[0m: name 'z' is not defined"
     ]
    }
   ],
   "source": [
    "x = z + 1"
   ]
  },
  {
   "cell_type": "markdown",
   "id": "a9482148",
   "metadata": {},
   "source": [
    "Uruchomienie powyższego kodu skutkuje komunikatem o błędzie typu`NameError`. Po określeniu typu błędu, następuje dodatkowa informacja, która mówi nam, że nie zdefiniowaliśmy nazwy \"z\". Rzeczywiście, nigdzie w naszym programie nie zdefiniowaliśmy zmiennej `z`. Dlatego zrozumiałe jest, że widzimy ten komunikat o błędzie."
   ]
  },
  {
   "cell_type": "markdown",
   "id": "4ffa78ae",
   "metadata": {},
   "source": [
    "Podczas programowania często spotkamy się również z innymi typami błędów, takich jak:\n",
    "* `SyntaxError`\n",
    "* `LogicError`\n",
    "* `SemanticError`.\n",
    "\n",
    "Znaczną ilość czasu spędza się na naprawianiu tych błędów - proces ten nazywany jest **debugowaniem**. Umiejętność szybkiego debugowania kodu jest cenną umiejętnością, którą dobrze jest mieć jako programista."
   ]
  },
  {
   "cell_type": "markdown",
   "id": "f794bed3",
   "metadata": {},
   "source": [
    "# 3. Nazewnictwo zmiennych <a id='nazewnictwo-zmiennych'></a>"
   ]
  },
  {
   "cell_type": "markdown",
   "id": "a4e581f6",
   "metadata": {},
   "source": [
    "Nazwy zmiennych powinny być zrozumiałe i jednoznaczne. Nazwy zmiennych nie powinny być również zbyt długie, a słowa powinny być oddzielone podkreślnikiem (`_`). Poniżej znajduje się kilka przykładów nazw zmiennych:"
   ]
  },
  {
   "cell_type": "code",
   "execution_count": 6,
   "id": "03ebb543",
   "metadata": {},
   "outputs": [],
   "source": [
    "height = 1.72\n",
    "air_temp = 24.5\n",
    "bank_account_balance = 1540.82"
   ]
  },
  {
   "cell_type": "markdown",
   "id": "3599206f",
   "metadata": {},
   "source": [
    "Python rozróżnia wielkość liter, co oznacza, że duże \"H\" jest inne niż małe \"h\". Na przykład dwie zmienne zdefiniowane poniżej są rzeczywiście oddzielnymi zmiennymi."
   ]
  },
  {
   "cell_type": "code",
   "execution_count": 14,
   "id": "b5f66c19",
   "metadata": {},
   "outputs": [],
   "source": [
    "python = 1\n",
    "pytHon = 2"
   ]
  },
  {
   "cell_type": "markdown",
   "id": "18713963",
   "metadata": {},
   "source": [
    "Przy nadawaniu nazw zmiennym możemy również używać liczb. Jednak nazwa zmiennej nie może zaczynać się od liczby - próba zrobienia tego skutkuje poniższym błędem:"
   ]
  },
  {
   "cell_type": "code",
   "execution_count": 15,
   "id": "25700335",
   "metadata": {
    "scrolled": true
   },
   "outputs": [
    {
     "ename": "SyntaxError",
     "evalue": "invalid syntax (<ipython-input-15-5994889a7b05>, line 1)",
     "output_type": "error",
     "traceback": [
      "\u001b[0;36m  File \u001b[0;32m\"<ipython-input-15-5994889a7b05>\"\u001b[0;36m, line \u001b[0;32m1\u001b[0m\n\u001b[0;31m    1python = 100\u001b[0m\n\u001b[0m     ^\u001b[0m\n\u001b[0;31mSyntaxError\u001b[0m\u001b[0;31m:\u001b[0m invalid syntax\n"
     ]
    }
   ],
   "source": [
    "1python = 100"
   ]
  },
  {
   "cell_type": "markdown",
   "id": "c4fd516e",
   "metadata": {},
   "source": [
    "Poniższa komórka z kodem, zawiera poprawne sposoby użycia liczb w nazwach zmiennych:"
   ]
  },
  {
   "cell_type": "code",
   "execution_count": 16,
   "id": "ac49461f",
   "metadata": {},
   "outputs": [],
   "source": [
    "python5 = 100\n",
    "python_5 = 100\n",
    "python_123 = 100"
   ]
  },
  {
   "cell_type": "markdown",
   "id": "485cc9c5",
   "metadata": {},
   "source": [
    "Warto być ostrożnym przy używaniu niektórych cyfr i liter. Wszystko, co przypomina **1**, **I** , **O** , **0** może łatwo doprowadzić do popełnienia błędów."
   ]
  },
  {
   "cell_type": "markdown",
   "id": "cd1f9099",
   "metadata": {},
   "source": [
    "Podczas nadawania nazw zmiennym nie możemy również używać symboli interpunkcyjnych oraz symboli, które mają już swoje znaczenie (jak np. operatory arytmetyczne). Użycie następujących symboli w nazwie zmiennej spowoduje błąd: `!, @, #, $, %, ^, &, *, (), -, +, =, ?, /, {, }. \\. |`"
   ]
  },
  {
   "cell_type": "code",
   "execution_count": 17,
   "id": "813e1f5e",
   "metadata": {},
   "outputs": [
    {
     "ename": "SyntaxError",
     "evalue": "invalid syntax (<ipython-input-17-73a82e2e111c>, line 1)",
     "output_type": "error",
     "traceback": [
      "\u001b[0;36m  File \u001b[0;32m\"<ipython-input-17-73a82e2e111c>\"\u001b[0;36m, line \u001b[0;32m1\u001b[0m\n\u001b[0;31m    python! = 5\u001b[0m\n\u001b[0m          ^\u001b[0m\n\u001b[0;31mSyntaxError\u001b[0m\u001b[0;31m:\u001b[0m invalid syntax\n"
     ]
    }
   ],
   "source": [
    "python! = 5"
   ]
  },
  {
   "cell_type": "markdown",
   "id": "b2dc531b",
   "metadata": {},
   "source": [
    "W Pythonie istnieje również konwencja używania wielkich liter dla zmiennych, których wartość nigdy się nie zmienia. Na przykład:"
   ]
  },
  {
   "cell_type": "code",
   "execution_count": 18,
   "id": "dbf19126",
   "metadata": {},
   "outputs": [],
   "source": [
    "DAYS_IN_WEEK = 7\n",
    "PI = 3.142"
   ]
  },
  {
   "cell_type": "markdown",
   "id": "d9f47b47",
   "metadata": {},
   "source": [
    "Każdy język programowania posiada również pewną liczbę słów, które mają specjalne znaczenie w ramach tego języka - słowa te są określane jako \"zarezerwowane słowa kluczowe\". Znaczenia zarezerwowanych słów kluczowych nie można zmienić i dlatego nie można ich używać jako nazw zmiennych. Możesz zobaczyć listę wszystkich zarezerwowanych słów kluczowych w Pythonie, uruchamiając poniższy kod:"
   ]
  },
  {
   "cell_type": "code",
   "execution_count": 19,
   "id": "5beb9e92",
   "metadata": {},
   "outputs": [
    {
     "name": "stdout",
     "output_type": "stream",
     "text": [
      "\n",
      "Here is a list of the Python keywords.  Enter any keyword to get more help.\n",
      "\n",
      "False               class               from                or\n",
      "None                continue            global              pass\n",
      "True                def                 if                  raise\n",
      "and                 del                 import              return\n",
      "as                  elif                in                  try\n",
      "assert              else                is                  while\n",
      "async               except              lambda              with\n",
      "await               finally             nonlocal            yield\n",
      "break               for                 not                 \n",
      "\n"
     ]
    }
   ],
   "source": [
    "help(\"keywords\")"
   ]
  },
  {
   "cell_type": "markdown",
   "id": "9ad42559",
   "metadata": {},
   "source": [
    "# 4. Stringi <a id='stringi'></a>"
   ]
  },
  {
   "cell_type": "markdown",
   "id": "3e02bf65",
   "metadata": {},
   "source": [
    "Oprócz liczb, Python może również przetwarzać tekst. Kawałek tekstu jest nazywany w programowaniu łańcuchem znaków. W angielski używane jest to słowo \"string\", którego skrót to `str`. Aby utworzyć string w Pythonie, po prostu piszemy tekst zamknięty w cudzysłowie."
   ]
  },
  {
   "cell_type": "code",
   "execution_count": 7,
   "id": "61efe5e2",
   "metadata": {
    "scrolled": true
   },
   "outputs": [
    {
     "data": {
      "text/plain": [
       "'Hello, World!'"
      ]
     },
     "execution_count": 7,
     "metadata": {},
     "output_type": "execute_result"
    }
   ],
   "source": [
    "\"Hello, World!\""
   ]
  },
  {
   "cell_type": "markdown",
   "id": "2d82a601",
   "metadata": {},
   "source": [
    "Powyższy string jest również stałą. Znaczenie powyższych symboli nigdy się nie zmienia, a zatem uruchomienie powyższego kodu zawsze zwróci tę samą wartość. Zauważ, że zwrócony tekst jest wewnątrz pojedyńczego cudzysłowia, mimo że napisaliśmy nasz tekst w podwójnym cudzysłowie. Dzieje się tak dlatego, że możemy pisać stringi na oba sposoby - jako zamknięte w pojedyńczym lub podwójnym cudzysłowie. Oznacza to, że `\"Hello, World!\"` jest takie samo jak `'Hello, World!\"`."
   ]
  },
  {
   "cell_type": "code",
   "execution_count": 4,
   "id": "372bae30",
   "metadata": {},
   "outputs": [
    {
     "data": {
      "text/plain": [
       "'Hello, World!'"
      ]
     },
     "execution_count": 4,
     "metadata": {},
     "output_type": "execute_result"
    }
   ],
   "source": [
    "'Hello, World!'"
   ]
  },
  {
   "cell_type": "markdown",
   "id": "ec8ddab5",
   "metadata": {},
   "source": [
    "Nie ma znaczenia, jakiego rodzaju cudzysłowia użyjemy, jednak jeśli nie użyjemy żadnego cudzysłowia, Python będzie próbował zinterpretować pierwsze słowo jako nazwę zmiennej. Ponieważ nie zdefiniowaliśmy żadnej zmiennej o nazwie \"Hello\", zobaczymy komunikat informujący o błędzie:"
   ]
  },
  {
   "cell_type": "code",
   "execution_count": 5,
   "id": "e6b85e4f",
   "metadata": {
    "scrolled": false
   },
   "outputs": [
    {
     "ename": "NameError",
     "evalue": "name 'Hello' is not defined",
     "output_type": "error",
     "traceback": [
      "\u001b[0;31m---------------------------------------------------------------------------\u001b[0m",
      "\u001b[0;31mNameError\u001b[0m                                 Traceback (most recent call last)",
      "Input \u001b[0;32mIn [5]\u001b[0m, in \u001b[0;36m<cell line: 1>\u001b[0;34m()\u001b[0m\n\u001b[0;32m----> 1\u001b[0m \u001b[43mHello\u001b[49m, World\n",
      "\u001b[0;31mNameError\u001b[0m: name 'Hello' is not defined"
     ]
    }
   ],
   "source": [
    "Hello, World"
   ]
  },
  {
   "cell_type": "markdown",
   "id": "2ef4f9ef",
   "metadata": {},
   "source": [
    "Tak jak mogliśmy przypisać liczby do zmiennych, tak samo możemy przypisać stringi do zmiennych."
   ]
  },
  {
   "cell_type": "code",
   "execution_count": 2,
   "id": "9d4bb644",
   "metadata": {},
   "outputs": [
    {
     "data": {
      "text/plain": [
       "'Hello, World!'"
      ]
     },
     "execution_count": 2,
     "metadata": {},
     "output_type": "execute_result"
    }
   ],
   "source": [
    "x = \"Hello, World!\"\n",
    "x"
   ]
  },
  {
   "cell_type": "markdown",
   "id": "4a9a9c84",
   "metadata": {},
   "source": [
    "Python pozwala nam również na używanie niektórych operatorów arytmetycznych na stringach. Na przykład, możemy użyć operatora `+` do łączenia stringów razem, co nazywa się konkatenacją."
   ]
  },
  {
   "cell_type": "code",
   "execution_count": 33,
   "id": "f2c2bcff",
   "metadata": {},
   "outputs": [
    {
     "data": {
      "text/plain": [
       "'Programming is awesome'"
      ]
     },
     "execution_count": 33,
     "metadata": {},
     "output_type": "execute_result"
    }
   ],
   "source": [
    "x = \"Programming\" + \" is \" + \"awesome\"\n",
    "x"
   ]
  },
  {
   "cell_type": "markdown",
   "id": "c82db638",
   "metadata": {},
   "source": [
    "Kod w komórce powyżej daje taki sam rezultat jak kod w komórce poniżej:"
   ]
  },
  {
   "cell_type": "code",
   "execution_count": 34,
   "id": "d0e6b743",
   "metadata": {},
   "outputs": [
    {
     "data": {
      "text/plain": [
       "'Programming is awesome'"
      ]
     },
     "execution_count": 34,
     "metadata": {},
     "output_type": "execute_result"
    }
   ],
   "source": [
    "x = \"Programming is awesome\"\n",
    "x"
   ]
  },
  {
   "cell_type": "markdown",
   "id": "fafdf8a8",
   "metadata": {},
   "source": [
    "Możemy również użyć operatora `*` (mnożenie), aby powtórzyć string wielokrotnie."
   ]
  },
  {
   "cell_type": "code",
   "execution_count": 35,
   "id": "2d834bd0",
   "metadata": {},
   "outputs": [
    {
     "data": {
      "text/plain": [
       "'RepeatRepeatRepeat'"
      ]
     },
     "execution_count": 35,
     "metadata": {},
     "output_type": "execute_result"
    }
   ],
   "source": [
    "\"Repeat\" * 3"
   ]
  },
  {
   "cell_type": "markdown",
   "id": "6f9bb0c4",
   "metadata": {},
   "source": [
    "Jednak nie wszystkie operatory arytmetyczne mogą być używane na stringach. Użycie następujących operatorów spowoduje błąd:\n",
    "\n",
    "* `-` odejmowanie\n",
    "* `/` dzielenie\n",
    "* `**` wykładanie"
   ]
  },
  {
   "cell_type": "code",
   "execution_count": 36,
   "id": "cd9fe0fc",
   "metadata": {},
   "outputs": [
    {
     "ename": "TypeError",
     "evalue": "unsupported operand type(s) for /: 'str' and 'int'",
     "output_type": "error",
     "traceback": [
      "\u001b[0;31m---------------------------------------------------------------------------\u001b[0m",
      "\u001b[0;31mTypeError\u001b[0m                                 Traceback (most recent call last)",
      "\u001b[0;32m<ipython-input-36-793986dddce1>\u001b[0m in \u001b[0;36m<module>\u001b[0;34m\u001b[0m\n\u001b[0;32m----> 1\u001b[0;31m \u001b[0;34m\"Hello, World!\"\u001b[0m \u001b[0;34m/\u001b[0m \u001b[0;36m2\u001b[0m\u001b[0;34m\u001b[0m\u001b[0;34m\u001b[0m\u001b[0m\n\u001b[0m",
      "\u001b[0;31mTypeError\u001b[0m: unsupported operand type(s) for /: 'str' and 'int'"
     ]
    }
   ],
   "source": [
    "\"Hello, World!\" / 2"
   ]
  },
  {
   "cell_type": "markdown",
   "id": "01dc2d1b",
   "metadata": {},
   "source": [
    "Uruchomienie powyższego kodu skutkuje błędem `TypeError` i komunikatem stwierdzającym, że operator `/` nie może być użyty na danych typu `str` i `int`. Jak wspomniano wcześniej, `str` jest skrótem od \"string\", natomiast `int` jest skrótem od \"integer\" (liczba całkowita). Zarówno `str` jak i `int` są typami danych w Pythonie."
   ]
  },
  {
   "cell_type": "markdown",
   "id": "5e092ba8",
   "metadata": {},
   "source": [
    "# 5. Typy danych <a id='typy-danych'></a>"
   ]
  },
  {
   "cell_type": "markdown",
   "id": "6ebead57",
   "metadata": {},
   "source": [
    "Dane w Pythonie zawsze są jakiegoś określonego typu. Do tej pory spotkaliśmy się z następującymi trzema typami danych:\n",
    "\n",
    "* `int` - liczby całkowite (-7, 0, 38215)\n",
    "* `float` - liczby wymierne z częścią ułamkową (-2.345216, 0.0, 154.3)\n",
    "* `str` - tekst ujęty w cudzysłów (\"!\", \"Ciąg znaków\") lub pusty cudzysłów (\"\").\n",
    "\n",
    "W Pythonie istnieją również inne typy danych, które zostaną omówione w późniejszej części tego kursu. Typ danych określa, jakiego rodzaju operacje można wykonywać na danych. Na przykład, nie możemy dodać liczby całkowitej i stringa:"
   ]
  },
  {
   "cell_type": "code",
   "execution_count": 37,
   "id": "b873d738",
   "metadata": {
    "scrolled": false
   },
   "outputs": [
    {
     "ename": "TypeError",
     "evalue": "unsupported operand type(s) for +: 'int' and 'str'",
     "output_type": "error",
     "traceback": [
      "\u001b[0;31m---------------------------------------------------------------------------\u001b[0m",
      "\u001b[0;31mTypeError\u001b[0m                                 Traceback (most recent call last)",
      "\u001b[0;32m<ipython-input-37-691d02d0b459>\u001b[0m in \u001b[0;36m<module>\u001b[0;34m\u001b[0m\n\u001b[0;32m----> 1\u001b[0;31m \u001b[0;36m20\u001b[0m \u001b[0;34m+\u001b[0m \u001b[0;34m\" dollars\"\u001b[0m\u001b[0;34m\u001b[0m\u001b[0;34m\u001b[0m\u001b[0m\n\u001b[0m",
      "\u001b[0;31mTypeError\u001b[0m: unsupported operand type(s) for +: 'int' and 'str'"
     ]
    }
   ],
   "source": [
    "20 + \" dollars\""
   ]
  },
  {
   "cell_type": "markdown",
   "id": "3d0a01be",
   "metadata": {},
   "source": [
    "Następująca operacja jest natomiast dozwolona:"
   ]
  },
  {
   "cell_type": "code",
   "execution_count": 38,
   "id": "10ccbd6c",
   "metadata": {},
   "outputs": [
    {
     "data": {
      "text/plain": [
       "'20 dollars'"
      ]
     },
     "execution_count": 38,
     "metadata": {},
     "output_type": "execute_result"
    }
   ],
   "source": [
    "\"20\" + \" dollars\""
   ]
  },
  {
   "cell_type": "markdown",
   "id": "526a2223",
   "metadata": {},
   "source": [
    "Podobnie nie ma problemu z dodaniem liczby całkowitej i liczby z częścią ułamkową (float):"
   ]
  },
  {
   "cell_type": "code",
   "execution_count": 39,
   "id": "d9db58ea",
   "metadata": {},
   "outputs": [
    {
     "data": {
      "text/plain": [
       "34.853"
      ]
     },
     "execution_count": 39,
     "metadata": {},
     "output_type": "execute_result"
    }
   ],
   "source": [
    "20 + 14.853"
   ]
  }
 ],
 "metadata": {
  "kernelspec": {
   "display_name": "Python 3 (ipykernel)",
   "language": "python",
   "name": "python3"
  },
  "language_info": {
   "codemirror_mode": {
    "name": "ipython",
    "version": 3
   },
   "file_extension": ".py",
   "mimetype": "text/x-python",
   "name": "python",
   "nbconvert_exporter": "python",
   "pygments_lexer": "ipython3",
   "version": "3.9.13"
  }
 },
 "nbformat": 4,
 "nbformat_minor": 5
}
