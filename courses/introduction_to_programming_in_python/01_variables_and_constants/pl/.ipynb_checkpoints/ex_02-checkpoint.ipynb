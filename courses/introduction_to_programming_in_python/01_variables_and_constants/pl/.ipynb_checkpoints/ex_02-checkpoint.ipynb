{
 "cells": [
  {
   "cell_type": "markdown",
   "id": "d880ad38",
   "metadata": {},
   "source": [
    "### Zadanie 2.1 (2.5 punktów)\n",
    "\n",
    "Utwórz string zawierający tekst \"Python\" powtórzony 100 razy (\"PythonPythonPython...\"). Przypisz ten string do zmiennej `python_100`."
   ]
  },
  {
   "cell_type": "code",
   "execution_count": null,
   "id": "68e43a32",
   "metadata": {},
   "outputs": [],
   "source": [
    "python_100 = "
   ]
  },
  {
   "cell_type": "markdown",
   "id": "1b73c2e1",
   "metadata": {},
   "source": [
    "### Zadanie 2.2 (2.5 punktów)\n",
    "\n",
    "Utwórz string, który zawiera tekst \"Python\" powtórzony **100** razy, a następnie słowo \"Programowanie\" powtórzone **42** razy (\"PythonPythonPython...ProgramowanieProgramowanieProgramowanie...). Przypisz ten string do zmiennej `python_100_programming_42`."
   ]
  },
  {
   "cell_type": "code",
   "execution_count": null,
   "id": "b3944818",
   "metadata": {},
   "outputs": [],
   "source": [
    "python_100_programming_42 = "
   ]
  }
 ],
 "metadata": {
  "kernelspec": {
   "display_name": "Python 3 (ipykernel)",
   "language": "python",
   "name": "python3"
  },
  "language_info": {
   "codemirror_mode": {
    "name": "ipython",
    "version": 3
   },
   "file_extension": ".py",
   "mimetype": "text/x-python",
   "name": "python",
   "nbconvert_exporter": "python",
   "pygments_lexer": "ipython3",
   "version": "3.9.13"
  }
 },
 "nbformat": 4,
 "nbformat_minor": 5
}
