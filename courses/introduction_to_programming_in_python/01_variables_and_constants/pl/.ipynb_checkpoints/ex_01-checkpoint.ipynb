{
 "cells": [
  {
   "cell_type": "markdown",
   "id": "3fff07e0",
   "metadata": {},
   "source": [
    "Poniżej znajduje się kilka ćwiczeń, które odwołują się do 4 zmiennych, które zostały już za Ciebie zdefiniowane:"
   ]
  },
  {
   "cell_type": "code",
   "execution_count": 1,
   "id": "e283f5c1",
   "metadata": {},
   "outputs": [],
   "source": [
    "starting_balance = 1000\n",
    "\n",
    "price_coat = 99\n",
    "price_tshirt = 52.49\n",
    "price_hat = 24.99"
   ]
  },
  {
   "cell_type": "markdown",
   "id": "b86f8822",
   "metadata": {},
   "source": [
    "### Przykładowe czwiczenie\n",
    "\n",
    "Oblicz stan konta po zakupie 1 koszulki (t-shirt) i 1 czapki (hat) (odejmij cenę koszulki `price_tshirt` i czapki `price_hat` od startowego stanu konta `starting_balance`). Przypisz wartość do zmiennej `example_solution`.\n",
    "\n",
    "Rozwiązanie powyższego ćwiczenia znajduje się w komórce poniżej:"
   ]
  },
  {
   "cell_type": "code",
   "execution_count": 4,
   "id": "4d64f596",
   "metadata": {},
   "outputs": [],
   "source": [
    "total_cost = price_tshirt + price_hat\n",
    "example_solution = starting_balance - total_cost"
   ]
  },
  {
   "cell_type": "markdown",
   "id": "16aca17b",
   "metadata": {},
   "source": [
    "### Zadanie 1.1 (2.5 punktów)\n",
    "\n",
    "Oblicz stan konta po zakupie 1 płaszcza (`price_coat`), 3 t-shirtów (`price_tshirt`) i 1 kapelusza (`price_hat`). Użyj zmiennej `starting_balance` jako początkowego stanu konta. Przypisz ostateczną wartość do zmiennej `final_balance`."
   ]
  },
  {
   "cell_type": "code",
   "execution_count": null,
   "id": "d8d56808",
   "metadata": {},
   "outputs": [],
   "source": [
    "final_balance = "
   ]
  },
  {
   "cell_type": "markdown",
   "id": "1253e399",
   "metadata": {},
   "source": [
    "### Zadanie 1.2 (2.5 punktów)\n",
    "\n",
    "Oblicz średnią cenę tych 3 przedmiotów. Przypisz wartość średniej do zmiennej `avg_price`."
   ]
  },
  {
   "cell_type": "code",
   "execution_count": null,
   "id": "6165cd8b",
   "metadata": {},
   "outputs": [],
   "source": [
    "avg_price = "
   ]
  }
 ],
 "metadata": {
  "kernelspec": {
   "display_name": "Python 3 (ipykernel)",
   "language": "python",
   "name": "python3"
  },
  "language_info": {
   "codemirror_mode": {
    "name": "ipython",
    "version": 3
   },
   "file_extension": ".py",
   "mimetype": "text/x-python",
   "name": "python",
   "nbconvert_exporter": "python",
   "pygments_lexer": "ipython3",
   "version": "3.9.13"
  }
 },
 "nbformat": 4,
 "nbformat_minor": 5
}
