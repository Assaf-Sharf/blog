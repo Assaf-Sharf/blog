{
 "cells": [
  {
   "cell_type": "markdown",
   "id": "d880ad38",
   "metadata": {},
   "source": [
    "### Exercise 2.1 (2.5 points)\n",
    "\n",
    "Create a string that contains the text \"Python\" repeated 100 times (\"PythonPythonPython...\"). Assign this string to the variable `python_100`."
   ]
  },
  {
   "cell_type": "code",
   "execution_count": null,
   "id": "68e43a32",
   "metadata": {},
   "outputs": [],
   "source": [
    "python_100 = "
   ]
  },
  {
   "cell_type": "markdown",
   "id": "1b73c2e1",
   "metadata": {},
   "source": [
    "### Exercise 2.2 (2.5 points)\n",
    "\n",
    "Create a string that contains the text \"Python\" repeated **100** times, followed by the word \"Programming\" repeated **42** times (\"PythonPythonPython...ProgrammingProgrammingProgramming...). Assign this string to the variable `python_100_programming_42`."
   ]
  },
  {
   "cell_type": "code",
   "execution_count": null,
   "id": "b3944818",
   "metadata": {},
   "outputs": [],
   "source": [
    "python_100_programming_42 = "
   ]
  }
 ],
 "metadata": {
  "kernelspec": {
   "display_name": "Python 3 (ipykernel)",
   "language": "python",
   "name": "python3"
  },
  "language_info": {
   "codemirror_mode": {
    "name": "ipython",
    "version": 3
   },
   "file_extension": ".py",
   "mimetype": "text/x-python",
   "name": "python",
   "nbconvert_exporter": "python",
   "pygments_lexer": "ipython3",
   "version": "3.8.3"
  }
 },
 "nbformat": 4,
 "nbformat_minor": 5
}
