{
 "cells": [
  {
   "cell_type": "markdown",
   "id": "3fff07e0",
   "metadata": {},
   "source": [
    "Below are some exercises, which depend on 4 variables that have already been defined for you:"
   ]
  },
  {
   "cell_type": "code",
   "execution_count": 1,
   "id": "e283f5c1",
   "metadata": {},
   "outputs": [],
   "source": [
    "starting_balance = 1000\n",
    "\n",
    "price_coat = 99\n",
    "price_tshirt = 52.49\n",
    "price_hat = 24.99"
   ]
  },
  {
   "cell_type": "markdown",
   "id": "b86f8822",
   "metadata": {},
   "source": [
    "### Example exercise\n",
    "\n",
    "Calculate the account balance after purchasing 1 t-shirt and 1 hat (subtract the price of the t-shirt `price_tshirt` and the hat `price_hat` from the starting account balance `starting_balance`). Assign the value to the variable `example_solution`.\n",
    "\n",
    "The solution to the above exercise is in the code cell below:"
   ]
  },
  {
   "cell_type": "code",
   "execution_count": 4,
   "id": "4d64f596",
   "metadata": {},
   "outputs": [],
   "source": [
    "total_cost = price_tshirt + price_hat\n",
    "example_solution = starting_balance - total_cost"
   ]
  },
  {
   "cell_type": "markdown",
   "id": "16aca17b",
   "metadata": {},
   "source": [
    "### Excercise 1.1 (2.5 points)\n",
    "\n",
    "Calculate the account balance after purchasing 1 coat (`price_coat`), 3 t-shirts (`price_tshirt`) and 1 hat (`price_hat`). Use the variable `starting_balance` as the starting account balance. Assign the final value to the variable `final_balance`."
   ]
  },
  {
   "cell_type": "code",
   "execution_count": null,
   "id": "d8d56808",
   "metadata": {},
   "outputs": [],
   "source": [
    "final_balance = "
   ]
  },
  {
   "cell_type": "markdown",
   "id": "1253e399",
   "metadata": {},
   "source": [
    "### Exercise 1.2 (2.5 points)\n",
    "\n",
    "Calculate the average price of the 3 items. Assign the value of the average to the variable `avg_price`."
   ]
  },
  {
   "cell_type": "code",
   "execution_count": null,
   "id": "6165cd8b",
   "metadata": {},
   "outputs": [],
   "source": [
    "avg_price = "
   ]
  }
 ],
 "metadata": {
  "kernelspec": {
   "display_name": "Python 3 (ipykernel)",
   "language": "python",
   "name": "python3"
  },
  "language_info": {
   "codemirror_mode": {
    "name": "ipython",
    "version": 3
   },
   "file_extension": ".py",
   "mimetype": "text/x-python",
   "name": "python",
   "nbconvert_exporter": "python",
   "pygments_lexer": "ipython3",
   "version": "3.9.13"
  }
 },
 "nbformat": 4,
 "nbformat_minor": 5
}
