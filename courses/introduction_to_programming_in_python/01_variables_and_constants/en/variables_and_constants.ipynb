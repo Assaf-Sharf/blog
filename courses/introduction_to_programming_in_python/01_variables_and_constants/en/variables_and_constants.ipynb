{
 "cells": [
  {
   "cell_type": "markdown",
   "id": "c81fc291",
   "metadata": {},
   "source": [
    "## Sections:\n",
    "\n",
    "1. [Constants](#constants)\n",
    "2. [Variables](#variables)\n",
    "3. [Naming variables](#naming-variables)\n",
    "4. [Strings](#strings)\n",
    "5. [Data types](#data-types)"
   ]
  },
  {
   "cell_type": "markdown",
   "id": "d25e58c6",
   "metadata": {},
   "source": [
    "# 1. Constants <a id='constants'></a>\n",
    "\n",
    "In Python, constants are symbols whose meaning cannot be changed. For example, the symbol `3` will always represent the number 3. We cannot make Python interpret the symbol `3` as the number 5. Therefore, the symbol `3` is a constant because its meaning never changes. The same is true for all other numbers."
   ]
  },
  {
   "cell_type": "markdown",
   "id": "a95538a2",
   "metadata": {},
   "source": [
    "The code in the cell below will always produce the same output, because it is composed entirely of an operation performed on constants."
   ]
  },
  {
   "cell_type": "code",
   "execution_count": 1,
   "id": "ce65f411",
   "metadata": {},
   "outputs": [
    {
     "data": {
      "text/plain": [
       "7"
      ]
     },
     "execution_count": 1,
     "metadata": {},
     "output_type": "execute_result"
    }
   ],
   "source": [
    "3 + 4"
   ]
  },
  {
   "cell_type": "markdown",
   "id": "07e8c5be",
   "metadata": {},
   "source": [
    "The same is true of the following code:"
   ]
  },
  {
   "cell_type": "code",
   "execution_count": 2,
   "id": "a9475616",
   "metadata": {},
   "outputs": [
    {
     "data": {
      "text/plain": [
       "29.6"
      ]
     },
     "execution_count": 2,
     "metadata": {},
     "output_type": "execute_result"
    }
   ],
   "source": [
    "4 * (12 - 5) + 2 ** 3 / 5"
   ]
  },
  {
   "cell_type": "markdown",
   "id": "9597b33e",
   "metadata": {},
   "source": [
    "We can create arbitrarily complex calculations by combining numbers, parentheses and the following arithmetic operators:\n",
    "\n",
    "* `+` addition\n",
    "* `-` subtraction\n",
    "* `*` multiplication\n",
    "* `/` division\n",
    "* `%` modulo (returns the remainder of the division operation)\n",
    "* `**` exponentiation\n",
    "\n",
    "However, if we only rely on constants, the functionality of our program will be relatively limited. We need to use variables, in order to unlock a wider range of possibilities."
   ]
  },
  {
   "cell_type": "markdown",
   "id": "875f0264",
   "metadata": {},
   "source": [
    "# 2. Variables <a id='variables'></a>"
   ]
  },
  {
   "cell_type": "markdown",
   "id": "ffffb874",
   "metadata": {},
   "source": [
    "Variables allow us to store data that can be referenced and manipulated in our program. They also provide a way to label the data, so that it is easier for us to understand what is happening in our program. It is helpful to think of variables as labeled boxes filled with data. Their only purpose is to label and store data in the computer's memory. To create a variable, you just need to name it and set it to equal the value you want it to store."
   ]
  },
  {
   "cell_type": "code",
   "execution_count": 3,
   "id": "556b86b7",
   "metadata": {
    "scrolled": false
   },
   "outputs": [],
   "source": [
    "x = 4"
   ]
  },
  {
   "cell_type": "markdown",
   "id": "a3177351",
   "metadata": {},
   "source": [
    "Now if we run the code below, we will see that the value of x is indeed 4."
   ]
  },
  {
   "cell_type": "code",
   "execution_count": 4,
   "id": "ee844026",
   "metadata": {
    "scrolled": false
   },
   "outputs": [
    {
     "data": {
      "text/plain": [
       "4"
      ]
     },
     "execution_count": 4,
     "metadata": {},
     "output_type": "execute_result"
    }
   ],
   "source": [
    "x"
   ]
  },
  {
   "cell_type": "markdown",
   "id": "d86572a8",
   "metadata": {},
   "source": [
    "We can also assign a new value to x:"
   ]
  },
  {
   "cell_type": "code",
   "execution_count": 5,
   "id": "a17e038e",
   "metadata": {},
   "outputs": [],
   "source": [
    "x = 6"
   ]
  },
  {
   "cell_type": "markdown",
   "id": "b4d24881",
   "metadata": {},
   "source": [
    "If we display `x` again, we can see that the value of `x` has changed."
   ]
  },
  {
   "cell_type": "code",
   "execution_count": 6,
   "id": "1d7a8a91",
   "metadata": {},
   "outputs": [
    {
     "data": {
      "text/plain": [
       "6"
      ]
     },
     "execution_count": 6,
     "metadata": {},
     "output_type": "execute_result"
    }
   ],
   "source": [
    "x"
   ]
  },
  {
   "cell_type": "markdown",
   "id": "cecbeff7",
   "metadata": {},
   "source": [
    "The previous value of `x` (4) has been overwritten by the new value (6). We can also reference the variable `x` while assigning a new value to `x`:"
   ]
  },
  {
   "cell_type": "code",
   "execution_count": 7,
   "id": "847e731d",
   "metadata": {},
   "outputs": [],
   "source": [
    "x = x + 1"
   ]
  },
  {
   "cell_type": "markdown",
   "id": "ba6691bf",
   "metadata": {},
   "source": [
    "In the above situation, Python is not trying to solve the mathematical equation `x = x + 1`, which does not have a solution anyway. Python first looks at the right-hand side of that equation and checks what was the last value of `x`. Since we have defined `x` as equal to `6` in a previous code cell, Python plugs in the value of `6` into the right-hand side of the equation, which results in `x = 6 + 1`. The final result is calculated, which equals `7`, and then the value of that final result is assigned to the variable we have called \"x\". The previous value of `x` is overwritten by this new value, which is why the value of `x` is now `7`, instead of `6`. If we run the code below, we can see that this is indeed the case."
   ]
  },
  {
   "cell_type": "code",
   "execution_count": 8,
   "id": "af6d2c66",
   "metadata": {
    "scrolled": true
   },
   "outputs": [
    {
     "data": {
      "text/plain": [
       "7"
      ]
     },
     "execution_count": 8,
     "metadata": {},
     "output_type": "execute_result"
    }
   ],
   "source": [
    "x"
   ]
  },
  {
   "cell_type": "markdown",
   "id": "e081b3bb",
   "metadata": {},
   "source": [
    "If we run the code `x = x + 1` again, the final value assigned to `x` will be `8`. This is because `x` is currently equal to `7`. Therefore, if we plug it into the right-hand side of the equation, we will get `x = 7 + 1` which is equal to `8`. Try running the code below to see for yourself."
   ]
  },
  {
   "cell_type": "code",
   "execution_count": 9,
   "id": "993fcd7f",
   "metadata": {},
   "outputs": [
    {
     "data": {
      "text/plain": [
       "8"
      ]
     },
     "execution_count": 9,
     "metadata": {},
     "output_type": "execute_result"
    }
   ],
   "source": [
    "x = x + 1\n",
    "x"
   ]
  },
  {
   "cell_type": "markdown",
   "id": "3191de4e",
   "metadata": {},
   "source": [
    "Notice that the code cell above contains two lines of code. The two lines of code are executed sequentially from top to bottom. This means that first the value of `x` is defined according to the expression on the right-hand side of the equation in the first line. Once `x` is defined, the second line is executed, which simply displays the value of `x`."
   ]
  },
  {
   "cell_type": "markdown",
   "id": "d3b6ae85",
   "metadata": {},
   "source": [
    "Using variables is convenient because it allow us to reference data via a variable name, without having to explicitly write out the data in our code. Consider the equation below:"
   ]
  },
  {
   "cell_type": "code",
   "execution_count": 10,
   "id": "96301148",
   "metadata": {},
   "outputs": [
    {
     "data": {
      "text/plain": [
       "16306.0"
      ]
     },
     "execution_count": 10,
     "metadata": {},
     "output_type": "execute_result"
    }
   ],
   "source": [
    "y = (x + 4**x) / 4 - (x + 2) * x\n",
    "y"
   ]
  },
  {
   "cell_type": "markdown",
   "id": "4b882061",
   "metadata": {},
   "source": [
    "If we wanted to change the value of `x` in the equation above, while only relying on constants, we would have to make a manual change in four different locations in the equation. However, since we have used a variable, we can simply redefine `x`, and the above formula will be updated along with the final result, once we run the code again.\n",
    "\n",
    "Try running the code in the cell below first, and then run the code in the cell above again. This should cause the value of `y` to change when displayed in the cell above."
   ]
  },
  {
   "cell_type": "code",
   "execution_count": 11,
   "id": "c372ef9e",
   "metadata": {},
   "outputs": [],
   "source": [
    "x = 2"
   ]
  },
  {
   "cell_type": "markdown",
   "id": "9f3b3ca1",
   "metadata": {},
   "source": [
    "When writing code in Python, we will often make various kinds of mistakes. One potential mistake is referencing a variable that has not yet been defined:"
   ]
  },
  {
   "cell_type": "code",
   "execution_count": 12,
   "id": "d4826557",
   "metadata": {},
   "outputs": [
    {
     "ename": "NameError",
     "evalue": "name 'z' is not defined",
     "output_type": "error",
     "traceback": [
      "\u001b[0;31m---------------------------------------------------------------------------\u001b[0m",
      "\u001b[0;31mNameError\u001b[0m                                 Traceback (most recent call last)",
      "\u001b[0;32m<ipython-input-12-84e96728a76c>\u001b[0m in \u001b[0;36m<module>\u001b[0;34m\u001b[0m\n\u001b[0;32m----> 1\u001b[0;31m \u001b[0mx\u001b[0m \u001b[0;34m=\u001b[0m \u001b[0mz\u001b[0m \u001b[0;34m+\u001b[0m \u001b[0;36m1\u001b[0m\u001b[0;34m\u001b[0m\u001b[0;34m\u001b[0m\u001b[0m\n\u001b[0m",
      "\u001b[0;31mNameError\u001b[0m: name 'z' is not defined"
     ]
    }
   ],
   "source": [
    "x = z + 1"
   ]
  },
  {
   "cell_type": "markdown",
   "id": "a9482148",
   "metadata": {},
   "source": [
    "Running the above code results in an error message notifying us that a `NameError` (a type of error) has been detected. The specification of the type of error is followed by additional information, which tells us that we have not defined the name \"z\". Indeed, we have not defined the variable `z` anywhere in our program. Therefore, it is understandable that we see this error message."
   ]
  },
  {
   "cell_type": "markdown",
   "id": "4ffa78ae",
   "metadata": {},
   "source": [
    "When programming, we will also often see other types of error messages displayed, such as:\n",
    "* `SyntaxError`\n",
    "* `LogicError`\n",
    "* `SemanticError`\n",
    "\n",
    "A considerable amount of time is spent fixing these errors - this process is called **debugging**. Being able to quickly debug a piece of code is a valuable skill to have as a programmer."
   ]
  },
  {
   "cell_type": "markdown",
   "id": "f794bed3",
   "metadata": {},
   "source": [
    "# 3. Naming variables <a id='naming-variables'></a>"
   ]
  },
  {
   "cell_type": "markdown",
   "id": "a4e581f6",
   "metadata": {},
   "source": [
    "Variable names should be understandable and unambiguous. The names of variables also shouldn't be too long, and multiple words should be separated by an underscore (`_`). Below are some examples of variable names:"
   ]
  },
  {
   "cell_type": "code",
   "execution_count": 13,
   "id": "03ebb543",
   "metadata": {},
   "outputs": [],
   "source": [
    "height = 1.72\n",
    "air_temp = 24.5\n",
    "bank_account_balance = 1540.82"
   ]
  },
  {
   "cell_type": "markdown",
   "id": "3599206f",
   "metadata": {},
   "source": [
    "Python is case-sensitive, meaning that an uppercase \"H\" is different from a lowercase \"h\". For example, the two variables defined below are indeed two separate variables."
   ]
  },
  {
   "cell_type": "code",
   "execution_count": 14,
   "id": "b5f66c19",
   "metadata": {},
   "outputs": [],
   "source": [
    "python = 1\n",
    "pytHon = 2"
   ]
  },
  {
   "cell_type": "markdown",
   "id": "18713963",
   "metadata": {},
   "source": [
    "When naming variables, we can also use numbers. However, a variable name cannot start with a number - attempting to do so will result in an error, as follows:"
   ]
  },
  {
   "cell_type": "code",
   "execution_count": 15,
   "id": "25700335",
   "metadata": {
    "scrolled": true
   },
   "outputs": [
    {
     "ename": "SyntaxError",
     "evalue": "invalid syntax (<ipython-input-15-5994889a7b05>, line 1)",
     "output_type": "error",
     "traceback": [
      "\u001b[0;36m  File \u001b[0;32m\"<ipython-input-15-5994889a7b05>\"\u001b[0;36m, line \u001b[0;32m1\u001b[0m\n\u001b[0;31m    1python = 100\u001b[0m\n\u001b[0m     ^\u001b[0m\n\u001b[0;31mSyntaxError\u001b[0m\u001b[0;31m:\u001b[0m invalid syntax\n"
     ]
    }
   ],
   "source": [
    "1python = 100"
   ]
  },
  {
   "cell_type": "markdown",
   "id": "c4fd516e",
   "metadata": {},
   "source": [
    "The code cell below contains valid ways of using numbers in variables:"
   ]
  },
  {
   "cell_type": "code",
   "execution_count": 16,
   "id": "ac49461f",
   "metadata": {},
   "outputs": [],
   "source": [
    "python5 = 100\n",
    "python_5 = 100\n",
    "python_123 = 100"
   ]
  },
  {
   "cell_type": "markdown",
   "id": "485cc9c5",
   "metadata": {},
   "source": [
    "It is worth being careful when using certain numbers and letters. Everything that resembles **1**, **I** , **O** , **0** can easily lead to making mistakes."
   ]
  },
  {
   "cell_type": "markdown",
   "id": "cd1f9099",
   "metadata": {},
   "source": [
    "When naming variables, we also cannot use punctuation symbols or symbols which already have a meaning (such as arithmetic operators). Using the following symbols in a variable name will result in an error: `!, @, #, $, %, ^, &, *, (), -, +, =, ?, /, {, }. \\. |`"
   ]
  },
  {
   "cell_type": "code",
   "execution_count": 17,
   "id": "813e1f5e",
   "metadata": {},
   "outputs": [
    {
     "ename": "SyntaxError",
     "evalue": "invalid syntax (<ipython-input-17-73a82e2e111c>, line 1)",
     "output_type": "error",
     "traceback": [
      "\u001b[0;36m  File \u001b[0;32m\"<ipython-input-17-73a82e2e111c>\"\u001b[0;36m, line \u001b[0;32m1\u001b[0m\n\u001b[0;31m    python! = 5\u001b[0m\n\u001b[0m          ^\u001b[0m\n\u001b[0;31mSyntaxError\u001b[0m\u001b[0;31m:\u001b[0m invalid syntax\n"
     ]
    }
   ],
   "source": [
    "python! = 5"
   ]
  },
  {
   "cell_type": "markdown",
   "id": "b2dc531b",
   "metadata": {},
   "source": [
    "In Python, there is also a convention of using uppercase letters for variables whose value doesn't ever change. For example:"
   ]
  },
  {
   "cell_type": "code",
   "execution_count": 18,
   "id": "dbf19126",
   "metadata": {},
   "outputs": [],
   "source": [
    "DAYS_IN_WEEK = 7\n",
    "PI = 3.142"
   ]
  },
  {
   "cell_type": "markdown",
   "id": "d9f47b47",
   "metadata": {},
   "source": [
    "Each programming language also has a number of words, which have a special meaning within that language - these words are referred to as \"reserved keywords\". The meaning of reserved keywords cannot be changed and therefore they cannot be used as variable names. You can see a list of all of the reserved keywords in Python by executing the code below:"
   ]
  },
  {
   "cell_type": "code",
   "execution_count": 19,
   "id": "5beb9e92",
   "metadata": {},
   "outputs": [
    {
     "name": "stdout",
     "output_type": "stream",
     "text": [
      "\n",
      "Here is a list of the Python keywords.  Enter any keyword to get more help.\n",
      "\n",
      "False               class               from                or\n",
      "None                continue            global              pass\n",
      "True                def                 if                  raise\n",
      "and                 del                 import              return\n",
      "as                  elif                in                  try\n",
      "assert              else                is                  while\n",
      "async               except              lambda              with\n",
      "await               finally             nonlocal            yield\n",
      "break               for                 not                 \n",
      "\n"
     ]
    }
   ],
   "source": [
    "help(\"keywords\")"
   ]
  },
  {
   "cell_type": "markdown",
   "id": "9ad42559",
   "metadata": {},
   "source": [
    "# 4. Strings <a id='strings'></a>"
   ]
  },
  {
   "cell_type": "markdown",
   "id": "3e02bf65",
   "metadata": {},
   "source": [
    "Aside from numbers, Python can also work with text. A piece of text is called a \"string\" in computer programming, and it is typically abbreviated as `str`. In order to create a string in Python, we simply write some text enclosed in quotation marks."
   ]
  },
  {
   "cell_type": "code",
   "execution_count": 3,
   "id": "61efe5e2",
   "metadata": {
    "scrolled": true
   },
   "outputs": [
    {
     "data": {
      "text/plain": [
       "'Hello, World!'"
      ]
     },
     "execution_count": 3,
     "metadata": {},
     "output_type": "execute_result"
    }
   ],
   "source": [
    "\"Hello, World!\""
   ]
  },
  {
   "cell_type": "markdown",
   "id": "2d82a601",
   "metadata": {},
   "source": [
    "The string above is also a constant. The meaning of the symbols above never changes, and therefore running the above code will always produce the same output. Note that the output is enclosed in single quotation marks, even though we wrote our string with double quotation marks. This is because we can write strings both ways - as enclosed in either single or double quotation marks. This means that `\"Hello, World!\"` is the same as `'Hello, World!'`."
   ]
  },
  {
   "cell_type": "code",
   "execution_count": 4,
   "id": "372bae30",
   "metadata": {},
   "outputs": [
    {
     "data": {
      "text/plain": [
       "'Hello, World!'"
      ]
     },
     "execution_count": 4,
     "metadata": {},
     "output_type": "execute_result"
    }
   ],
   "source": [
    "'Hello, World!'"
   ]
  },
  {
   "cell_type": "markdown",
   "id": "ec8ddab5",
   "metadata": {},
   "source": [
    "It does not matter which kind of quotation marks we use, however, if we do not use any quotation marks, Python will try to interpret the first word as the name of a variable. Since we have not defined any variable named \"Hello\", we will see an error message displayed. "
   ]
  },
  {
   "cell_type": "code",
   "execution_count": 5,
   "id": "e6b85e4f",
   "metadata": {
    "scrolled": false
   },
   "outputs": [
    {
     "ename": "NameError",
     "evalue": "name 'Hello' is not defined",
     "output_type": "error",
     "traceback": [
      "\u001b[0;31m---------------------------------------------------------------------------\u001b[0m",
      "\u001b[0;31mNameError\u001b[0m                                 Traceback (most recent call last)",
      "Input \u001b[0;32mIn [5]\u001b[0m, in \u001b[0;36m<cell line: 1>\u001b[0;34m()\u001b[0m\n\u001b[0;32m----> 1\u001b[0m \u001b[43mHello\u001b[49m, World\n",
      "\u001b[0;31mNameError\u001b[0m: name 'Hello' is not defined"
     ]
    }
   ],
   "source": [
    "Hello, World"
   ]
  },
  {
   "cell_type": "markdown",
   "id": "2ef4f9ef",
   "metadata": {},
   "source": [
    "Just as we could assign numbers to variables, we can also assign strings to variables."
   ]
  },
  {
   "cell_type": "code",
   "execution_count": 2,
   "id": "9d4bb644",
   "metadata": {},
   "outputs": [
    {
     "data": {
      "text/plain": [
       "'Hello, World!'"
      ]
     },
     "execution_count": 2,
     "metadata": {},
     "output_type": "execute_result"
    }
   ],
   "source": [
    "x = \"Hello, World!\"\n",
    "x"
   ]
  },
  {
   "cell_type": "markdown",
   "id": "4a9a9c84",
   "metadata": {},
   "source": [
    "Python also allows us to use some of the arithmetic operators on strings. For example, we can use the `+` operator to join strings together, which is called concatenation."
   ]
  },
  {
   "cell_type": "code",
   "execution_count": 33,
   "id": "f2c2bcff",
   "metadata": {},
   "outputs": [
    {
     "data": {
      "text/plain": [
       "'Programming is awesome'"
      ]
     },
     "execution_count": 33,
     "metadata": {},
     "output_type": "execute_result"
    }
   ],
   "source": [
    "x = \"Programming\" + \" is \" + \"awesome\"\n",
    "x"
   ]
  },
  {
   "cell_type": "markdown",
   "id": "c82db638",
   "metadata": {},
   "source": [
    "The code in the cell above produces the same output as the code in the cell below:"
   ]
  },
  {
   "cell_type": "code",
   "execution_count": 34,
   "id": "d0e6b743",
   "metadata": {},
   "outputs": [
    {
     "data": {
      "text/plain": [
       "'Programming is awesome'"
      ]
     },
     "execution_count": 34,
     "metadata": {},
     "output_type": "execute_result"
    }
   ],
   "source": [
    "x = \"Programming is awesome\"\n",
    "x"
   ]
  },
  {
   "cell_type": "markdown",
   "id": "fafdf8a8",
   "metadata": {},
   "source": [
    "We can also use the `*` (multiply) operator to repeat a string multiple times."
   ]
  },
  {
   "cell_type": "code",
   "execution_count": 35,
   "id": "2d834bd0",
   "metadata": {},
   "outputs": [
    {
     "data": {
      "text/plain": [
       "'RepeatRepeatRepeat'"
      ]
     },
     "execution_count": 35,
     "metadata": {},
     "output_type": "execute_result"
    }
   ],
   "source": [
    "\"Repeat\" * 3"
   ]
  },
  {
   "cell_type": "markdown",
   "id": "6f9bb0c4",
   "metadata": {},
   "source": [
    "However, not all arithmetic operators can be used on strings. Using the following operators will result in an error:\n",
    "\n",
    "* `-` subtraction\n",
    "* `/` division\n",
    "* `**` exponentiation"
   ]
  },
  {
   "cell_type": "code",
   "execution_count": 36,
   "id": "cd9fe0fc",
   "metadata": {},
   "outputs": [
    {
     "ename": "TypeError",
     "evalue": "unsupported operand type(s) for /: 'str' and 'int'",
     "output_type": "error",
     "traceback": [
      "\u001b[0;31m---------------------------------------------------------------------------\u001b[0m",
      "\u001b[0;31mTypeError\u001b[0m                                 Traceback (most recent call last)",
      "\u001b[0;32m<ipython-input-36-793986dddce1>\u001b[0m in \u001b[0;36m<module>\u001b[0;34m\u001b[0m\n\u001b[0;32m----> 1\u001b[0;31m \u001b[0;34m\"Hello, World!\"\u001b[0m \u001b[0;34m/\u001b[0m \u001b[0;36m2\u001b[0m\u001b[0;34m\u001b[0m\u001b[0;34m\u001b[0m\u001b[0m\n\u001b[0m",
      "\u001b[0;31mTypeError\u001b[0m: unsupported operand type(s) for /: 'str' and 'int'"
     ]
    }
   ],
   "source": [
    "\"Hello, World!\" / 2"
   ]
  },
  {
   "cell_type": "markdown",
   "id": "01dc2d1b",
   "metadata": {},
   "source": [
    "Running the above code results in a `TypeError` and a message stating that the `/` operator cannot be used on operands of type `str` and `int`. As mentioned previously, `str` is an abbreviation for \"string\", while `int` is an abbreviation for \"integer\". Both `str` and `int` are data types in Python."
   ]
  },
  {
   "cell_type": "markdown",
   "id": "5e092ba8",
   "metadata": {},
   "source": [
    "# 5. Data types <a id='data-types'></a>"
   ]
  },
  {
   "cell_type": "markdown",
   "id": "6ebead57",
   "metadata": {},
   "source": [
    "Data in Python always has a type associated with it. So far, we have encounter the following three data types:\n",
    "\n",
    "* `int` - integers (-7, 0, 38215)\n",
    "* `float` - rational numbers (-2.345216, 0.0, 154.3)\n",
    "* `str` - text enclosed in quotation marks (\"!\", \"A sequence of characters\") or empty quotation marks (\"\").\n",
    "\n",
    "There are also other data types in Python, which will be covered in a later portion of this course. A data type determines what kind of operations can be performed on the data. For example, we cannot add an integer and a string:"
   ]
  },
  {
   "cell_type": "code",
   "execution_count": 37,
   "id": "b873d738",
   "metadata": {
    "scrolled": false
   },
   "outputs": [
    {
     "ename": "TypeError",
     "evalue": "unsupported operand type(s) for +: 'int' and 'str'",
     "output_type": "error",
     "traceback": [
      "\u001b[0;31m---------------------------------------------------------------------------\u001b[0m",
      "\u001b[0;31mTypeError\u001b[0m                                 Traceback (most recent call last)",
      "\u001b[0;32m<ipython-input-37-691d02d0b459>\u001b[0m in \u001b[0;36m<module>\u001b[0;34m\u001b[0m\n\u001b[0;32m----> 1\u001b[0;31m \u001b[0;36m20\u001b[0m \u001b[0;34m+\u001b[0m \u001b[0;34m\" dollars\"\u001b[0m\u001b[0;34m\u001b[0m\u001b[0;34m\u001b[0m\u001b[0m\n\u001b[0m",
      "\u001b[0;31mTypeError\u001b[0m: unsupported operand type(s) for +: 'int' and 'str'"
     ]
    }
   ],
   "source": [
    "20 + \" dollars\""
   ]
  },
  {
   "cell_type": "markdown",
   "id": "3d0a01be",
   "metadata": {},
   "source": [
    "The following operation, however, is valid:"
   ]
  },
  {
   "cell_type": "code",
   "execution_count": 38,
   "id": "10ccbd6c",
   "metadata": {},
   "outputs": [
    {
     "data": {
      "text/plain": [
       "'20 dollars'"
      ]
     },
     "execution_count": 38,
     "metadata": {},
     "output_type": "execute_result"
    }
   ],
   "source": [
    "\"20\" + \" dollars\""
   ]
  },
  {
   "cell_type": "markdown",
   "id": "526a2223",
   "metadata": {},
   "source": [
    "Similarly, there is no issue with adding an integer and a floating-point number (float):"
   ]
  },
  {
   "cell_type": "code",
   "execution_count": 39,
   "id": "d9db58ea",
   "metadata": {},
   "outputs": [
    {
     "data": {
      "text/plain": [
       "34.853"
      ]
     },
     "execution_count": 39,
     "metadata": {},
     "output_type": "execute_result"
    }
   ],
   "source": [
    "20 + 14.853"
   ]
  }
 ],
 "metadata": {
  "kernelspec": {
   "display_name": "Python 3 (ipykernel)",
   "language": "python",
   "name": "python3"
  },
  "language_info": {
   "codemirror_mode": {
    "name": "ipython",
    "version": 3
   },
   "file_extension": ".py",
   "mimetype": "text/x-python",
   "name": "python",
   "nbconvert_exporter": "python",
   "pygments_lexer": "ipython3",
   "version": "3.9.13"
  }
 },
 "nbformat": 4,
 "nbformat_minor": 5
}
