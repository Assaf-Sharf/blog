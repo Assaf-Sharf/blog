{
 "cells": [
  {
   "cell_type": "markdown",
   "id": "5daaf700",
   "metadata": {},
   "source": [
    "### Exercise 3 (5 points)\n",
    "\n",
    "Create a function called `name_and_birth_year` which has two parameters `name` (of type `str`) and `age` (of type `int`). This function should calculate and return the name and year in which a person was born, assuming that the current year is **2022**. Additionally, the value returned by the function should be a `str` in the following format: `'{name} was born in {birth_year}'`.\n",
    "\n",
    "So if we run the code `name_and_birth_year('Mary', 28)` we will get the result: `'Mary was born in 1994'`\n",
    "\n",
    " A blueprint of the function has been provided for you below:"
   ]
  },
  {
   "cell_type": "code",
   "execution_count": null,
   "id": "269e0c5a",
   "metadata": {},
   "outputs": [],
   "source": [
    "def name_and_birth_year(name, age):\n",
    "    \n",
    "    return "
   ]
  }
 ],
 "metadata": {
  "kernelspec": {
   "display_name": "Python 3 (ipykernel)",
   "language": "python",
   "name": "python3"
  },
  "language_info": {
   "codemirror_mode": {
    "name": "ipython",
    "version": 3
   },
   "file_extension": ".py",
   "mimetype": "text/x-python",
   "name": "python",
   "nbconvert_exporter": "python",
   "pygments_lexer": "ipython3",
   "version": "3.8.3"
  }
 },
 "nbformat": 4,
 "nbformat_minor": 5
}
