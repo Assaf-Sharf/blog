{
 "cells": [
  {
   "cell_type": "markdown",
   "id": "588fe5f0",
   "metadata": {},
   "source": [
    "## Sections:\n",
    "\n",
    "1. [Functions](#functions)\n",
    "2. [Defining functions](#defining-functions)\n",
    "3. [Naming functions](#naming-functions)\n",
    "4. [Built-in functions](#built-in-functions)"
   ]
  },
  {
   "cell_type": "markdown",
   "id": "a6291bd0",
   "metadata": {},
   "source": [
    "# 1. Functions  <a id='functions'></a>\n",
    "\n",
    "A function is a set of grouped instructions which achieve some goal. Functions allow us to divide our program into smaller, modular parts. As our program grows and begins to contain more and more code, this allows us to maintain everything in an organized fashion. Consequently, our program also becomes easier to understand.\n",
    "\n",
    "Furthermore, functions provide a convenient way to reuse parts of our code in many different places, without having to copy it."
   ]
  },
  {
   "cell_type": "markdown",
   "id": "fc206ea2",
   "metadata": {},
   "source": [
    "# 2. Defining functions  <a id='defining-functions'></a>\n",
    "\n",
    "Creating a function in Python uses the reserved keyword `def` (short for \"define\"). After we write the word `def`, we also have to give our function a name. Lastly, we have to specify the **arguments** it can receive and the value it **returns**.\n",
    "\n",
    "A function can be thought of something that:\n",
    "1. receives values, referred to as arguments\n",
    "2. then performs some operations on those arguments\n",
    "3. and lastly it returns back some final value\n",
    "\n",
    "For example, the code below defines a function called `multiply_by_two`, which takes in one argument `x` and returns `x * 2`."
   ]
  },
  {
   "cell_type": "code",
   "execution_count": 26,
   "id": "d63f9452",
   "metadata": {},
   "outputs": [],
   "source": [
    "def multiply_by_two(x):\n",
    "    return x * 2"
   ]
  },
  {
   "cell_type": "markdown",
   "id": "24e33efd",
   "metadata": {},
   "source": [
    "Once we define a function, we can use it in our code by calling it. We can call the `multiply_by_two` function by writing its name followed by the argument we want to pass in written in parenthesis."
   ]
  },
  {
   "cell_type": "code",
   "execution_count": 27,
   "id": "793f47d7",
   "metadata": {},
   "outputs": [
    {
     "data": {
      "text/plain": [
       "2"
      ]
     },
     "execution_count": 27,
     "metadata": {},
     "output_type": "execute_result"
    }
   ],
   "source": [
    "multiply_by_two(1)"
   ]
  },
  {
   "cell_type": "code",
   "execution_count": 28,
   "id": "4f0eea1f",
   "metadata": {},
   "outputs": [
    {
     "data": {
      "text/plain": [
       "4"
      ]
     },
     "execution_count": 28,
     "metadata": {},
     "output_type": "execute_result"
    }
   ],
   "source": [
    "multiply_by_two(2)"
   ]
  },
  {
   "cell_type": "code",
   "execution_count": 29,
   "id": "a9bdf056",
   "metadata": {
    "scrolled": true
   },
   "outputs": [
    {
     "data": {
      "text/plain": [
       "6"
      ]
     },
     "execution_count": 29,
     "metadata": {},
     "output_type": "execute_result"
    }
   ],
   "source": [
    "multiply_by_two(3)"
   ]
  },
  {
   "cell_type": "markdown",
   "id": "01421f2c",
   "metadata": {},
   "source": [
    " As can be seen above, the `multiply_by_two` function doubles the value of any argument we pass into it. On a more detailed level, the `multiply_by_two` function takes in one value as input (one argument), assigns this value to a variable named `x`, and then outputs the result of the expression `x * 2` - as indicated by the `return` statement."
   ]
  },
  {
   "cell_type": "markdown",
   "id": "d5d78079",
   "metadata": {},
   "source": [
    "**Note:** people often use the terms \"arguments\" and \"parameters\" interchangeably. However, the main  difference between these terms is that the term \"parameters\" refers to the variables listed inside parenthesis when we define the function, while the term \"arguments\" refers to the variables listed inside parenthesis when we call the function."
   ]
  },
  {
   "cell_type": "code",
   "execution_count": 30,
   "id": "b25dfafb",
   "metadata": {},
   "outputs": [
    {
     "data": {
      "text/plain": [
       "15"
      ]
     },
     "execution_count": 30,
     "metadata": {},
     "output_type": "execute_result"
    }
   ],
   "source": [
    "def add(x, y):\n",
    "    return x + y\n",
    "\n",
    "add(5, 10)"
   ]
  },
  {
   "cell_type": "markdown",
   "id": "dd311443",
   "metadata": {},
   "source": [
    "In the case of the `add` function defined above, `x` and `y` are the parameters of the function, while `5` and `10` are the arguments passed into the function."
   ]
  },
  {
   "cell_type": "markdown",
   "id": "eb5f387d",
   "metadata": {},
   "source": [
    "Functions can contain many lines of code and we can define additional variables within the function, which are not parameters of the function."
   ]
  },
  {
   "cell_type": "code",
   "execution_count": 31,
   "id": "bcd1e327",
   "metadata": {},
   "outputs": [],
   "source": [
    "def confirmation_message(name, location):\n",
    "    text_1 = \"Start packing your bags \" + name + \"!\"\n",
    "    text_2 = \" You have successfully booked a trip to \" + location + \".\"\n",
    "    full_text = text_1 + text_2\n",
    "    return full_text"
   ]
  },
  {
   "cell_type": "code",
   "execution_count": 32,
   "id": "20f19977",
   "metadata": {
    "scrolled": true
   },
   "outputs": [
    {
     "data": {
      "text/plain": [
       "'Start packing your bags Emma! You have successfully booked a trip to Antarctica.'"
      ]
     },
     "execution_count": 32,
     "metadata": {},
     "output_type": "execute_result"
    }
   ],
   "source": [
    "confirmation_message(\"Emma\", \"Antarctica\")"
   ]
  },
  {
   "cell_type": "markdown",
   "id": "f4e421b3",
   "metadata": {},
   "source": [
    "One of the benefits of defining the above function is that now we do not have to remember what the confirmation message should say specifically. We only have to call the `confirmation_message` function, instead of writing all of those lines of code. Our code also becomes more clear and understandable this way, as the name of the function gives a good indication of what it does. \n",
    "\n",
    "Moreover, if we ever need to change the confirmation message, we will only need to change it in one place - inside the function definition. Once we update the function definition, all of the code which calls this function will behave accordingly to the new, updated definition of the function."
   ]
  },
  {
   "cell_type": "markdown",
   "id": "9057c341",
   "metadata": {},
   "source": [
    "As we have seen above, functions can have multiple parameters (as many as we like) and be  more complex than just one line of code. All of the code that belongs to the function is indented. Therefore, if we define a function without indenting the code, we will receive an error from Python."
   ]
  },
  {
   "cell_type": "code",
   "execution_count": 33,
   "id": "c5934286",
   "metadata": {},
   "outputs": [
    {
     "ename": "IndentationError",
     "evalue": "expected an indented block (<ipython-input-33-d78481c60fba>, line 2)",
     "output_type": "error",
     "traceback": [
      "\u001b[0;36m  File \u001b[0;32m\"<ipython-input-33-d78481c60fba>\"\u001b[0;36m, line \u001b[0;32m2\u001b[0m\n\u001b[0;31m    pi = 3.142\u001b[0m\n\u001b[0m    ^\u001b[0m\n\u001b[0;31mIndentationError\u001b[0m\u001b[0;31m:\u001b[0m expected an indented block\n"
     ]
    }
   ],
   "source": [
    "def area_of_circle(r):\n",
    "pi = 3.142\n",
    "return pi * r**2"
   ]
  },
  {
   "cell_type": "markdown",
   "id": "d492f237",
   "metadata": {},
   "source": [
    "Similarly, the examples below also result in an `IndentationError`. However, notice that the message after the error type specification is different."
   ]
  },
  {
   "cell_type": "code",
   "execution_count": 35,
   "id": "bbb2406d",
   "metadata": {
    "scrolled": true
   },
   "outputs": [
    {
     "ename": "IndentationError",
     "evalue": "unindent does not match any outer indentation level (<tokenize>, line 3)",
     "output_type": "error",
     "traceback": [
      "\u001b[0;36m  File \u001b[0;32m\"<tokenize>\"\u001b[0;36m, line \u001b[0;32m3\u001b[0m\n\u001b[0;31m    return pi * r**2\u001b[0m\n\u001b[0m    ^\u001b[0m\n\u001b[0;31mIndentationError\u001b[0m\u001b[0;31m:\u001b[0m unindent does not match any outer indentation level\n"
     ]
    }
   ],
   "source": [
    "def area_of_circle(r):\n",
    "        pi = 3.142\n",
    "    return pi * r**2"
   ]
  },
  {
   "cell_type": "code",
   "execution_count": 36,
   "id": "602b3868",
   "metadata": {
    "scrolled": true
   },
   "outputs": [
    {
     "ename": "IndentationError",
     "evalue": "unexpected indent (<ipython-input-36-ee26e8b88288>, line 3)",
     "output_type": "error",
     "traceback": [
      "\u001b[0;36m  File \u001b[0;32m\"<ipython-input-36-ee26e8b88288>\"\u001b[0;36m, line \u001b[0;32m3\u001b[0m\n\u001b[0;31m    return pi * r**2\u001b[0m\n\u001b[0m    ^\u001b[0m\n\u001b[0;31mIndentationError\u001b[0m\u001b[0;31m:\u001b[0m unexpected indent\n"
     ]
    }
   ],
   "source": [
    "def area_of_circle(r):\n",
    "    pi = 3.142\n",
    "        return pi * r**2"
   ]
  },
  {
   "cell_type": "markdown",
   "id": "9e1e5817",
   "metadata": {},
   "source": [
    "Indentation marks which code belongs to the function and which code does not. In the code cell below, we define the function `area_of_circle` function and then we call this function. The definition of the function ends when we unindent the code."
   ]
  },
  {
   "cell_type": "code",
   "execution_count": 37,
   "id": "57106d37",
   "metadata": {},
   "outputs": [
    {
     "data": {
      "text/plain": [
       "78.55"
      ]
     },
     "execution_count": 37,
     "metadata": {},
     "output_type": "execute_result"
    }
   ],
   "source": [
    "def area_of_circle(r):\n",
    "    pi = 3.142\n",
    "    return pi * r**2\n",
    "\n",
    "area_of_circle(5)"
   ]
  },
  {
   "cell_type": "markdown",
   "id": "db39b871",
   "metadata": {},
   "source": [
    "# 3. Naming functions  <a id='naming-functions'></a>\n",
    "\n",
    "The names of functions must obey the same rules as the names of variables. This means that:\n",
    "* we cannot use reserved keywords as names of functions\n",
    "* we cannot start the name of a function with a number (example: `5function_name`). However, a function name can contain numbers in other places (example: `f5unction_name`)\n",
    "* we cannot use characters which are not letters or numbers in our function name (`!, @, # ...`). The exception to this is the use of the underscore `_`.\n",
    "\n",
    "Moreover, similar conventions apply to function names as to variable names:\n",
    "* function names should be short, unambiguous and indicative of what the function does\n",
    "* multiple words should be separated with an underscore `_`, so that the function name is more readable.\n",
    "\n",
    "There is, however, one difference between the conventions of variable names and function names. Namely, there is a convention of using uppercase letters for variables whose value never changes. However, this does not apply to function names - all function names are typically lowercase."
   ]
  },
  {
   "cell_type": "markdown",
   "id": "81aaa2e9",
   "metadata": {},
   "source": [
    "# 4. Built-in functions  <a id='built-in-functions'></a>\n",
    "\n",
    "Aside from defining our own functions, Python already provides us with some useful functions that are defined for us - these are called built-in functions. For now, it is useful to know the following three built-in functions:\n",
    "\n",
    "1. `int(x)` - converts data of any type into an **integer** if possible (otherwise raises a `TypeError`).\n",
    "2. `float(x)` - converts data of any type into a **floating-point number** if possible (otherwise raises a `TypeError`).\n",
    "3. `str(x)` - converts data of any type into a **string** if possible (otherwise raises a `TypeError`).\n",
    "4. `type(x)` - returns the type of the object passed in as an argument.\n",
    "\n",
    "You may recognize the names of the first three functions above as abbreviations of the data types in Python. Each of the first three functions above take in one argument and attempt to convert it to the data type indicated by the name of the function. "
   ]
  },
  {
   "cell_type": "markdown",
   "id": "ad7a3dab",
   "metadata": {},
   "source": [
    "For example, we can convert a `float` into an `int`, simply by using the `int()` function:"
   ]
  },
  {
   "cell_type": "code",
   "execution_count": 38,
   "id": "7ba15849",
   "metadata": {},
   "outputs": [
    {
     "data": {
      "text/plain": [
       "24"
      ]
     },
     "execution_count": 38,
     "metadata": {},
     "output_type": "execute_result"
    }
   ],
   "source": [
    "x = 24.78934\n",
    "x = int(x)\n",
    "x"
   ]
  },
  {
   "cell_type": "markdown",
   "id": "e2351fb6",
   "metadata": {},
   "source": [
    "Notice how the `int()` function did not round `x` to the nearest full number. It simply discarded everything after the decimal point"
   ]
  },
  {
   "cell_type": "markdown",
   "id": "f5b8c3e0",
   "metadata": {},
   "source": [
    "Below you can see what happens if we call the `float()` function and pass in `x` as the argument."
   ]
  },
  {
   "cell_type": "code",
   "execution_count": 39,
   "id": "f0290b1a",
   "metadata": {
    "scrolled": true
   },
   "outputs": [
    {
     "data": {
      "text/plain": [
       "24.0"
      ]
     },
     "execution_count": 39,
     "metadata": {},
     "output_type": "execute_result"
    }
   ],
   "source": [
    "float(x)"
   ]
  },
  {
   "cell_type": "markdown",
   "id": "3c886d9d",
   "metadata": {},
   "source": [
    "It is worth noting that if we display the value of `x` again (as it is done in the code cell below), we will not get `24.0` but `24`. This is because when we called the `float()` function above, we did not assign the output of the function to the variable `x`."
   ]
  },
  {
   "cell_type": "code",
   "execution_count": 40,
   "id": "00450990",
   "metadata": {},
   "outputs": [
    {
     "data": {
      "text/plain": [
       "24"
      ]
     },
     "execution_count": 40,
     "metadata": {},
     "output_type": "execute_result"
    }
   ],
   "source": [
    "x"
   ]
  },
  {
   "cell_type": "markdown",
   "id": "48095cea",
   "metadata": {},
   "source": [
    "In order to change `x` into a float, we have to assign the output of the `float()` function to the variable `x`."
   ]
  },
  {
   "cell_type": "code",
   "execution_count": 41,
   "id": "a2412637",
   "metadata": {
    "scrolled": true
   },
   "outputs": [
    {
     "data": {
      "text/plain": [
       "24.0"
      ]
     },
     "execution_count": 41,
     "metadata": {},
     "output_type": "execute_result"
    }
   ],
   "source": [
    "x = float(x)\n",
    "x"
   ]
  },
  {
   "cell_type": "markdown",
   "id": "4725cd2d",
   "metadata": {},
   "source": [
    "The `str()` function is useful when trying to concatenate strings and numbers. For example, if we attempt to simply add a `str` and `int`, we will receive an error from Python:"
   ]
  },
  {
   "cell_type": "code",
   "execution_count": 42,
   "id": "dbf89625",
   "metadata": {},
   "outputs": [
    {
     "ename": "TypeError",
     "evalue": "can only concatenate str (not \"int\") to str",
     "output_type": "error",
     "traceback": [
      "\u001b[0;31m---------------------------------------------------------------------------\u001b[0m",
      "\u001b[0;31mTypeError\u001b[0m                                 Traceback (most recent call last)",
      "\u001b[0;32m<ipython-input-42-3e57a508808e>\u001b[0m in \u001b[0;36m<module>\u001b[0;34m\u001b[0m\n\u001b[0;32m----> 1\u001b[0;31m \u001b[0;34m\"Number of apples: \"\u001b[0m \u001b[0;34m+\u001b[0m \u001b[0;36m14\u001b[0m\u001b[0;34m\u001b[0m\u001b[0;34m\u001b[0m\u001b[0m\n\u001b[0m",
      "\u001b[0;31mTypeError\u001b[0m: can only concatenate str (not \"int\") to str"
     ]
    }
   ],
   "source": [
    "\"Number of apples: \" + 14 "
   ]
  },
  {
   "cell_type": "markdown",
   "id": "1ad780ff",
   "metadata": {},
   "source": [
    "However, we can convert an `int` (or a `float`) into a `str` with the the `str()` function:"
   ]
  },
  {
   "cell_type": "code",
   "execution_count": 1,
   "id": "c318f1b9",
   "metadata": {
    "scrolled": true
   },
   "outputs": [
    {
     "data": {
      "text/plain": [
       "'Number of apples: 14'"
      ]
     },
     "execution_count": 1,
     "metadata": {},
     "output_type": "execute_result"
    }
   ],
   "source": [
    "\"Number of apples: \" + str(14)"
   ]
  },
  {
   "cell_type": "markdown",
   "id": "56baebbb",
   "metadata": {},
   "source": [
    "Below is an example of what can be achieved with the `str()` function in a slightly more complex scenario."
   ]
  },
  {
   "cell_type": "code",
   "execution_count": 2,
   "id": "97d1a2fc",
   "metadata": {},
   "outputs": [
    {
     "data": {
      "text/plain": [
       "'John is 25 years old.'"
      ]
     },
     "execution_count": 2,
     "metadata": {},
     "output_type": "execute_result"
    }
   ],
   "source": [
    "def name_and_age_text(name, birth_year):\n",
    "    current_year = 2022\n",
    "    age = current_year - birth_year\n",
    "    text = name  + \" is \" + str(age) + \" years old.\"\n",
    "    return text\n",
    "\n",
    "name_and_age_text(\"John\", 1997)"
   ]
  },
  {
   "cell_type": "markdown",
   "id": "6a1c201e",
   "metadata": {},
   "source": [
    "The function above has two parameters: `name` and `birth_year`. It naturally expects `name` to be a `str`, while `birth_year` to be an `int`. The function calculates the age of the person, assuming that the current year is 2022. Therefore, we first subtract `birth_year` from `current_year` and assign the value to the variable `age`. Next we want to display a message stating the name and age of a person, which will be a `str`. Therefore, the `str()` function is used to convert the variable `age` to a `str` and then concatenate it with other strings to form the entire message, which is assigned to the variable `text`. Finally, we return the variable `text`."
   ]
  },
  {
   "cell_type": "markdown",
   "id": "5dfa687f",
   "metadata": {},
   "source": [
    "And finally, the `type()` function returns the type of an object (such as `int`, `float` or `str`)"
   ]
  },
  {
   "cell_type": "code",
   "execution_count": 1,
   "id": "a0f2af76",
   "metadata": {
    "scrolled": false
   },
   "outputs": [
    {
     "data": {
      "text/plain": [
       "int"
      ]
     },
     "execution_count": 1,
     "metadata": {},
     "output_type": "execute_result"
    }
   ],
   "source": [
    "type(25)"
   ]
  },
  {
   "cell_type": "code",
   "execution_count": 8,
   "id": "2803b4b3",
   "metadata": {},
   "outputs": [
    {
     "data": {
      "text/plain": [
       "float"
      ]
     },
     "execution_count": 8,
     "metadata": {},
     "output_type": "execute_result"
    }
   ],
   "source": [
    "type(4.736)"
   ]
  },
  {
   "cell_type": "code",
   "execution_count": 9,
   "id": "af8dab0e",
   "metadata": {
    "scrolled": true
   },
   "outputs": [
    {
     "data": {
      "text/plain": [
       "str"
      ]
     },
     "execution_count": 9,
     "metadata": {},
     "output_type": "execute_result"
    }
   ],
   "source": [
    "type(\"hello\")"
   ]
  }
 ],
 "metadata": {
  "kernelspec": {
   "display_name": "Python 3 (ipykernel)",
   "language": "python",
   "name": "python3"
  },
  "language_info": {
   "codemirror_mode": {
    "name": "ipython",
    "version": 3
   },
   "file_extension": ".py",
   "mimetype": "text/x-python",
   "name": "python",
   "nbconvert_exporter": "python",
   "pygments_lexer": "ipython3",
   "version": "3.9.13"
  }
 },
 "nbformat": 4,
 "nbformat_minor": 5
}
