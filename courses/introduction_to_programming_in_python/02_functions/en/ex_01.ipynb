{
 "cells": [
  {
   "cell_type": "markdown",
   "id": "0e44e91c",
   "metadata": {},
   "source": [
    "### Exercise 1 (2.5 points)\n",
    "\n",
    "Create a function which calculates the area of a trapezoid. The area of a trapezoid can be calculated using the following formula: $\\Large A = \\frac{a + b}{2}h $\n",
    "\n",
    "The function should be called `trapezoid_area` and take in three arguments `a`, `b` and `h`. A blueprint of the function has been provided for you below:"
   ]
  },
  {
   "cell_type": "code",
   "execution_count": null,
   "id": "338e2972",
   "metadata": {},
   "outputs": [],
   "source": [
    "def trapezoid_area(a, b, h):\n",
    "    area = \n",
    "    return area"
   ]
  }
 ],
 "metadata": {
  "kernelspec": {
   "display_name": "Python 3 (ipykernel)",
   "language": "python",
   "name": "python3"
  },
  "language_info": {
   "codemirror_mode": {
    "name": "ipython",
    "version": 3
   },
   "file_extension": ".py",
   "mimetype": "text/x-python",
   "name": "python",
   "nbconvert_exporter": "python",
   "pygments_lexer": "ipython3",
   "version": "3.8.3"
  }
 },
 "nbformat": 4,
 "nbformat_minor": 5
}
