{
 "cells": [
  {
   "cell_type": "markdown",
   "id": "8a907f17",
   "metadata": {},
   "source": [
    "### Exercise 2 (2.5 points)\n",
    "\n",
    "Create a function which uses the Pythagorean theorem to calculate the length of one of the sides of a right triangle. As a reminder, the Pythagorean theorem states the following is true for right triangles, with sides *a*, *b* and *c* (where *c* is the hypotenuse): \n",
    "\n",
    "$$\\Large a^2 + b^2 = c^2 $$\n",
    "\n",
    "More specifically, create a function which calculates the length of the hypotenuse *c* using the following version of the Pythagorean theorem: \n",
    "\n",
    "$$ \\Large c = \\sqrt{a^2 + b^2} $$\n",
    "\n",
    "The function should be named `calculate_right_triangle_c` and it should have two parameters: `a` and `b`. A blueprint of the function has been provided for you below.\n",
    "\n",
    "**hint:** $ \\sqrt{x} $ is the same as $ x^{0.5} $ (*x* to the power of one half)"
   ]
  },
  {
   "cell_type": "code",
   "execution_count": null,
   "id": "720cd884",
   "metadata": {},
   "outputs": [],
   "source": [
    "def calculate_right_triangle_c(a, b):\n",
    "    c = \n",
    "    return c"
   ]
  }
 ],
 "metadata": {
  "kernelspec": {
   "display_name": "Python 3 (ipykernel)",
   "language": "python",
   "name": "python3"
  },
  "language_info": {
   "codemirror_mode": {
    "name": "ipython",
    "version": 3
   },
   "file_extension": ".py",
   "mimetype": "text/x-python",
   "name": "python",
   "nbconvert_exporter": "python",
   "pygments_lexer": "ipython3",
   "version": "3.8.3"
  }
 },
 "nbformat": 4,
 "nbformat_minor": 5
}
