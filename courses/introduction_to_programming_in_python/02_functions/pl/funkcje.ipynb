{
 "cells": [
  {
   "cell_type": "markdown",
   "id": "588fe5f0",
   "metadata": {},
   "source": [
    "## Sekcje:\n",
    "\n",
    "1. [Funkcje](#funkcje)\n",
    "2. [Definiowanie funkcji](#definiowanie-funkcji)\n",
    "3. [Nazewnictwo funckji](#nazewnictwo-funckji)\n",
    "4. [Funkcje wbudowane](#funkcje-wbudowane)"
   ]
  },
  {
   "cell_type": "markdown",
   "id": "a6291bd0",
   "metadata": {},
   "source": [
    "# 1. Funkcje  <a id='funkcje'></a>\n",
    "\n",
    "Funkcja to seria instrukcji, które zostały zgrupowane razem. Funkcje pozwalają nam podzielić nasz program na mniejsze, modułowe części. Gdy nasz program rośnie i zaczyna zawierać coraz więcej kodu, pozwala nam to utrzymać wszystko w bardziej uporządkowanej formie. W konsekwencji, nasz program staje się również łatwiejszy do zrozumienia.\n",
    "\n",
    "Ponadto, funkcje zapewniają wygodny sposób na ponowne wykorzystanie części naszego kodu w wielu różnych miejscach, bez konieczności jego kopiowania."
   ]
  },
  {
   "cell_type": "markdown",
   "id": "fc206ea2",
   "metadata": {},
   "source": [
    "# 2. Definiowanie funkcji  <a id='definiowanie-funkcji'></a>\n",
    "\n",
    "Tworzenie funkcji w Pythonie wykorzystuje zarezerwowane słowo kluczowe `def` (skrót od \"define\"). Po napisaniu słowa `def`, musimy również nadać naszej funkcji nazwę. Na koniec musimy określić **argumenty**, które może ona otrzymać oraz wartość, którą **zwraca**.\n",
    "\n",
    "O funkcji można myśleć jako o czymś, co:\n",
    "1. otrzymuje wartości, zwane argumentami\n",
    "2. następnie wykonuje pewne operacje na tych argumentach\n",
    "3. i na koniec zwraca jakąś wartość końcową\n",
    "\n",
    "Na przykład, poniższy kod definiuje funkcję o nazwie `multiply_by_two`, która przyjmuje jeden argument `x` i zwraca `x * 2`."
   ]
  },
  {
   "cell_type": "code",
   "execution_count": 26,
   "id": "d63f9452",
   "metadata": {},
   "outputs": [],
   "source": [
    "def multiply_by_two(x):\n",
    "    return x * 2"
   ]
  },
  {
   "cell_type": "markdown",
   "id": "24e33efd",
   "metadata": {},
   "source": [
    "Gdy już zdefiniujemy funkcję, możemy ją wykorzystać w naszym kodzie poprzez jej wywołanie. Funkcję `multiply_by_two` możemy wywołać pisząc jej nazwę, a następnie argument, który chcemy przekazać zapisany w nawiasie."
   ]
  },
  {
   "cell_type": "code",
   "execution_count": 27,
   "id": "793f47d7",
   "metadata": {},
   "outputs": [
    {
     "data": {
      "text/plain": [
       "2"
      ]
     },
     "execution_count": 27,
     "metadata": {},
     "output_type": "execute_result"
    }
   ],
   "source": [
    "multiply_by_two(1)"
   ]
  },
  {
   "cell_type": "code",
   "execution_count": 28,
   "id": "4f0eea1f",
   "metadata": {},
   "outputs": [
    {
     "data": {
      "text/plain": [
       "4"
      ]
     },
     "execution_count": 28,
     "metadata": {},
     "output_type": "execute_result"
    }
   ],
   "source": [
    "multiply_by_two(2)"
   ]
  },
  {
   "cell_type": "code",
   "execution_count": 29,
   "id": "a9bdf056",
   "metadata": {
    "scrolled": true
   },
   "outputs": [
    {
     "data": {
      "text/plain": [
       "6"
      ]
     },
     "execution_count": 29,
     "metadata": {},
     "output_type": "execute_result"
    }
   ],
   "source": [
    "multiply_by_two(3)"
   ]
  },
  {
   "cell_type": "markdown",
   "id": "01421f2c",
   "metadata": {},
   "source": [
    " Jak widać powyżej, funkcja `multiply_by_two` podwaja wartość każdego argumentu, który do niej przekażemy. Na bardziej szczegółowym poziomie, funkcja `multiply_by_two` przyjmuje jedną wartość (jeden argument), przypisuje tę wartość do zmiennej o nazwie `x`, a następnie zwraca wynik wyrażenia `x * 2` - jak wskazuje instrukcja `return`."
   ]
  },
  {
   "cell_type": "markdown",
   "id": "d5d78079",
   "metadata": {},
   "source": [
    "**Uwaga:** często używa się terminów \"argumenty\" i \"parametry\" zamiennie. Jednak główna różnica między tymi terminami polega na tym, że termin \"parametry\" odnosi się do zmiennych wymienionych wewnątrz nawiasów, gdy definiujemy funkcję, podczas gdy termin \"argumenty\" odnosi się do zmiennych wymienionych wewnątrz nawiasów, gdy wywołujemy funkcję."
   ]
  },
  {
   "cell_type": "code",
   "execution_count": 30,
   "id": "b25dfafb",
   "metadata": {},
   "outputs": [
    {
     "data": {
      "text/plain": [
       "15"
      ]
     },
     "execution_count": 30,
     "metadata": {},
     "output_type": "execute_result"
    }
   ],
   "source": [
    "def add(x, y):\n",
    "    return x + y\n",
    "\n",
    "add(5, 10)"
   ]
  },
  {
   "cell_type": "markdown",
   "id": "dd311443",
   "metadata": {},
   "source": [
    "W przypadku zdefiniowanej powyżej funkcji `add`, `x` i `y` są parametrami funkcji, natomiast `5` i `10` są argumentami przekazywanymi do funkcji."
   ]
  },
  {
   "cell_type": "markdown",
   "id": "eb5f387d",
   "metadata": {},
   "source": [
    "Funkcje mogą zawierać wiele linii kodu, a w ramach funkcji możemy zdefiniować dodatkowe zmienne, które nie są parametrami funkcji."
   ]
  },
  {
   "cell_type": "code",
   "execution_count": 31,
   "id": "bcd1e327",
   "metadata": {},
   "outputs": [],
   "source": [
    "def confirmation_message(name, location):\n",
    "    text_1 = \"Start packing your bags \" + name + \"!\"\n",
    "    text_2 = \" You have successfully booked a trip to \" + location + \".\"\n",
    "    full_text = text_1 + text_2\n",
    "    return full_text"
   ]
  },
  {
   "cell_type": "code",
   "execution_count": 32,
   "id": "20f19977",
   "metadata": {
    "scrolled": true
   },
   "outputs": [
    {
     "data": {
      "text/plain": [
       "'Start packing your bags Emma! You have successfully booked a trip to Antarctica.'"
      ]
     },
     "execution_count": 32,
     "metadata": {},
     "output_type": "execute_result"
    }
   ],
   "source": [
    "confirmation_message(\"Emma\", \"Antarctica\")"
   ]
  },
  {
   "cell_type": "markdown",
   "id": "f4e421b3",
   "metadata": {},
   "source": [
    "Jedną z korzyści ze zdefiniowania powyższej funkcji jest to, że teraz nie musimy pamiętać, co konkretnie powinna mówić wiadomość potwierdzająca rezerwację. Musimy jedynie wywołać funkcję `confirmation_message`, zamiast pisać wszystkie te linijki kodu. Nasz kod staje się również bardziej przejrzysty i zrozumiały w ten sposób, ponieważ nazwa funkcji dobrze wskazuje, co ona robi. \n",
    "\n",
    "Ponadto, jeśli kiedykolwiek będziemy musieli zmienić wiadomość potwierdzającą, będziemy musieli zmienić ją tylko w jednym miejscu - wewnątrz definicji funkcji. Gdy zaktualizujemy definicję funkcji, cały kod wywołujący tę funkcję będzie zachowywał się zgodnie z nową, zaktualizowaną definicją funkcji."
   ]
  },
  {
   "cell_type": "markdown",
   "id": "9057c341",
   "metadata": {},
   "source": [
    "Jak widzieliśmy powyżej, funkcje mogą mieć wiele parametrów (tyle ile chcemy) i być bardziej złożone niż tylko jedna linijka kodu. Cały kod, który należy do funkcji jest wcięty. Dlatego jeśli zdefiniujemy funkcję bez wcięcia kodu, otrzymamy od Pythona błąd."
   ]
  },
  {
   "cell_type": "code",
   "execution_count": 33,
   "id": "c5934286",
   "metadata": {},
   "outputs": [
    {
     "ename": "IndentationError",
     "evalue": "expected an indented block (<ipython-input-33-d78481c60fba>, line 2)",
     "output_type": "error",
     "traceback": [
      "\u001b[0;36m  File \u001b[0;32m\"<ipython-input-33-d78481c60fba>\"\u001b[0;36m, line \u001b[0;32m2\u001b[0m\n\u001b[0;31m    pi = 3.142\u001b[0m\n\u001b[0m    ^\u001b[0m\n\u001b[0;31mIndentationError\u001b[0m\u001b[0;31m:\u001b[0m expected an indented block\n"
     ]
    }
   ],
   "source": [
    "def area_of_circle(r):\n",
    "pi = 3.142\n",
    "return pi * r**2"
   ]
  },
  {
   "cell_type": "markdown",
   "id": "d492f237",
   "metadata": {},
   "source": [
    "Podobnie, poniższe przykłady również skutkują `IndentationError`. Zauważ jednak, że komunikat po specyfikacji typu błędu jest inny."
   ]
  },
  {
   "cell_type": "code",
   "execution_count": 35,
   "id": "bbb2406d",
   "metadata": {
    "scrolled": true
   },
   "outputs": [
    {
     "ename": "IndentationError",
     "evalue": "unindent does not match any outer indentation level (<tokenize>, line 3)",
     "output_type": "error",
     "traceback": [
      "\u001b[0;36m  File \u001b[0;32m\"<tokenize>\"\u001b[0;36m, line \u001b[0;32m3\u001b[0m\n\u001b[0;31m    return pi * r**2\u001b[0m\n\u001b[0m    ^\u001b[0m\n\u001b[0;31mIndentationError\u001b[0m\u001b[0;31m:\u001b[0m unindent does not match any outer indentation level\n"
     ]
    }
   ],
   "source": [
    "def area_of_circle(r):\n",
    "        pi = 3.142\n",
    "    return pi * r**2"
   ]
  },
  {
   "cell_type": "code",
   "execution_count": 36,
   "id": "602b3868",
   "metadata": {
    "scrolled": true
   },
   "outputs": [
    {
     "ename": "IndentationError",
     "evalue": "unexpected indent (<ipython-input-36-ee26e8b88288>, line 3)",
     "output_type": "error",
     "traceback": [
      "\u001b[0;36m  File \u001b[0;32m\"<ipython-input-36-ee26e8b88288>\"\u001b[0;36m, line \u001b[0;32m3\u001b[0m\n\u001b[0;31m    return pi * r**2\u001b[0m\n\u001b[0m    ^\u001b[0m\n\u001b[0;31mIndentationError\u001b[0m\u001b[0;31m:\u001b[0m unexpected indent\n"
     ]
    }
   ],
   "source": [
    "def area_of_circle(r):\n",
    "    pi = 3.142\n",
    "        return pi * r**2"
   ]
  },
  {
   "cell_type": "markdown",
   "id": "9e1e5817",
   "metadata": {},
   "source": [
    "Wcięcia oznaczają, który kod należy do funkcji, a który nie. W komórce kodu poniżej definiujemy funkcję `area_of_circle`, a następnie wywołujemy tę funkcję. Definicja funkcji kończy się w momencie, gdy kończy się wcięty kod."
   ]
  },
  {
   "cell_type": "code",
   "execution_count": 37,
   "id": "57106d37",
   "metadata": {},
   "outputs": [
    {
     "data": {
      "text/plain": [
       "78.55"
      ]
     },
     "execution_count": 37,
     "metadata": {},
     "output_type": "execute_result"
    }
   ],
   "source": [
    "def area_of_circle(r):\n",
    "    pi = 3.142\n",
    "    return pi * r**2\n",
    "\n",
    "area_of_circle(5)"
   ]
  },
  {
   "cell_type": "markdown",
   "id": "db39b871",
   "metadata": {},
   "source": [
    "# 3. Nazewnictwo funkcji  <a id='nazewnictwo-funckji'></a>\n",
    "\n",
    "Nazwy funkcji muszą przestrzegać tych samych zasad, co nazwy zmiennych. Oznacza to, że:\n",
    "* nie możemy używać zarezerwowanych słów kluczowych jako nazw funkcji\n",
    "* nie możemy rozpoczynać nazwy funkcji od liczby (przykład: `5function_name`). Jednak nazwa funkcji może zawierać liczby w innych miejscach (przykład: `f5unction_name`)\n",
    "* w nazwie funkcji nie możemy używać znaków, które nie są literami lub cyframi (`!, @, # ...`). Wyjątkiem od tego jest użycie podkreślnika `_`.\n",
    "\n",
    "Ponadto, do nazw funkcji stosuje się podobne konwencje jak do nazw zmiennych:\n",
    "* nazwy funkcji powinny być krótkie, jednoznaczne i odzwierciedlające to co funkcja faktycznie robi.\n",
    "* słowa powinny być oddzielone podkreślnikiem `_`, aby nazwa funkcji była bardziej czytelna.\n",
    "\n",
    "Istnieje jednak jedna różnica pomiędzy konwencjami nazewnictwa zmiennych i konwencjami nazewnictwa funkcji. Mianowicie, istnieje konwencja używania dużych liter dla zmiennych, których wartość nigdy się nie zmienia. Nie dotyczy to jednak nazw funkcji - wszystkie nazwy funkcji są zazwyczaj pisane małymi literami."
   ]
  },
  {
   "cell_type": "markdown",
   "id": "81aaa2e9",
   "metadata": {},
   "source": [
    "# 4. Funkcje wbudowane  <a id='funckje-wbudowane'></a>\n",
    "\n",
    "Poza możliwością definiowania własnych funkcji, Python również zawiera już kilka przydatnych funkcji, które są zdefiniowane za nas - są to tak zwane funkcje wbudowane. Na razie warto znać następujące cztery funkcje wbudowane:\n",
    "\n",
    "1. `int(x)` - konwertuje dane dowolnego typu na **integer**, jeśli to możliwe (w przeciwnym razie wyskakuje błąd `TypeError`).\n",
    "2. `float(x)` - konwertuje dane dowolnego typu na **float**, jeśli to możliwe (w przeciwnym razie wyskakuje błąd `TypeError`).\n",
    "3. `str(x)` - konwertuje dane dowolnego typu na **string**, jeśli to możliwe (w przeciwnym razie wyskakuje błąd `TypeError`).\n",
    "4. `type(x)` - zwraca typ obiektu przekazanego jako argument.\n",
    "\n",
    "Nazwy powyższych funkcji możesz rozpoznać jako skróty typów danych w Pythonie. Każda z pierwszych trzech powyższych funkcji przyjmuje jeden argument i próbuje go zmienić na typ danych wskazany przez nazwę funkcji. "
   ]
  },
  {
   "cell_type": "markdown",
   "id": "ad7a3dab",
   "metadata": {},
   "source": [
    "Na przykład, możemy przekonwertować `float` na `int`, po prostu używając funkcji `int()`:"
   ]
  },
  {
   "cell_type": "code",
   "execution_count": 1,
   "id": "7ba15849",
   "metadata": {},
   "outputs": [
    {
     "data": {
      "text/plain": [
       "24"
      ]
     },
     "execution_count": 1,
     "metadata": {},
     "output_type": "execute_result"
    }
   ],
   "source": [
    "x = 24.78934\n",
    "x = int(x)\n",
    "x"
   ]
  },
  {
   "cell_type": "markdown",
   "id": "e2351fb6",
   "metadata": {},
   "source": [
    "Zauważ, że funkcja `int()` nie zaokrągliła `x` do najbliższej pełnej liczby. Po prostu odrzuciła wszystko po przecinku"
   ]
  },
  {
   "cell_type": "markdown",
   "id": "f5b8c3e0",
   "metadata": {},
   "source": [
    "Poniżej widać, co się stanie, jeśli wywołamy funkcję `float()` i jako argument przekażemy `x`."
   ]
  },
  {
   "cell_type": "code",
   "execution_count": 39,
   "id": "f0290b1a",
   "metadata": {
    "scrolled": true
   },
   "outputs": [
    {
     "data": {
      "text/plain": [
       "24.0"
      ]
     },
     "execution_count": 39,
     "metadata": {},
     "output_type": "execute_result"
    }
   ],
   "source": [
    "float(x)"
   ]
  },
  {
   "cell_type": "markdown",
   "id": "3c886d9d",
   "metadata": {},
   "source": [
    "Warto zauważyć, że jeśli ponownie wyświetlimy wartość `x` (tak jak to zrobiono w komórce kodu poniżej), to nie otrzymamy `24,0` lecz `24`. Dzieje się tak dlatego, że wywołując powyższą funkcję `float()`, nie przypisaliśmy wartości zwróconej przez tę funkcję do zmiennej `x`."
   ]
  },
  {
   "cell_type": "code",
   "execution_count": 2,
   "id": "00450990",
   "metadata": {},
   "outputs": [
    {
     "data": {
      "text/plain": [
       "24"
      ]
     },
     "execution_count": 2,
     "metadata": {},
     "output_type": "execute_result"
    }
   ],
   "source": [
    "x"
   ]
  },
  {
   "cell_type": "markdown",
   "id": "48095cea",
   "metadata": {},
   "source": [
    "Aby zmienić `x` na float, musimy przypisać wartość zwróconą przez funkcję `float()` do zmiennej `x`."
   ]
  },
  {
   "cell_type": "code",
   "execution_count": 41,
   "id": "a2412637",
   "metadata": {
    "scrolled": true
   },
   "outputs": [
    {
     "data": {
      "text/plain": [
       "24.0"
      ]
     },
     "execution_count": 41,
     "metadata": {},
     "output_type": "execute_result"
    }
   ],
   "source": [
    "x = float(x)\n",
    "x"
   ]
  },
  {
   "cell_type": "markdown",
   "id": "4725cd2d",
   "metadata": {},
   "source": [
    "Funkcja `str()` jest przydatna przy próbie konkatenacji stringów i liczb. Na przykład, jeśli spróbujemy po prostu dodać `str` i `int`, otrzymamy błąd od Pythona:"
   ]
  },
  {
   "cell_type": "code",
   "execution_count": 42,
   "id": "dbf89625",
   "metadata": {},
   "outputs": [
    {
     "ename": "TypeError",
     "evalue": "can only concatenate str (not \"int\") to str",
     "output_type": "error",
     "traceback": [
      "\u001b[0;31m---------------------------------------------------------------------------\u001b[0m",
      "\u001b[0;31mTypeError\u001b[0m                                 Traceback (most recent call last)",
      "\u001b[0;32m<ipython-input-42-3e57a508808e>\u001b[0m in \u001b[0;36m<module>\u001b[0;34m\u001b[0m\n\u001b[0;32m----> 1\u001b[0;31m \u001b[0;34m\"Number of apples: \"\u001b[0m \u001b[0;34m+\u001b[0m \u001b[0;36m14\u001b[0m\u001b[0;34m\u001b[0m\u001b[0;34m\u001b[0m\u001b[0m\n\u001b[0m",
      "\u001b[0;31mTypeError\u001b[0m: can only concatenate str (not \"int\") to str"
     ]
    }
   ],
   "source": [
    "\"Number of apples: \" + 14 "
   ]
  },
  {
   "cell_type": "markdown",
   "id": "1ad780ff",
   "metadata": {},
   "source": [
    "Ale możemy przekonwertować `int` (lub `float`) na `str` za pomocą funkcji `str()`:"
   ]
  },
  {
   "cell_type": "code",
   "execution_count": 1,
   "id": "c318f1b9",
   "metadata": {
    "scrolled": true
   },
   "outputs": [
    {
     "data": {
      "text/plain": [
       "'Number of apples: 14'"
      ]
     },
     "execution_count": 1,
     "metadata": {},
     "output_type": "execute_result"
    }
   ],
   "source": [
    "\"Number of apples: \" + str(14)"
   ]
  },
  {
   "cell_type": "markdown",
   "id": "56baebbb",
   "metadata": {},
   "source": [
    "Poniżej przykład tego, co można osiągnąć za pomocą funkcji `str()` w nieco bardziej złożonej sytuacji."
   ]
  },
  {
   "cell_type": "code",
   "execution_count": 2,
   "id": "97d1a2fc",
   "metadata": {},
   "outputs": [
    {
     "data": {
      "text/plain": [
       "'John is 25 years old.'"
      ]
     },
     "execution_count": 2,
     "metadata": {},
     "output_type": "execute_result"
    }
   ],
   "source": [
    "def name_and_age_text(name, birth_year):\n",
    "    current_year = 2022\n",
    "    age = current_year - birth_year\n",
    "    text = name  + \" is \" + str(age) + \" years old.\"\n",
    "    return text\n",
    "\n",
    "name_and_age_text(\"John\", 1997)"
   ]
  },
  {
   "cell_type": "markdown",
   "id": "6a1c201e",
   "metadata": {},
   "source": [
    "Powyższa funkcja posiada dwa parametry: `name` i `birth_year`. Oczywiście oczekuje ona, że `name` będzie `str`, natomiast `birth_year` będzie `int`. Funkcja oblicza wiek osoby, zakładając, że bieżący rok to 2022. Dlatego najpierw odejmujemy `birth_year` od `current_year` i przypisujemy wartość do zmiennej `age`. Następnie chcemy wyświetlić komunikat podający imię i wiek osoby, który będzie miał postać `str`. Dlatego też funkcja `str()` jest używana do konwersji zmiennej `age` na `str`, a następnie konkatenacji jej z innymi stringami w celu utworzenia całej wiadomości, która jest przypisywana do zmiennej `text`. Na koniec zwracamy zmienną `text`."
   ]
  },
  {
   "cell_type": "markdown",
   "id": "5dfa687f",
   "metadata": {},
   "source": [
    "I wreszcie, funkcja `type()` zwraca typ obiektu (jak np. `int`, `float` czy `str`)"
   ]
  },
  {
   "cell_type": "code",
   "execution_count": 1,
   "id": "a0f2af76",
   "metadata": {
    "scrolled": false
   },
   "outputs": [
    {
     "data": {
      "text/plain": [
       "int"
      ]
     },
     "execution_count": 1,
     "metadata": {},
     "output_type": "execute_result"
    }
   ],
   "source": [
    "type(25)"
   ]
  },
  {
   "cell_type": "code",
   "execution_count": 8,
   "id": "2803b4b3",
   "metadata": {},
   "outputs": [
    {
     "data": {
      "text/plain": [
       "float"
      ]
     },
     "execution_count": 8,
     "metadata": {},
     "output_type": "execute_result"
    }
   ],
   "source": [
    "type(4.736)"
   ]
  },
  {
   "cell_type": "code",
   "execution_count": 9,
   "id": "af8dab0e",
   "metadata": {
    "scrolled": true
   },
   "outputs": [
    {
     "data": {
      "text/plain": [
       "str"
      ]
     },
     "execution_count": 9,
     "metadata": {},
     "output_type": "execute_result"
    }
   ],
   "source": [
    "type(\"hello\")"
   ]
  }
 ],
 "metadata": {
  "kernelspec": {
   "display_name": "Python 3 (ipykernel)",
   "language": "python",
   "name": "python3"
  },
  "language_info": {
   "codemirror_mode": {
    "name": "ipython",
    "version": 3
   },
   "file_extension": ".py",
   "mimetype": "text/x-python",
   "name": "python",
   "nbconvert_exporter": "python",
   "pygments_lexer": "ipython3",
   "version": "3.9.13"
  }
 },
 "nbformat": 4,
 "nbformat_minor": 5
}
