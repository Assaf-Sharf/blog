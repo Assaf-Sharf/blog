{
 "cells": [
  {
   "cell_type": "markdown",
   "id": "0e44e91c",
   "metadata": {},
   "source": [
    "### Zadanie 1 (2.5 punktów)\n",
    "\n",
    "Utwórz funkcję, która oblicza pole powierzchni trapezu. Pole powierzchni trapezu można obliczyć za pomocą następującego wzoru: $\\Large A = \\frac{a + b}{2}h $\n",
    "\n",
    "Funkcja powinna nazywać się `trapezoid_area` i przyjmować trzy argumenty `a`, `b` i `h`. Schemat funkcji został przygotowany dla Ciebie poniżej:"
   ]
  },
  {
   "cell_type": "code",
   "execution_count": null,
   "id": "338e2972",
   "metadata": {},
   "outputs": [],
   "source": [
    "def trapezoid_area(a, b, h):\n",
    "    area = \n",
    "    return area"
   ]
  }
 ],
 "metadata": {
  "kernelspec": {
   "display_name": "Python 3 (ipykernel)",
   "language": "python",
   "name": "python3"
  },
  "language_info": {
   "codemirror_mode": {
    "name": "ipython",
    "version": 3
   },
   "file_extension": ".py",
   "mimetype": "text/x-python",
   "name": "python",
   "nbconvert_exporter": "python",
   "pygments_lexer": "ipython3",
   "version": "3.9.13"
  }
 },
 "nbformat": 4,
 "nbformat_minor": 5
}
