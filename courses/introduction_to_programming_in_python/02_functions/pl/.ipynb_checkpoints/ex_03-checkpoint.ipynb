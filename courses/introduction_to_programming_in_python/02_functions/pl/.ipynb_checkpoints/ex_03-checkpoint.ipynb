{
 "cells": [
  {
   "cell_type": "markdown",
   "id": "5daaf700",
   "metadata": {},
   "source": [
    "### Zadanie 3 (5 punktów)\n",
    "\n",
    "Utwórz funkcję o nazwie `name_and_birth_year`, która ma dwa parametry `name` (typu `str`) i `age` (typu `int`). Funkcja powinna obliczać i zwracać imię oraz rok urodzenia danej osoby, przy założeniu, że bieżący rok to **2022**. Dodatkowo, wartość zwracana przez funkcję powinna być stringiem w następującym formacie: `'{name} was born in {birth_year}'`.\n",
    "\n",
    "Jeśli więc uruchomimy kod `name_and_birth_year('Mary', 28)`, to otrzymamy wynik: `'Mary was born in 1994'`.\n",
    "\n",
    " Schemat funkcji został przygotowany dla Ciebie poniżej:"
   ]
  },
  {
   "cell_type": "code",
   "execution_count": null,
   "id": "269e0c5a",
   "metadata": {},
   "outputs": [],
   "source": [
    "def name_and_birth_year(name, age):\n",
    "    \n",
    "    return "
   ]
  }
 ],
 "metadata": {
  "kernelspec": {
   "display_name": "Python 3 (ipykernel)",
   "language": "python",
   "name": "python3"
  },
  "language_info": {
   "codemirror_mode": {
    "name": "ipython",
    "version": 3
   },
   "file_extension": ".py",
   "mimetype": "text/x-python",
   "name": "python",
   "nbconvert_exporter": "python",
   "pygments_lexer": "ipython3",
   "version": "3.9.13"
  }
 },
 "nbformat": 4,
 "nbformat_minor": 5
}
