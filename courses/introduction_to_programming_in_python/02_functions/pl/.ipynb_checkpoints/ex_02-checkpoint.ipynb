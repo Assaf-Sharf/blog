{
 "cells": [
  {
   "cell_type": "markdown",
   "id": "8a907f17",
   "metadata": {},
   "source": [
    "### Zadanie 2 (2.5 punktów)\n",
    "\n",
    "Utwórz funkcję, która wykorzystuje twierdzenie Pitagorasa do obliczenia długości jednego z boków trójkąta prostokątnego. Dla przypomnienia, twierdzenie Pitagorasa mówi, że dla trójkątów prostych o bokach *a*, *b* i *c* (gdzie *c* jest hipotensem) prawdziwe jest następujące stwierdzenie: \n",
    "\n",
    "$$\\Large a^2 + b^2 = c^2 $$\n",
    "\n",
    "Dokładniej, utwórz funkcję, która oblicza długość hipotensy *c*, korzystając z następującej wersji twierdzenia Pitagorasa: \n",
    "\n",
    "$$ \\Large c = \\sqrt{a^2 + b^2} $$\n",
    "\n",
    "Funkcja powinna nazywać się `calculate_right_triangle_c` i powinna mieć dwa parametry: `a` i `b`. Poniżej został przygotowany dla Ciebie schemat funkcji.\n",
    "\n",
    "**Podpowiedź:** $ \\sqrt{x} $ to to samo co $ x^{0.5} $ (*x* do potęgi 0.5)"
   ]
  },
  {
   "cell_type": "code",
   "execution_count": null,
   "id": "720cd884",
   "metadata": {},
   "outputs": [],
   "source": [
    "def calculate_right_triangle_c(a, b):\n",
    "    c = \n",
    "    return c"
   ]
  }
 ],
 "metadata": {
  "kernelspec": {
   "display_name": "Python 3 (ipykernel)",
   "language": "python",
   "name": "python3"
  },
  "language_info": {
   "codemirror_mode": {
    "name": "ipython",
    "version": 3
   },
   "file_extension": ".py",
   "mimetype": "text/x-python",
   "name": "python",
   "nbconvert_exporter": "python",
   "pygments_lexer": "ipython3",
   "version": "3.9.13"
  }
 },
 "nbformat": 4,
 "nbformat_minor": 5
}
