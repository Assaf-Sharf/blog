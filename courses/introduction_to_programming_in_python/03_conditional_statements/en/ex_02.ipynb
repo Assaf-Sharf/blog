{
 "cells": [
  {
   "cell_type": "markdown",
   "id": "2677bb3b",
   "metadata": {},
   "source": [
    "### Exercise 2.1 (4 points)\n",
    "\n",
    "Create a function called `total_price`, which has two parameters `num_apples` and `num_oranges`, and which returns the total price according to the following rules:\n",
    "\n",
    "1. The price of one apple is \\$0.36\n",
    "2. The price of one orange is \\$0.42\n",
    "3. If a customer buys 3 or more apples, a 15% discount is applied to the price of apples.\n",
    "4. If a customer buys 3 or more oranges, a 10% discount is applied to the price of oranges.\n",
    "5. If a customer buys 10 or more items (apples or oranges) in total, an additional 25% discount is applied to the total price, after all previous discounts have been applied.\n",
    "6. The final price is a `float` rounded to two decimal places.\n",
    "\n",
    "Here are some of the values you should expect the `total_price` function to return:\n",
    "\n",
    "* `total_price(1, 2)` -> `1.20`\n",
    "* `total_price(4, 3)` -> `2.36`\n",
    "* `total_price(1, 14)` -> `4.24`\n",
    "* `total_price(7, 5)` -> `3.02`"
   ]
  },
  {
   "cell_type": "code",
   "execution_count": null,
   "id": "64e948fa",
   "metadata": {},
   "outputs": [],
   "source": [
    "def total_price(num_apples, num_oranges):\n",
    "    price_apple = 0.36\n",
    "    price_orange = 0.42\n",
    "    \n",
    "    \n",
    "    return"
   ]
  },
  {
   "cell_type": "markdown",
   "id": "88945418",
   "metadata": {},
   "source": [
    "The code cell below is provided to you for testing purposes:"
   ]
  },
  {
   "cell_type": "code",
   "execution_count": null,
   "id": "caa94089",
   "metadata": {},
   "outputs": [],
   "source": [
    "total_price(7, 5)"
   ]
  },
  {
   "cell_type": "markdown",
   "id": "d62f0522",
   "metadata": {},
   "source": [
    "### Exercise 2.2 (3 points)\n",
    "\n",
    "Define a function called `total_price_modified` which is a modified version of the function defined in the previous exercise.\n",
    "More specifically, condition #5 is changed so that if a customer buys 10 or more items, previous discounts (specified in points #3 and #4) are ignored and the only discount applied is the 25% off of the total price. However, if a customer has less than 10 items, the discounts specified in points #3 and #4 apply.\n",
    "\n",
    "Here are some of the values you should expect the `total_price_modified` function to return:\n",
    "\n",
    "* `total_price_modified(1, 2)` -> `1.20`\n",
    "* `total_price_modified(4, 3)` -> `2.36`\n",
    "* `total_price_modified(1, 14)` -> `4.68`\n",
    "* `total_price_modified(7, 5)` -> `3.46`"
   ]
  },
  {
   "cell_type": "code",
   "execution_count": null,
   "id": "c7675a87",
   "metadata": {},
   "outputs": [],
   "source": [
    "def total_price_modified(num_apples, num_oranges):\n",
    "    price_apple = 0.36\n",
    "    price_orange = 0.42\n",
    "    \n",
    "    \n",
    "    return"
   ]
  },
  {
   "cell_type": "markdown",
   "id": "e59ebf34",
   "metadata": {},
   "source": [
    "The code cell below is provided to you for testing purposes:"
   ]
  },
  {
   "cell_type": "code",
   "execution_count": null,
   "id": "0e4bcda9",
   "metadata": {},
   "outputs": [],
   "source": [
    "total_price_modified(7, 5)"
   ]
  }
 ],
 "metadata": {
  "kernelspec": {
   "display_name": "Python 3 (ipykernel)",
   "language": "python",
   "name": "python3"
  },
  "language_info": {
   "codemirror_mode": {
    "name": "ipython",
    "version": 3
   },
   "file_extension": ".py",
   "mimetype": "text/x-python",
   "name": "python",
   "nbconvert_exporter": "python",
   "pygments_lexer": "ipython3",
   "version": "3.8.3"
  }
 },
 "nbformat": 4,
 "nbformat_minor": 5
}
