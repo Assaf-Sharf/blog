{
 "cells": [
  {
   "cell_type": "markdown",
   "id": "5e555479",
   "metadata": {},
   "source": [
    "### Exercise 1 (3 points)\n",
    "\n",
    "Define a function called `round_str`, which behaves identically to the built-in function `round()` if it receives a `float`. However, if it receives a `str`, it converts the `str` to a `float`, rounds it, and then converts it back to a `str` before returning it.\n",
    "\n",
    "Therefore, the function call `round_str(\"5.2473\", 2)` should return`\"5.25\"` which is of type `str`. However, we can also write `round_str(5.2473, 2)`, in which case the function behaves like the built-in `round()` function and returns `5.25` of type `float`.\n",
    "\n",
    "**Hint:** you will need to use the following built-in functions: `type()`, `float()`, and `str()`. Additionally, you may want to use the reserved keywords `float` and `str`, which represent data types. For example, `type(3.456) == float` will return `True`."
   ]
  },
  {
   "cell_type": "code",
   "execution_count": null,
   "id": "6e774293",
   "metadata": {},
   "outputs": [],
   "source": [
    "def round_str(value, num_decimal_places):\n",
    "    \n",
    "    return"
   ]
  },
  {
   "cell_type": "markdown",
   "id": "79589cb7",
   "metadata": {},
   "source": [
    "The code cell below is provided to you for testing purposes:"
   ]
  },
  {
   "cell_type": "code",
   "execution_count": null,
   "id": "f3c2bbc4",
   "metadata": {},
   "outputs": [],
   "source": [
    "round_str(\"5.2473\", 2)"
   ]
  }
 ],
 "metadata": {
  "kernelspec": {
   "display_name": "Python 3 (ipykernel)",
   "language": "python",
   "name": "python3"
  },
  "language_info": {
   "codemirror_mode": {
    "name": "ipython",
    "version": 3
   },
   "file_extension": ".py",
   "mimetype": "text/x-python",
   "name": "python",
   "nbconvert_exporter": "python",
   "pygments_lexer": "ipython3",
   "version": "3.8.3"
  }
 },
 "nbformat": 4,
 "nbformat_minor": 5
}
