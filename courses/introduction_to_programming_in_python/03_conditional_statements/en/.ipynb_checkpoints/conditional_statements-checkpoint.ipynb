{
 "cells": [
  {
   "cell_type": "markdown",
   "id": "2ef24f75",
   "metadata": {},
   "source": [
    "## Sections:\n",
    "\n",
    "1. [Conditional statements](#conditional-statements)\n",
    "2. [Booleans](#booleans)\n",
    "3. [Complex conditional statements](#complex-conditional-statements)\n",
    "4. [Conditional statements in functions](#conditional-statements-in-functions)"
   ]
  },
  {
   "cell_type": "markdown",
   "id": "85981001",
   "metadata": {},
   "source": [
    "# 1. Conditional statements <a id='conditional-statements'></a>\n",
    "\n",
    "Conditional statements allow us to do different things depending on the current situation. For example, we could create a payment system which:\n",
    "\n",
    "1. **accepts** a payment only if the payment value is smaller than the funds available in a customer's account. \n",
    "2. **declines** a payment if the payment value exceeds the funds available in a customer's account.\n",
    "\n",
    "In other words, depending on whether or not certain logical conditions are met, different operations are performed. In Python, we can use the following logical conditions:\n",
    "\n",
    "* `a == b` (a is equal to b)\n",
    "\n",
    "* `a != b` (a is not equal from b)\n",
    "\n",
    "\n",
    "* `a < b` (a is smaller than b)\n",
    "* `a <= b` (a is smaller or equal to b)\n",
    "\n",
    "\n",
    "* `a > b` (a is greater than b)\n",
    "* `a >= b` (a is greater or equal to b)\n",
    "\n",
    "In order to use conditional statements, we must first write the word `if` (which is a reserved keyword), followed by a logical condition and a colon `:`. Next, we can indent the code below which we want to run only when the specified logical condition is satisfied. The cell below demonstrates the use of a conditional statement."
   ]
  },
  {
   "cell_type": "code",
   "execution_count": 5,
   "id": "071b23a6",
   "metadata": {},
   "outputs": [
    {
     "data": {
      "text/plain": [
       "'payment is declined'"
      ]
     },
     "execution_count": 5,
     "metadata": {},
     "output_type": "execute_result"
    }
   ],
   "source": [
    "account_balance = 100\n",
    "payment_value = 101\n",
    "\n",
    "msg = \"payment is accepted\"\n",
    "\n",
    "if payment_value > account_balance:\n",
    "    msg = \"payment is declined\"\n",
    "\n",
    "msg"
   ]
  },
  {
   "cell_type": "markdown",
   "id": "a37073c6",
   "metadata": {},
   "source": [
    "In the cell above, we first create the variables `account_balance`, `payment_value`, and `msg` (abbreviation for message). Then we have a conditional statement, which can be read as: if `payment_value` is greater than `account_balance`, perform the indented code below. The indented code overrides the value of `msg`, which will happen only if the previously specified logical condition is satisfied. Finally, we display the value of `msg`. Since `payment_value` was greater than `account_balance`, we see the message: `'payment is declined'`. \n",
    "\n",
    "\n",
    "Notice that the conditional statement ends with a colon `:`. Forgetting to write the colon `:` will result in an error."
   ]
  },
  {
   "cell_type": "code",
   "execution_count": 1,
   "id": "77405fff",
   "metadata": {
    "scrolled": true
   },
   "outputs": [
    {
     "ename": "SyntaxError",
     "evalue": "invalid syntax (<ipython-input-1-30118bb77e12>, line 1)",
     "output_type": "error",
     "traceback": [
      "\u001b[0;36m  File \u001b[0;32m\"<ipython-input-1-30118bb77e12>\"\u001b[0;36m, line \u001b[0;32m1\u001b[0m\n\u001b[0;31m    if payment_value > account_balance\u001b[0m\n\u001b[0m                                      ^\u001b[0m\n\u001b[0;31mSyntaxError\u001b[0m\u001b[0;31m:\u001b[0m invalid syntax\n"
     ]
    }
   ],
   "source": [
    "if payment_value > account_balance\n",
    "    msg = \"payment is declined\""
   ]
  },
  {
   "cell_type": "markdown",
   "id": "20b7637d",
   "metadata": {},
   "source": [
    "Similarly, if we do not indent the code below the conditional statement, we will also receive an error:"
   ]
  },
  {
   "cell_type": "code",
   "execution_count": 2,
   "id": "15284b56",
   "metadata": {},
   "outputs": [
    {
     "ename": "IndentationError",
     "evalue": "expected an indented block (<ipython-input-2-57644f4acac1>, line 2)",
     "output_type": "error",
     "traceback": [
      "\u001b[0;36m  File \u001b[0;32m\"<ipython-input-2-57644f4acac1>\"\u001b[0;36m, line \u001b[0;32m2\u001b[0m\n\u001b[0;31m    msg = \"payment is declined\"\u001b[0m\n\u001b[0m    ^\u001b[0m\n\u001b[0;31mIndentationError\u001b[0m\u001b[0;31m:\u001b[0m expected an indented block\n"
     ]
    }
   ],
   "source": [
    "if payment_value > account_balance:\n",
    "msg = \"payment is declined\""
   ]
  },
  {
   "cell_type": "markdown",
   "id": "3df52c29",
   "metadata": {},
   "source": [
    "Conditional statements can also take the form of \"if-else\" statements, which additionally utilize the reserved keyword `else` to specify what code should run if the previously stated logical condition is not met."
   ]
  },
  {
   "cell_type": "code",
   "execution_count": 5,
   "id": "1002357d",
   "metadata": {
    "code_folding": []
   },
   "outputs": [
    {
     "data": {
      "text/plain": [
       "'payment is declined'"
      ]
     },
     "execution_count": 5,
     "metadata": {},
     "output_type": "execute_result"
    }
   ],
   "source": [
    "account_balance = 100\n",
    "payment_value = 101\n",
    "\n",
    "if payment_value > account_balance:\n",
    "    msg = \"payment is declined\"\n",
    "else:\n",
    "    msg = \"payment is accepted\"\n",
    "    \n",
    "msg"
   ]
  },
  {
   "cell_type": "markdown",
   "id": "8b638985",
   "metadata": {},
   "source": [
    "In the code cell above, the `if` statement specifies a logical condition, while the `else` statement signifies a block of indented code, which will run if the the logical condition specified by the previous `if` statement is not satisfied. Both the `if` statement and the `else` statement are connected together and form one structure containing code that runs only if certain conditions are met. This is referred to as a compound statement.\n",
    "\n",
    "There can also be multiple \"if\" statements, which are defined with the use of the reserved keyword `elif` (abbreviation for \"else if\"). The code cell below shows a compound statement consisting of the `if`, `elif` and `else` keywords."
   ]
  },
  {
   "cell_type": "code",
   "execution_count": 2,
   "id": "cdb8ed24",
   "metadata": {
    "scrolled": false
   },
   "outputs": [
    {
     "data": {
      "text/plain": [
       "'You have purchased the yearly subscription!'"
      ]
     },
     "execution_count": 2,
     "metadata": {},
     "output_type": "execute_result"
    }
   ],
   "source": [
    "subscription_type = \"B\"\n",
    "\n",
    "if subscription_type == \"A\":\n",
    "    msg = \"You have purchased the monthly subscription!\"\n",
    "elif subscription_type == \"B\":\n",
    "    msg = \"You have purchased the yearly subscription!\"\n",
    "elif subscription_type == \"C\":\n",
    "    msg = \"You have purchased the unlimited subscription!\"\n",
    "else:\n",
    "    msg = \"Invalid subscription type\"\n",
    "\n",
    "msg"
   ]
  },
  {
   "cell_type": "markdown",
   "id": "264d9099",
   "metadata": {},
   "source": [
    "In the code cell above, Python checks the conditional statements one-by-one. If the logical condition in one of the statements is satisfied, Python will execute the indented code belonging to that statement. However, after the code belonging to that statement is executed, Python skips the remaining conditional statements. Only **one** block of code is executed per the entire compound statement consisting of `if`, `elif` and `else` keywords.\n",
    "\n",
    "Therefore, Python first checks the logical condition `subscription_type == \"A\"`. Since this logical condition is not satisfied, it proceeds to the next conditional statement. The next statement contains the logical condition `subscription_type == B`. This logical condition is satisfied and therefore the indented code below is executed, which assigns a certain value to the variable `msg`. Since one of the logical conditions has been satisfied, Python does not check the remaining conditional statements. Therefore, even if the logical conditions specified in the remaining statements were satisfied, the indented code belonging to those statements would not run. We can see this in the following example:\n"
   ]
  },
  {
   "cell_type": "code",
   "execution_count": 5,
   "id": "5d0fce18",
   "metadata": {},
   "outputs": [
    {
     "data": {
      "text/plain": [
       "'first'"
      ]
     },
     "execution_count": 5,
     "metadata": {},
     "output_type": "execute_result"
    }
   ],
   "source": [
    "x = 5\n",
    "\n",
    "if x == 5:\n",
    "    msg = \"first\"\n",
    "elif x == 5:\n",
    "    msg = \"second\"\n",
    "    \n",
    "msg    "
   ]
  },
  {
   "cell_type": "markdown",
   "id": "efc2a066",
   "metadata": {},
   "source": [
    "In the code cell above, the logical conditions in both statements are the same. However, we can see that the variable `msg` holds the value `'first'`. Since the logical condition in the first statement is satisfied, the second conditional statement is not checked by Python, and the code belonging to that statement is not executed either."
   ]
  },
  {
   "cell_type": "markdown",
   "id": "23922fc7",
   "metadata": {},
   "source": [
    "Note that when we write compound conditional statements, the first statement is always an `if` statement. Then we can optionally choose to add more specific logical conditions with an `elif` statement or we can optionally add an `else` statement. Both `elif` and `else` are optional, however, the order must always be preserved. This means that if you use both `elif` and `else`, then the `else` statement must always be last."
   ]
  },
  {
   "cell_type": "markdown",
   "id": "6dd1dd44",
   "metadata": {},
   "source": [
    "# 2. Booleans <a id='booleans'></a>"
   ]
  },
  {
   "cell_type": "markdown",
   "id": "402fc2e6",
   "metadata": {},
   "source": [
    "In Python, logical conditions specified in conditional statements are actually expressions which return a value. This is similar to how expressions which involve arithmetic operators return a value. The difference here being that we are using comparison operators which return a value of data type `bool`, which is an abbreviation for \"boolean\". A boolean can only take two values - `True` or `False`.\n",
    "\n",
    "For example, the logical condition below returns the value `True`"
   ]
  },
  {
   "cell_type": "code",
   "execution_count": 45,
   "id": "c3b1789a",
   "metadata": {},
   "outputs": [
    {
     "data": {
      "text/plain": [
       "True"
      ]
     },
     "execution_count": 45,
     "metadata": {},
     "output_type": "execute_result"
    }
   ],
   "source": [
    "a = 0\n",
    "b = 7\n",
    "a != b"
   ]
  },
  {
   "cell_type": "markdown",
   "id": "7a961f0e",
   "metadata": {},
   "source": [
    "This is because it is true that `a` does not equal `b`. In contrast, the logical condition below returns `False`"
   ]
  },
  {
   "cell_type": "code",
   "execution_count": 46,
   "id": "10942680",
   "metadata": {},
   "outputs": [
    {
     "data": {
      "text/plain": [
       "False"
      ]
     },
     "execution_count": 46,
     "metadata": {},
     "output_type": "execute_result"
    }
   ],
   "source": [
    "a == b"
   ]
  },
  {
   "cell_type": "markdown",
   "id": "9d280b5e",
   "metadata": {},
   "source": [
    "In Python, we can check the type of a value by using the `type()` function, which takes in one argument and returns the data type of a that argument."
   ]
  },
  {
   "cell_type": "code",
   "execution_count": 7,
   "id": "fc3ba0ac",
   "metadata": {},
   "outputs": [
    {
     "data": {
      "text/plain": [
       "bool"
      ]
     },
     "execution_count": 7,
     "metadata": {},
     "output_type": "execute_result"
    }
   ],
   "source": [
    "type(True)"
   ]
  },
  {
   "cell_type": "code",
   "execution_count": 8,
   "id": "9f74b4ee",
   "metadata": {
    "scrolled": true
   },
   "outputs": [
    {
     "data": {
      "text/plain": [
       "bool"
      ]
     },
     "execution_count": 8,
     "metadata": {},
     "output_type": "execute_result"
    }
   ],
   "source": [
    "type(False)"
   ]
  },
  {
   "cell_type": "markdown",
   "id": "cb5b1548",
   "metadata": {},
   "source": [
    "Both `True` and `False` are reserved keywords, which signify the two possible values of the `bool` data type.\n",
    "\n",
    "When we use conditional statements, Python evaluates the logical expression contained within them, in order to determine the value returned by the logical expression. Therefore, the following statement"
   ]
  },
  {
   "cell_type": "code",
   "execution_count": 29,
   "id": "00f4f7dd",
   "metadata": {
    "code_folding": []
   },
   "outputs": [],
   "source": [
    "if a < b:\n",
    "    msg = \"logical condition satisfied\""
   ]
  },
  {
   "cell_type": "markdown",
   "id": "d074cbc2",
   "metadata": {},
   "source": [
    "Becomes equivalent to the following statement:"
   ]
  },
  {
   "cell_type": "code",
   "execution_count": 30,
   "id": "cb9f59b1",
   "metadata": {},
   "outputs": [],
   "source": [
    "if True:\n",
    "    msg = \"logical condition satisfied\""
   ]
  },
  {
   "cell_type": "markdown",
   "id": "52c0aee0",
   "metadata": {},
   "source": [
    "In other words, Python evaluates the expression `a < b` and determines it returns the value `True`. This value is then plugged into the place of `a < b`. When the `if` statement is followed by a boolean with a value of `True`, the indented block of code below is executed; when it is followed by a boolean with a value of `False`, then the indented block of code below is not executed."
   ]
  },
  {
   "cell_type": "code",
   "execution_count": 5,
   "id": "f7037bd8",
   "metadata": {},
   "outputs": [
    {
     "data": {
      "text/plain": [
       "'this string will be displayed'"
      ]
     },
     "execution_count": 5,
     "metadata": {},
     "output_type": "execute_result"
    }
   ],
   "source": [
    "msg = \"\"\n",
    "if True:\n",
    "    msg = \"this string will be displayed\"\n",
    "msg"
   ]
  },
  {
   "cell_type": "code",
   "execution_count": 6,
   "id": "15e9e090",
   "metadata": {},
   "outputs": [
    {
     "data": {
      "text/plain": [
       "''"
      ]
     },
     "execution_count": 6,
     "metadata": {},
     "output_type": "execute_result"
    }
   ],
   "source": [
    "msg = \"\"\n",
    "if False:\n",
    "    msg = \"this string will not be displayed\"\n",
    "msg"
   ]
  },
  {
   "cell_type": "markdown",
   "id": "ee1b5011",
   "metadata": {},
   "source": [
    "# 3. Complex conditional statements <a id='complex-conditional-statements'></a>"
   ]
  },
  {
   "cell_type": "markdown",
   "id": "faeaa01b",
   "metadata": {},
   "source": [
    "Sometimes we may want to make sure that two or more logical conditions are satisfied before some code is executed. In this case, we could use nested conditional statements like so:"
   ]
  },
  {
   "cell_type": "code",
   "execution_count": 2,
   "id": "12531772",
   "metadata": {},
   "outputs": [
    {
     "data": {
      "text/plain": [
       "'Discount available: 10%'"
      ]
     },
     "execution_count": 2,
     "metadata": {},
     "output_type": "execute_result"
    }
   ],
   "source": [
    "total_price = 124.82\n",
    "delivery_country = \"France\"\n",
    "\n",
    "msg = \"No discounts available\"\n",
    "\n",
    "if total_price > 100:\n",
    "    if delivery_country == \"France\":\n",
    "        msg = \"Discount available: 10%\"\n",
    "\n",
    "msg"
   ]
  },
  {
   "cell_type": "markdown",
   "id": "314b5e06",
   "metadata": {},
   "source": [
    "Nesting conditional statements will get the job done, however, if we write too many nested conditional statements, our code can get a little convoluted and difficult to understand. Alternatively, we can use the following logical operators to combine logical expressions in a single `if` statement:\n",
    "\n",
    "* `and` - combines two logical expressions and returns `True` only if **both** of those logical expressions returned the value `True`.\n",
    "* `or` - combines two logical expressions and returns `True` if **at least one** of those logical expressions returned the value `True`.\n",
    "\n",
    "Therefore, we can rewrite the previous code in the following way:"
   ]
  },
  {
   "cell_type": "code",
   "execution_count": 3,
   "id": "ca18680c",
   "metadata": {},
   "outputs": [
    {
     "data": {
      "text/plain": [
       "'Discount available: 10%'"
      ]
     },
     "execution_count": 3,
     "metadata": {},
     "output_type": "execute_result"
    }
   ],
   "source": [
    "msg = \"No discounts available\"\n",
    "\n",
    "if total_price > 100 and delivery_country == \"France\":\n",
    "    msg = \"Discount available: 10%\"\n",
    "    \n",
    "msg"
   ]
  },
  {
   "cell_type": "markdown",
   "id": "74d071e7",
   "metadata": {},
   "source": [
    "We can check that if we change the value of `total_price` to below 100, the combined logical expression returns `False`."
   ]
  },
  {
   "cell_type": "code",
   "execution_count": 4,
   "id": "fe4f2bd8",
   "metadata": {},
   "outputs": [
    {
     "data": {
      "text/plain": [
       "False"
      ]
     },
     "execution_count": 4,
     "metadata": {},
     "output_type": "execute_result"
    }
   ],
   "source": [
    "total_price = 87.34\n",
    "total_price > 100 and delivery_country == \"France\""
   ]
  },
  {
   "cell_type": "markdown",
   "id": "8f4f9308",
   "metadata": {},
   "source": [
    "However, if we change the `and` operator into an `or` operator, we see that the combined expression now returns `True`. In this case, `delivery_country` is still equal to `'France'`, as we have not changed its value, since defining it a few cells before."
   ]
  },
  {
   "cell_type": "code",
   "execution_count": 5,
   "id": "f5f2902c",
   "metadata": {
    "scrolled": true
   },
   "outputs": [
    {
     "data": {
      "text/plain": [
       "True"
      ]
     },
     "execution_count": 5,
     "metadata": {},
     "output_type": "execute_result"
    }
   ],
   "source": [
    "total_price > 100 or delivery_country == \"France\""
   ]
  },
  {
   "cell_type": "markdown",
   "id": "685a3add",
   "metadata": {},
   "source": [
    "Aside from the `and` and the `or` logical operators, Python also has a `not` operator, which inverts the value returned by a logical expression. For example:"
   ]
  },
  {
   "cell_type": "code",
   "execution_count": 6,
   "id": "ef659fda",
   "metadata": {},
   "outputs": [
    {
     "data": {
      "text/plain": [
       "False"
      ]
     },
     "execution_count": 6,
     "metadata": {},
     "output_type": "execute_result"
    }
   ],
   "source": [
    "not (total_price > 100 or delivery_country == \"France\")    "
   ]
  },
  {
   "cell_type": "markdown",
   "id": "0ed2b8ad",
   "metadata": {},
   "source": [
    "In the above example, Python first checks the value returned by `total_price > 100` and plugs that into the expression, which transforms it into the following:\n",
    "\n",
    "1. `not (False or delivery_country == \"France\")`\n",
    "\n",
    "Next, Python evaluates the remaining logical expression in parenthesis, which yields:\n",
    "\n",
    "2. `not (False or True)`\n",
    "\n",
    "Next, Python evaluates the `(False or True)` expression. Since the `or` operator requires only one value to be `True`, the entire expression yields the value `True`, which leads to the following:\n",
    "\n",
    "3. `not (True)`\n",
    "\n",
    "The `not` operator inverts the Boolean value to which it is applied, which means that the entire expression yields `False` once evaluated, which is indeed the result displayed in the code cell above.\n"
   ]
  },
  {
   "cell_type": "markdown",
   "id": "892b82b5",
   "metadata": {},
   "source": [
    "There is usually more than one way in which a logical condition can be expressed. For example, the two conditionals below are equivalent:"
   ]
  },
  {
   "cell_type": "code",
   "execution_count": 7,
   "id": "6f5b8161",
   "metadata": {},
   "outputs": [
    {
     "data": {
      "text/plain": [
       "True"
      ]
     },
     "execution_count": 7,
     "metadata": {},
     "output_type": "execute_result"
    }
   ],
   "source": [
    "condition_1 = not (total_price > 100 or delivery_country == \"France\")  \n",
    "condition_2 = total_price <= 100 and delivery_country != \"France\"\n",
    "\n",
    "condition_1 == condition_2"
   ]
  },
  {
   "cell_type": "markdown",
   "id": "5876bb1b",
   "metadata": {},
   "source": [
    "# 4. Conditional statements in functions <a id='conditional-statements-in-functions'></a>\n",
    "\n",
    "Logical conditions can of course also be used in functions. Below is an example of a function which calculates and applies discounts to movie ticket prices, based on the user's age and day for which the ticket is being booked."
   ]
  },
  {
   "cell_type": "code",
   "execution_count": 10,
   "id": "dfd4b509",
   "metadata": {},
   "outputs": [
    {
     "data": {
      "text/plain": [
       "17.39"
      ]
     },
     "execution_count": 10,
     "metadata": {},
     "output_type": "execute_result"
    }
   ],
   "source": [
    "def apply_discount(ticket_price, user_age, day):\n",
    "        \n",
    "    if user_age < 18:\n",
    "        discount = 0.08\n",
    "    elif user_age >= 65:\n",
    "        discount = 0.15\n",
    "    else:\n",
    "        discount = 0\n",
    "    \n",
    "    if day == \"Saturday\" or day == \"Sunday\":\n",
    "        discount = discount + 0.10\n",
    "    elif day ==\"Wednesday\":\n",
    "        discount = discount + 0.05\n",
    "    else:\n",
    "        discount = discount\n",
    "    \n",
    "    ticket_price = ticket_price * (1 - discount)\n",
    "    ticket_price = round(ticket_price, 2)\n",
    "    return ticket_price\n",
    "\n",
    "apply_discount(19.99, 17, \"Wednesday\")"
   ]
  },
  {
   "cell_type": "markdown",
   "id": "f5cf0050",
   "metadata": {},
   "source": [
    "The above function has two separate compound conditional statements. The first compound statement determines whether a user qualifies for a price discount based on their age. The second compound statement determines whether a user qualifies for a price discount based on the day for which the movie ticket is being booked. The discounts can be stacked, as is the case for a user who is 17 years old and is booking a ticket for Wednesday.\n",
    "\n",
    "Once all the conditional statements have been checked and the final discount ratio is obtained, the original ticket price is multiplied by `1 - discount`. Note that if the discount is `0`, the price stays at its original value.\n",
    "\n",
    "It is also worth mentioning that the the built-in function `round()` is used to round off the final price of the ticket before it is returned. This is because multiplying the ticket price by the discount will result in a `float` that could have more than 2 digits after the decimal point. Since movie ticket prices are listed in currencies, which are typically displayed as real positive numbers with two decimal places, we should round off the answer. This is what the built-in function `round` does, which takes in two arguments. The first argument is the number we want to round (in this case `ticket_price`), while the second argument is the number of decimal places we want to round to (in this case it is `2`)."
   ]
  }
 ],
 "metadata": {
  "kernelspec": {
   "display_name": "Python 3 (ipykernel)",
   "language": "python",
   "name": "python3"
  },
  "language_info": {
   "codemirror_mode": {
    "name": "ipython",
    "version": 3
   },
   "file_extension": ".py",
   "mimetype": "text/x-python",
   "name": "python",
   "nbconvert_exporter": "python",
   "pygments_lexer": "ipython3",
   "version": "3.9.13"
  }
 },
 "nbformat": 4,
 "nbformat_minor": 5
}
