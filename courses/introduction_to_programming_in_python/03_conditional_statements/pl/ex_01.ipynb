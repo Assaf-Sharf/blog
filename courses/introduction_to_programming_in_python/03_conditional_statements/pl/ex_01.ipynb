{
 "cells": [
  {
   "cell_type": "markdown",
   "id": "5e555479",
   "metadata": {},
   "source": [
    "### Zadanie 1 (3 punkty)\n",
    "\n",
    "Zdefiniuj funkcję `round_str`, która zachowuje się identycznie jak wbudowana funkcja `round()` jeśli otrzymuje `float`. Jednakże, jeśli otrzyma `str`, konwertuje `str` na `float`, zaokrągla go, a następnie konwertuje z powrotem na `str` przed zwróceniem.\n",
    "\n",
    "Dlatego wywołanie funkcji `round_str(\"5.2473\", 2)` powinno zwrócić `\"5.25\"`, które jest typu `str`. Możemy jednak napisać również `round_str(5.2473, 2)` - w tym przypadku funkcja zachowuje się jak wbudowana funkcja `round()` i zwraca `5.25` typu `float`.\n",
    "\n",
    "**Podpowiedź:** trzeba użyć następujących wbudowanych funkcji: `type()`, `float()`, oraz `str()`. Dodatkowo, przydadzą się zarezerwowane słowa kluczowe `float` i `str`, które reprezentują typy danych. Na przykład, `type(3.456) == float` zwróci `True`."
   ]
  },
  {
   "cell_type": "code",
   "execution_count": null,
   "id": "6e774293",
   "metadata": {},
   "outputs": [],
   "source": [
    "def round_str(value, num_decimal_places):\n",
    "    \n",
    "    return"
   ]
  },
  {
   "cell_type": "markdown",
   "id": "79589cb7",
   "metadata": {},
   "source": [
    "Możesz użyć poniższej komórki do testowania swojego kodu:"
   ]
  },
  {
   "cell_type": "code",
   "execution_count": null,
   "id": "f3c2bbc4",
   "metadata": {},
   "outputs": [],
   "source": [
    "round_str(\"5.2473\", 2)"
   ]
  }
 ],
 "metadata": {
  "kernelspec": {
   "display_name": "Python 3 (ipykernel)",
   "language": "python",
   "name": "python3"
  },
  "language_info": {
   "codemirror_mode": {
    "name": "ipython",
    "version": 3
   },
   "file_extension": ".py",
   "mimetype": "text/x-python",
   "name": "python",
   "nbconvert_exporter": "python",
   "pygments_lexer": "ipython3",
   "version": "3.9.13"
  }
 },
 "nbformat": 4,
 "nbformat_minor": 5
}
