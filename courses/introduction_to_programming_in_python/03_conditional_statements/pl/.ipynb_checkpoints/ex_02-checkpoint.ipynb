{
 "cells": [
  {
   "cell_type": "markdown",
   "id": "2677bb3b",
   "metadata": {},
   "source": [
    "### Zadanie 2.1 (4 punkty)\n",
    "\n",
    "Utwórz funkcję o nazwie `total_price`, która ma dwa parametry `num_apples` i `num_oranges`, i która zwraca cenę całkowitą według następujących reguł:\n",
    "\n",
    "1. Cena jednego jabłka to 0,36\\$.\n",
    "2. Cena jednej pomarańczy to 0,42\\$.\n",
    "3. Jeśli klient kupi 3 lub więcej jabłek, do całkowitej ceny jabłek należy zastosować 15% zniżki.\n",
    "4. Jeśli klient kupi 3 lub więcej pomarańczy, do całkowitej ceny pomarańczy należy zastosować 10% zniżki.\n",
    "5. Jeśli klient kupi łącznie 10 lub więcej sztuk (jabłek lub pomarańczy), do ceny całkowitej stosuje się dodatkowy rabat 25%, po zastosowaniu wszystkich poprzednich rabatów.\n",
    "6. Cena końcowa to `float` zaokrąglony do dwóch miejsc po przecinku.\n",
    "\n",
    "Oto niektóre z wartości, które powinna zwrócić Twoja funkcja `total_price`:\n",
    "\n",
    "* `total_price(1, 2)` -> `1,20`.\n",
    "* `total_price(4, 3)` -> `2.36`\n",
    "* `total_price(1, 14)` -> `4.24`\n",
    "* `total_price(7, 5)` -> `3.02`."
   ]
  },
  {
   "cell_type": "code",
   "execution_count": null,
   "id": "64e948fa",
   "metadata": {},
   "outputs": [],
   "source": [
    "def total_price(num_apples, num_oranges):\n",
    "    price_apple = 0.36\n",
    "    price_orange = 0.42\n",
    "    \n",
    "    \n",
    "    return"
   ]
  },
  {
   "cell_type": "markdown",
   "id": "88945418",
   "metadata": {},
   "source": [
    "Możesz użyć poniższej komórki do testowania swojego kodu:"
   ]
  },
  {
   "cell_type": "code",
   "execution_count": null,
   "id": "caa94089",
   "metadata": {},
   "outputs": [],
   "source": [
    "total_price(7, 5)"
   ]
  },
  {
   "cell_type": "markdown",
   "id": "d62f0522",
   "metadata": {},
   "source": [
    "### Zadanie 2.2 (3 punkty)\n",
    "\n",
    "Zdefiniuj funkcję o nazwie `total_price_modified`, która jest zmodyfikowaną wersją funkcji zdefiniowanej w poprzednim ćwiczeniu.\n",
    "Dokładniej, warunek #5 został zmieniony tak, że jeśli klient kupi 10 lub więcej przedmiotów, poprzednie rabaty (określone w punktach #3 i #4) są ignorowane i jedynym zastosowanym rabatem jest 25% zniżki od ceny całkowitej. Jeśli jednak klient ma mniej niż 10 przedmiotów, stosuje się zniżki określone w punktach #3 i #4.\n",
    "\n",
    "Oto niektóre z wartości, które powinna zwrócić Twoja funkcja `total_price_modified`:\n",
    "\n",
    "* `total_price_modified(1, 2)` -> `1.20`\n",
    "* `total_price_modified(4, 3)` -> `2.36`\n",
    "* `total_price_modified(1, 14)` -> `4.68`\n",
    "* `total_price_modified(7, 5)` -> `3.46`"
   ]
  },
  {
   "cell_type": "code",
   "execution_count": null,
   "id": "c7675a87",
   "metadata": {},
   "outputs": [],
   "source": [
    "def total_price_modified(num_apples, num_oranges):\n",
    "    price_apple = 0.36\n",
    "    price_orange = 0.42\n",
    "    \n",
    "    \n",
    "    return"
   ]
  },
  {
   "cell_type": "markdown",
   "id": "e59ebf34",
   "metadata": {},
   "source": [
    "Możesz użyć poniższej komórki do testowania swojego kodu:"
   ]
  },
  {
   "cell_type": "code",
   "execution_count": null,
   "id": "0e4bcda9",
   "metadata": {},
   "outputs": [],
   "source": [
    "total_price_modified(7, 5)"
   ]
  }
 ],
 "metadata": {
  "kernelspec": {
   "display_name": "Python 3 (ipykernel)",
   "language": "python",
   "name": "python3"
  },
  "language_info": {
   "codemirror_mode": {
    "name": "ipython",
    "version": 3
   },
   "file_extension": ".py",
   "mimetype": "text/x-python",
   "name": "python",
   "nbconvert_exporter": "python",
   "pygments_lexer": "ipython3",
   "version": "3.9.13"
  }
 },
 "nbformat": 4,
 "nbformat_minor": 5
}
