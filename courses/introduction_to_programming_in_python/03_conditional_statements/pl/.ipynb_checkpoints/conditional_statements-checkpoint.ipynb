{
 "cells": [
  {
   "cell_type": "markdown",
   "id": "2ef24f75",
   "metadata": {},
   "source": [
    "## Sekcje:\n",
    "\n",
    "1. [Instrukcje warunkowe](#instrukcje-warunkowe)\n",
    "2. [Boolean](#boolean)\n",
    "3. [Bardziej złożone instrukcje warunkowe](#bardziej-złożone-instrukcje-warunkowe)\n",
    "4. [Instrukcje warunkowe w funkcjach](#instrukcje-warunkowe-w-funkcjach)"
   ]
  },
  {
   "cell_type": "markdown",
   "id": "85981001",
   "metadata": {},
   "source": [
    "# 1. Instrukcje warunkowe <a id='instrukcje-warunkowe'></a>\n",
    "\n",
    "Instrukcje warunkowe pozwalają nam robić różne rzeczy w zależności od tego jaką mamy sytuację. Na przykład możemy stworzyć system płatności, który:\n",
    "\n",
    "1. **akceptuje** płatność tylko wtedy, gdy wartość płatności jest mniejsza niż środki dostępne na koncie klienta. \n",
    "2. **odrzuca** płatność, jeśli wartość płatności przekracza środki dostępne na koncie klienta.\n",
    "\n",
    "Innymi słowy, w zależności od tego, czy spełnione są pewne warunki logiczne, wykonywane są różne operacje. W Pythonie możemy użyć następujących warunków logicznych:\n",
    "\n",
    "* `a == b` (a jest równe b)\n",
    "\n",
    "* `a != b` (a nie jest równe od b)\n",
    "\n",
    "\n",
    "* `a < b` (a jest mniejsze od b)\n",
    "* `a <= b` (a jest mniejsze lub równe od b)\n",
    "\n",
    "\n",
    "* `a > b` (a jest większe od b)\n",
    "* `a >= b` (a jest większe lub równe b)\n",
    "\n",
    "Aby użyć instrukcji warunkowych, musimy najpierw napisać słowo `if` (które jest zarezerwowanym słowem kluczowym), a następnie warunek logiczny i dwukropek `:`. Następnie możemy wciąć kod poniżej, który chcemy uruchomić tylko wtedy, gdy określony warunek logiczny zostanie spełniony. Poniższa komórka demonstruje użycie instrukcji warunkowej."
   ]
  },
  {
   "cell_type": "code",
   "execution_count": 5,
   "id": "071b23a6",
   "metadata": {},
   "outputs": [
    {
     "data": {
      "text/plain": [
       "'payment is declined'"
      ]
     },
     "execution_count": 5,
     "metadata": {},
     "output_type": "execute_result"
    }
   ],
   "source": [
    "account_balance = 100\n",
    "payment_value = 101\n",
    "\n",
    "msg = \"payment is accepted\"\n",
    "\n",
    "if payment_value > account_balance:\n",
    "    msg = \"payment is declined\"\n",
    "\n",
    "msg"
   ]
  },
  {
   "cell_type": "markdown",
   "id": "a37073c6",
   "metadata": {},
   "source": [
    "W powyższej komórce najpierw tworzymy zmienne `account_balance`, `payment_value` oraz `msg` (skrót od \"message\"). Następnie mamy instrukcję warunkową, którą można odczytać jako: jeśli `payment_value` jest większa niż `account_balance`, wykonaj poniższy wcięty kod. Kod, który jest wcięty, nadpisuje wartość `msg`, co nastąpi tylko wtedy, gdy spełniony zostanie wcześniej określony warunek logiczny. Na koniec wyświetlamy wartość `msg`. Ponieważ `payment_value` była większa niż `account_balance`, widzimy komunikat: `'payment is declined'`. \n",
    "\n",
    "\n",
    "Zauważ, że instrukcja warunkowa kończy się dwukropkiem `:`. Zapomnienie o dwukropku `:` spowoduje błąd."
   ]
  },
  {
   "cell_type": "code",
   "execution_count": 1,
   "id": "77405fff",
   "metadata": {
    "scrolled": true
   },
   "outputs": [
    {
     "ename": "SyntaxError",
     "evalue": "invalid syntax (<ipython-input-1-30118bb77e12>, line 1)",
     "output_type": "error",
     "traceback": [
      "\u001b[0;36m  File \u001b[0;32m\"<ipython-input-1-30118bb77e12>\"\u001b[0;36m, line \u001b[0;32m1\u001b[0m\n\u001b[0;31m    if payment_value > account_balance\u001b[0m\n\u001b[0m                                      ^\u001b[0m\n\u001b[0;31mSyntaxError\u001b[0m\u001b[0;31m:\u001b[0m invalid syntax\n"
     ]
    }
   ],
   "source": [
    "if payment_value > account_balance\n",
    "    msg = \"payment is declined\""
   ]
  },
  {
   "cell_type": "markdown",
   "id": "20b7637d",
   "metadata": {},
   "source": [
    "Jeśli nie kod pod instrukcją warunkową nie będzie wcięty, również otrzymamy błąd:"
   ]
  },
  {
   "cell_type": "code",
   "execution_count": 2,
   "id": "15284b56",
   "metadata": {},
   "outputs": [
    {
     "ename": "IndentationError",
     "evalue": "expected an indented block (<ipython-input-2-57644f4acac1>, line 2)",
     "output_type": "error",
     "traceback": [
      "\u001b[0;36m  File \u001b[0;32m\"<ipython-input-2-57644f4acac1>\"\u001b[0;36m, line \u001b[0;32m2\u001b[0m\n\u001b[0;31m    msg = \"payment is declined\"\u001b[0m\n\u001b[0m    ^\u001b[0m\n\u001b[0;31mIndentationError\u001b[0m\u001b[0;31m:\u001b[0m expected an indented block\n"
     ]
    }
   ],
   "source": [
    "if payment_value > account_balance:\n",
    "msg = \"payment is declined\""
   ]
  },
  {
   "cell_type": "markdown",
   "id": "3df52c29",
   "metadata": {},
   "source": [
    "Instrukcje warunkowe mogą mieć również postać instrukcji \"if-else\", które dodatkowo wykorzystują zarezerwowane słowo kluczowe `else` do określenia, jaki kod powinien zostać uruchomiony, jeśli wcześniej podany warunek logiczny nie zostanie spełniony."
   ]
  },
  {
   "cell_type": "code",
   "execution_count": 1,
   "id": "1002357d",
   "metadata": {
    "code_folding": []
   },
   "outputs": [
    {
     "data": {
      "text/plain": [
       "'payment is declined'"
      ]
     },
     "execution_count": 1,
     "metadata": {},
     "output_type": "execute_result"
    }
   ],
   "source": [
    "account_balance = 100\n",
    "payment_value = 101\n",
    "\n",
    "if payment_value > account_balance:\n",
    "    msg = \"payment is declined\"\n",
    "else:\n",
    "    msg = \"payment is accepted\"\n",
    "    \n",
    "msg"
   ]
  },
  {
   "cell_type": "markdown",
   "id": "8b638985",
   "metadata": {},
   "source": [
    "W powyższej komórce kodu, instrukcja `if` określa warunek logiczny, natomiast instrukcja `else` wyznacza blok wciętego kodu, który zostanie uruchomiony, jeśli warunek logiczny określony przez poprzednią instrukcję `if` nie zostanie spełniony. Zarówno instrukcja `if` jak i instrukcja `else` są połączone razem i tworzą jedną strukturę zawierającą kod, który jest uruchamiany tylko wtedy, gdy spełnione są określone warunki.\n",
    "\n",
    "Może również istnieć wiele instrukcji \"if\", które są definiowane za pomocą zarezerwowanego słowa kluczowego `elif` (skrót od \"else if\"). Poniższa komórka kodu pokazuje instrukcję złożoną składającą się ze słów kluczowych `if`, `elif` i `else`."
   ]
  },
  {
   "cell_type": "code",
   "execution_count": 2,
   "id": "cdb8ed24",
   "metadata": {
    "scrolled": false
   },
   "outputs": [
    {
     "data": {
      "text/plain": [
       "'You have purchased the yearly subscription!'"
      ]
     },
     "execution_count": 2,
     "metadata": {},
     "output_type": "execute_result"
    }
   ],
   "source": [
    "subscription_type = \"B\"\n",
    "\n",
    "if subscription_type == \"A\":\n",
    "    msg = \"You have purchased the monthly subscription!\"\n",
    "elif subscription_type == \"B\":\n",
    "    msg = \"You have purchased the yearly subscription!\"\n",
    "elif subscription_type == \"C\":\n",
    "    msg = \"You have purchased the unlimited subscription!\"\n",
    "else:\n",
    "    msg = \"Invalid subscription type\"\n",
    "\n",
    "msg"
   ]
  },
  {
   "cell_type": "markdown",
   "id": "264d9099",
   "metadata": {},
   "source": [
    "W powyższej komórce kodu Python sprawdza po kolei instrukcje warunkowe. Jeśli warunek logiczny w jednej z instrukcji warunkowych jest spełniony, Python wykona wcięty kod należący do tej instrukcji warunkowej. Jednak po wykonaniu kodu należącego do tej instrukcji warunkowej, Python pomija pozostałe instrukcje warunkowe. Wykonywany jest tylko **jeden** blok kodu na całą struktuę instrukcji warunkowych złożoną ze słów kluczowych `if`, `elif` i `else`.\n",
    "\n",
    "Python najpierw sprawdza warunek logiczny `subscription_type == \"A\"`. Ponieważ ten warunek logiczny nie jest spełniony, przechodzi do następnej instrukcji warunkowej. Następna instrukcja zawiera warunek logiczny `subscription_type == B`. Ten warunek logiczny jest spełniony i dlatego wykonywany jest poniższy, wcięty kod, który przypisuje pewną wartość zmiennej `msg`. Ponieważ jeden z warunków logicznych został spełniony, Python nie sprawdza pozostałych instrukcji warunkowych. Dlatego nawet gdyby warunki logiczne określone w pozostałych instrukcjach były spełnione, to wcięty kod należący do tych instrukcji nie zostałby uruchomiony. Możemy to zobaczyć na poniższym przykładzie:\n"
   ]
  },
  {
   "cell_type": "code",
   "execution_count": 2,
   "id": "5d0fce18",
   "metadata": {},
   "outputs": [
    {
     "data": {
      "text/plain": [
       "'first'"
      ]
     },
     "execution_count": 2,
     "metadata": {},
     "output_type": "execute_result"
    }
   ],
   "source": [
    "x = 5\n",
    "\n",
    "if x == 5:\n",
    "    msg = \"first\"\n",
    "elif x == 5:\n",
    "    msg = \"second\"\n",
    "    \n",
    "msg    "
   ]
  },
  {
   "cell_type": "markdown",
   "id": "efc2a066",
   "metadata": {},
   "source": [
    "W powyższej komórce kodu, obydwa warunki logiczne są takie same. Widzimy jednak, że zmienna `msg` posiada wartość `'first'`. Ponieważ warunek logiczny w pierwszej instrukcji jest spełniony, druga instrukcja warunkowa nie jest sprawdzana przez Pythona, a kod należący do tej instrukcji również nie jest wykonywany."
   ]
  },
  {
   "cell_type": "markdown",
   "id": "23922fc7",
   "metadata": {},
   "source": [
    "Zauważ, że kiedy piszemy tak złożone instrukcje warunkowe, pierwsza instrukcja jest zawsze instrukcją `if`. Następnie możemy opcjonalnie dodać bardziej szczegółowe warunki logiczne za pomocą instrukcji `elif` lub możemy opcjonalnie dodać instrukcję `else`. Zarówno `elif` jak i `else` są opcjonalne, jednakże kolejność musi być zawsze zachowana. Oznacza to, że jeśli używamy zarówno `elif` jak i `else`, to instrukcja `else` musi być zawsze ostatnia."
   ]
  },
  {
   "cell_type": "markdown",
   "id": "6dd1dd44",
   "metadata": {},
   "source": [
    "# 2. Boolean (bool) <a id='boolean'></a>"
   ]
  },
  {
   "cell_type": "markdown",
   "id": "402fc2e6",
   "metadata": {},
   "source": [
    "W Pythonie warunki logiczne określone w instrukcjach warunkowych są w rzeczywistości wyrażeniami, które zwracają pewną wartość. Jest to analogiczne do wyrażeń zawierających operatory arytmetyczne, które również zwracają wartość. Różnica polega na tym, że używamy operatorów porównujących, które zwracają wartość typu `bool`, co jest skrótem od \"boolean\". Dane o typie `bool` mają tylko dwie możliwe wartości - `True` lub `False`.\n",
    "\n",
    "Na przykład, poniższy warunek logiczny zwraca wartość `True`."
   ]
  },
  {
   "cell_type": "code",
   "execution_count": 45,
   "id": "c3b1789a",
   "metadata": {},
   "outputs": [
    {
     "data": {
      "text/plain": [
       "True"
      ]
     },
     "execution_count": 45,
     "metadata": {},
     "output_type": "execute_result"
    }
   ],
   "source": [
    "a = 0\n",
    "b = 7\n",
    "a != b"
   ]
  },
  {
   "cell_type": "markdown",
   "id": "7a961f0e",
   "metadata": {},
   "source": [
    "Dzieje się tak dlatego, że prawdą jest, iż `a` nie jest równe `b`. W przeciwieństwie do tego, poniższy warunek logiczny zwraca `False`."
   ]
  },
  {
   "cell_type": "code",
   "execution_count": 46,
   "id": "10942680",
   "metadata": {},
   "outputs": [
    {
     "data": {
      "text/plain": [
       "False"
      ]
     },
     "execution_count": 46,
     "metadata": {},
     "output_type": "execute_result"
    }
   ],
   "source": [
    "a == b"
   ]
  },
  {
   "cell_type": "markdown",
   "id": "9d280b5e",
   "metadata": {},
   "source": [
    "W Pythonie możemy sprawdzić typ wartości za pomocą funkcji `type()`, która przyjmuje jeden argument i zwraca typ danych tego argumentu."
   ]
  },
  {
   "cell_type": "code",
   "execution_count": 7,
   "id": "fc3ba0ac",
   "metadata": {},
   "outputs": [
    {
     "data": {
      "text/plain": [
       "bool"
      ]
     },
     "execution_count": 7,
     "metadata": {},
     "output_type": "execute_result"
    }
   ],
   "source": [
    "type(True)"
   ]
  },
  {
   "cell_type": "code",
   "execution_count": 8,
   "id": "9f74b4ee",
   "metadata": {
    "scrolled": true
   },
   "outputs": [
    {
     "data": {
      "text/plain": [
       "bool"
      ]
     },
     "execution_count": 8,
     "metadata": {},
     "output_type": "execute_result"
    }
   ],
   "source": [
    "type(False)"
   ]
  },
  {
   "cell_type": "markdown",
   "id": "cb5b1548",
   "metadata": {},
   "source": [
    "Zarówno `True` jak i `False` są zarezerwowanymi słowami kluczowymi, które oznaczają dwie możliwe wartości typu danych `bool`.\n",
    "\n",
    "Kiedy używamy instrukcji warunkowej, Python rozwiązuje zawarte w nej wyrażenie logiczne, aby określić wartość zwróconą przez to wyrażenie logiczne. Dlatego też, następujące stwierdzenie"
   ]
  },
  {
   "cell_type": "code",
   "execution_count": 29,
   "id": "00f4f7dd",
   "metadata": {
    "code_folding": []
   },
   "outputs": [],
   "source": [
    "if a < b:\n",
    "    msg = \"logical condition satisfied\""
   ]
  },
  {
   "cell_type": "markdown",
   "id": "d074cbc2",
   "metadata": {},
   "source": [
    "Staje się równoważne z następującym stwierdzeniem:"
   ]
  },
  {
   "cell_type": "code",
   "execution_count": 30,
   "id": "cb9f59b1",
   "metadata": {},
   "outputs": [],
   "source": [
    "if True:\n",
    "    msg = \"logical condition satisfied\""
   ]
  },
  {
   "cell_type": "markdown",
   "id": "52c0aee0",
   "metadata": {},
   "source": [
    "Innymi słowy, Python ocenia wyrażenie `a < b` i określa, że zwraca ono wartość `True`. Wartość ta jest następnie wstawiana w miejsce `a < b`. Gdy po instrukcji `if` występuje boolean o wartości `True`, to wcięty blok kodu poniżej jest wykonywany; gdy występuje po nim `bool` o wartości `False`, to wcięty blok kodu poniżej nie jest wykonywany."
   ]
  },
  {
   "cell_type": "code",
   "execution_count": 5,
   "id": "f7037bd8",
   "metadata": {},
   "outputs": [
    {
     "data": {
      "text/plain": [
       "'this string will be displayed'"
      ]
     },
     "execution_count": 5,
     "metadata": {},
     "output_type": "execute_result"
    }
   ],
   "source": [
    "msg = \"\"\n",
    "if True:\n",
    "    msg = \"this string will be displayed\"\n",
    "msg"
   ]
  },
  {
   "cell_type": "code",
   "execution_count": 6,
   "id": "15e9e090",
   "metadata": {},
   "outputs": [
    {
     "data": {
      "text/plain": [
       "''"
      ]
     },
     "execution_count": 6,
     "metadata": {},
     "output_type": "execute_result"
    }
   ],
   "source": [
    "msg = \"\"\n",
    "if False:\n",
    "    msg = \"this string will not be displayed\"\n",
    "msg"
   ]
  },
  {
   "cell_type": "markdown",
   "id": "ee1b5011",
   "metadata": {},
   "source": [
    "# 3. Bardziej złożone instrukcje warunkowe <a id='bardziej-złożone-instrukcje-warunkowe'></a>"
   ]
  },
  {
   "cell_type": "markdown",
   "id": "faeaa01b",
   "metadata": {},
   "source": [
    "Czasami możemy chcieć upewnić się, że dwa lub więcej warunków logicznych jest spełnionych zanim jakiś kod zostanie wykonany. W takim przypadku moglibyśmy użyć zagnieżdżonych instrukcji warunkowych, jak np:"
   ]
  },
  {
   "cell_type": "code",
   "execution_count": 2,
   "id": "12531772",
   "metadata": {},
   "outputs": [
    {
     "data": {
      "text/plain": [
       "'Discount available: 10%'"
      ]
     },
     "execution_count": 2,
     "metadata": {},
     "output_type": "execute_result"
    }
   ],
   "source": [
    "total_price = 124.82\n",
    "delivery_country = \"France\"\n",
    "\n",
    "msg = \"No discounts available\"\n",
    "\n",
    "if total_price > 100:\n",
    "    if delivery_country == \"France\":\n",
    "        msg = \"Discount available: 10%\"\n",
    "\n",
    "msg"
   ]
  },
  {
   "cell_type": "markdown",
   "id": "314b5e06",
   "metadata": {},
   "source": [
    "Zagnieżdżanie instrukcji warunkowych załatwi sprawę, jednak jeśli napiszemy zbyt wiele zagnieżdżonych instrukcji warunkowych, nasz kod może być nieco zawiły i trudny do zrozumienia. Alternatywnie, możemy użyć następujących operatorów logicznych do łączenia wyrażeń logicznych w pojedynczej instrukcji `if`:\n",
    "\n",
    "* `and` - łączy dwa wyrażenia logiczne i zwraca `True` tylko wtedy, gdy **obydwa** z tych wyrażeń logicznych zwróciły wartość `True`.\n",
    "* `or` - łączy dwa wyrażenia logiczne i zwraca `True`, jeśli **przynajmniej jedno** z tych wyrażeń logicznych zwróciło wartość `True`.\n",
    "\n",
    "W związku z tym, poprzedni kod możemy przepisać w następujący sposób:"
   ]
  },
  {
   "cell_type": "code",
   "execution_count": 3,
   "id": "ca18680c",
   "metadata": {},
   "outputs": [
    {
     "data": {
      "text/plain": [
       "'Discount available: 10%'"
      ]
     },
     "execution_count": 3,
     "metadata": {},
     "output_type": "execute_result"
    }
   ],
   "source": [
    "msg = \"No discounts available\"\n",
    "\n",
    "if total_price > 100 and delivery_country == \"France\":\n",
    "    msg = \"Discount available: 10%\"\n",
    "    \n",
    "msg"
   ]
  },
  {
   "cell_type": "markdown",
   "id": "74d071e7",
   "metadata": {},
   "source": [
    "Możemy sprawdzić, że jeśli zmienimy wartość `total_price` na `100`, to połączone wyrażenie logiczne zwraca `False`."
   ]
  },
  {
   "cell_type": "code",
   "execution_count": 4,
   "id": "fe4f2bd8",
   "metadata": {},
   "outputs": [
    {
     "data": {
      "text/plain": [
       "False"
      ]
     },
     "execution_count": 4,
     "metadata": {},
     "output_type": "execute_result"
    }
   ],
   "source": [
    "total_price = 87.34\n",
    "total_price > 100 and delivery_country == \"France\""
   ]
  },
  {
   "cell_type": "markdown",
   "id": "8f4f9308",
   "metadata": {},
   "source": [
    "Jednakże, jeśli zmienimy operator `and` na operator `or`, zobaczymy, że połączone wyrażenie zwraca teraz `True`. W tym przypadku, `delivery_country` jest wciąż równe `'France'`, ponieważ nie zmieniliśmy wartości tej zmiennej, od momentu zdefiniowania jej kilka komórek wcześniej."
   ]
  },
  {
   "cell_type": "code",
   "execution_count": 5,
   "id": "f5f2902c",
   "metadata": {
    "scrolled": true
   },
   "outputs": [
    {
     "data": {
      "text/plain": [
       "True"
      ]
     },
     "execution_count": 5,
     "metadata": {},
     "output_type": "execute_result"
    }
   ],
   "source": [
    "total_price > 100 or delivery_country == \"France\""
   ]
  },
  {
   "cell_type": "markdown",
   "id": "685a3add",
   "metadata": {},
   "source": [
    "Oprócz operatorów logicznych `and` i `or`, Python posiada również operator `not`, który odwraca wartość zwracaną przez wyrażenie logiczne. Na przykład:"
   ]
  },
  {
   "cell_type": "code",
   "execution_count": 6,
   "id": "ef659fda",
   "metadata": {},
   "outputs": [
    {
     "data": {
      "text/plain": [
       "False"
      ]
     },
     "execution_count": 6,
     "metadata": {},
     "output_type": "execute_result"
    }
   ],
   "source": [
    "not (total_price > 100 or delivery_country == \"France\")    "
   ]
  },
  {
   "cell_type": "markdown",
   "id": "0ed2b8ad",
   "metadata": {},
   "source": [
    "W powyższym przykładzie Python najpierw sprawdza wartość zwróconą przez `total_price > 100` i wkleja to do wyrażenia, które zostaje przekształcone w następujący sposób:\n",
    "\n",
    "1. `not (False or delivery_country == \"France\")`.\n",
    "\n",
    "Następnie Python ocenia pozostałe wyrażenie logiczne w nawiasie, co daje:\n",
    "\n",
    "2. `not (False or True)`.\n",
    "\n",
    "Następnie Python ocenia wyrażenie `(False or True)`. Ponieważ operator `or` wymaga, aby tylko jedna wartość była `True`, całe wyrażenie daje wartość `True`, co prowadzi do:\n",
    "\n",
    "3. `not (True)`.\n",
    "\n",
    "Operator `not` odwraca wartość Boolean, do której jest stosowany, co oznacza, że całe wyrażenie daje `False` po obliczeniu, co jest rzeczywiście wynikiem wyświetlanym w komórce kodu powyżej.\n"
   ]
  },
  {
   "cell_type": "markdown",
   "id": "892b82b5",
   "metadata": {},
   "source": [
    "Zwykle istnieje więcej niż jeden sposób, na który można wyrazić warunek logiczny. Na przykład dwa poniższe warunki są równoważne:"
   ]
  },
  {
   "cell_type": "code",
   "execution_count": 7,
   "id": "6f5b8161",
   "metadata": {},
   "outputs": [
    {
     "data": {
      "text/plain": [
       "True"
      ]
     },
     "execution_count": 7,
     "metadata": {},
     "output_type": "execute_result"
    }
   ],
   "source": [
    "condition_1 = not (total_price > 100 or delivery_country == \"France\")  \n",
    "condition_2 = total_price <= 100 and delivery_country != \"France\"\n",
    "\n",
    "condition_1 == condition_2"
   ]
  },
  {
   "cell_type": "markdown",
   "id": "5876bb1b",
   "metadata": {},
   "source": [
    "# 4. Wyrażenia warunkowe w funkcjach <a id=' wyrażenia-warunkowe-w-funkcjach'></a>\n",
    "\n",
    "Warunki logiczne mogą być oczywiście stosowane również w funkcjach. Poniżej znajduje się przykład funkcji, która oblicza i stosuje zniżki do cen biletów do kina, na podstawie wieku użytkownika i dnia, na który rezerwowany jest bilet."
   ]
  },
  {
   "cell_type": "code",
   "execution_count": 10,
   "id": "dfd4b509",
   "metadata": {},
   "outputs": [
    {
     "data": {
      "text/plain": [
       "17.39"
      ]
     },
     "execution_count": 10,
     "metadata": {},
     "output_type": "execute_result"
    }
   ],
   "source": [
    "def apply_discount(ticket_price, user_age, day):\n",
    "        \n",
    "    if user_age < 18:\n",
    "        discount = 0.08\n",
    "    elif user_age >= 65:\n",
    "        discount = 0.15\n",
    "    else:\n",
    "        discount = 0\n",
    "    \n",
    "    if day == \"Saturday\" or day == \"Sunday\":\n",
    "        discount = discount + 0.10\n",
    "    elif day ==\"Wednesday\":\n",
    "        discount = discount + 0.05\n",
    "    else:\n",
    "        discount = discount\n",
    "    \n",
    "    ticket_price = ticket_price * (1 - discount)\n",
    "    ticket_price = round(ticket_price, 2)\n",
    "    return ticket_price\n",
    "\n",
    "apply_discount(19.99, 17, \"Wednesday\")"
   ]
  },
  {
   "cell_type": "markdown",
   "id": "f5cf0050",
   "metadata": {},
   "source": [
    "Powyższa funkcja ma dwa oddzielne złożone instrukcje warunkowe. Pierwsza złożona złożona instrukcja określa, czy użytkownik kwalifikuje się do zniżki cenowej na podstawie swojego wieku. Druga złożona instrukcja określa, czy użytkownik kwalifikuje się do zniżki cenowej na podstawie dnia, na który rezerwowany jest bilet do kina. Zniżki mogą być łączone, jak w przypadku użytkownika, który ma 17 lat i rezerwuje bilet na środę.\n",
    "\n",
    "Po wykonaniu wszystkich instrukcji warunkowych i uzyskaniu ostatecznego współczynnika zniżki (zmienna `dicount`), oryginalna cena biletu jest mnożona przez `1 - discount`. Zauważmy, że jeśli zniżka wynosi `0`, to cena pozostaje przy swojej pierwotnej wartości.\n",
    "\n",
    "Warto również wspomnieć, że wbudowana funkcja `round()` służy do zaokrąglenia ostatecznej ceny biletu przed jej zwróceniem. Dzieje się tak dlatego, że pomnożenie ceny biletu przez zniżkę spowoduje powstanie liczby `float`, który może mieć więcej niż dwie cyfry po przecinku. Ponieważ ceny biletów do kina są podawane w walutach, które są zwykle wyświetlane jako liczby wymierne z dwoma miejscami po przecinku, powinniśmy zaokrąglić ostateczną cenę biletu. To właśnie robi wbudowana funkcja `round`, która przyjmuje dwa argumenty. Pierwszy argument to liczba, którą chcemy zaokrąglić (w tym przypadku `ticket_price`), natomiast drugi argument to liczba miejsc po przecinku, do których chcemy zaokrąglić (w tym przypadku jest to `2`)."
   ]
  }
 ],
 "metadata": {
  "kernelspec": {
   "display_name": "Python 3 (ipykernel)",
   "language": "python",
   "name": "python3"
  },
  "language_info": {
   "codemirror_mode": {
    "name": "ipython",
    "version": 3
   },
   "file_extension": ".py",
   "mimetype": "text/x-python",
   "name": "python",
   "nbconvert_exporter": "python",
   "pygments_lexer": "ipython3",
   "version": "3.9.13"
  }
 },
 "nbformat": 4,
 "nbformat_minor": 5
}
