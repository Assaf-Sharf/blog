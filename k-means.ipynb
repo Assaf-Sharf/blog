{
 "cells": [
  {
   "cell_type": "markdown",
   "metadata": {},
   "source": [
    "# DSCI-633 Lab #6 (python)\n",
    "# K-Means Algorithm\n",
    "\n",
    "## Complete find_closest_centroid( )  and \n",
    "## Complete calc_centroids( ).\n",
    "\n",
    "### Name: Ji Woong Kim"
   ]
  },
  {
   "cell_type": "code",
   "execution_count": 535,
   "metadata": {},
   "outputs": [],
   "source": [
    "# Import all needed libraries\n",
    "import numpy as np\n",
    "import pandas as pd\n",
    "import numpy.matlib\n",
    "import sys"
   ]
  },
  {
   "cell_type": "code",
   "execution_count": 536,
   "metadata": {},
   "outputs": [],
   "source": [
    "# upload iris dataset\n",
    "df = pd.read_csv('iris.csv')\n",
    "df.columns = ['SepalLengthCm', 'SepalWidthCm', 'PetalLengthCm', 'PetalWidthCm', 'species']"
   ]
  },
  {
   "cell_type": "code",
   "execution_count": 537,
   "metadata": {},
   "outputs": [
    {
     "name": "stdout",
     "output_type": "stream",
     "text": [
      "[[4.3 3.  1.1 0.1]\n",
      " [4.4 2.9 1.4 0.2]\n",
      " [4.4 3.  1.3 0.2]\n",
      " [4.4 3.2 1.3 0.2]\n",
      " [4.5 2.3 1.3 0.3]\n",
      " [4.6 3.1 1.5 0.2]\n",
      " [4.6 3.2 1.4 0.2]\n",
      " [4.6 3.4 1.4 0.3]\n",
      " [4.6 3.6 1.  0.2]\n",
      " [4.7 3.2 1.3 0.2]\n",
      " [4.7 3.2 1.6 0.2]\n",
      " [4.8 3.  1.4 0.1]\n",
      " [4.8 3.  1.4 0.3]\n",
      " [4.8 3.1 1.6 0.2]\n",
      " [4.8 3.4 1.6 0.2]\n",
      " [4.8 3.4 1.9 0.2]\n",
      " [4.9 2.4 3.3 1. ]\n",
      " [4.9 2.5 4.5 1.7]\n",
      " [4.9 3.  1.4 0.2]\n",
      " [4.9 3.1 1.5 0.1]\n",
      " [4.9 3.1 1.5 0.1]\n",
      " [4.9 3.1 1.5 0.1]\n",
      " [5.  2.  3.5 1. ]\n",
      " [5.  2.3 3.3 1. ]\n",
      " [5.  3.  1.6 0.2]\n",
      " [5.  3.2 1.2 0.2]\n",
      " [5.  3.3 1.4 0.2]\n",
      " [5.  3.4 1.5 0.2]\n",
      " [5.  3.4 1.6 0.4]\n",
      " [5.  3.5 1.3 0.3]\n",
      " [5.  3.5 1.6 0.6]\n",
      " [5.  3.6 1.4 0.2]\n",
      " [5.1 2.5 3.  1.1]\n",
      " [5.1 3.3 1.7 0.5]\n",
      " [5.1 3.4 1.5 0.2]\n",
      " [5.1 3.5 1.4 0.3]\n",
      " [5.1 3.7 1.5 0.4]\n",
      " [5.1 3.8 1.5 0.3]\n",
      " [5.1 3.8 1.6 0.2]\n",
      " [5.1 3.8 1.9 0.4]\n",
      " [5.2 2.7 3.9 1.4]\n",
      " [5.2 3.4 1.4 0.2]\n",
      " [5.2 3.5 1.5 0.2]\n",
      " [5.2 4.1 1.5 0.1]\n",
      " [5.3 3.7 1.5 0.2]\n",
      " [5.4 3.  4.5 1.5]\n",
      " [5.4 3.4 1.5 0.4]\n",
      " [5.4 3.4 1.7 0.2]\n",
      " [5.4 3.7 1.5 0.2]\n",
      " [5.4 3.9 1.3 0.4]\n",
      " [5.4 3.9 1.7 0.4]\n",
      " [5.5 2.3 4.  1.3]\n",
      " [5.5 2.4 3.7 1. ]\n",
      " [5.5 2.4 3.8 1.1]\n",
      " [5.5 2.5 4.  1.3]\n",
      " [5.5 2.6 4.4 1.2]\n",
      " [5.5 3.5 1.3 0.2]\n",
      " [5.5 4.2 1.4 0.2]\n",
      " [5.6 2.5 3.9 1.1]\n",
      " [5.6 2.7 4.2 1.3]\n",
      " [5.6 2.8 4.9 2. ]\n",
      " [5.6 2.9 3.6 1.3]\n",
      " [5.6 3.  4.1 1.3]\n",
      " [5.6 3.  4.5 1.5]\n",
      " [5.7 2.5 5.  2. ]\n",
      " [5.7 2.6 3.5 1. ]\n",
      " [5.7 2.8 4.1 1.3]\n",
      " [5.7 2.8 4.5 1.3]\n",
      " [5.7 2.9 4.2 1.3]\n",
      " [5.7 3.  4.2 1.2]\n",
      " [5.7 3.8 1.7 0.3]\n",
      " [5.7 4.4 1.5 0.4]\n",
      " [5.8 2.6 4.  1.2]\n",
      " [5.8 2.7 3.9 1.2]\n",
      " [5.8 2.7 4.1 1. ]\n",
      " [5.8 2.7 5.1 1.9]\n",
      " [5.8 2.7 5.1 1.9]\n",
      " [5.8 2.8 5.1 2.4]\n",
      " [5.8 4.  1.2 0.2]\n",
      " [5.9 3.  4.2 1.5]\n",
      " [5.9 3.  5.1 1.8]\n",
      " [5.9 3.2 4.8 1.8]\n",
      " [6.  2.2 4.  1. ]\n",
      " [6.  2.2 5.  1.5]\n",
      " [6.  2.7 5.1 1.6]\n",
      " [6.  2.9 4.5 1.5]\n",
      " [6.  3.  4.8 1.8]\n",
      " [6.  3.4 4.5 1.6]\n",
      " [6.1 2.6 5.6 1.4]\n",
      " [6.1 2.8 4.  1.3]\n",
      " [6.1 2.8 4.7 1.2]\n",
      " [6.1 2.9 4.7 1.4]\n",
      " [6.1 3.  4.6 1.4]\n",
      " [6.1 3.  4.9 1.8]\n",
      " [6.2 2.2 4.5 1.5]\n",
      " [6.2 2.8 4.8 1.8]\n",
      " [6.2 2.9 4.3 1.3]\n",
      " [6.2 3.4 5.4 2.3]\n",
      " [6.3 2.3 4.4 1.3]\n",
      " [6.3 2.5 4.9 1.5]\n",
      " [6.3 2.5 5.  1.9]\n",
      " [6.3 2.7 4.9 1.8]\n",
      " [6.3 2.8 5.1 1.5]\n",
      " [6.3 2.9 5.6 1.8]\n",
      " [6.3 3.3 4.7 1.6]\n",
      " [6.3 3.3 6.  2.5]\n",
      " [6.3 3.4 5.6 2.4]\n",
      " [6.4 2.7 5.3 1.9]\n",
      " [6.4 2.8 5.6 2.1]\n",
      " [6.4 2.8 5.6 2.2]\n",
      " [6.4 2.9 4.3 1.3]\n",
      " [6.4 3.1 5.5 1.8]\n",
      " [6.4 3.2 4.5 1.5]\n",
      " [6.4 3.2 5.3 2.3]\n",
      " [6.5 2.8 4.6 1.5]\n",
      " [6.5 3.  5.2 2. ]\n",
      " [6.5 3.  5.5 1.8]\n",
      " [6.5 3.  5.8 2.2]\n",
      " [6.5 3.2 5.1 2. ]\n",
      " [6.6 2.9 4.6 1.3]\n",
      " [6.6 3.  4.4 1.4]\n",
      " [6.7 2.5 5.8 1.8]\n",
      " [6.7 3.  5.  1.7]\n",
      " [6.7 3.  5.2 2.3]\n",
      " [6.7 3.1 4.4 1.4]\n",
      " [6.7 3.1 4.7 1.5]\n",
      " [6.7 3.1 5.6 2.4]\n",
      " [6.7 3.3 5.7 2.1]\n",
      " [6.7 3.3 5.7 2.5]\n",
      " [6.8 2.8 4.8 1.4]\n",
      " [6.8 3.  5.5 2.1]\n",
      " [6.8 3.2 5.9 2.3]\n",
      " [6.9 3.1 4.9 1.5]\n",
      " [6.9 3.1 5.1 2.3]\n",
      " [6.9 3.1 5.4 2.1]\n",
      " [6.9 3.2 5.7 2.3]\n",
      " [7.  3.2 4.7 1.4]\n",
      " [7.1 3.  5.9 2.1]\n",
      " [7.2 3.  5.8 1.6]\n",
      " [7.2 3.2 6.  1.8]\n",
      " [7.2 3.6 6.1 2.5]\n",
      " [7.3 2.9 6.3 1.8]\n",
      " [7.4 2.8 6.1 1.9]\n",
      " [7.6 3.  6.6 2.1]\n",
      " [7.7 2.6 6.9 2.3]\n",
      " [7.7 2.8 6.7 2. ]\n",
      " [7.7 3.  6.1 2.3]\n",
      " [7.7 3.8 6.7 2.2]\n",
      " [7.9 3.8 6.4 2. ]]\n"
     ]
    }
   ],
   "source": [
    "# Use all records in the dataset withoout classes ('species' column) for cluster analysis\n",
    "cluster_data = df[['SepalLengthCm', 'SepalWidthCm', 'PetalLengthCm', 'PetalWidthCm']].copy(deep=True)\n",
    "\n",
    "# Sort the dataset by attributes to select the suboptimal starting centroid\n",
    "cluster_data.sort_values(by=['SepalLengthCm', 'SepalWidthCm', 'PetalLengthCm', 'PetalWidthCm'], inplace=True)\n",
    "cluster_array = np.array(cluster_data)\n",
    "print(cluster_array)"
   ]
  },
  {
   "cell_type": "code",
   "execution_count": 538,
   "metadata": {},
   "outputs": [
    {
     "name": "stdout",
     "output_type": "stream",
     "text": [
      "[[4.3 3.  1.1 0.1]\n",
      " [4.4 2.9 1.4 0.2]\n",
      " [4.4 3.  1.3 0.2]\n",
      " [4.4 3.2 1.3 0.2]\n",
      " [4.5 2.3 1.3 0.3]\n",
      " [4.6 3.1 1.5 0.2]\n",
      " [4.6 3.2 1.4 0.2]\n",
      " [4.6 3.4 1.4 0.3]\n",
      " [4.6 3.6 1.  0.2]\n",
      " [4.7 3.2 1.3 0.2]]\n"
     ]
    }
   ],
   "source": [
    "print(cluster_array[0:10])"
   ]
  },
  {
   "cell_type": "code",
   "execution_count": 539,
   "metadata": {},
   "outputs": [
    {
     "data": {
      "text/plain": [
       "149"
      ]
     },
     "execution_count": 539,
     "metadata": {},
     "output_type": "execute_result"
    }
   ],
   "source": [
    "cluster_array.shape[0]"
   ]
  },
  {
   "cell_type": "code",
   "execution_count": 540,
   "metadata": {},
   "outputs": [
    {
     "data": {
      "text/plain": [
       "(149, 4)"
      ]
     },
     "execution_count": 540,
     "metadata": {},
     "output_type": "execute_result"
    }
   ],
   "source": [
    "cluster_array.shape"
   ]
  },
  {
   "cell_type": "code",
   "execution_count": 541,
   "metadata": {},
   "outputs": [],
   "source": [
    "# Calculate Euclidean distance between two observations\n",
    "def distance(X1, X2):\n",
    "    return (sum((X1 - X2)**2))**0.5\n",
    "\n",
    "\n",
    "\n",
    "# Assign each point to its closest centroid\n",
    "def find_closest_centroid(centroids, cluster_array):\n",
    "    clusters = []\n",
    "#### Complete this #########\n",
    "\n",
    "    for i in range(cluster_array.shape[0]):\n",
    "        centroidForCluster = 11110\n",
    "        idx = 0\n",
    "#         print(\"cluster>>\")\n",
    "#         print(cluster_array[i])\n",
    "#         print(\"<<cluster\")\n",
    "        for j in range(len(centroids)):\n",
    "#             print(\"centroid>>\")\n",
    "#             print(centroids[j])\n",
    "#             print(\"<<centroid\")\n",
    "            dist = distance( cluster_array[i], centroids[j])\n",
    "#             print(\"dist : \", dist)\n",
    "#             print(\"centroidForCluster:\", centroidForCluster)\n",
    "            if dist <= centroidForCluster:\n",
    "                centroidForCluster = dist\n",
    "                idx = j\n",
    "\n",
    "        clusters.append(idx)\n",
    "\n",
    "    return clusters\n",
    "\n",
    "\n",
    "\n",
    "\n",
    "\n",
    "# Calculate new centroids based on each cluster's mean\n",
    "def calc_centroids(clusters, cluster_array):\n",
    "    new_centroids = []\n",
    "\n",
    "#### Complete this #########\n",
    "\n",
    "    clusterTotal = [0.0, 0.0, 0.0, 0.0]\n",
    "    numOfList = [0, 0, 0, 0]\n",
    "    \n",
    "    for i in range(len(clusters)):    \n",
    "        clusterTotal[clusters[i]] = clusterTotal[clusters[i]] + cluster_array[i]\n",
    "        numOfList[clusters[i]] = numOfList[clusters[i]] + 1\n",
    "    \n",
    "#     print(clusterTotal)\n",
    "#     print(numOfList)\n",
    "    \n",
    "    finalCentroid = [0.0, 0.0, 0.0, 0.0]\n",
    "    for i in range(4):        \n",
    "        finalCentroid[i] = clusterTotal[i]/ float(numOfList[i])\n",
    "\n",
    "    return finalCentroid\n",
    "\n",
    "\n",
    "# Calculate SSE (Sum of the Squared Error) within each cluster\n",
    "def calc_SSE(clusters, cluster_array):\n",
    "    sum_squares = []\n",
    "    cluster_df = pd.concat([pd.DataFrame(cluster_array),\n",
    "                            pd.DataFrame(clusters, columns=['cluster'])], axis=1)\n",
    "    for c in set(cluster_df['cluster']):\n",
    "        current_cluster = cluster_df[cluster_df['cluster']\\\n",
    "                                     ==c][cluster_df.columns[:-1]]\n",
    "        cluster_mean = current_cluster.mean(axis=0)\n",
    "        mean_repmat = np.matlib.repmat(cluster_mean, \n",
    "                                       current_cluster.shape[0],1)\n",
    "        sum_squares.append(np.sum(np.sum((current_cluster - mean_repmat)**2)))\n",
    "    return sum_squares"
   ]
  },
  {
   "cell_type": "code",
   "execution_count": 542,
   "metadata": {},
   "outputs": [
    {
     "name": "stdout",
     "output_type": "stream",
     "text": [
      "[array([4.4, 3. , 1.3, 0.2]), array([4.4, 3.2, 1.3, 0.2]), array([4.5, 2.3, 1.3, 0.3]), array([4.6, 3.1, 1.5, 0.2])]\n",
      "centroids : <class 'numpy.ndarray'>\n",
      "[0, 0, 0, 1, 2, 3, 3, 1, 1, 3, 3, 3, 3, 3, 3, 3, 3, 3, 3, 3, 3, 3, 2, 3, 3, 3, 3, 3, 3, 3, 3, 3, 3, 3, 3, 3, 3, 3, 3, 3, 3, 3, 3, 3, 3, 3, 3, 3, 3, 3, 3, 3, 3, 3, 3, 3, 3, 3, 3, 3, 3, 3, 3, 3, 3, 3, 3, 3, 3, 3, 3, 3, 3, 3, 3, 3, 3, 3, 3, 3, 3, 3, 3, 3, 3, 3, 3, 3, 3, 3, 3, 3, 3, 3, 3, 3, 3, 3, 3, 3, 3, 3, 3, 3, 3, 3, 3, 3, 3, 3, 3, 3, 3, 3, 3, 3, 3, 3, 3, 3, 3, 3, 3, 3, 3, 3, 3, 3, 3, 3, 3, 3, 3, 3, 3, 3, 3, 3, 3, 3, 3, 3, 3, 3, 3, 3, 3, 3, 3]\n",
      "0 151\n"
     ]
    }
   ],
   "source": [
    "k = 4\n",
    "cluster_vars = []\n",
    "\n",
    "# randomly pick the initial centroid\n",
    "centroids = [cluster_array[i+2] for i in range(k)]\n",
    "\n",
    "print(centroids)\n",
    "# print(\"---centroids---\")\n",
    "# for i in range(len(centroids)):\n",
    "#     print(centroids[i])\n",
    "# print(\"---centroids---\")\n",
    "\n",
    "print(\"centroids :\", type(centroids[0]))\n",
    "clusters = find_closest_centroid(centroids, cluster_array)\n",
    "initial_clusters = clusters\n",
    "print(initial_clusters)\n",
    "print(0, round(np.mean(calc_SSE(clusters, cluster_array))))"
   ]
  },
  {
   "cell_type": "code",
   "execution_count": 543,
   "metadata": {},
   "outputs": [
    {
     "name": "stdout",
     "output_type": "stream",
     "text": [
      "1 32\n",
      "2 25\n",
      "3 20\n",
      "4 19\n",
      "5 19\n",
      "6 19\n",
      "7 19\n",
      "8 18\n",
      "9 18\n",
      "10 18\n",
      "11 18\n",
      "12 18\n",
      "13 18\n",
      "14 18\n",
      "15 18\n",
      "16 18\n",
      "17 18\n",
      "18 18\n",
      "19 18\n",
      "20 18\n",
      "final centroids  [array([4.71304348, 3.12173913, 1.4173913 , 0.19130435]), array([5.26153846, 3.67692308, 1.50769231, 0.29230769]), array([5.88360656, 2.74098361, 4.38852459, 1.43442623]), array([6.85384615, 3.07692308, 5.71538462, 2.05384615])]\n",
      "final clusters  [0, 0, 0, 0, 0, 0, 0, 0, 0, 0, 0, 0, 0, 0, 0, 0, 2, 2, 0, 0, 0, 0, 2, 2, 0, 0, 0, 1, 1, 1, 1, 1, 2, 1, 1, 1, 1, 1, 1, 1, 2, 1, 1, 1, 1, 2, 1, 1, 1, 1, 1, 2, 2, 2, 2, 2, 1, 1, 2, 2, 2, 2, 2, 2, 2, 2, 2, 2, 2, 2, 1, 1, 2, 2, 2, 2, 2, 2, 1, 2, 2, 2, 2, 2, 2, 2, 2, 2, 3, 2, 2, 2, 2, 2, 2, 2, 2, 3, 2, 2, 2, 2, 2, 3, 2, 3, 3, 3, 3, 3, 2, 3, 2, 3, 2, 3, 3, 3, 3, 2, 2, 3, 3, 3, 2, 2, 3, 3, 3, 2, 3, 3, 3, 3, 3, 3, 3, 3, 3, 3, 3, 3, 3, 3, 3, 3, 3, 3, 3]\n"
     ]
    }
   ],
   "source": [
    "for i in range(20):\n",
    "    centroids = calc_centroids(clusters, cluster_array)\n",
    "    clusters = find_closest_centroid(centroids, cluster_array)\n",
    "    cluster_var = np.mean(calc_SSE(clusters, cluster_array))\n",
    "    cluster_vars.append(cluster_var)\n",
    "    print(i+1, round(cluster_var))\n",
    "print(\"final centroids \", centroids)\n",
    "print(\"final clusters \", clusters)"
   ]
  }
 ],
 "metadata": {
  "kernelspec": {
   "display_name": "Python 3",
   "language": "python",
   "name": "python3"
  },
  "language_info": {
   "codemirror_mode": {
    "name": "ipython",
    "version": 3
   },
   "file_extension": ".py",
   "mimetype": "text/x-python",
   "name": "python",
   "nbconvert_exporter": "python",
   "pygments_lexer": "ipython3",
   "version": "3.8.5"
  }
 },
 "nbformat": 4,
 "nbformat_minor": 2
}
