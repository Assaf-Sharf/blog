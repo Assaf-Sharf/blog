{
  "cells": [
    {
      "cell_type": "markdown",
      "source": [
        "<img align=\"right\" src=\"https://ds-cs-images.s3.ap-northeast-2.amazonaws.com/Codestates_Fulllogo_Color.png\" width=100>\n",
        "\n",
        "## *AIB / SECTION 2 / SPRINT 2 / NOTE 2*\n",
        "\n",
        "# 📝 Assignment\n",
        "---"
      ],
      "metadata": {
        "id": "i--ru3b7TwG7"
      }
    },
    {
      "cell_type": "markdown",
      "source": [
        "# 랜덤포레스트(Random Forests)\n",
        "\n",
        "### 1) 캐글 대회를 이어서 진행합니다. EDA, 데이터 전처리 부분을 업데이트 하세요.\n",
        "- EDA는 항상 완벽할 수 없지요 한 주간 계속 같은 데이터로 과제를 진행하므로 부족한 부분을 추가하거나 논하세요.\n",
        "- (지금은 feature engineering에 너무 시간을 들이지 마세요!)\n",
        "- Ordinal Encoding을 적용해 보세요.\n",
        "- **(Urclass Quiz) 다음 특성들 중에 순서를 고려한 Ordinal Encoding이 필요해 보이는 특성을 고르세요.**\n",
        "    1. opinion_h1n1_vacc_effective\n",
        "    2. state\n",
        "    3. marital\n",
        "    4. employment_occupation\n"
      ],
      "metadata": {
        "id": "7IXUfiQ2UKj6"
      }
    },
    {
      "cell_type": "code",
      "source": [
        "!pip install pandas_profiling"
      ],
      "metadata": {
        "colab": {
          "base_uri": "https://localhost:8080/"
        },
        "id": "1xRSaxKs4e0E",
        "outputId": "e04ede2e-d7b0-47c9-89fa-36713bacf705"
      },
      "execution_count": 1,
      "outputs": [
        {
          "output_type": "stream",
          "name": "stdout",
          "text": [
            "Collecting pandas_profiling==2.8.0\n",
            "  Downloading pandas_profiling-2.8.0-py2.py3-none-any.whl (259 kB)\n",
            "\u001b[?25l\r\u001b[K     |█▎                              | 10 kB 22.7 MB/s eta 0:00:01\r\u001b[K     |██▌                             | 20 kB 24.1 MB/s eta 0:00:01\r\u001b[K     |███▉                            | 30 kB 28.9 MB/s eta 0:00:01\r\u001b[K     |█████                           | 40 kB 23.6 MB/s eta 0:00:01\r\u001b[K     |██████▎                         | 51 kB 18.4 MB/s eta 0:00:01\r\u001b[K     |███████▋                        | 61 kB 21.1 MB/s eta 0:00:01\r\u001b[K     |████████▉                       | 71 kB 21.5 MB/s eta 0:00:01\r\u001b[K     |██████████                      | 81 kB 23.1 MB/s eta 0:00:01\r\u001b[K     |███████████▍                    | 92 kB 25.2 MB/s eta 0:00:01\r\u001b[K     |████████████▋                   | 102 kB 23.8 MB/s eta 0:00:01\r\u001b[K     |█████████████▉                  | 112 kB 23.8 MB/s eta 0:00:01\r\u001b[K     |███████████████▏                | 122 kB 23.8 MB/s eta 0:00:01\r\u001b[K     |████████████████▍               | 133 kB 23.8 MB/s eta 0:00:01\r\u001b[K     |█████████████████▋              | 143 kB 23.8 MB/s eta 0:00:01\r\u001b[K     |███████████████████             | 153 kB 23.8 MB/s eta 0:00:01\r\u001b[K     |████████████████████▏           | 163 kB 23.8 MB/s eta 0:00:01\r\u001b[K     |█████████████████████▍          | 174 kB 23.8 MB/s eta 0:00:01\r\u001b[K     |██████████████████████▊         | 184 kB 23.8 MB/s eta 0:00:01\r\u001b[K     |████████████████████████        | 194 kB 23.8 MB/s eta 0:00:01\r\u001b[K     |█████████████████████████▏      | 204 kB 23.8 MB/s eta 0:00:01\r\u001b[K     |██████████████████████████▌     | 215 kB 23.8 MB/s eta 0:00:01\r\u001b[K     |███████████████████████████▊    | 225 kB 23.8 MB/s eta 0:00:01\r\u001b[K     |█████████████████████████████   | 235 kB 23.8 MB/s eta 0:00:01\r\u001b[K     |██████████████████████████████▎ | 245 kB 23.8 MB/s eta 0:00:01\r\u001b[K     |███████████████████████████████▌| 256 kB 23.8 MB/s eta 0:00:01\r\u001b[K     |████████████████████████████████| 259 kB 23.8 MB/s \n",
            "\u001b[?25hRequirement already satisfied: astropy>=4.0 in /usr/local/lib/python3.7/dist-packages (from pandas_profiling==2.8.0) (4.3.1)\n",
            "Requirement already satisfied: requests>=2.23.0 in /usr/local/lib/python3.7/dist-packages (from pandas_profiling==2.8.0) (2.27.1)\n",
            "Requirement already satisfied: jinja2>=2.11.1 in /usr/local/lib/python3.7/dist-packages (from pandas_profiling==2.8.0) (2.11.3)\n",
            "Requirement already satisfied: ipywidgets>=7.5.1 in /usr/local/lib/python3.7/dist-packages (from pandas_profiling==2.8.0) (7.7.0)\n",
            "Collecting visions[type_image_path]==0.4.4\n",
            "  Downloading visions-0.4.4-py3-none-any.whl (59 kB)\n",
            "\u001b[K     |████████████████████████████████| 59 kB 6.8 MB/s \n",
            "\u001b[?25hRequirement already satisfied: htmlmin>=0.1.12 in /usr/local/lib/python3.7/dist-packages (from pandas_profiling==2.8.0) (0.1.12)\n",
            "Requirement already satisfied: phik>=0.9.10 in /usr/local/lib/python3.7/dist-packages (from pandas_profiling==2.8.0) (0.12.2)\n",
            "Requirement already satisfied: missingno>=0.4.2 in /usr/local/lib/python3.7/dist-packages (from pandas_profiling==2.8.0) (0.5.1)\n",
            "Collecting confuse>=1.0.0\n",
            "  Downloading confuse-1.7.0-py2.py3-none-any.whl (25 kB)\n",
            "Requirement already satisfied: tangled-up-in-unicode>=0.0.6 in /usr/local/lib/python3.7/dist-packages (from pandas_profiling==2.8.0) (0.2.0)\n",
            "Requirement already satisfied: matplotlib>=3.2.0 in /usr/local/lib/python3.7/dist-packages (from pandas_profiling==2.8.0) (3.2.2)\n",
            "Requirement already satisfied: numpy>=1.16.0 in /usr/local/lib/python3.7/dist-packages (from pandas_profiling==2.8.0) (1.21.6)\n",
            "Requirement already satisfied: pandas!=1.0.0,!=1.0.1,!=1.0.2,>=0.25.3 in /usr/local/lib/python3.7/dist-packages (from pandas_profiling==2.8.0) (1.3.5)\n",
            "Requirement already satisfied: joblib in /usr/local/lib/python3.7/dist-packages (from pandas_profiling==2.8.0) (1.1.0)\n",
            "Requirement already satisfied: scipy>=1.4.1 in /usr/local/lib/python3.7/dist-packages (from pandas_profiling==2.8.0) (1.7.3)\n",
            "Requirement already satisfied: tqdm>=4.43.0 in /usr/local/lib/python3.7/dist-packages (from pandas_profiling==2.8.0) (4.64.0)\n",
            "Requirement already satisfied: attrs>=19.3.0 in /usr/local/lib/python3.7/dist-packages (from visions[type_image_path]==0.4.4->pandas_profiling==2.8.0) (21.4.0)\n",
            "Requirement already satisfied: networkx>=2.4 in /usr/local/lib/python3.7/dist-packages (from visions[type_image_path]==0.4.4->pandas_profiling==2.8.0) (2.6.3)\n",
            "Requirement already satisfied: imagehash in /usr/local/lib/python3.7/dist-packages (from visions[type_image_path]==0.4.4->pandas_profiling==2.8.0) (4.2.1)\n",
            "Requirement already satisfied: Pillow in /usr/local/lib/python3.7/dist-packages (from visions[type_image_path]==0.4.4->pandas_profiling==2.8.0) (7.1.2)\n",
            "Requirement already satisfied: importlib-metadata in /usr/local/lib/python3.7/dist-packages (from astropy>=4.0->pandas_profiling==2.8.0) (4.11.3)\n",
            "Requirement already satisfied: pyerfa>=1.7.3 in /usr/local/lib/python3.7/dist-packages (from astropy>=4.0->pandas_profiling==2.8.0) (2.0.0.1)\n",
            "Requirement already satisfied: pyyaml in /usr/local/lib/python3.7/dist-packages (from confuse>=1.0.0->pandas_profiling==2.8.0) (6.0)\n",
            "Requirement already satisfied: ipython-genutils~=0.2.0 in /usr/local/lib/python3.7/dist-packages (from ipywidgets>=7.5.1->pandas_profiling==2.8.0) (0.2.0)\n",
            "Requirement already satisfied: ipykernel>=4.5.1 in /usr/local/lib/python3.7/dist-packages (from ipywidgets>=7.5.1->pandas_profiling==2.8.0) (4.10.1)\n",
            "Requirement already satisfied: widgetsnbextension~=3.6.0 in /usr/local/lib/python3.7/dist-packages (from ipywidgets>=7.5.1->pandas_profiling==2.8.0) (3.6.0)\n",
            "Requirement already satisfied: nbformat>=4.2.0 in /usr/local/lib/python3.7/dist-packages (from ipywidgets>=7.5.1->pandas_profiling==2.8.0) (5.3.0)\n",
            "Requirement already satisfied: jupyterlab-widgets>=1.0.0 in /usr/local/lib/python3.7/dist-packages (from ipywidgets>=7.5.1->pandas_profiling==2.8.0) (1.1.0)\n",
            "Requirement already satisfied: ipython>=4.0.0 in /usr/local/lib/python3.7/dist-packages (from ipywidgets>=7.5.1->pandas_profiling==2.8.0) (5.5.0)\n",
            "Requirement already satisfied: traitlets>=4.3.1 in /usr/local/lib/python3.7/dist-packages (from ipywidgets>=7.5.1->pandas_profiling==2.8.0) (5.1.1)\n",
            "Requirement already satisfied: tornado>=4.0 in /usr/local/lib/python3.7/dist-packages (from ipykernel>=4.5.1->ipywidgets>=7.5.1->pandas_profiling==2.8.0) (5.1.1)\n",
            "Requirement already satisfied: jupyter-client in /usr/local/lib/python3.7/dist-packages (from ipykernel>=4.5.1->ipywidgets>=7.5.1->pandas_profiling==2.8.0) (5.3.5)\n",
            "Requirement already satisfied: simplegeneric>0.8 in /usr/local/lib/python3.7/dist-packages (from ipython>=4.0.0->ipywidgets>=7.5.1->pandas_profiling==2.8.0) (0.8.1)\n",
            "Requirement already satisfied: setuptools>=18.5 in /usr/local/lib/python3.7/dist-packages (from ipython>=4.0.0->ipywidgets>=7.5.1->pandas_profiling==2.8.0) (57.4.0)\n",
            "Requirement already satisfied: pexpect in /usr/local/lib/python3.7/dist-packages (from ipython>=4.0.0->ipywidgets>=7.5.1->pandas_profiling==2.8.0) (4.8.0)\n",
            "Requirement already satisfied: pygments in /usr/local/lib/python3.7/dist-packages (from ipython>=4.0.0->ipywidgets>=7.5.1->pandas_profiling==2.8.0) (2.6.1)\n",
            "Requirement already satisfied: decorator in /usr/local/lib/python3.7/dist-packages (from ipython>=4.0.0->ipywidgets>=7.5.1->pandas_profiling==2.8.0) (4.4.2)\n",
            "Requirement already satisfied: prompt-toolkit<2.0.0,>=1.0.4 in /usr/local/lib/python3.7/dist-packages (from ipython>=4.0.0->ipywidgets>=7.5.1->pandas_profiling==2.8.0) (1.0.18)\n",
            "Requirement already satisfied: pickleshare in /usr/local/lib/python3.7/dist-packages (from ipython>=4.0.0->ipywidgets>=7.5.1->pandas_profiling==2.8.0) (0.7.5)\n",
            "Requirement already satisfied: MarkupSafe>=0.23 in /usr/local/lib/python3.7/dist-packages (from jinja2>=2.11.1->pandas_profiling==2.8.0) (2.1.1)\n",
            "Requirement already satisfied: cycler>=0.10 in /usr/local/lib/python3.7/dist-packages (from matplotlib>=3.2.0->pandas_profiling==2.8.0) (0.11.0)\n",
            "Requirement already satisfied: pyparsing!=2.0.4,!=2.1.2,!=2.1.6,>=2.0.1 in /usr/local/lib/python3.7/dist-packages (from matplotlib>=3.2.0->pandas_profiling==2.8.0) (3.0.8)\n",
            "Requirement already satisfied: python-dateutil>=2.1 in /usr/local/lib/python3.7/dist-packages (from matplotlib>=3.2.0->pandas_profiling==2.8.0) (2.8.2)\n",
            "Requirement already satisfied: kiwisolver>=1.0.1 in /usr/local/lib/python3.7/dist-packages (from matplotlib>=3.2.0->pandas_profiling==2.8.0) (1.4.2)\n",
            "Requirement already satisfied: typing-extensions in /usr/local/lib/python3.7/dist-packages (from kiwisolver>=1.0.1->matplotlib>=3.2.0->pandas_profiling==2.8.0) (4.2.0)\n",
            "Requirement already satisfied: seaborn in /usr/local/lib/python3.7/dist-packages (from missingno>=0.4.2->pandas_profiling==2.8.0) (0.11.2)\n",
            "Requirement already satisfied: fastjsonschema in /usr/local/lib/python3.7/dist-packages (from nbformat>=4.2.0->ipywidgets>=7.5.1->pandas_profiling==2.8.0) (2.15.3)\n",
            "Requirement already satisfied: jsonschema>=2.6 in /usr/local/lib/python3.7/dist-packages (from nbformat>=4.2.0->ipywidgets>=7.5.1->pandas_profiling==2.8.0) (4.3.3)\n",
            "Requirement already satisfied: jupyter-core in /usr/local/lib/python3.7/dist-packages (from nbformat>=4.2.0->ipywidgets>=7.5.1->pandas_profiling==2.8.0) (4.10.0)\n",
            "Requirement already satisfied: importlib-resources>=1.4.0 in /usr/local/lib/python3.7/dist-packages (from jsonschema>=2.6->nbformat>=4.2.0->ipywidgets>=7.5.1->pandas_profiling==2.8.0) (5.7.1)\n",
            "Requirement already satisfied: pyrsistent!=0.17.0,!=0.17.1,!=0.17.2,>=0.14.0 in /usr/local/lib/python3.7/dist-packages (from jsonschema>=2.6->nbformat>=4.2.0->ipywidgets>=7.5.1->pandas_profiling==2.8.0) (0.18.1)\n",
            "Requirement already satisfied: zipp>=3.1.0 in /usr/local/lib/python3.7/dist-packages (from importlib-resources>=1.4.0->jsonschema>=2.6->nbformat>=4.2.0->ipywidgets>=7.5.1->pandas_profiling==2.8.0) (3.8.0)\n",
            "Requirement already satisfied: pytz>=2017.3 in /usr/local/lib/python3.7/dist-packages (from pandas!=1.0.0,!=1.0.1,!=1.0.2,>=0.25.3->pandas_profiling==2.8.0) (2022.1)\n",
            "Requirement already satisfied: wcwidth in /usr/local/lib/python3.7/dist-packages (from prompt-toolkit<2.0.0,>=1.0.4->ipython>=4.0.0->ipywidgets>=7.5.1->pandas_profiling==2.8.0) (0.2.5)\n",
            "Requirement already satisfied: six>=1.9.0 in /usr/local/lib/python3.7/dist-packages (from prompt-toolkit<2.0.0,>=1.0.4->ipython>=4.0.0->ipywidgets>=7.5.1->pandas_profiling==2.8.0) (1.15.0)\n",
            "Requirement already satisfied: urllib3<1.27,>=1.21.1 in /usr/local/lib/python3.7/dist-packages (from requests>=2.23.0->pandas_profiling==2.8.0) (1.24.3)\n",
            "Requirement already satisfied: idna<4,>=2.5 in /usr/local/lib/python3.7/dist-packages (from requests>=2.23.0->pandas_profiling==2.8.0) (2.10)\n",
            "Requirement already satisfied: charset-normalizer~=2.0.0 in /usr/local/lib/python3.7/dist-packages (from requests>=2.23.0->pandas_profiling==2.8.0) (2.0.12)\n",
            "Requirement already satisfied: certifi>=2017.4.17 in /usr/local/lib/python3.7/dist-packages (from requests>=2.23.0->pandas_profiling==2.8.0) (2021.10.8)\n",
            "Requirement already satisfied: notebook>=4.4.1 in /usr/local/lib/python3.7/dist-packages (from widgetsnbextension~=3.6.0->ipywidgets>=7.5.1->pandas_profiling==2.8.0) (5.3.1)\n",
            "Requirement already satisfied: Send2Trash in /usr/local/lib/python3.7/dist-packages (from notebook>=4.4.1->widgetsnbextension~=3.6.0->ipywidgets>=7.5.1->pandas_profiling==2.8.0) (1.8.0)\n",
            "Requirement already satisfied: nbconvert in /usr/local/lib/python3.7/dist-packages (from notebook>=4.4.1->widgetsnbextension~=3.6.0->ipywidgets>=7.5.1->pandas_profiling==2.8.0) (5.6.1)\n",
            "Requirement already satisfied: terminado>=0.8.1 in /usr/local/lib/python3.7/dist-packages (from notebook>=4.4.1->widgetsnbextension~=3.6.0->ipywidgets>=7.5.1->pandas_profiling==2.8.0) (0.13.3)\n",
            "Requirement already satisfied: pyzmq>=13 in /usr/local/lib/python3.7/dist-packages (from jupyter-client->ipykernel>=4.5.1->ipywidgets>=7.5.1->pandas_profiling==2.8.0) (22.3.0)\n",
            "Requirement already satisfied: ptyprocess in /usr/local/lib/python3.7/dist-packages (from terminado>=0.8.1->notebook>=4.4.1->widgetsnbextension~=3.6.0->ipywidgets>=7.5.1->pandas_profiling==2.8.0) (0.7.0)\n",
            "Requirement already satisfied: PyWavelets in /usr/local/lib/python3.7/dist-packages (from imagehash->visions[type_image_path]==0.4.4->pandas_profiling==2.8.0) (1.3.0)\n",
            "Requirement already satisfied: mistune<2,>=0.8.1 in /usr/local/lib/python3.7/dist-packages (from nbconvert->notebook>=4.4.1->widgetsnbextension~=3.6.0->ipywidgets>=7.5.1->pandas_profiling==2.8.0) (0.8.4)\n",
            "Requirement already satisfied: pandocfilters>=1.4.1 in /usr/local/lib/python3.7/dist-packages (from nbconvert->notebook>=4.4.1->widgetsnbextension~=3.6.0->ipywidgets>=7.5.1->pandas_profiling==2.8.0) (1.5.0)\n",
            "Requirement already satisfied: defusedxml in /usr/local/lib/python3.7/dist-packages (from nbconvert->notebook>=4.4.1->widgetsnbextension~=3.6.0->ipywidgets>=7.5.1->pandas_profiling==2.8.0) (0.7.1)\n",
            "Requirement already satisfied: entrypoints>=0.2.2 in /usr/local/lib/python3.7/dist-packages (from nbconvert->notebook>=4.4.1->widgetsnbextension~=3.6.0->ipywidgets>=7.5.1->pandas_profiling==2.8.0) (0.4)\n",
            "Requirement already satisfied: testpath in /usr/local/lib/python3.7/dist-packages (from nbconvert->notebook>=4.4.1->widgetsnbextension~=3.6.0->ipywidgets>=7.5.1->pandas_profiling==2.8.0) (0.6.0)\n",
            "Requirement already satisfied: bleach in /usr/local/lib/python3.7/dist-packages (from nbconvert->notebook>=4.4.1->widgetsnbextension~=3.6.0->ipywidgets>=7.5.1->pandas_profiling==2.8.0) (5.0.0)\n",
            "Requirement already satisfied: webencodings in /usr/local/lib/python3.7/dist-packages (from bleach->nbconvert->notebook>=4.4.1->widgetsnbextension~=3.6.0->ipywidgets>=7.5.1->pandas_profiling==2.8.0) (0.5.1)\n",
            "Installing collected packages: visions, confuse, pandas-profiling\n",
            "  Attempting uninstall: visions\n",
            "    Found existing installation: visions 0.7.4\n",
            "    Uninstalling visions-0.7.4:\n",
            "      Successfully uninstalled visions-0.7.4\n",
            "  Attempting uninstall: pandas-profiling\n",
            "    Found existing installation: pandas-profiling 3.2.0\n",
            "    Uninstalling pandas-profiling-3.2.0:\n",
            "      Successfully uninstalled pandas-profiling-3.2.0\n",
            "Successfully installed confuse-1.7.0 pandas-profiling-2.8.0 visions-0.4.4\n"
          ]
        }
      ]
    },
    {
      "cell_type": "code",
      "execution_count": 4,
      "source": [
        "! pip install kaggle"
      ],
      "outputs": [
        {
          "output_type": "stream",
          "name": "stdout",
          "text": [
            "Requirement already satisfied: kaggle in /usr/local/lib/python3.7/dist-packages (1.5.12)\n",
            "Requirement already satisfied: tqdm in /usr/local/lib/python3.7/dist-packages (from kaggle) (4.64.0)\n",
            "Requirement already satisfied: urllib3 in /usr/local/lib/python3.7/dist-packages (from kaggle) (1.24.3)\n",
            "Requirement already satisfied: python-slugify in /usr/local/lib/python3.7/dist-packages (from kaggle) (6.1.2)\n",
            "Requirement already satisfied: certifi in /usr/local/lib/python3.7/dist-packages (from kaggle) (2021.10.8)\n",
            "Requirement already satisfied: six>=1.10 in /usr/local/lib/python3.7/dist-packages (from kaggle) (1.15.0)\n",
            "Requirement already satisfied: requests in /usr/local/lib/python3.7/dist-packages (from kaggle) (2.27.1)\n",
            "Requirement already satisfied: python-dateutil in /usr/local/lib/python3.7/dist-packages (from kaggle) (2.8.2)\n",
            "Requirement already satisfied: text-unidecode>=1.3 in /usr/local/lib/python3.7/dist-packages (from python-slugify->kaggle) (1.3)\n",
            "Requirement already satisfied: charset-normalizer~=2.0.0 in /usr/local/lib/python3.7/dist-packages (from requests->kaggle) (2.0.12)\n",
            "Requirement already satisfied: idna<4,>=2.5 in /usr/local/lib/python3.7/dist-packages (from requests->kaggle) (2.10)\n"
          ]
        }
      ],
      "metadata": {
        "colab": {
          "base_uri": "https://localhost:8080/"
        },
        "id": "kgFUm8TbTwHA",
        "outputId": "3fb2dabc-c3ca-4ded-bd11-e2de416e895a"
      }
    },
    {
      "cell_type": "code",
      "source": [
        "! mkdir ~/.kaggle"
      ],
      "metadata": {
        "colab": {
          "base_uri": "https://localhost:8080/"
        },
        "id": "872xrpbFFJw7",
        "outputId": "2899a28b-08bd-4b7a-fa10-007370598aa0"
      },
      "execution_count": 5,
      "outputs": [
        {
          "output_type": "stream",
          "name": "stdout",
          "text": [
            "mkdir: cannot create directory ‘/root/.kaggle’: File exists\n"
          ]
        }
      ]
    },
    {
      "cell_type": "code",
      "source": [
        "! cp kaggle.json ~/.kaggle/"
      ],
      "metadata": {
        "id": "4_m6wnuQFNuO"
      },
      "execution_count": 6,
      "outputs": []
    },
    {
      "cell_type": "code",
      "source": [
        "! chmod 600 ~/.kaggle/kaggle.json"
      ],
      "metadata": {
        "id": "Nkzh4JYKFSuD"
      },
      "execution_count": 7,
      "outputs": []
    },
    {
      "cell_type": "code",
      "source": [
        "!kaggle competitions download -c prediction-of-h1n1-vaccination"
      ],
      "metadata": {
        "colab": {
          "base_uri": "https://localhost:8080/"
        },
        "id": "ku0ruO63FXul",
        "outputId": "5b9fdbe0-077f-4906-ca6a-315ae1d3a950"
      },
      "execution_count": 8,
      "outputs": [
        {
          "output_type": "stream",
          "name": "stdout",
          "text": [
            "Downloading prediction-of-h1n1-vaccination.zip to /content\n",
            "\r  0% 0.00/1.59M [00:00<?, ?B/s]\n",
            "\r100% 1.59M/1.59M [00:00<00:00, 37.8MB/s]\n"
          ]
        }
      ]
    },
    {
      "cell_type": "code",
      "source": [
        "! unzip prediction-of-h1n1-vaccination"
      ],
      "metadata": {
        "colab": {
          "base_uri": "https://localhost:8080/"
        },
        "id": "TarCDKS5GW4h",
        "outputId": "10c9d20f-a5f5-4964-c653-eea7b6c27556"
      },
      "execution_count": 9,
      "outputs": [
        {
          "output_type": "stream",
          "name": "stdout",
          "text": [
            "Archive:  prediction-of-h1n1-vaccination.zip\n",
            "  inflating: submission.csv          \n",
            "  inflating: test.csv                \n",
            "  inflating: train.csv               \n",
            "  inflating: train_labels.csv        \n"
          ]
        }
      ]
    },
    {
      "cell_type": "code",
      "source": [
        "import pandas as pd\n",
        "import numpy as np\n",
        "\n",
        "train = pd.read_csv('train.csv')\n",
        "train.info()"
      ],
      "metadata": {
        "colab": {
          "base_uri": "https://localhost:8080/"
        },
        "id": "22RKeYXX22F_",
        "outputId": "4973af05-d251-41fb-fa04-22d48619b912"
      },
      "execution_count": 10,
      "outputs": [
        {
          "output_type": "stream",
          "name": "stdout",
          "text": [
            "<class 'pandas.core.frame.DataFrame'>\n",
            "RangeIndex: 42154 entries, 0 to 42153\n",
            "Data columns (total 38 columns):\n",
            " #   Column                       Non-Null Count  Dtype  \n",
            "---  ------                       --------------  -----  \n",
            " 0   h1n1_concern                 33734 non-null  float64\n",
            " 1   h1n1_knowledge               33734 non-null  float64\n",
            " 2   behavioral_antiviral_meds    33635 non-null  float64\n",
            " 3   behavioral_avoidance         33482 non-null  float64\n",
            " 4   behavioral_face_mask         33710 non-null  float64\n",
            " 5   behavioral_wash_hands        33683 non-null  float64\n",
            " 6   behavioral_large_gatherings  33640 non-null  float64\n",
            " 7   behavioral_outside_home      33633 non-null  float64\n",
            " 8   behavioral_touch_face        33571 non-null  float64\n",
            " 9   doctor_recc_h1n1             40269 non-null  float64\n",
            " 10  doctor_recc_seasonal         40269 non-null  float64\n",
            " 11  chronic_med_condition        40837 non-null  float64\n",
            " 12  child_under_6_months         32705 non-null  float64\n",
            " 13  health_insurance             22733 non-null  float64\n",
            " 14  health_worker                32724 non-null  float64\n",
            " 15  opinion_h1n1_vacc_effective  33375 non-null  object \n",
            " 16  opinion_h1n1_risk            33329 non-null  object \n",
            " 17  opinion_h1n1_sick_from_vacc  33285 non-null  object \n",
            " 18  opinion_seas_vacc_effective  33220 non-null  object \n",
            " 19  opinion_seas_risk            33153 non-null  object \n",
            " 20  opinion_seas_sick_from_vacc  33089 non-null  object \n",
            " 21  agegrp                       42154 non-null  object \n",
            " 22  education_comp               31988 non-null  float64\n",
            " 23  raceeth4_i                   42154 non-null  int64  \n",
            " 24  sex_i                        42154 non-null  int64  \n",
            " 25  inc_pov                      42154 non-null  int64  \n",
            " 26  marital                      31955 non-null  float64\n",
            " 27  rent_own_r                   39958 non-null  float64\n",
            " 28  employment_status            31876 non-null  object \n",
            " 29  census_region                42154 non-null  int64  \n",
            " 30  census_msa                   42154 non-null  object \n",
            " 31  n_adult_r                    41845 non-null  float64\n",
            " 32  household_children           41845 non-null  float64\n",
            " 33  n_people_r                   42020 non-null  float64\n",
            " 34  employment_industry          17165 non-null  object \n",
            " 35  employment_occupation        17165 non-null  object \n",
            " 36  hhs_region                   42154 non-null  int64  \n",
            " 37  state                        42154 non-null  object \n",
            "dtypes: float64(21), int64(5), object(12)\n",
            "memory usage: 12.2+ MB\n"
          ]
        }
      ]
    },
    {
      "cell_type": "code",
      "source": [
        "target = 'vacc_h1n1_f'\n",
        "\n",
        "train = pd.merge(pd.read_csv('train.csv'), \n",
        "                 pd.read_csv('train_labels.csv')[target], left_index=True, right_index=True)\n",
        "test = pd.read_csv('test.csv')\n",
        "sample_submission = pd.read_csv('submission.csv')\n",
        "\n",
        "from sklearn.model_selection import train_test_split\n",
        "\n",
        "train, val = train_test_split(train, train_size=0.80, test_size=0.20, \n",
        "                              stratify=train[target], random_state=2)\n",
        "\n",
        "def engineer(df):\n",
        "    \"\"\"특성을 엔지니어링 하는 함수입니다.\"\"\"\n",
        "    \n",
        "    # 높은 카디널리티를 가지는 특성을 제거합니다.\n",
        "#     selected_cols = df.select_dtypes(include=['number', 'object'])\n",
        "#     colnames = selected_cols.columns.tolist()\n",
        "#     labels = selected_cols.nunique()\n",
        "    \n",
        "#     selected_features = labels[labels <= 30].index.tolist()\n",
        "#     df = df[selected_features]\n",
        "    \n",
        "    # 새로운 특성을 생성합니다.\n",
        "    behaviorals = [col for col in df.columns if 'behavioral' in col] \n",
        "    df['behaviorals'] = df[behaviorals].sum(axis=1)\n",
        "    \n",
        "    \n",
        "    dels = [col for col in df.columns if ('employment' in col or 'seas' in col)]\n",
        "    df.drop(columns=dels, inplace=True)\n",
        "        \n",
        "    return df\n",
        "\n",
        "train = engineer(train)\n",
        "val = engineer(val)\n",
        "test = engineer(test)\n",
        "\n",
        "\n",
        "features = train.drop(columns=[target]).columns\n",
        "\n",
        "X_train = train[features]\n",
        "y_train = train[target]\n",
        "X_val = val[features]\n",
        "y_val = val[target]\n",
        "X_test = test[features]\n",
        "\n",
        "!pip install category_encoders\n",
        "\n",
        "from category_encoders import OrdinalEncoder\n",
        "from sklearn.impute import SimpleImputer \n",
        "from sklearn.pipeline import make_pipeline\n",
        "\n",
        "# ordinal encoding\n",
        "enc = OrdinalEncoder(handle_missing=\"value\")\n",
        "enc.fit(X_train, y_train)\n",
        "enc.category_mapping"
      ],
      "metadata": {
        "colab": {
          "base_uri": "https://localhost:8080/"
        },
        "id": "dIpC75Bs5i5f",
        "outputId": "6d4de996-9145-4d7a-91e5-ebfb8687c035"
      },
      "execution_count": 4,
      "outputs": [
        {
          "output_type": "stream",
          "name": "stdout",
          "text": [
            "Collecting category_encoders\n",
            "  Downloading category_encoders-2.4.0-py2.py3-none-any.whl (86 kB)\n",
            "\u001b[?25l\r\u001b[K     |███▉                            | 10 kB 23.7 MB/s eta 0:00:01\r\u001b[K     |███████▋                        | 20 kB 28.3 MB/s eta 0:00:01\r\u001b[K     |███████████▍                    | 30 kB 32.6 MB/s eta 0:00:01\r\u001b[K     |███████████████▏                | 40 kB 28.8 MB/s eta 0:00:01\r\u001b[K     |███████████████████             | 51 kB 20.3 MB/s eta 0:00:01\r\u001b[K     |██████████████████████▊         | 61 kB 22.6 MB/s eta 0:00:01\r\u001b[K     |██████████████████████████▌     | 71 kB 23.5 MB/s eta 0:00:01\r\u001b[K     |██████████████████████████████▎ | 81 kB 24.7 MB/s eta 0:00:01\r\u001b[K     |████████████████████████████████| 86 kB 4.6 MB/s \n",
            "\u001b[?25hRequirement already satisfied: numpy>=1.14.0 in /usr/local/lib/python3.7/dist-packages (from category_encoders) (1.21.6)\n",
            "Requirement already satisfied: pandas>=0.21.1 in /usr/local/lib/python3.7/dist-packages (from category_encoders) (1.3.5)\n",
            "Requirement already satisfied: statsmodels>=0.9.0 in /usr/local/lib/python3.7/dist-packages (from category_encoders) (0.10.2)\n",
            "Requirement already satisfied: patsy>=0.5.1 in /usr/local/lib/python3.7/dist-packages (from category_encoders) (0.5.2)\n",
            "Requirement already satisfied: scipy>=1.0.0 in /usr/local/lib/python3.7/dist-packages (from category_encoders) (1.7.3)\n",
            "Requirement already satisfied: scikit-learn>=0.20.0 in /usr/local/lib/python3.7/dist-packages (from category_encoders) (1.0.2)\n",
            "Requirement already satisfied: python-dateutil>=2.7.3 in /usr/local/lib/python3.7/dist-packages (from pandas>=0.21.1->category_encoders) (2.8.2)\n",
            "Requirement already satisfied: pytz>=2017.3 in /usr/local/lib/python3.7/dist-packages (from pandas>=0.21.1->category_encoders) (2022.1)\n",
            "Requirement already satisfied: six in /usr/local/lib/python3.7/dist-packages (from patsy>=0.5.1->category_encoders) (1.15.0)\n",
            "Requirement already satisfied: threadpoolctl>=2.0.0 in /usr/local/lib/python3.7/dist-packages (from scikit-learn>=0.20.0->category_encoders) (3.1.0)\n",
            "Requirement already satisfied: joblib>=0.11 in /usr/local/lib/python3.7/dist-packages (from scikit-learn>=0.20.0->category_encoders) (1.1.0)\n",
            "Installing collected packages: category-encoders\n",
            "Successfully installed category-encoders-2.4.0\n"
          ]
        },
        {
          "output_type": "stream",
          "name": "stderr",
          "text": [
            "/usr/local/lib/python3.7/dist-packages/statsmodels/tools/_testing.py:19: FutureWarning: pandas.util.testing is deprecated. Use the functions in the public API at pandas.testing instead.\n",
            "  import pandas.util.testing as tm\n"
          ]
        },
        {
          "output_type": "execute_result",
          "data": {
            "text/plain": [
              "[{'col': 'opinion_h1n1_vacc_effective',\n",
              "  'data_type': dtype('O'),\n",
              "  'mapping': Somewhat Effective      1\n",
              "  Not Very Effective      2\n",
              "  Very Effective          3\n",
              "  Not At All Effective    4\n",
              "  Dont Know               5\n",
              "  NaN                     6\n",
              "  Refused                 7\n",
              "  dtype: int64},\n",
              " {'col': 'opinion_h1n1_risk',\n",
              "  'data_type': dtype('O'),\n",
              "  'mapping': Somewhat Low     1\n",
              "  Somewhat High    2\n",
              "  Very Low         3\n",
              "  NaN              4\n",
              "  Very High        5\n",
              "  Dont Know        6\n",
              "  Refused          7\n",
              "  dtype: int64},\n",
              " {'col': 'opinion_h1n1_sick_from_vacc',\n",
              "  'data_type': dtype('O'),\n",
              "  'mapping': Not At All Worried    1\n",
              "  Not Very Worried      2\n",
              "  Dont Know             3\n",
              "  Somewhat Worried      4\n",
              "  Very Worried          5\n",
              "  NaN                   6\n",
              "  Refused               7\n",
              "  dtype: int64},\n",
              " {'col': 'agegrp', 'data_type': dtype('O'), 'mapping': 18 - 34 Years         1\n",
              "  35 - 44 Years         2\n",
              "  65+ Years             3\n",
              "  55 - 64 Years         4\n",
              "  45 - 54 Years         5\n",
              "  6 Months - 9 Years    6\n",
              "  10 - 17 Years         7\n",
              "  NaN                  -2\n",
              "  dtype: int64},\n",
              " {'col': 'census_msa',\n",
              "  'data_type': dtype('O'),\n",
              "  'mapping': MSA, Not Principle City    1\n",
              "  Non-MSA                    2\n",
              "  MSA, Principle City        3\n",
              "  NaN                       -2\n",
              "  dtype: int64},\n",
              " {'col': 'state', 'data_type': dtype('O'), 'mapping': NEW JERSEY              1\n",
              "  IOWA                    2\n",
              "  OREGON                  3\n",
              "  TEXAS                   4\n",
              "  GEORGIA                 5\n",
              "  CONNECTICUT             6\n",
              "  SOUTH CAROLINA          7\n",
              "  UTAH                    8\n",
              "  NEVADA                  9\n",
              "  PENNSYLVANIA           10\n",
              "  ALABAMA                11\n",
              "  WEST VIRGINIA          12\n",
              "  KENTUCKY               13\n",
              "  MARYLAND               14\n",
              "  DISTRICTOF COLUMBIA    15\n",
              "  MINNESOTA              16\n",
              "  LOUISIANA              17\n",
              "  MISSISSIPPI            18\n",
              "  ARKANSAS               19\n",
              "  DELAWARE               20\n",
              "  MONTANA                21\n",
              "  ILLINOIS               22\n",
              "  RHODE ISLAND           23\n",
              "  VIRGINIA               24\n",
              "  COLORADO               25\n",
              "  SOUTH DAKOTA           26\n",
              "  MICHIGAN               27\n",
              "  VERMONT                28\n",
              "  KANSAS                 29\n",
              "  INDIANA                30\n",
              "  ARIZONA                31\n",
              "  WYOMING                32\n",
              "  NEW YORK               33\n",
              "  NORTH CAROLINA         34\n",
              "  CALIFORNIA             35\n",
              "  MISSOURI               36\n",
              "  NEW MEXICO             37\n",
              "  OHIO                   38\n",
              "  TENNESSEE              39\n",
              "  FLORIDA                40\n",
              "  NEW HAMPSHIRE          41\n",
              "  IDAHO                  42\n",
              "  MAINE                  43\n",
              "  ALASKA                 44\n",
              "  WISCONSIN              45\n",
              "  OKLAHOMA               46\n",
              "  MASSACHUSETTS          47\n",
              "  NORTH DAKOTA           48\n",
              "  WASHINGTON             49\n",
              "  NEBRASKA               50\n",
              "  HAWAII                 51\n",
              "  NaN                    -2\n",
              "  dtype: int64}]"
            ]
          },
          "metadata": {},
          "execution_count": 4
        }
      ]
    },
    {
      "cell_type": "markdown",
      "source": [
        "### 2) 랜덤포레스트 모델을 적용한 후의 결과를 캐글에 제출하세요.\n",
        "- 랜덤포레스트를 적용하고 성능이 오히려 떨어졌을 수도 있습니다! 만약 그렇다면 이유를 본인 논리로 분석해 보세요.\n",
        "- **(Urclass Quiz) 캐글 Leaderboard의 본인 Score를 제출하세요.**"
      ],
      "metadata": {
        "id": "kL0VbCRzTwHB"
      }
    },
    {
      "cell_type": "code",
      "execution_count": 5,
      "source": [
        "from sklearn.ensemble import RandomForestClassifier\n",
        "from sklearn.impute import SimpleImputer \n",
        "from sklearn.pipeline import make_pipeline\n",
        "\n",
        "pipe = make_pipeline(\n",
        "    OrdinalEncoder(), \n",
        "    SimpleImputer(), \n",
        "    RandomForestClassifier(n_jobs=-1, random_state=10, oob_score=True)\n",
        ")\n",
        "\n",
        "pipe.fit(X_train, y_train)\n",
        "print('검증 정확도: ', pipe.score(X_val, y_val))"
      ],
      "outputs": [
        {
          "output_type": "stream",
          "name": "stdout",
          "text": [
            "검증 정확도:  0.8254062388803226\n"
          ]
        }
      ],
      "metadata": {
        "colab": {
          "base_uri": "https://localhost:8080/"
        },
        "id": "3XIzcDoMTwHC",
        "outputId": "b1b46938-ab51-4ccd-e069-cb70ebd18ab0"
      }
    },
    {
      "cell_type": "code",
      "source": [
        "len()"
      ],
      "metadata": {
        "id": "zqnjgvbDOBcx",
        "outputId": "48cb045b-8433-425d-a2f7-85a20a25a4ff",
        "colab": {
          "base_uri": "https://localhost:8080/"
        }
      },
      "execution_count": 14,
      "outputs": [
        {
          "output_type": "execute_result",
          "data": {
            "text/plain": [
              "33723"
            ]
          },
          "metadata": {},
          "execution_count": 14
        }
      ]
    },
    {
      "cell_type": "code",
      "source": [
        "pipe.predict(test)\n",
        "\n",
        "\n",
        "submission = pd.DataFrame({'id':test.index,\n",
        "                           'vacc_h1n1_f':a})\n",
        "submission.to_csv(\"my_submission.csv\", index=False, header=True)\n",
        "!kaggle competitions submit prediction-of-h1n1-vaccination -f my_submission.csv -m \"Yeah! I submit my file through the Google Colab!\""
      ],
      "metadata": {
        "id": "rWUxYtl4JKWx",
        "outputId": "cd68e463-fe3c-4f11-cd8e-4602725ae2aa",
        "colab": {
          "base_uri": "https://localhost:8080/"
        }
      },
      "execution_count": 26,
      "outputs": [
        {
          "output_type": "stream",
          "name": "stdout",
          "text": [
            "100% 209k/209k [00:00<00:00, 308kB/s]\n",
            "Successfully submitted to Prediction of H1N1 vaccination"
          ]
        }
      ]
    },
    {
      "cell_type": "markdown",
      "source": [
        "## 🔥 도전과제(Github - Discussion)"
      ],
      "metadata": {
        "id": "VXf8zwkhTwHC"
      }
    },
    {
      "cell_type": "markdown",
      "source": [
        "### 3) 수업에 사용하지 않은 다른 종류의 [category_encoders](http://contrib.scikit-learn.org/category_encoders/)을 2개 이상 사용해 결과를 공유해 보시고, 다음 질문에 대해 서로 논의해 보세요. \n",
        "\n",
        "- 사용하신 encoder는 각각 어떤 장단점을 갖고 있으며, 어떤 상황에서 사용하면 좋을까요? \n",
        "\n",
        "### 4) 왜 트리모델에서는 ordinal encoding을 주로 사용하며 (one-hot encoding대신), 범주형 자료를 ordinal encoding으로 사용해도 되는 이유는 무엇이라고 생각하시는지 논의해 보세요\n"
      ],
      "metadata": {
        "id": "tnboKM9xTwHC"
      }
    },
    {
      "cell_type": "markdown",
      "source": [
        "## 참고자료\n",
        "\n",
        "- [Random Forests for Complete Beginners](https://victorzhou.com/blog/intro-to-random-forests/)"
      ],
      "metadata": {
        "id": "bknqUjAfTwHD"
      }
    }
  ],
  "metadata": {
    "kernelspec": {
      "display_name": "Python 3",
      "language": "python",
      "name": "python3"
    },
    "language_info": {
      "codemirror_mode": {
        "name": "ipython",
        "version": 3
      },
      "file_extension": ".py",
      "mimetype": "text/x-python",
      "name": "python",
      "nbconvert_exporter": "python",
      "pygments_lexer": "ipython3",
      "version": "3.7.7"
    },
    "colab": {
      "name": "n222a-random-forests.ipynb",
      "provenance": []
    }
  },
  "nbformat": 4,
  "nbformat_minor": 0
}