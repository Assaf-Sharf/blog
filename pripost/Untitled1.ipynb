{
 "cells": [
  {
   "cell_type": "code",
   "execution_count": 1,
   "id": "0702aa19-e96d-48b4-b0c6-c04918a902a7",
   "metadata": {},
   "outputs": [
    {
     "name": "stdout",
     "output_type": "stream",
     "text": [
      "[]\n",
      "[1]\n",
      "[1, 2]\n",
      "[1, 2, 3]\n",
      "[1, 3]\n",
      "[2]\n",
      "[2, 3]\n",
      "[3]\n"
     ]
    }
   ],
   "source": [
    "def backtrack(subset, nums, index):\n",
    "    # 현재 부분 집합 출력\n",
    "    print(subset)\n",
    "    \n",
    "    for i in range(index, len(nums)):\n",
    "        subset.append(nums[i])\n",
    "        backtrack(subset, nums, i + 1)\n",
    "        subset.pop()  # 백트래킹\n",
    "\n",
    "nums = [1, 2, 3]\n",
    "backtrack([], nums, 0)"
   ]
  },
  {
   "cell_type": "code",
   "execution_count": 2,
   "id": "de6e07a6-61c5-4bcf-b13d-69cd89594d81",
   "metadata": {},
   "outputs": [
    {
     "name": "stdout",
     "output_type": "stream",
     "text": [
      "[1, 2, 3]\n",
      "[1, 3, 2]\n",
      "[2, 1, 3]\n",
      "[2, 3, 1]\n",
      "[3, 1, 2]\n",
      "[3, 2, 1]\n"
     ]
    }
   ],
   "source": [
    "def backtrack_permutation(path, used, nums):\n",
    "    if len(path) == len(nums):\n",
    "        print(path)\n",
    "        return\n",
    "    \n",
    "    for i in range(len(nums)):\n",
    "        if not used[i]:\n",
    "            used[i] = True\n",
    "            path.append(nums[i])\n",
    "            backtrack_permutation(path, used, nums)\n",
    "            path.pop()  # 백트래킹\n",
    "            used[i] = False\n",
    "\n",
    "nums = [1, 2, 3]\n",
    "backtrack_permutation([], [False] * len(nums), nums)"
   ]
  },
  {
   "cell_type": "code",
   "execution_count": 3,
   "id": "c18a46fe-b3a0-4dfd-b71e-d1df7dabd700",
   "metadata": {},
   "outputs": [
    {
     "name": "stdout",
     "output_type": "stream",
     "text": [
      "[1, 2]\n",
      "[1, 3]\n",
      "[2, 3]\n"
     ]
    }
   ],
   "source": [
    "def backtrack_combination(path, start, nums, k):\n",
    "    if len(path) == k:\n",
    "        print(path)\n",
    "        return\n",
    "    \n",
    "    for i in range(start, len(nums)):\n",
    "        path.append(nums[i])\n",
    "        backtrack_combination(path, i + 1, nums, k)\n",
    "        path.pop()  # 백트래킹\n",
    "\n",
    "nums = [1, 2, 3]\n",
    "k = 2  # 부분집합의 크기\n",
    "backtrack_combination([], 0, nums, k)"
   ]
  },
  {
   "cell_type": "code",
   "execution_count": null,
   "id": "fbdec854-6b33-4deb-a641-0616eaf3dec8",
   "metadata": {},
   "outputs": [],
   "source": []
  }
 ],
 "metadata": {
  "kernelspec": {
   "display_name": "Python 3 (ipykernel)",
   "language": "python",
   "name": "python3"
  },
  "language_info": {
   "codemirror_mode": {
    "name": "ipython",
    "version": 3
   },
   "file_extension": ".py",
   "mimetype": "text/x-python",
   "name": "python",
   "nbconvert_exporter": "python",
   "pygments_lexer": "ipython3",
   "version": "3.11.7"
  }
 },
 "nbformat": 4,
 "nbformat_minor": 5
}
