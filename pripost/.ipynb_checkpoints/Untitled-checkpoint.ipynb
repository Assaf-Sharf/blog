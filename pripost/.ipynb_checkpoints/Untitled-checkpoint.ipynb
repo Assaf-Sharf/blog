{
 "cells": [
  {
   "cell_type": "code",
   "execution_count": 2,
   "id": "03c5be2c-b551-4c3d-8bc0-c191960957ea",
   "metadata": {},
   "outputs": [],
   "source": [
    "# set 활용법\n",
    "\n",
    "# set 생성\n",
    "my_set = {1,2,3,4}\n",
    "my_set = set([1,2,3,4])\n",
    "\n",
    "# set 요소 추가\n",
    "my_set.add(5) # {1,2,3,4,5}\n",
    "\n",
    "# set 요소 제거, 요소가 없으면 keyError 발생\n",
    "my_set.remove(5) # {1,2,3,4}\n",
    "\n",
    "# set 요소 제거2. 요소가 없어도 에러 발생하지 않음\n",
    "my_set.discard(5) # {1,2,3,4}\n",
    "\n",
    "# pop. 임의의 요소를 제거하고 반환\n",
    "element = my_set.pop()\n",
    "\n",
    "# clear(). 모든 요소 제거\n",
    "my_set.clear() # {}"
   ]
  },
  {
   "cell_type": "code",
   "execution_count": null,
   "id": "5f9ac894-3b60-4abf-914a-debe14d408bc",
   "metadata": {},
   "outputs": [],
   "source": [
    "### list를 set에 저장\n",
    "# 리스트를 튜플로 변환한 후 set에 저장\n",
    "list_of_lists = [[1, 2, 3], [3, 4, 5]]\n",
    "\n",
    "# 튜플로 변환\n",
    "tuple_of_tuples = tuple(tuple(inner_list) for inner_list in list_of_lists)\n",
    "\n",
    "# set에 저장\n",
    "my_set = set(tuple_of_tuples)"
   ]
  },
  {
   "cell_type": "code",
   "execution_count": 3,
   "id": "c53e5e1d-78cc-4f4a-bc76-972c89cb65db",
   "metadata": {},
   "outputs": [
    {
     "name": "stdout",
     "output_type": "stream",
     "text": [
      "{1, 2, 3, 4, 5}\n",
      "{1, 2, 3, 4, 5}\n",
      "{3}\n",
      "{3}\n",
      "{1, 2}\n",
      "{1, 2}\n",
      "{1, 2, 4, 5}\n",
      "{1, 2, 4, 5}\n"
     ]
    }
   ],
   "source": [
    "### 집합 연산\n",
    "\n",
    "# 합집합\n",
    "set1 = {1,2,3}\n",
    "set2 = {3,4,5}\n",
    "print(set1.union(set2)) # {1,2,3,4,5}\n",
    "print(set1 | set2) # {1,2,3,4,5}\n",
    "\n",
    "# 교집합\n",
    "print(set1.intersection(set2)) # {3}\n",
    "print(set1 & set2) # {3}\n",
    "\n",
    "# 차집합\n",
    "print(set1.difference(set2)) # {1,2}\n",
    "print(set1 - set2) # {1,2}\n",
    "\n",
    "# 대칭 차집합\n",
    "print(set1.symmetric_difference(set2)) # {1, 2, 4, 5}\n",
    "print(set1 ^ set2)  #{1,2,4,5}"
   ]
  },
  {
   "cell_type": "code",
   "execution_count": null,
   "id": "059a3649-ae33-4291-ae89-ad63f40bbb5c",
   "metadata": {},
   "outputs": [],
   "source": [
    "# 복사\n",
    "set3 = set1.copy()\n",
    "\n",
    "set1 = {1,2,3}\n",
    "set2 = {2,3}\n",
    "# 현재 집합이 주어진 집합의 부분집합인지 반환\n",
    "print(set2.issubset(set1)) # True\n",
    "\n",
    "# 현재 집합이 주어진 집합의 상위집합인지 반환\n",
    "print(set1.issuperset(set2)) # True\n",
    "\n",
    "# 두 집합이 교집합이 없는 지 반환\n",
    "print(set1.isdisjoint({4,5})) # True"
   ]
  }
 ],
 "metadata": {
  "kernelspec": {
   "display_name": "Python 3 (ipykernel)",
   "language": "python",
   "name": "python3"
  },
  "language_info": {
   "codemirror_mode": {
    "name": "ipython",
    "version": 3
   },
   "file_extension": ".py",
   "mimetype": "text/x-python",
   "name": "python",
   "nbconvert_exporter": "python",
   "pygments_lexer": "ipython3",
   "version": "3.11.7"
  }
 },
 "nbformat": 4,
 "nbformat_minor": 5
}
