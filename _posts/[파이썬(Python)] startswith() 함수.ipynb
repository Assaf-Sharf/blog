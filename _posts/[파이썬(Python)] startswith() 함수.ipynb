{
 "cells": [
  {
   "cell_type": "markdown",
   "id": "5b9f3b07",
   "metadata": {},
   "source": [
    "# [파이썬(Python)] startswith() 함수\n",
    "문자열 데이터에 startswith() 함수를 적용할 수 있다. 대상 문자열이 어떤 문자로 시작하는지 확인해 준다. 특정한 문자로 시작하는 문자열을 찾거나, 제거할 때 주로 유용하게 사용할 수 있다."
   ]
  },
  {
   "cell_type": "code",
   "execution_count": 1,
   "id": "0ee3b134",
   "metadata": {},
   "outputs": [
    {
     "data": {
      "text/plain": [
       "False"
      ]
     },
     "execution_count": 1,
     "metadata": {},
     "output_type": "execute_result"
    }
   ],
   "source": [
    "'abcde'.startswith('b')"
   ]
  },
  {
   "cell_type": "code",
   "execution_count": 2,
   "id": "1028acfd",
   "metadata": {},
   "outputs": [
    {
     "data": {
      "text/plain": [
       "True"
      ]
     },
     "execution_count": 2,
     "metadata": {},
     "output_type": "execute_result"
    }
   ],
   "source": [
    "'abcde'.startswith('ab')"
   ]
  }
 ],
 "metadata": {
  "kernelspec": {
   "display_name": "Python 3",
   "language": "python",
   "name": "python3"
  },
  "language_info": {
   "codemirror_mode": {
    "name": "ipython",
    "version": 3
   },
   "file_extension": ".py",
   "mimetype": "text/x-python",
   "name": "python",
   "nbconvert_exporter": "python",
   "pygments_lexer": "ipython3",
   "version": "3.8.8"
  }
 },
 "nbformat": 4,
 "nbformat_minor": 5
}
