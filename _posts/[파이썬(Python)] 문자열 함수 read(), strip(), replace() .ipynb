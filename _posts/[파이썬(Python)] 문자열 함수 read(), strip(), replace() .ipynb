{
 "cells": [
  {
   "cell_type": "markdown",
   "id": "e0a0bb5f",
   "metadata": {},
   "source": [
    "# [파이썬(Python)] 문자열 함수: read(), strip(), replace()\n",
    "## 1) read() 함수\n",
    "open() 함수를 사용해 데이터를 가져와서 내용을 확인해보자. 실제 데이터의 내용이 아닌 파일에 대한 정보를 보여준다."
   ]
  },
  {
   "cell_type": "code",
   "execution_count": 72,
   "id": "614afbcc",
   "metadata": {},
   "outputs": [
    {
     "name": "stdout",
     "output_type": "stream",
     "text": [
      "<_io.TextIOWrapper name='C:\\\\Users\\\\user\\\\Desktop\\\\BI 자료\\\\exercise\\\\05\\\\chr21.hg19.mm9.net.axt' mode='r' encoding='cp949'>\n"
     ]
    }
   ],
   "source": [
    "f_input = 'C:\\\\Users\\\\user\\\\Desktop\\\\BI 자료\\\\exercise\\\\05\\\\chr21.hg19.mm9.net.axt'\n",
    "fp = open(f_input)\n",
    "print(fp)"
   ]
  },
  {
   "cell_type": "markdown",
   "id": "1ad627b4",
   "metadata": {},
   "source": [
    "readlines() 함수를 사용하면, 이전에 배웠듯이 각 라인이 하나의 원소로 있는 리스트를 생성해준다. read() 함수를 사용해서 라인을 구분하지 않고 내용을 한꺼번에 연결해서 표현해준다."
   ]
  },
  {
   "cell_type": "code",
   "execution_count": 73,
   "id": "3c064ed7",
   "metadata": {
    "scrolled": false
   },
   "outputs": [
    {
     "data": {
      "text/plain": [
       "'##aligner=blastz H=2000 \\n0 chr21 9411632 9413256 chr2 123816456 123817914 + 22905\\ntctctgagctaccattttcttcttagctatctgctcagcaaatgtatccaaatgaaaggctgtggagaatgttg\\naaatcacttcaatgtgtttctcttctttctgggagcttacacactcaagttctggatgctttgattgctatcagaagcc\\n-----gttaaatagctacttatttttaattaattttacccagctttcataattgttcttgccaggtgggatggcctgatacaaattaacttgtcatagctagaattagaagAGGAAAACTTTAAATAGCATTGAGTTATCAGTACTTTCATGTCTTGATACATTTCTTCTTGAAAATGTTCATGCTTGCTGATTTGTCTGTTTGTTGAGAGGAGAATGTTCAGAATTTTATATC----TTCAACA-------TCTTTTTCTTCATTAATAAGATACTGAGATTTTATAACTCTTGTCATTTTGGTCACTTATATTTTCATATGGAAATATCGTATAATCCAGGGTTTCCAATATATTTGTGTAAAATTAAGAAAATTATCTTATCTAATAACTTGATCAATATCTGTGATTATAT------TTTCATTGCCTTCCAATTTTAATATTTGTTCTCTATTCCTTCTTAATCTGGATTGAAGTTCTGATTAATTATTTTAATGTTGCAAATTGTTTTCACTTTTTCCATAAAATGAGTTCTAGAGTTTATTTCTTTACTGCATCATTCTATTTTCAAGTCATGAACTTCTGCT-----TCAACTAAAAAAAAAAAACTCACCGTTTGTATGAAATTGTTGTGTTCatattttattttttatttactgtataattcagtattgaatatataatattataaaatat------gtaataaaaG-----GATAAAAAATAAGATACAAAAAGTAAGGGG--TGTGCGTTTGGAAAATTATACTTGCTGATATGGTGAAATAACT-CTGACCAAACTAACCTTCCAGCAATAAAAACAAATTTGGAAAACTGGAAAAAAT--ATACATGGCAACAT-GTTAGGTCATCTTTGTCTGCCTTCAAACAACTATAAATATTGTTCTACCCAAACAACTATAAATTTTGTAATACCTAGAACAATATAAATATTGTTCTACATTGTAAATTGTTCTACAATTTACAATGGTGTAAACTGTTATACACCATTTATTTGAGTAAATTTTGAAAATATCTATTCTTCATTTTTGCTGTTTCTCGTGTGGTATATATTTCTCAGATAAAAGATATTTTCCCTTTTATCTTTCCCTAAGCTCACACTACATATATTGCATTTATCTTATATCTGCTTTAAAACCTATTTATGTCTTTTTAGGTCACTT-----------ACATCAGAGGAGTTGTATTGGTGCAGGAAGGGGAGTTTGATTTAATGAAACAATGCATTAAAAATTTGTATTCACTTTGTGATTCAATGATAGTCAATGTGGCATGTAATTTTTTTCTGTCTTTTAATATTATATTGTCTTTGTTGCTTTTC----TCTAACATGAAATATATGTTACACAGGCACAGTGCTGGTATCTTTTCTATTATTATCTTTGAATGGGACTCATTATTTTCTGAGCTATTTATTAAAATGGTGAAGGAAAAGATCAGTAAAGTAAATTATGT---CAATAGGCAGTATCAATTTAGGTCTATTTTCCATGAATATTT\\n'"
      ]
     },
     "execution_count": 73,
     "metadata": {},
     "output_type": "execute_result"
    }
   ],
   "source": [
    "fp.read()"
   ]
  },
  {
   "cell_type": "markdown",
   "id": "124bec2d",
   "metadata": {},
   "source": [
    "## 2) strip() 함수\n",
    "만약 내가 필요한 데이터는 ACGT로 이루어진 데이터라고 하자. 그러면 \\n 즉 엔터에 해당되는 특수 기호를 삭제하고, 맨 앞에 header를 없애줘야 한다. \n",
    "\n",
    "여기서 strip() 함수를 적용해보자."
   ]
  },
  {
   "cell_type": "code",
   "execution_count": 74,
   "id": "832cc3a6",
   "metadata": {
    "scrolled": true
   },
   "outputs": [
    {
     "data": {
      "text/plain": [
       "'abcdefg'"
      ]
     },
     "execution_count": 74,
     "metadata": {},
     "output_type": "execute_result"
    }
   ],
   "source": [
    "'\\nabcdefg   '.strip()"
   ]
  },
  {
   "cell_type": "markdown",
   "id": "ae0cab05",
   "metadata": {},
   "source": [
    "strip() 함수는 주어진 문자열에서 양쪽 긑에 있는 공백과 \\n 기호를 삭제시켜 준다.\n",
    "\n",
    "하지만, 여기서 주의할 점은 strip() 함수는 문자열의 양 끝에 존재하는 공백과 \\n을 제거해주는 것이지 중간에 존재하는 것은 제거해주지 않는다."
   ]
  },
  {
   "cell_type": "code",
   "execution_count": 75,
   "id": "d58ef314",
   "metadata": {},
   "outputs": [
    {
     "data": {
      "text/plain": [
       "'##aligner=blastz H=2000 \\n0 chr21 9411632 9413256 chr2 123816456 123817914 + 22905\\ntctctgagctaccattttcttcttagctatctgctcagcaaatgtatccaaatgaaaggctgtggagaatgttg\\naaatcacttcaatgtgtttctcttctttctgggagcttacacactcaagttctggatgctttgattgctatcagaagcc\\n-----gttaaatagctacttatttttaattaattttacccagctttcataattgttcttgccaggtgggatggcctgatacaaattaacttgtcatagctagaattagaagAGGAAAACTTTAAATAGCATTGAGTTATCAGTACTTTCATGTCTTGATACATTTCTTCTTGAAAATGTTCATGCTTGCTGATTTGTCTGTTTGTTGAGAGGAGAATGTTCAGAATTTTATATC----TTCAACA-------TCTTTTTCTTCATTAATAAGATACTGAGATTTTATAACTCTTGTCATTTTGGTCACTTATATTTTCATATGGAAATATCGTATAATCCAGGGTTTCCAATATATTTGTGTAAAATTAAGAAAATTATCTTATCTAATAACTTGATCAATATCTGTGATTATAT------TTTCATTGCCTTCCAATTTTAATATTTGTTCTCTATTCCTTCTTAATCTGGATTGAAGTTCTGATTAATTATTTTAATGTTGCAAATTGTTTTCACTTTTTCCATAAAATGAGTTCTAGAGTTTATTTCTTTACTGCATCATTCTATTTTCAAGTCATGAACTTCTGCT-----TCAACTAAAAAAAAAAAACTCACCGTTTGTATGAAATTGTTGTGTTCatattttattttttatttactgtataattcagtattgaatatataatattataaaatat------gtaataaaaG-----GATAAAAAATAAGATACAAAAAGTAAGGGG--TGTGCGTTTGGAAAATTATACTTGCTGATATGGTGAAATAACT-CTGACCAAACTAACCTTCCAGCAATAAAAACAAATTTGGAAAACTGGAAAAAAT--ATACATGGCAACAT-GTTAGGTCATCTTTGTCTGCCTTCAAACAACTATAAATATTGTTCTACCCAAACAACTATAAATTTTGTAATACCTAGAACAATATAAATATTGTTCTACATTGTAAATTGTTCTACAATTTACAATGGTGTAAACTGTTATACACCATTTATTTGAGTAAATTTTGAAAATATCTATTCTTCATTTTTGCTGTTTCTCGTGTGGTATATATTTCTCAGATAAAAGATATTTTCCCTTTTATCTTTCCCTAAGCTCACACTACATATATTGCATTTATCTTATATCTGCTTTAAAACCTATTTATGTCTTTTTAGGTCACTT-----------ACATCAGAGGAGTTGTATTGGTGCAGGAAGGGGAGTTTGATTTAATGAAACAATGCATTAAAAATTTGTATTCACTTTGTGATTCAATGATAGTCAATGTGGCATGTAATTTTTTTCTGTCTTTTAATATTATATTGTCTTTGTTGCTTTTC----TCTAACATGAAATATATGTTACACAGGCACAGTGCTGGTATCTTTTCTATTATTATCTTTGAATGGGACTCATTATTTTCTGAGCTATTTATTAAAATGGTGAAGGAAAAGATCAGTAAAGTAAATTATGT---CAATAGGCAGTATCAATTTAGGTCTATTTTCCATGAATATTT'"
      ]
     },
     "execution_count": 75,
     "metadata": {},
     "output_type": "execute_result"
    }
   ],
   "source": [
    "fp = open(f_input)\n",
    "fp.read().strip()"
   ]
  },
  {
   "cell_type": "markdown",
   "id": "74ef1e36",
   "metadata": {},
   "source": [
    "## 3) replace() 함수\n",
    "\n",
    "replace() 함수에 첫 번째 인자를 두 번째 인자로 대체해야 한다. 첫번째를 header의 문자열을 그대로 입력하고 ' ' 두번째로 입력해 없앤다. 똑같은 방법으로 \\n을 제거한다.\n",
    "\n",
    "주의할 점은 순서가 중요하다. 앞에 있는 함수를 먼저 사용하고 그 결과를 다음 함수에서 적용하여 사용한다."
   ]
  },
  {
   "cell_type": "code",
   "execution_count": 76,
   "id": "1709a139",
   "metadata": {},
   "outputs": [
    {
     "data": {
      "text/plain": [
       "'tctctgagctaccattttcttcttagctatctgctcagcaaatgtatccaaatgaaaggctgtggagaatgttgaaatcacttcaatgtgtttctcttctttctgggagcttacacactcaagttctggatgctttgattgctatcagaagcc-----gttaaatagctacttatttttaattaattttacccagctttcataattgttcttgccaggtgggatggcctgatacaaattaacttgtcatagctagaattagaagAGGAAAACTTTAAATAGCATTGAGTTATCAGTACTTTCATGTCTTGATACATTTCTTCTTGAAAATGTTCATGCTTGCTGATTTGTCTGTTTGTTGAGAGGAGAATGTTCAGAATTTTATATC----TTCAACA-------TCTTTTTCTTCATTAATAAGATACTGAGATTTTATAACTCTTGTCATTTTGGTCACTTATATTTTCATATGGAAATATCGTATAATCCAGGGTTTCCAATATATTTGTGTAAAATTAAGAAAATTATCTTATCTAATAACTTGATCAATATCTGTGATTATAT------TTTCATTGCCTTCCAATTTTAATATTTGTTCTCTATTCCTTCTTAATCTGGATTGAAGTTCTGATTAATTATTTTAATGTTGCAAATTGTTTTCACTTTTTCCATAAAATGAGTTCTAGAGTTTATTTCTTTACTGCATCATTCTATTTTCAAGTCATGAACTTCTGCT-----TCAACTAAAAAAAAAAAACTCACCGTTTGTATGAAATTGTTGTGTTCatattttattttttatttactgtataattcagtattgaatatataatattataaaatat------gtaataaaaG-----GATAAAAAATAAGATACAAAAAGTAAGGGG--TGTGCGTTTGGAAAATTATACTTGCTGATATGGTGAAATAACT-CTGACCAAACTAACCTTCCAGCAATAAAAACAAATTTGGAAAACTGGAAAAAAT--ATACATGGCAACAT-GTTAGGTCATCTTTGTCTGCCTTCAAACAACTATAAATATTGTTCTACCCAAACAACTATAAATTTTGTAATACCTAGAACAATATAAATATTGTTCTACATTGTAAATTGTTCTACAATTTACAATGGTGTAAACTGTTATACACCATTTATTTGAGTAAATTTTGAAAATATCTATTCTTCATTTTTGCTGTTTCTCGTGTGGTATATATTTCTCAGATAAAAGATATTTTCCCTTTTATCTTTCCCTAAGCTCACACTACATATATTGCATTTATCTTATATCTGCTTTAAAACCTATTTATGTCTTTTTAGGTCACTT-----------ACATCAGAGGAGTTGTATTGGTGCAGGAAGGGGAGTTTGATTTAATGAAACAATGCATTAAAAATTTGTATTCACTTTGTGATTCAATGATAGTCAATGTGGCATGTAATTTTTTTCTGTCTTTTAATATTATATTGTCTTTGTTGCTTTTC----TCTAACATGAAATATATGTTACACAGGCACAGTGCTGGTATCTTTTCTATTATTATCTTTGAATGGGACTCATTATTTTCTGAGCTATTTATTAAAATGGTGAAGGAAAAGATCAGTAAAGTAAATTATGT---CAATAGGCAGTATCAATTTAGGTCTATTTTCCATGAATATTT'"
      ]
     },
     "execution_count": 76,
     "metadata": {},
     "output_type": "execute_result"
    }
   ],
   "source": [
    "fp = open(f_input)\n",
    "fp.read().replace('##aligner=blastz H=2000 \\n0 chr21 9411632 9413256 chr2 123816456 123817914 + 22905\\n', '').replace('\\n', '')"
   ]
  }
 ],
 "metadata": {
  "kernelspec": {
   "display_name": "Python 3",
   "language": "python",
   "name": "python3"
  },
  "language_info": {
   "codemirror_mode": {
    "name": "ipython",
    "version": 3
   },
   "file_extension": ".py",
   "mimetype": "text/x-python",
   "name": "python",
   "nbconvert_exporter": "python",
   "pygments_lexer": "ipython3",
   "version": "3.8.8"
  }
 },
 "nbformat": 4,
 "nbformat_minor": 5
}
