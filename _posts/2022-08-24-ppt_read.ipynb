{
 "cells": [
  {
   "cell_type": "code",
   "execution_count": 1,
   "id": "23ea87af",
   "metadata": {},
   "outputs": [
    {
     "name": "stdout",
     "output_type": "stream",
     "text": [
      "Collecting python-pptx\n",
      "  Downloading python-pptx-0.6.21.tar.gz (10.1 MB)\n",
      "Note: you may need to restart the kernel to use updated packages.\n",
      "Requirement already satisfied: lxml>=3.1.0 in c:\\users\\py\\anaconda3\\lib\\site-packages (from python-pptx) (4.8.0)\n",
      "Requirement already satisfied: Pillow>=3.3.2 in c:\\users\\py\\anaconda3\\lib\\site-packages (from python-pptx) (9.0.1)\n",
      "Requirement already satisfied: XlsxWriter>=0.5.7 in c:\\users\\py\\anaconda3\\lib\\site-packages (from python-pptx) (3.0.3)\n",
      "Building wheels for collected packages: python-pptx\n",
      "  Building wheel for python-pptx (setup.py): started\n",
      "  Building wheel for python-pptx (setup.py): finished with status 'done'\n",
      "  Created wheel for python-pptx: filename=python_pptx-0.6.21-py3-none-any.whl size=470951 sha256=e4efc1f559bbbf6a7eb389bc070ae679a6836f7b895228b5e7dc492b20d97699\n",
      "  Stored in directory: c:\\users\\py\\appdata\\local\\pip\\cache\\wheels\\0e\\4a\\ed\\9653bc799915f52dce3f04d14946fbd85cce9c3cdedc9cfa71\n",
      "Successfully built python-pptx\n",
      "Installing collected packages: python-pptx\n",
      "Successfully installed python-pptx-0.6.21\n"
     ]
    }
   ],
   "source": [
    "pip install python-pptx"
   ]
  },
  {
   "cell_type": "code",
   "execution_count": 75,
   "id": "4dc58184",
   "metadata": {},
   "outputs": [
    {
     "name": "stdout",
     "output_type": "stream",
     "text": [
      "\n",
      "대표님을 위한 제안서\n",
      "시스템 에어컨 마력\n",
      "사전적 의미 : 한 마리의 말이 수례를 끄는 힘입니다. \n",
      "ex)3마력은 말 3마리, 4마력은 말 4마리 이런 식이 됩니다\n",
      "한 대의 실외기가 4마력이면 그 4마력의 힘으로 실내기에다 냉방능력을 줍니다.\n",
      "그것을 조합비(比)라고 합니다.\n",
      "통상적으로 조합비를 103% 이내로 맞추면 실내기 전체를 다 가동해도 큰 문제는 없습니다.\n",
      "\n",
      "보통 34평의 아파트에 거실과 안방, 작은방 1, 작은방 2에 총 4대의 실내기를 설치한다고 하면 18평형+6평형+5평형+5평형으로 조합을 맞춥니다.\n",
      "그렇게 되면 필요한 실외기의 힘이 13500W입니다.\n",
      "11000의 실외기로 13500의 실내기가 조합되니까 비율이 122.7%가 됩니다.\n",
      "그렇게 되면 실외기의 힘이 부족하겠죠?\n",
      "동시에 4대의 실내기가 가동되면 당연히 실외기의 힘이 부족하므로 냉방능력이 떨어지게 됩니다.\n",
      "그런데도 왜 보통의 아파트에 실내기 4대에 4마력의 실외기를 설치할까요?\n",
      "\n",
      "\n",
      "일반적인 가정에서는 거실과 안방, 작은방 1, 작은방 2에 설치된 4대의 에어컨을 동시에 가동할 일이 거의 없으므로 5마력의 실외기로 4대를 시공하는 비용을 절감하기 위하여 4마력의 실외기로 4대를 시공하게 됩니다.\n",
      "4마력의 실외기로 3대를 동시에 가동할 경우에는 냉방 능력에 문제가 없기 때문입니다\n",
      "[출처] 시스템에어컨의 궁금증 Ⅰ 마력?|작성자 airtechnology2020\n",
      "\n",
      "단배관 다배관\n",
      "\n",
      "\n",
      "이렇게 장황하게 늘어놓긴 했지만,\n",
      "사용하는 입장(소비자)에서 성능적인 부분의 차이점을 느끼기는 힘들어요!\n",
      "​\n",
      "단배관이든 다배관이든 현장의 조건과 환경에 맞춰서\n",
      "적합한 방식으로 진행하는 것이 최고랍니다~^^\n",
      "\n"
     ]
    }
   ],
   "source": [
    "import pptx\n",
    "\n",
    "ppt = pptx.Presentation('사업계획서.pptx')\n",
    "\n",
    "for slide in ppt.slides:\n",
    "    for shape in slide.shapes:\n",
    "        if not shape.has_text_frame:\n",
    "            continue\n",
    "        for paragraph in shape.text_frame.paragraphs:\n",
    "            print(paragraph.text)\n",
    "        "
   ]
  },
  {
   "cell_type": "code",
   "execution_count": 76,
   "id": "7aa90d70",
   "metadata": {},
   "outputs": [
    {
     "name": "stdout",
     "output_type": "stream",
     "text": [
      "\n",
      "대표님을 위한 제안서\n",
      "시스템 에어컨 마력\n",
      "사전적 의미 : 한 마리의 말이 수례를 끄는 힘입니다. \n",
      "ex)3마력은 말 3마리, 4마력은 말 4마리 이런 식이 됩니다\n",
      "한 대의 실외기가 4마력이면 그 4마력의 힘으로 실내기에다 냉방능력을 줍니다.\n",
      "그것을 조합비(比)라고 합니다.\n",
      "통상적으로 조합비를 103% 이내로 맞추면 실내기 전체를 다 가동해도 큰 문제는 없습니다.\n",
      "\n",
      "보통 34평의 아파트에 거실과 안방, 작은방 1, 작은방 2에 총 4대의 실내기를 설치한다고 하면 18평형+6평형+5평형+5평형으로 조합을 맞춥니다.\n",
      "그렇게 되면 필요한 실외기의 힘이 13500W입니다.\n",
      "11000의 실외기로 13500의 실내기가 조합되니까 비율이 122.7%가 됩니다.\n",
      "그렇게 되면 실외기의 힘이 부족하겠죠?\n",
      "동시에 4대의 실내기가 가동되면 당연히 실외기의 힘이 부족하므로 냉방능력이 떨어지게 됩니다.\n",
      "그런데도 왜 보통의 아파트에 실내기 4대에 4마력의 실외기를 설치할까요?\n",
      "\n",
      "\n",
      "일반적인 가정에서는 거실과 안방, 작은방 1, 작은방 2에 설치된 4대의 에어컨을 동시에 가동할 일이 거의 없으므로 5마력의 실외기로 4대를 시공하는 비용을 절감하기 위하여 4마력의 실외기로 4대를 시공하게 됩니다.\n",
      "4마력의 실외기로 3대를 동시에 가동할 경우에는 냉방 능력에 문제가 없기 때문입니다\n",
      "[출처] 시스템에어컨의 궁금증 Ⅰ 마력?|작성자 airtechnology2020\n",
      "\n",
      "단배관 다배관\n",
      "\n",
      "\n",
      "이렇게 장황하게 늘어놓긴 했지만,\n",
      "사용하는 입장(소비자)에서 성능적인 부분의 차이점을 느끼기는 힘들어요!\n",
      "​\n",
      "단배관이든 다배관이든 현장의 조건과 환경에 맞춰서\n",
      "적합한 방식으로 진행하는 것이 최고랍니다~^^\n",
      "\n"
     ]
    }
   ],
   "source": [
    "import pptx\n",
    "\n",
    "ppt = pptx.Presentation('사업계획서.pptx')\n",
    "\n",
    "title_slide = ppt.slides[0]\n",
    "\n",
    "for slide in ppt.slides:\n",
    "    for shape in slide.shapes:\n",
    "        if not shape.has_text_frame:\n",
    "            continue\n",
    "        \n",
    "        for paragraph in shape.text_frame.paragraphs:\n",
    "#             print(paragraph.text)\n",
    "            if paragraph.text.split(\" \")[0] == \"제목을\":\n",
    "                paragraph.text = \"femold\" + \"대표님을 위한 제안서\"\n",
    "                paragraph.font.bold = True\n",
    "                paragraph.font.color.rgb = pptx.dml.color.RGBColor(255,255,255)\n",
    "            print(paragraph.text)"
   ]
  },
  {
   "cell_type": "code",
   "execution_count": 77,
   "id": "8d013395",
   "metadata": {
    "scrolled": true
   },
   "outputs": [],
   "source": [
    "ppt.save(\"사업제안서-test.pptx\")"
   ]
  },
  {
   "cell_type": "code",
   "execution_count": 49,
   "id": "aad04773",
   "metadata": {},
   "outputs": [],
   "source": []
  },
  {
   "cell_type": "code",
   "execution_count": null,
   "id": "f66047d1",
   "metadata": {},
   "outputs": [],
   "source": []
  }
 ],
 "metadata": {
  "kernelspec": {
   "display_name": "Python 3 (ipykernel)",
   "language": "python",
   "name": "python3"
  },
  "language_info": {
   "codemirror_mode": {
    "name": "ipython",
    "version": 3
   },
   "file_extension": ".py",
   "mimetype": "text/x-python",
   "name": "python",
   "nbconvert_exporter": "python",
   "pygments_lexer": "ipython3",
   "version": "3.9.12"
  }
 },
 "nbformat": 4,
 "nbformat_minor": 5
}
