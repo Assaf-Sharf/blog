{
  "nbformat": 4,
  "nbformat_minor": 0,
  "metadata": {
    "colab": {
      "provenance": [],
      "authorship_tag": "ABX9TyP6svbF1mL0/lHLBsebsrUq",
      "include_colab_link": true
    },
    "kernelspec": {
      "name": "python3",
      "display_name": "Python 3"
    },
    "language_info": {
      "name": "python"
    }
  },
  "cells": [
    {
      "cell_type": "markdown",
      "metadata": {
        "id": "view-in-github",
        "colab_type": "text"
      },
      "source": [
        "<a href=\"https://colab.research.google.com/github/Hamin-Chang/Hamin-Chang.github.io/blob/master/20221011.ipynb\" target=\"_parent\"><img src=\"https://colab.research.google.com/assets/colab-badge.svg\" alt=\"Open In Colab\"/></a>"
      ]
    },
    {
      "cell_type": "markdown",
      "source": [
        "# 1. 신경망을 위한 데이터 표현 📊"
      ],
      "metadata": {
        "id": "vhE4gbSQJLTr"
      }
    },
    {
      "cell_type": "markdown",
      "source": [
        "##1.텐서(tensor)란? : 데이터를 위한 컨테이너 , 텐서는 임의의 차원(축) 개수를 가지는 행렬의 일반화된 모습."
      ],
      "metadata": {
        "id": "4yQjjgZIKNtm"
      }
    },
    {
      "cell_type": "markdown",
      "source": [
        "### 1.1.1 스칼라(랭크 - 0 텐서)\n",
        "\n",
        "하나의 숫자만 담고 있는 텐서를 스칼라라고 부른다.\n",
        "\n",
        "넘파이에서 float32나 float64 타입의 숫자 => 스칼라 텐서\n",
        "\n",
        "ndim 속성을 사용해서 넘파이 배열의 축 개수를 확인해보면 스칼라 텐서의 축개수는 0이다. (텐서의 축 개수를 **랭크(rank)**라고 부른다.)"
      ],
      "metadata": {
        "id": "Hlnu9fy1L1M8"
      }
    },
    {
      "cell_type": "code",
      "source": [
        "import numpy as np\n",
        "x = np.array(12)\n",
        "print('x의 축의 개수: ',x.ndim)"
      ],
      "metadata": {
        "colab": {
          "base_uri": "https://localhost:8080/"
        },
        "id": "AmB-gQxVM6Gz",
        "outputId": "651ac2dd-9fb6-4608-d3b3-2f9938720f13"
      },
      "execution_count": null,
      "outputs": [
        {
          "output_type": "stream",
          "name": "stdout",
          "text": [
            "x의 축의 개수:  0\n"
          ]
        }
      ]
    },
    {
      "cell_type": "markdown",
      "source": [
        "###1.1.2 벡터(랭크 - 1 텐서)\n",
        "\n",
        "숫자의 배열을 백터 또는 랭크-1 텐서나 1D텐서라고 부른다.\n",
        "벡터는 1개의 축을 가진다. "
      ],
      "metadata": {
        "id": "9dSsVkg9Nr2U"
      }
    },
    {
      "cell_type": "code",
      "source": [
        "x = np.array([24,6,22,12,5])\n",
        "print(x)\n",
        "print('x의 축의 개수: ',x.ndim)"
      ],
      "metadata": {
        "colab": {
          "base_uri": "https://localhost:8080/"
        },
        "id": "KG5CAMnQOEHS",
        "outputId": "405ec939-db8a-46e7-83e8-6af8e1233c22"
      },
      "execution_count": null,
      "outputs": [
        {
          "output_type": "stream",
          "name": "stdout",
          "text": [
            "[24  6 22 12  5]\n",
            "x의 축의 개수:  1\n"
          ]
        }
      ]
    },
    {
      "cell_type": "markdown",
      "source": [
        "*위의 벡터는 5차원 벡터이다. 5D벡터 ≠ 5D텐서 ,*  **차원 수** *는 특정 축을 따라 놓은 원소 개수 or 텐서의 축의 개수.*\n",
        "\n",
        "*5D벡터는 하나의 축을 따라 5개의 차원을 가진 벡터이고 , 5D는 5개의 축을 가진 것*"
      ],
      "metadata": {
        "id": "4uyaEEu5OR6L"
      }
    },
    {
      "cell_type": "markdown",
      "source": [
        "###1.1.3 행렬(랭크 - 2 텐서)\n",
        "\n",
        "백터의 배열은 행렬(matrix)또는 랭크-2 텐서나 2D 텐서이다."
      ],
      "metadata": {
        "id": "innp9jblPZsD"
      }
    },
    {
      "cell_type": "code",
      "source": [
        "x = np.array([[5,2,72,12,6],\n",
        "            [21,534,86,3,21],\n",
        "            [45,12,69,3,4]])\n",
        "print(x)\n",
        "print('x의 축의 개수: ',x.ndim)"
      ],
      "metadata": {
        "colab": {
          "base_uri": "https://localhost:8080/"
        },
        "id": "ucNBCA3zP50R",
        "outputId": "c748108b-784b-4864-8e92-348627b37703"
      },
      "execution_count": null,
      "outputs": [
        {
          "output_type": "stream",
          "name": "stdout",
          "text": [
            "[[  5   2  72  12   6]\n",
            " [ 21 534  86   3  21]\n",
            " [ 45  12  69   3   4]]\n",
            "x의 축의 개수:  2\n"
          ]
        }
      ]
    },
    {
      "cell_type": "markdown",
      "source": [
        "위의 벡터에서 첫번째 축의 원소를 행, 두번째 축의 원소를 열이라고 부른다."
      ],
      "metadata": {
        "id": "GXtAwcrqQVRQ"
      }
    },
    {
      "cell_type": "markdown",
      "source": [
        "###1.1.4 랭크-3 텐서와 더 높은 랭크의 텐서\n",
        "\n",
        "위와 같은 행렬들을 하나의 새로운 배열로 합치면 숫차가 채워진 직육면체로 해석할 수 있는 랭크-3 텐서가 만들어진다."
      ],
      "metadata": {
        "id": "GGAm9ZHfQnK3"
      }
    },
    {
      "cell_type": "code",
      "source": [
        "x = np.array([[[5,2,72,12,6],\n",
        "            [21,534,86,3,21],\n",
        "            [45,12,69,3,4]],\n",
        "            [[5,2,72,12,6],\n",
        "            [21,534,86,3,21],\n",
        "            [45,12,69,3,4]],\n",
        "            [[5,2,72,12,6],\n",
        "            [21,534,86,3,21],\n",
        "            [45,12,69,3,4]]])\n",
        "print('x의 축의 개수: ',x.ndim)"
      ],
      "metadata": {
        "colab": {
          "base_uri": "https://localhost:8080/"
        },
        "id": "rc__uHvWQ4zK",
        "outputId": "29576a6a-253f-4a37-fca6-144bebef9b2d"
      },
      "execution_count": null,
      "outputs": [
        {
          "output_type": "stream",
          "name": "stdout",
          "text": [
            "x의 축의 개수:  3\n"
          ]
        }
      ]
    },
    {
      "cell_type": "markdown",
      "source": [
        "랭크-3 탠서들을 하나의 배열로 합치면 랭크-4 텐서를 만드는 식으로 이어진다.\n",
        "\n",
        "**딥러닝에서는 보통 랭크 0에서 4까지의 텐서를 다룬다.**"
      ],
      "metadata": {
        "id": "p8Zmw1X2RKF7"
      }
    },
    {
      "cell_type": "markdown",
      "source": [
        "###1.1.5 핵심속성\n",
        "\n",
        "\n",
        "*   축의 개수 (랭크) : 넘파이나 텐서플로 등의 파이썬 라이브러리에서는 ndim 속성에 저장되어 있다.\n",
        "*   크기(shape) : 텐서의 각 축을 따라 얼마나 많은 차원이 있는지 나타낸 파이썬의 튜플이다. \n",
        "예를 들어 위의 행렬의 크기는 (3,5) , 랭크-3 텐서는 (3,3,5)이다.\n",
        "*   테이터 타입(dtype) : 텐서에 포함된 데이터의 타입. ex) float16, float32, float64 , uint8 , string 등이 있다.\n",
        "\n",
        "\n",
        "\n",
        "\n"
      ],
      "metadata": {
        "id": "m4MNF8AkRfQw"
      }
    },
    {
      "cell_type": "markdown",
      "source": [
        "MNIST 데이터를 활용해서 위의 내용을 구체적으로 다뤄보자.\n",
        "\n",
        "먼저 MNIST 데이터셋을 불러드린다."
      ],
      "metadata": {
        "id": "ZqIT9FKNS9JI"
      }
    },
    {
      "cell_type": "code",
      "source": [
        "from tensorflow.keras.datasets import mnist\n",
        "(train_images,train_labels),(test_images,test_label) = mnist.load_data()"
      ],
      "metadata": {
        "colab": {
          "base_uri": "https://localhost:8080/"
        },
        "id": "YvdAgPCZTJTd",
        "outputId": "321d9b8b-588a-4e80-9257-b4a24b7e9b96"
      },
      "execution_count": null,
      "outputs": [
        {
          "output_type": "stream",
          "name": "stdout",
          "text": [
            "Downloading data from https://storage.googleapis.com/tensorflow/tf-keras-datasets/mnist.npz\n",
            "11493376/11490434 [==============================] - 0s 0us/step\n",
            "11501568/11490434 [==============================] - 0s 0us/step\n"
          ]
        }
      ]
    },
    {
      "cell_type": "markdown",
      "source": [
        "train_images 배열의 ndim 속성으로 축의 개수를 확인한다."
      ],
      "metadata": {
        "id": "e3tCZr8qTavs"
      }
    },
    {
      "cell_type": "code",
      "source": [
        "train_images.ndim"
      ],
      "metadata": {
        "colab": {
          "base_uri": "https://localhost:8080/"
        },
        "id": "_wfxUguCTZkS",
        "outputId": "6acf10db-7ff2-40cd-97c7-904dadf8e8b3"
      },
      "execution_count": null,
      "outputs": [
        {
          "output_type": "execute_result",
          "data": {
            "text/plain": [
              "3"
            ]
          },
          "metadata": {},
          "execution_count": 8
        }
      ]
    },
    {
      "cell_type": "markdown",
      "source": [
        "다음으로 배열의 크기를 확인한다."
      ],
      "metadata": {
        "id": "SEnX6ob8ToKY"
      }
    },
    {
      "cell_type": "code",
      "source": [
        "train_images.shape"
      ],
      "metadata": {
        "colab": {
          "base_uri": "https://localhost:8080/"
        },
        "id": "PmjEleuGTj7w",
        "outputId": "9b18d5cb-fe62-401e-b5fa-4d8d99ea4f0a"
      },
      "execution_count": null,
      "outputs": [
        {
          "output_type": "execute_result",
          "data": {
            "text/plain": [
              "(60000, 28, 28)"
            ]
          },
          "metadata": {},
          "execution_count": 9
        }
      ]
    },
    {
      "cell_type": "markdown",
      "source": [
        "dtype 속성을 이용해서 데이터 타입을 확인한다."
      ],
      "metadata": {
        "id": "PJpMQ1y3T1rw"
      }
    },
    {
      "cell_type": "code",
      "source": [
        "train_images.dtype"
      ],
      "metadata": {
        "colab": {
          "base_uri": "https://localhost:8080/"
        },
        "id": "IL1dFL-YTws4",
        "outputId": "342df938-853f-4c66-8775-8789cfc70127"
      },
      "execution_count": null,
      "outputs": [
        {
          "output_type": "execute_result",
          "data": {
            "text/plain": [
              "dtype('uint8')"
            ]
          },
          "metadata": {},
          "execution_count": 10
        }
      ]
    },
    {
      "cell_type": "markdown",
      "source": [
        "위의 내용들로 train_images 배열은 8비트 정수형 , 랭크-3 텐서이고 , 28x28 크기의 정수행렬 6만개가 있는 배열인 것을 알 수 있다.\n",
        "\n",
        "각 행렬은 흑백 이미지고 , 행렬의 각 원소는 0에서 255사이의 값을 가진다."
      ],
      "metadata": {
        "id": "xHqCj37rT7rB"
      }
    },
    {
      "cell_type": "markdown",
      "source": [
        "##1.2 넘파이로 텐서 조작하기\n",
        "\n",
        "train_image[i] 같은 형식으로 배열에 있는 특정 원소들을 선택하는 것을 **슬라이싱(slicing)**이라고 한다.\n",
        "\n",
        "다음 코드는 11번째에서 101번째까지 (101번째는 포함X) 숫자를 선택해서 (90,28,28)크기의 배열을 만든다."
      ],
      "metadata": {
        "id": "pjhV5oc0UhAV"
      }
    },
    {
      "cell_type": "code",
      "source": [
        "ex_slice = train_images[10:100]\n",
        "ex_slice.shape"
      ],
      "metadata": {
        "colab": {
          "base_uri": "https://localhost:8080/"
        },
        "id": "-raOGfKpT1Qp",
        "outputId": "f35f3f4f-ca95-4ca4-e171-1769c19e3f2e"
      },
      "execution_count": null,
      "outputs": [
        {
          "output_type": "execute_result",
          "data": {
            "text/plain": [
              "(90, 28, 28)"
            ]
          },
          "metadata": {},
          "execution_count": 12
        }
      ]
    },
    {
      "cell_type": "markdown",
      "source": [
        "조금 더 자세한 slicing 표기법은 각 배열의 축을 따라 슬라이싱의 시작 인덱스와 마지막 인덱스를 지정하는 것이다. :(콜론)은 전체 인덱스를 선택한다."
      ],
      "metadata": {
        "id": "WYAleR9QX_fT"
      }
    },
    {
      "cell_type": "code",
      "source": [
        "ex_slice= train_images[10:100,:,:]\n",
        "print(ex_slice.shape)\n",
        "\n",
        "ex2_slice = train_images[10:100, 0:25 , 0:25]\n",
        "print(ex2_slice.shape)"
      ],
      "metadata": {
        "colab": {
          "base_uri": "https://localhost:8080/"
        },
        "id": "aQ2JqSXNX5V-",
        "outputId": "f849b845-40d9-4515-a4ee-83f4970cebfb"
      },
      "execution_count": null,
      "outputs": [
        {
          "output_type": "stream",
          "name": "stdout",
          "text": [
            "(90, 28, 28)\n",
            "(90, 25, 25)\n"
          ]
        }
      ]
    },
    {
      "cell_type": "markdown",
      "source": [
        "음수 인덱스도 사용할 수 있다. 파이썬 리스트의 음수 인덱스와 마찬가지로 현재 축의 끝에서 상대적인 위치를 나타낸다. \n",
        "\n",
        "정중앙의 14x14 픽셀 조각을 이미지에서 잘라내려면 다음 코드와 같이 하면 된다."
      ],
      "metadata": {
        "id": "jPPHd-NiYnvD"
      }
    },
    {
      "cell_type": "code",
      "source": [
        "mid_slice = train_images[:,7:-7,7:-7]\n",
        "mid_slice.shape"
      ],
      "metadata": {
        "colab": {
          "base_uri": "https://localhost:8080/"
        },
        "id": "yojarvSdYd87",
        "outputId": "2c6fe324-4a63-4568-8eda-0b086fd73f3b"
      },
      "execution_count": null,
      "outputs": [
        {
          "output_type": "execute_result",
          "data": {
            "text/plain": [
              "(60000, 14, 14)"
            ]
          },
          "metadata": {},
          "execution_count": 15
        }
      ]
    },
    {
      "cell_type": "markdown",
      "source": [
        "##1.3 배치 데이터\n",
        "\n",
        "딥러닝 모델은 한번에 전체 데이터셋을 처리하지 않는다. \n",
        "\n",
        "그대신 작은 배치(batch)로 나눈다. 예를 들어 MNIST 숫자 데이터에서 크기가 128인 데이터 배치는 다음과 같다."
      ],
      "metadata": {
        "id": "sR5IltRiZPeS"
      }
    },
    {
      "cell_type": "code",
      "source": [
        "batch = train_images[:128]"
      ],
      "metadata": {
        "id": "3Xo0Wb_4ZLGd"
      },
      "execution_count": null,
      "outputs": []
    },
    {
      "cell_type": "markdown",
      "source": [
        "n번째 배치는 다음과 같다."
      ],
      "metadata": {
        "id": "anDKYk-6Z0Lg"
      }
    },
    {
      "cell_type": "code",
      "source": [
        "n = 3 \n",
        "batch = train_images[128 * n : 128 * (n+1)]"
      ],
      "metadata": {
        "id": "OKjvKf0VZ-BY"
      },
      "execution_count": null,
      "outputs": []
    },
    {
      "cell_type": "markdown",
      "source": [
        "이런 배치 데이터를 다룰 때 첫번째 축 (0번 축)을 **배치 축** or **배치 차원**이라고 부른다."
      ],
      "metadata": {
        "id": "76TKILJ_aFCQ"
      }
    },
    {
      "cell_type": "markdown",
      "source": [
        "##1.4 텐서의 연산"
      ],
      "metadata": {
        "id": "ih0sk1ysdwC_"
      }
    },
    {
      "cell_type": "markdown",
      "source": [
        "### 1.4.1 원소별 연산\n",
        "\n",
        "이 연산은 텐서에 있는 각 원소에 독립적으로 적용된다.\n",
        "\n",
        "넘파이 배열을 다룰 때는 최적화된 넘파인 내장함수로 덧셈,곱셈,뺄셈,relu함수 등을 처리할 수 있다."
      ],
      "metadata": {
        "id": "mtzCsM9rd0iR"
      }
    },
    {
      "cell_type": "code",
      "source": [
        "import numpy as np\n",
        "z = x + y #원소별 덧셈\n",
        "z = np.maximum(z,0.) #원소별 relu 함수"
      ],
      "metadata": {
        "id": "2KtaVa5JfPbK"
      },
      "execution_count": null,
      "outputs": []
    },
    {
      "cell_type": "markdown",
      "source": [
        "###1.4.2 브로드캐스팅\n"
      ],
      "metadata": {
        "id": "qvoX1PZMfYwh"
      }
    },
    {
      "cell_type": "code",
      "source": [],
      "metadata": {
        "id": "RWPd9Nj9gS_Q"
      },
      "execution_count": null,
      "outputs": []
    }
  ]
}